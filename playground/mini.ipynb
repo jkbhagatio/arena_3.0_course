{
 "cells": [
  {
   "cell_type": "markdown",
   "metadata": {},
   "source": [
    "# Initial plan for training an SAE on spikes and trying to find interpretable SAE features\n",
    "\n",
    "- [x] Get neural + behavioral data\n",
    "  - [x] Get Allen visual coding neuropixels spikes data\n",
    "  - [x] Get Allen visual stim data + metadata\n",
    "- Train SAEs \n",
    "  - [x] Break spikes down into time windows\n",
    "  - [x] Train SAEs on all spikes for a particular region for all sessions for one animal\n",
    "  - Hyperparameter sweeps: \n",
    "    - Time window size\n",
    "    - Number of SAE features\n",
    "    - L1_coeff values\n",
    "    - Try folding decoder weight norm into loss: https://transformer-circuits.pub/2024/april-update/index.html#training-saes\n",
    "    - Try non-L1-loss methods to encourage SAE sparsity\n",
    "      - tanh penalty https://transformer-circuits.pub/2024/feb-update/index.html#dict-learning-tanh\n",
    "      - topk saes https://cdn.openai.com/papers/sparse-autoencoders.pdf\n",
    "    - Add a seq_len of time windows\n",
    "    - Second layer to decoder (to capture nonlinear features)\n",
    "    - Different optimizers\n",
    "    - Different sparsity penalties / loss functions\n",
    "- Repeat this training but for particular regions for multiple animals\n",
    "- [x] Interpret SAE features\n",
    "  - [x] After training, feed in spikes for particular time window(s) and see which SAE feature(s) fire, and see if they correspond to the visual stim\n",
    "- Validate SAEs\n",
    "  - [x] Visualize reconstructions\n",
    "  - [x] Validate reconstructions (e.g. cosine similarity between reconstructions and true spikes)\n",
    "  - Validate sparsity (% active features over % time active)\n"
   ]
  },
  {
   "cell_type": "code",
   "execution_count": 1,
   "metadata": {},
   "outputs": [],
   "source": [
    "\"\"\"Set notebook settings.\"\"\"\n",
    "\n",
    "%load_ext autoreload\n",
    "%autoreload 2\n",
    "# %flow mode reactive"
   ]
  },
  {
   "cell_type": "code",
   "execution_count": 2,
   "metadata": {},
   "outputs": [],
   "source": [
    "\"\"\"Import packages.\"\"\"\n",
    "\n",
    "from dataclasses import dataclass\n",
    "from pathlib import Path\n",
    "from typing import Callable, List, Optional, Tuple, Union\n",
    "\n",
    "import einops\n",
    "import jax\n",
    "import numpy as np\n",
    "import pandas as pd\n",
    "import plotly.express as px\n",
    "import plotly.graph_objects as go\n",
    "import plotly.io as pio\n",
    "import torch\n",
    "from jaxtyping import Float, Int\n",
    "from matplotlib import pyplot as plt\n",
    "from rich import print as rprint\n",
    "from torch import Tensor, nn, bfloat16\n",
    "from torch.nn import functional as F\n",
    "from tqdm.notebook import tqdm\n",
    "\n",
    "from allensdk.brain_observatory.ecephys.ecephys_project_cache import EcephysProjectCache"
   ]
  },
  {
   "cell_type": "markdown",
   "metadata": {},
   "source": [
    "## Get Allen visual coding neuropixels data"
   ]
  },
  {
   "cell_type": "code",
   "execution_count": 3,
   "metadata": {},
   "outputs": [
    {
     "name": "stdout",
     "output_type": "stream",
     "text": [
      "out_dir.exists()=True\n"
     ]
    }
   ],
   "source": [
    "\"\"\"Set paths.\"\"\"\n",
    "\n",
    "out_dir = Path(r\"C:\\Users\\jai\\mini\\data\")\n",
    "out_dir.mkdir(exist_ok=True)\n",
    "print(f\"{out_dir.exists()=}\")\n",
    "\n",
    "manifest_path = out_dir / \"manifest.json\"\n",
    "cache = EcephysProjectCache.from_warehouse(manifest=manifest_path)"
   ]
  },
  {
   "cell_type": "code",
   "execution_count": 4,
   "metadata": {},
   "outputs": [],
   "source": [
    "\"\"\"Get metadata.\"\"\"\n",
    "\n",
    "units = cache.get_units()\n",
    "probes = cache.get_probes()\n",
    "channels = cache.get_channels()\n",
    "sessions = cache.get_session_table()"
   ]
  },
  {
   "cell_type": "code",
   "execution_count": 5,
   "metadata": {},
   "outputs": [
    {
     "data": {
      "text/html": [
       "<div>\n",
       "<style scoped>\n",
       "    .dataframe tbody tr th:only-of-type {\n",
       "        vertical-align: middle;\n",
       "    }\n",
       "\n",
       "    .dataframe tbody tr th {\n",
       "        vertical-align: top;\n",
       "    }\n",
       "\n",
       "    .dataframe thead th {\n",
       "        text-align: right;\n",
       "    }\n",
       "</style>\n",
       "<table border=\"1\" class=\"dataframe\">\n",
       "  <thead>\n",
       "    <tr style=\"text-align: right;\">\n",
       "      <th></th>\n",
       "      <th>published_at</th>\n",
       "      <th>specimen_id</th>\n",
       "      <th>session_type</th>\n",
       "      <th>age_in_days</th>\n",
       "      <th>sex</th>\n",
       "      <th>full_genotype</th>\n",
       "      <th>unit_count</th>\n",
       "      <th>channel_count</th>\n",
       "      <th>probe_count</th>\n",
       "      <th>ecephys_structure_acronyms</th>\n",
       "    </tr>\n",
       "    <tr>\n",
       "      <th>id</th>\n",
       "      <th></th>\n",
       "      <th></th>\n",
       "      <th></th>\n",
       "      <th></th>\n",
       "      <th></th>\n",
       "      <th></th>\n",
       "      <th></th>\n",
       "      <th></th>\n",
       "      <th></th>\n",
       "      <th></th>\n",
       "    </tr>\n",
       "  </thead>\n",
       "  <tbody>\n",
       "    <tr>\n",
       "      <th>715093703</th>\n",
       "      <td>2019-10-03T00:00:00Z</td>\n",
       "      <td>699733581</td>\n",
       "      <td>brain_observatory_1.1</td>\n",
       "      <td>118.0</td>\n",
       "      <td>M</td>\n",
       "      <td>Sst-IRES-Cre/wt;Ai32(RCL-ChR2(H134R)_EYFP)/wt</td>\n",
       "      <td>884</td>\n",
       "      <td>2219</td>\n",
       "      <td>6</td>\n",
       "      <td>[CA1, VISrl, nan, PO, LP, LGd, CA3, DG, VISl, ...</td>\n",
       "    </tr>\n",
       "    <tr>\n",
       "      <th>719161530</th>\n",
       "      <td>2019-10-03T00:00:00Z</td>\n",
       "      <td>703279284</td>\n",
       "      <td>brain_observatory_1.1</td>\n",
       "      <td>122.0</td>\n",
       "      <td>M</td>\n",
       "      <td>Sst-IRES-Cre/wt;Ai32(RCL-ChR2(H134R)_EYFP)/wt</td>\n",
       "      <td>755</td>\n",
       "      <td>2214</td>\n",
       "      <td>6</td>\n",
       "      <td>[TH, Eth, APN, POL, LP, DG, CA1, VISpm, nan, N...</td>\n",
       "    </tr>\n",
       "    <tr>\n",
       "      <th>721123822</th>\n",
       "      <td>2019-10-03T00:00:00Z</td>\n",
       "      <td>707296982</td>\n",
       "      <td>brain_observatory_1.1</td>\n",
       "      <td>125.0</td>\n",
       "      <td>M</td>\n",
       "      <td>Pvalb-IRES-Cre/wt;Ai32(RCL-ChR2(H134R)_EYFP)/wt</td>\n",
       "      <td>444</td>\n",
       "      <td>2229</td>\n",
       "      <td>6</td>\n",
       "      <td>[MB, SCig, PPT, NOT, DG, CA1, VISam, nan, LP, ...</td>\n",
       "    </tr>\n",
       "    <tr>\n",
       "      <th>732592105</th>\n",
       "      <td>2019-10-03T00:00:00Z</td>\n",
       "      <td>717038288</td>\n",
       "      <td>brain_observatory_1.1</td>\n",
       "      <td>100.0</td>\n",
       "      <td>M</td>\n",
       "      <td>wt/wt</td>\n",
       "      <td>824</td>\n",
       "      <td>1847</td>\n",
       "      <td>5</td>\n",
       "      <td>[grey, VISpm, nan, VISp, VISl, VISal, VISrl]</td>\n",
       "    </tr>\n",
       "    <tr>\n",
       "      <th>737581020</th>\n",
       "      <td>2019-10-03T00:00:00Z</td>\n",
       "      <td>718643567</td>\n",
       "      <td>brain_observatory_1.1</td>\n",
       "      <td>108.0</td>\n",
       "      <td>M</td>\n",
       "      <td>wt/wt</td>\n",
       "      <td>568</td>\n",
       "      <td>2218</td>\n",
       "      <td>6</td>\n",
       "      <td>[grey, VISmma, nan, VISpm, VISp, VISl, VISrl]</td>\n",
       "    </tr>\n",
       "    <tr>\n",
       "      <th>739448407</th>\n",
       "      <td>2019-10-03T00:00:00Z</td>\n",
       "      <td>716813543</td>\n",
       "      <td>brain_observatory_1.1</td>\n",
       "      <td>112.0</td>\n",
       "      <td>M</td>\n",
       "      <td>wt/wt</td>\n",
       "      <td>625</td>\n",
       "      <td>2221</td>\n",
       "      <td>6</td>\n",
       "      <td>[grey, VISam, nan, VIS, VISp, VISl, VISrl]</td>\n",
       "    </tr>\n",
       "    <tr>\n",
       "      <th>742951821</th>\n",
       "      <td>2019-10-03T00:00:00Z</td>\n",
       "      <td>723627604</td>\n",
       "      <td>brain_observatory_1.1</td>\n",
       "      <td>120.0</td>\n",
       "      <td>M</td>\n",
       "      <td>wt/wt</td>\n",
       "      <td>893</td>\n",
       "      <td>2219</td>\n",
       "      <td>6</td>\n",
       "      <td>[VISal, nan, grey, VISl, VISrl, VISp, VISpm, VIS]</td>\n",
       "    </tr>\n",
       "    <tr>\n",
       "      <th>743475441</th>\n",
       "      <td>2019-10-03T00:00:00Z</td>\n",
       "      <td>722882755</td>\n",
       "      <td>brain_observatory_1.1</td>\n",
       "      <td>121.0</td>\n",
       "      <td>M</td>\n",
       "      <td>wt/wt</td>\n",
       "      <td>553</td>\n",
       "      <td>2225</td>\n",
       "      <td>6</td>\n",
       "      <td>[LP, LGd, HPF, DG, CA3, CA1, VISrl, nan, PP, P...</td>\n",
       "    </tr>\n",
       "    <tr>\n",
       "      <th>744228101</th>\n",
       "      <td>2019-10-03T00:00:00Z</td>\n",
       "      <td>719817805</td>\n",
       "      <td>brain_observatory_1.1</td>\n",
       "      <td>122.0</td>\n",
       "      <td>M</td>\n",
       "      <td>wt/wt</td>\n",
       "      <td>659</td>\n",
       "      <td>2226</td>\n",
       "      <td>6</td>\n",
       "      <td>[Eth, TH, LP, POL, APN, DG, CA1, VIS, nan, CA3...</td>\n",
       "    </tr>\n",
       "    <tr>\n",
       "      <th>746083955</th>\n",
       "      <td>2019-10-03T00:00:00Z</td>\n",
       "      <td>726170935</td>\n",
       "      <td>brain_observatory_1.1</td>\n",
       "      <td>98.0</td>\n",
       "      <td>F</td>\n",
       "      <td>Pvalb-IRES-Cre/wt;Ai32(RCL-ChR2(H134R)_EYFP)/wt</td>\n",
       "      <td>582</td>\n",
       "      <td>2216</td>\n",
       "      <td>6</td>\n",
       "      <td>[VPM, TH, LGd, CA3, CA2, CA1, VISal, nan, grey...</td>\n",
       "    </tr>\n",
       "  </tbody>\n",
       "</table>\n",
       "</div>"
      ],
      "text/plain": [
       "                   published_at  specimen_id           session_type  \\\n",
       "id                                                                    \n",
       "715093703  2019-10-03T00:00:00Z    699733581  brain_observatory_1.1   \n",
       "719161530  2019-10-03T00:00:00Z    703279284  brain_observatory_1.1   \n",
       "721123822  2019-10-03T00:00:00Z    707296982  brain_observatory_1.1   \n",
       "732592105  2019-10-03T00:00:00Z    717038288  brain_observatory_1.1   \n",
       "737581020  2019-10-03T00:00:00Z    718643567  brain_observatory_1.1   \n",
       "739448407  2019-10-03T00:00:00Z    716813543  brain_observatory_1.1   \n",
       "742951821  2019-10-03T00:00:00Z    723627604  brain_observatory_1.1   \n",
       "743475441  2019-10-03T00:00:00Z    722882755  brain_observatory_1.1   \n",
       "744228101  2019-10-03T00:00:00Z    719817805  brain_observatory_1.1   \n",
       "746083955  2019-10-03T00:00:00Z    726170935  brain_observatory_1.1   \n",
       "\n",
       "           age_in_days sex                                    full_genotype  \\\n",
       "id                                                                            \n",
       "715093703        118.0   M    Sst-IRES-Cre/wt;Ai32(RCL-ChR2(H134R)_EYFP)/wt   \n",
       "719161530        122.0   M    Sst-IRES-Cre/wt;Ai32(RCL-ChR2(H134R)_EYFP)/wt   \n",
       "721123822        125.0   M  Pvalb-IRES-Cre/wt;Ai32(RCL-ChR2(H134R)_EYFP)/wt   \n",
       "732592105        100.0   M                                            wt/wt   \n",
       "737581020        108.0   M                                            wt/wt   \n",
       "739448407        112.0   M                                            wt/wt   \n",
       "742951821        120.0   M                                            wt/wt   \n",
       "743475441        121.0   M                                            wt/wt   \n",
       "744228101        122.0   M                                            wt/wt   \n",
       "746083955         98.0   F  Pvalb-IRES-Cre/wt;Ai32(RCL-ChR2(H134R)_EYFP)/wt   \n",
       "\n",
       "           unit_count  channel_count  probe_count  \\\n",
       "id                                                  \n",
       "715093703         884           2219            6   \n",
       "719161530         755           2214            6   \n",
       "721123822         444           2229            6   \n",
       "732592105         824           1847            5   \n",
       "737581020         568           2218            6   \n",
       "739448407         625           2221            6   \n",
       "742951821         893           2219            6   \n",
       "743475441         553           2225            6   \n",
       "744228101         659           2226            6   \n",
       "746083955         582           2216            6   \n",
       "\n",
       "                                  ecephys_structure_acronyms  \n",
       "id                                                            \n",
       "715093703  [CA1, VISrl, nan, PO, LP, LGd, CA3, DG, VISl, ...  \n",
       "719161530  [TH, Eth, APN, POL, LP, DG, CA1, VISpm, nan, N...  \n",
       "721123822  [MB, SCig, PPT, NOT, DG, CA1, VISam, nan, LP, ...  \n",
       "732592105       [grey, VISpm, nan, VISp, VISl, VISal, VISrl]  \n",
       "737581020      [grey, VISmma, nan, VISpm, VISp, VISl, VISrl]  \n",
       "739448407         [grey, VISam, nan, VIS, VISp, VISl, VISrl]  \n",
       "742951821  [VISal, nan, grey, VISl, VISrl, VISp, VISpm, VIS]  \n",
       "743475441  [LP, LGd, HPF, DG, CA3, CA1, VISrl, nan, PP, P...  \n",
       "744228101  [Eth, TH, LP, POL, APN, DG, CA1, VIS, nan, CA3...  \n",
       "746083955  [VPM, TH, LGd, CA3, CA2, CA1, VISal, nan, grey...  "
      ]
     },
     "metadata": {},
     "output_type": "display_data"
    }
   ],
   "source": [
    "display(sessions.head(10))"
   ]
  },
  {
   "cell_type": "code",
   "execution_count": 6,
   "metadata": {},
   "outputs": [
    {
     "name": "stdout",
     "output_type": "stream",
     "text": [
      "repeated_ids=Series([], Name: specimen_id, dtype: int64)\n"
     ]
    }
   ],
   "source": [
    "\"\"\"Look for animals with multiple sessions.\"\"\"\n",
    "\n",
    "bo_df = sessions[sessions[\"session_type\"] == \"brain_observatory_1.1\"]  # brain observatory data\n",
    "id_counts = bo_df['specimen_id'].value_counts()\n",
    "repeated_ids = id_counts[id_counts > 1]\n",
    "print(f\"{repeated_ids=}\")"
   ]
  },
  {
   "cell_type": "markdown",
   "metadata": {},
   "source": [
    "No animals with more than one session, so we'll just train on single animal-session for now."
   ]
  },
  {
   "cell_type": "code",
   "execution_count": null,
   "metadata": {},
   "outputs": [],
   "source": [
    "\"\"\"Choose a session and load in the data.\"\"\"\n",
    "\n",
    "# session = sessions[sessions[\"specimen_id\"] == 742951821]\n",
    "# session = sessions[sessions[\"specimen_id\"] == 750332458]\n",
    "session = sessions[sessions[\"specimen_id\"] == 717038288]\n",
    "display(session)\n",
    "session_id = session.index.values[0]\n",
    "print(f\"{session_id=}\")\n",
    "session_data = cache.get_session_data(session_id)"
   ]
  },
  {
   "cell_type": "markdown",
   "metadata": {},
   "source": [
    "some useful (not exhaustive) `session_data` attributes and methods\n",
    "\n",
    "- attributes:\n",
    "  - metadata\n",
    "  - channels\n",
    "  - stimulus_conditions\n",
    "  - stimulus_presentations\n",
    "  - spike_times\n",
    "  - spike_amplitudes\n",
    "\n",
    "- methods:\n",
    "  - channel_structure_intervals\n",
    "  - conditionwise_spike_statistics\n",
    "  - get_pupil_data \n",
    "  - get_stimulus_epochs\n",
    "  - get_stimulus_parameter_values\n",
    "  - get_stimulus_table\n",
    "  - get_lfp\n",
    "  - get_screen_graze_data\n",
    "  - get_invalid_times\n",
    "  - presentationwise_spike_times\n",
    "  - presentationwise_spike_counts\n",
    "  - running_speed"
   ]
  },
  {
   "cell_type": "code",
   "execution_count": null,
   "metadata": {},
   "outputs": [],
   "source": [
    "\"\"\"View sesssion metadata.\"\"\"\n",
    "\n",
    "display(session_data.metadata)"
   ]
  },
  {
   "cell_type": "code",
   "execution_count": 9,
   "metadata": {},
   "outputs": [
    {
     "data": {
      "text/html": [
       "<div>\n",
       "<style scoped>\n",
       "    .dataframe tbody tr th:only-of-type {\n",
       "        vertical-align: middle;\n",
       "    }\n",
       "\n",
       "    .dataframe tbody tr th {\n",
       "        vertical-align: top;\n",
       "    }\n",
       "\n",
       "    .dataframe thead th {\n",
       "        text-align: right;\n",
       "    }\n",
       "</style>\n",
       "<table border=\"1\" class=\"dataframe\">\n",
       "  <thead>\n",
       "    <tr style=\"text-align: right;\">\n",
       "      <th></th>\n",
       "      <th>probe_channel_number</th>\n",
       "      <th>probe_horizontal_position</th>\n",
       "      <th>probe_id</th>\n",
       "      <th>probe_vertical_position</th>\n",
       "      <th>structure_acronym</th>\n",
       "      <th>ecephys_structure_id</th>\n",
       "      <th>ecephys_structure_acronym</th>\n",
       "      <th>anterior_posterior_ccf_coordinate</th>\n",
       "      <th>dorsal_ventral_ccf_coordinate</th>\n",
       "      <th>left_right_ccf_coordinate</th>\n",
       "    </tr>\n",
       "    <tr>\n",
       "      <th>id</th>\n",
       "      <th></th>\n",
       "      <th></th>\n",
       "      <th></th>\n",
       "      <th></th>\n",
       "      <th></th>\n",
       "      <th></th>\n",
       "      <th></th>\n",
       "      <th></th>\n",
       "      <th></th>\n",
       "      <th></th>\n",
       "    </tr>\n",
       "  </thead>\n",
       "  <tbody>\n",
       "    <tr>\n",
       "      <th>850231405</th>\n",
       "      <td>307</td>\n",
       "      <td>27</td>\n",
       "      <td>733744649</td>\n",
       "      <td>3080</td>\n",
       "      <td>VISp</td>\n",
       "      <td>385.0</td>\n",
       "      <td>VISp</td>\n",
       "      <td>NaN</td>\n",
       "      <td>NaN</td>\n",
       "      <td>NaN</td>\n",
       "    </tr>\n",
       "    <tr>\n",
       "      <th>850231359</th>\n",
       "      <td>284</td>\n",
       "      <td>43</td>\n",
       "      <td>733744649</td>\n",
       "      <td>2860</td>\n",
       "      <td>VISp</td>\n",
       "      <td>385.0</td>\n",
       "      <td>VISp</td>\n",
       "      <td>NaN</td>\n",
       "      <td>NaN</td>\n",
       "      <td>NaN</td>\n",
       "    </tr>\n",
       "    <tr>\n",
       "      <th>850231385</th>\n",
       "      <td>297</td>\n",
       "      <td>11</td>\n",
       "      <td>733744649</td>\n",
       "      <td>2980</td>\n",
       "      <td>VISp</td>\n",
       "      <td>385.0</td>\n",
       "      <td>VISp</td>\n",
       "      <td>NaN</td>\n",
       "      <td>NaN</td>\n",
       "      <td>NaN</td>\n",
       "    </tr>\n",
       "    <tr>\n",
       "      <th>850231343</th>\n",
       "      <td>276</td>\n",
       "      <td>43</td>\n",
       "      <td>733744649</td>\n",
       "      <td>2780</td>\n",
       "      <td>VISp</td>\n",
       "      <td>385.0</td>\n",
       "      <td>VISp</td>\n",
       "      <td>NaN</td>\n",
       "      <td>NaN</td>\n",
       "      <td>NaN</td>\n",
       "    </tr>\n",
       "    <tr>\n",
       "      <th>850231389</th>\n",
       "      <td>299</td>\n",
       "      <td>27</td>\n",
       "      <td>733744649</td>\n",
       "      <td>3000</td>\n",
       "      <td>VISp</td>\n",
       "      <td>385.0</td>\n",
       "      <td>VISp</td>\n",
       "      <td>NaN</td>\n",
       "      <td>NaN</td>\n",
       "      <td>NaN</td>\n",
       "    </tr>\n",
       "    <tr>\n",
       "      <th>...</th>\n",
       "      <td>...</td>\n",
       "      <td>...</td>\n",
       "      <td>...</td>\n",
       "      <td>...</td>\n",
       "      <td>...</td>\n",
       "      <td>...</td>\n",
       "      <td>...</td>\n",
       "      <td>...</td>\n",
       "      <td>...</td>\n",
       "      <td>...</td>\n",
       "    </tr>\n",
       "    <tr>\n",
       "      <th>850231349</th>\n",
       "      <td>279</td>\n",
       "      <td>27</td>\n",
       "      <td>733744649</td>\n",
       "      <td>2800</td>\n",
       "      <td>VISp</td>\n",
       "      <td>385.0</td>\n",
       "      <td>VISp</td>\n",
       "      <td>NaN</td>\n",
       "      <td>NaN</td>\n",
       "      <td>NaN</td>\n",
       "    </tr>\n",
       "    <tr>\n",
       "      <th>850231323</th>\n",
       "      <td>266</td>\n",
       "      <td>59</td>\n",
       "      <td>733744649</td>\n",
       "      <td>2680</td>\n",
       "      <td>VISp</td>\n",
       "      <td>385.0</td>\n",
       "      <td>VISp</td>\n",
       "      <td>NaN</td>\n",
       "      <td>NaN</td>\n",
       "      <td>NaN</td>\n",
       "    </tr>\n",
       "    <tr>\n",
       "      <th>850231281</th>\n",
       "      <td>245</td>\n",
       "      <td>11</td>\n",
       "      <td>733744649</td>\n",
       "      <td>2460</td>\n",
       "      <td>VISp</td>\n",
       "      <td>385.0</td>\n",
       "      <td>VISp</td>\n",
       "      <td>NaN</td>\n",
       "      <td>NaN</td>\n",
       "      <td>NaN</td>\n",
       "    </tr>\n",
       "    <tr>\n",
       "      <th>850231297</th>\n",
       "      <td>253</td>\n",
       "      <td>11</td>\n",
       "      <td>733744649</td>\n",
       "      <td>2540</td>\n",
       "      <td>VISp</td>\n",
       "      <td>385.0</td>\n",
       "      <td>VISp</td>\n",
       "      <td>NaN</td>\n",
       "      <td>NaN</td>\n",
       "      <td>NaN</td>\n",
       "    </tr>\n",
       "    <tr>\n",
       "      <th>850231413</th>\n",
       "      <td>311</td>\n",
       "      <td>27</td>\n",
       "      <td>733744649</td>\n",
       "      <td>3120</td>\n",
       "      <td>VISp</td>\n",
       "      <td>385.0</td>\n",
       "      <td>VISp</td>\n",
       "      <td>NaN</td>\n",
       "      <td>NaN</td>\n",
       "      <td>NaN</td>\n",
       "    </tr>\n",
       "  </tbody>\n",
       "</table>\n",
       "<p>78 rows × 10 columns</p>\n",
       "</div>"
      ],
      "text/plain": [
       "           probe_channel_number  probe_horizontal_position   probe_id  \\\n",
       "id                                                                      \n",
       "850231405                   307                         27  733744649   \n",
       "850231359                   284                         43  733744649   \n",
       "850231385                   297                         11  733744649   \n",
       "850231343                   276                         43  733744649   \n",
       "850231389                   299                         27  733744649   \n",
       "...                         ...                        ...        ...   \n",
       "850231349                   279                         27  733744649   \n",
       "850231323                   266                         59  733744649   \n",
       "850231281                   245                         11  733744649   \n",
       "850231297                   253                         11  733744649   \n",
       "850231413                   311                         27  733744649   \n",
       "\n",
       "           probe_vertical_position structure_acronym  ecephys_structure_id  \\\n",
       "id                                                                           \n",
       "850231405                     3080              VISp                 385.0   \n",
       "850231359                     2860              VISp                 385.0   \n",
       "850231385                     2980              VISp                 385.0   \n",
       "850231343                     2780              VISp                 385.0   \n",
       "850231389                     3000              VISp                 385.0   \n",
       "...                            ...               ...                   ...   \n",
       "850231349                     2800              VISp                 385.0   \n",
       "850231323                     2680              VISp                 385.0   \n",
       "850231281                     2460              VISp                 385.0   \n",
       "850231297                     2540              VISp                 385.0   \n",
       "850231413                     3120              VISp                 385.0   \n",
       "\n",
       "          ecephys_structure_acronym  anterior_posterior_ccf_coordinate  \\\n",
       "id                                                                       \n",
       "850231405                      VISp                                NaN   \n",
       "850231359                      VISp                                NaN   \n",
       "850231385                      VISp                                NaN   \n",
       "850231343                      VISp                                NaN   \n",
       "850231389                      VISp                                NaN   \n",
       "...                             ...                                ...   \n",
       "850231349                      VISp                                NaN   \n",
       "850231323                      VISp                                NaN   \n",
       "850231281                      VISp                                NaN   \n",
       "850231297                      VISp                                NaN   \n",
       "850231413                      VISp                                NaN   \n",
       "\n",
       "           dorsal_ventral_ccf_coordinate  left_right_ccf_coordinate  \n",
       "id                                                                   \n",
       "850231405                            NaN                        NaN  \n",
       "850231359                            NaN                        NaN  \n",
       "850231385                            NaN                        NaN  \n",
       "850231343                            NaN                        NaN  \n",
       "850231389                            NaN                        NaN  \n",
       "...                                  ...                        ...  \n",
       "850231349                            NaN                        NaN  \n",
       "850231323                            NaN                        NaN  \n",
       "850231281                            NaN                        NaN  \n",
       "850231297                            NaN                        NaN  \n",
       "850231413                            NaN                        NaN  \n",
       "\n",
       "[78 rows x 10 columns]"
      ]
     },
     "metadata": {},
     "output_type": "display_data"
    }
   ],
   "source": [
    "\"\"\"Choose a region to select units from, within session, and view probe metadata.\"\"\"\n",
    "\n",
    "region = \"VISp\"\n",
    "\n",
    "session_channels = session_data.channels.drop(columns=[\"filtering\"])\n",
    "session_channels_visp = session_channels[session_channels[\"structure_acronym\"] == region]\n",
    "\n",
    "display(session_channels_visp)"
   ]
  },
  {
   "cell_type": "code",
   "execution_count": 10,
   "metadata": {},
   "outputs": [
    {
     "data": {
      "text/html": [
       "<div>\n",
       "<style scoped>\n",
       "    .dataframe tbody tr th:only-of-type {\n",
       "        vertical-align: middle;\n",
       "    }\n",
       "\n",
       "    .dataframe tbody tr th {\n",
       "        vertical-align: top;\n",
       "    }\n",
       "\n",
       "    .dataframe thead th {\n",
       "        text-align: right;\n",
       "    }\n",
       "</style>\n",
       "<table border=\"1\" class=\"dataframe\">\n",
       "  <thead>\n",
       "    <tr style=\"text-align: right;\">\n",
       "      <th></th>\n",
       "      <th>waveform_PT_ratio</th>\n",
       "      <th>waveform_amplitude</th>\n",
       "      <th>amplitude_cutoff</th>\n",
       "      <th>cluster_id</th>\n",
       "      <th>cumulative_drift</th>\n",
       "      <th>d_prime</th>\n",
       "      <th>firing_rate</th>\n",
       "      <th>isi_violations</th>\n",
       "      <th>isolation_distance</th>\n",
       "      <th>L_ratio</th>\n",
       "      <th>...</th>\n",
       "      <th>ecephys_structure_id</th>\n",
       "      <th>ecephys_structure_acronym</th>\n",
       "      <th>anterior_posterior_ccf_coordinate</th>\n",
       "      <th>dorsal_ventral_ccf_coordinate</th>\n",
       "      <th>left_right_ccf_coordinate</th>\n",
       "      <th>probe_description</th>\n",
       "      <th>location</th>\n",
       "      <th>probe_sampling_rate</th>\n",
       "      <th>probe_lfp_sampling_rate</th>\n",
       "      <th>probe_has_lfp_data</th>\n",
       "    </tr>\n",
       "    <tr>\n",
       "      <th>unit_id</th>\n",
       "      <th></th>\n",
       "      <th></th>\n",
       "      <th></th>\n",
       "      <th></th>\n",
       "      <th></th>\n",
       "      <th></th>\n",
       "      <th></th>\n",
       "      <th></th>\n",
       "      <th></th>\n",
       "      <th></th>\n",
       "      <th></th>\n",
       "      <th></th>\n",
       "      <th></th>\n",
       "      <th></th>\n",
       "      <th></th>\n",
       "      <th></th>\n",
       "      <th></th>\n",
       "      <th></th>\n",
       "      <th></th>\n",
       "      <th></th>\n",
       "      <th></th>\n",
       "    </tr>\n",
       "  </thead>\n",
       "  <tbody>\n",
       "    <tr>\n",
       "      <th>915960297</th>\n",
       "      <td>0.410785</td>\n",
       "      <td>117.866385</td>\n",
       "      <td>0.001235</td>\n",
       "      <td>335</td>\n",
       "      <td>214.70</td>\n",
       "      <td>3.013238</td>\n",
       "      <td>3.051031</td>\n",
       "      <td>0.089814</td>\n",
       "      <td>50.575739</td>\n",
       "      <td>0.006127</td>\n",
       "      <td>...</td>\n",
       "      <td>385.0</td>\n",
       "      <td>VISp</td>\n",
       "      <td>NaN</td>\n",
       "      <td>NaN</td>\n",
       "      <td>NaN</td>\n",
       "      <td>probeC</td>\n",
       "      <td>See electrode locations</td>\n",
       "      <td>29999.991665</td>\n",
       "      <td>1249.999653</td>\n",
       "      <td>True</td>\n",
       "    </tr>\n",
       "    <tr>\n",
       "      <th>915960294</th>\n",
       "      <td>0.210040</td>\n",
       "      <td>106.159365</td>\n",
       "      <td>0.000761</td>\n",
       "      <td>334</td>\n",
       "      <td>159.52</td>\n",
       "      <td>3.250551</td>\n",
       "      <td>13.198225</td>\n",
       "      <td>0.006399</td>\n",
       "      <td>74.417854</td>\n",
       "      <td>0.002733</td>\n",
       "      <td>...</td>\n",
       "      <td>385.0</td>\n",
       "      <td>VISp</td>\n",
       "      <td>NaN</td>\n",
       "      <td>NaN</td>\n",
       "      <td>NaN</td>\n",
       "      <td>probeC</td>\n",
       "      <td>See electrode locations</td>\n",
       "      <td>29999.991665</td>\n",
       "      <td>1249.999653</td>\n",
       "      <td>True</td>\n",
       "    </tr>\n",
       "    <tr>\n",
       "      <th>915960290</th>\n",
       "      <td>0.248721</td>\n",
       "      <td>131.387490</td>\n",
       "      <td>0.053858</td>\n",
       "      <td>333</td>\n",
       "      <td>491.48</td>\n",
       "      <td>2.292449</td>\n",
       "      <td>5.642346</td>\n",
       "      <td>0.038768</td>\n",
       "      <td>58.246321</td>\n",
       "      <td>0.008143</td>\n",
       "      <td>...</td>\n",
       "      <td>385.0</td>\n",
       "      <td>VISp</td>\n",
       "      <td>NaN</td>\n",
       "      <td>NaN</td>\n",
       "      <td>NaN</td>\n",
       "      <td>probeC</td>\n",
       "      <td>See electrode locations</td>\n",
       "      <td>29999.991665</td>\n",
       "      <td>1249.999653</td>\n",
       "      <td>True</td>\n",
       "    </tr>\n",
       "    <tr>\n",
       "      <th>915960287</th>\n",
       "      <td>0.560337</td>\n",
       "      <td>153.604815</td>\n",
       "      <td>0.034125</td>\n",
       "      <td>332</td>\n",
       "      <td>309.50</td>\n",
       "      <td>3.832008</td>\n",
       "      <td>14.034699</td>\n",
       "      <td>0.005457</td>\n",
       "      <td>67.692919</td>\n",
       "      <td>0.012434</td>\n",
       "      <td>...</td>\n",
       "      <td>385.0</td>\n",
       "      <td>VISp</td>\n",
       "      <td>NaN</td>\n",
       "      <td>NaN</td>\n",
       "      <td>NaN</td>\n",
       "      <td>probeC</td>\n",
       "      <td>See electrode locations</td>\n",
       "      <td>29999.991665</td>\n",
       "      <td>1249.999653</td>\n",
       "      <td>True</td>\n",
       "    </tr>\n",
       "    <tr>\n",
       "      <th>915960283</th>\n",
       "      <td>0.401756</td>\n",
       "      <td>141.322935</td>\n",
       "      <td>0.046545</td>\n",
       "      <td>331</td>\n",
       "      <td>144.15</td>\n",
       "      <td>2.651925</td>\n",
       "      <td>4.370163</td>\n",
       "      <td>0.062538</td>\n",
       "      <td>49.513412</td>\n",
       "      <td>0.009947</td>\n",
       "      <td>...</td>\n",
       "      <td>385.0</td>\n",
       "      <td>VISp</td>\n",
       "      <td>NaN</td>\n",
       "      <td>NaN</td>\n",
       "      <td>NaN</td>\n",
       "      <td>probeC</td>\n",
       "      <td>See electrode locations</td>\n",
       "      <td>29999.991665</td>\n",
       "      <td>1249.999653</td>\n",
       "      <td>True</td>\n",
       "    </tr>\n",
       "    <tr>\n",
       "      <th>...</th>\n",
       "      <td>...</td>\n",
       "      <td>...</td>\n",
       "      <td>...</td>\n",
       "      <td>...</td>\n",
       "      <td>...</td>\n",
       "      <td>...</td>\n",
       "      <td>...</td>\n",
       "      <td>...</td>\n",
       "      <td>...</td>\n",
       "      <td>...</td>\n",
       "      <td>...</td>\n",
       "      <td>...</td>\n",
       "      <td>...</td>\n",
       "      <td>...</td>\n",
       "      <td>...</td>\n",
       "      <td>...</td>\n",
       "      <td>...</td>\n",
       "      <td>...</td>\n",
       "      <td>...</td>\n",
       "      <td>...</td>\n",
       "      <td>...</td>\n",
       "    </tr>\n",
       "    <tr>\n",
       "      <th>915960975</th>\n",
       "      <td>0.374368</td>\n",
       "      <td>262.344420</td>\n",
       "      <td>0.002301</td>\n",
       "      <td>542</td>\n",
       "      <td>85.86</td>\n",
       "      <td>5.000994</td>\n",
       "      <td>0.543841</td>\n",
       "      <td>0.269217</td>\n",
       "      <td>59.157642</td>\n",
       "      <td>0.000969</td>\n",
       "      <td>...</td>\n",
       "      <td>385.0</td>\n",
       "      <td>VISp</td>\n",
       "      <td>NaN</td>\n",
       "      <td>NaN</td>\n",
       "      <td>NaN</td>\n",
       "      <td>probeC</td>\n",
       "      <td>See electrode locations</td>\n",
       "      <td>29999.991665</td>\n",
       "      <td>1249.999653</td>\n",
       "      <td>True</td>\n",
       "    </tr>\n",
       "    <tr>\n",
       "      <th>915960972</th>\n",
       "      <td>0.487083</td>\n",
       "      <td>126.358635</td>\n",
       "      <td>0.027390</td>\n",
       "      <td>541</td>\n",
       "      <td>358.85</td>\n",
       "      <td>3.163878</td>\n",
       "      <td>0.980188</td>\n",
       "      <td>0.290065</td>\n",
       "      <td>47.377000</td>\n",
       "      <td>0.006576</td>\n",
       "      <td>...</td>\n",
       "      <td>385.0</td>\n",
       "      <td>VISp</td>\n",
       "      <td>NaN</td>\n",
       "      <td>NaN</td>\n",
       "      <td>NaN</td>\n",
       "      <td>probeC</td>\n",
       "      <td>See electrode locations</td>\n",
       "      <td>29999.991665</td>\n",
       "      <td>1249.999653</td>\n",
       "      <td>True</td>\n",
       "    </tr>\n",
       "    <tr>\n",
       "      <th>915960968</th>\n",
       "      <td>0.372298</td>\n",
       "      <td>345.604740</td>\n",
       "      <td>0.001666</td>\n",
       "      <td>539</td>\n",
       "      <td>176.93</td>\n",
       "      <td>8.156430</td>\n",
       "      <td>0.634339</td>\n",
       "      <td>0.000000</td>\n",
       "      <td>95.795791</td>\n",
       "      <td>0.000010</td>\n",
       "      <td>...</td>\n",
       "      <td>385.0</td>\n",
       "      <td>VISp</td>\n",
       "      <td>NaN</td>\n",
       "      <td>NaN</td>\n",
       "      <td>NaN</td>\n",
       "      <td>probeC</td>\n",
       "      <td>See electrode locations</td>\n",
       "      <td>29999.991665</td>\n",
       "      <td>1249.999653</td>\n",
       "      <td>True</td>\n",
       "    </tr>\n",
       "    <tr>\n",
       "      <th>915960996</th>\n",
       "      <td>0.401461</td>\n",
       "      <td>227.728995</td>\n",
       "      <td>0.004779</td>\n",
       "      <td>550</td>\n",
       "      <td>191.13</td>\n",
       "      <td>6.107058</td>\n",
       "      <td>0.511019</td>\n",
       "      <td>0.000000</td>\n",
       "      <td>66.139560</td>\n",
       "      <td>0.000161</td>\n",
       "      <td>...</td>\n",
       "      <td>385.0</td>\n",
       "      <td>VISp</td>\n",
       "      <td>NaN</td>\n",
       "      <td>NaN</td>\n",
       "      <td>NaN</td>\n",
       "      <td>probeC</td>\n",
       "      <td>See electrode locations</td>\n",
       "      <td>29999.991665</td>\n",
       "      <td>1249.999653</td>\n",
       "      <td>True</td>\n",
       "    </tr>\n",
       "    <tr>\n",
       "      <th>915961134</th>\n",
       "      <td>0.338629</td>\n",
       "      <td>129.124905</td>\n",
       "      <td>0.003281</td>\n",
       "      <td>604</td>\n",
       "      <td>395.62</td>\n",
       "      <td>3.677600</td>\n",
       "      <td>0.760102</td>\n",
       "      <td>0.413450</td>\n",
       "      <td>48.616844</td>\n",
       "      <td>0.002603</td>\n",
       "      <td>...</td>\n",
       "      <td>385.0</td>\n",
       "      <td>VISp</td>\n",
       "      <td>NaN</td>\n",
       "      <td>NaN</td>\n",
       "      <td>NaN</td>\n",
       "      <td>probeC</td>\n",
       "      <td>See electrode locations</td>\n",
       "      <td>29999.991665</td>\n",
       "      <td>1249.999653</td>\n",
       "      <td>True</td>\n",
       "    </tr>\n",
       "  </tbody>\n",
       "</table>\n",
       "<p>110 rows × 40 columns</p>\n",
       "</div>"
      ],
      "text/plain": [
       "           waveform_PT_ratio  waveform_amplitude  amplitude_cutoff  \\\n",
       "unit_id                                                              \n",
       "915960297           0.410785          117.866385          0.001235   \n",
       "915960294           0.210040          106.159365          0.000761   \n",
       "915960290           0.248721          131.387490          0.053858   \n",
       "915960287           0.560337          153.604815          0.034125   \n",
       "915960283           0.401756          141.322935          0.046545   \n",
       "...                      ...                 ...               ...   \n",
       "915960975           0.374368          262.344420          0.002301   \n",
       "915960972           0.487083          126.358635          0.027390   \n",
       "915960968           0.372298          345.604740          0.001666   \n",
       "915960996           0.401461          227.728995          0.004779   \n",
       "915961134           0.338629          129.124905          0.003281   \n",
       "\n",
       "           cluster_id  cumulative_drift   d_prime  firing_rate  \\\n",
       "unit_id                                                          \n",
       "915960297         335            214.70  3.013238     3.051031   \n",
       "915960294         334            159.52  3.250551    13.198225   \n",
       "915960290         333            491.48  2.292449     5.642346   \n",
       "915960287         332            309.50  3.832008    14.034699   \n",
       "915960283         331            144.15  2.651925     4.370163   \n",
       "...               ...               ...       ...          ...   \n",
       "915960975         542             85.86  5.000994     0.543841   \n",
       "915960972         541            358.85  3.163878     0.980188   \n",
       "915960968         539            176.93  8.156430     0.634339   \n",
       "915960996         550            191.13  6.107058     0.511019   \n",
       "915961134         604            395.62  3.677600     0.760102   \n",
       "\n",
       "           isi_violations  isolation_distance   L_ratio  ...  \\\n",
       "unit_id                                                  ...   \n",
       "915960297        0.089814           50.575739  0.006127  ...   \n",
       "915960294        0.006399           74.417854  0.002733  ...   \n",
       "915960290        0.038768           58.246321  0.008143  ...   \n",
       "915960287        0.005457           67.692919  0.012434  ...   \n",
       "915960283        0.062538           49.513412  0.009947  ...   \n",
       "...                   ...                 ...       ...  ...   \n",
       "915960975        0.269217           59.157642  0.000969  ...   \n",
       "915960972        0.290065           47.377000  0.006576  ...   \n",
       "915960968        0.000000           95.795791  0.000010  ...   \n",
       "915960996        0.000000           66.139560  0.000161  ...   \n",
       "915961134        0.413450           48.616844  0.002603  ...   \n",
       "\n",
       "           ecephys_structure_id  ecephys_structure_acronym  \\\n",
       "unit_id                                                      \n",
       "915960297                 385.0                       VISp   \n",
       "915960294                 385.0                       VISp   \n",
       "915960290                 385.0                       VISp   \n",
       "915960287                 385.0                       VISp   \n",
       "915960283                 385.0                       VISp   \n",
       "...                         ...                        ...   \n",
       "915960975                 385.0                       VISp   \n",
       "915960972                 385.0                       VISp   \n",
       "915960968                 385.0                       VISp   \n",
       "915960996                 385.0                       VISp   \n",
       "915961134                 385.0                       VISp   \n",
       "\n",
       "           anterior_posterior_ccf_coordinate  dorsal_ventral_ccf_coordinate  \\\n",
       "unit_id                                                                       \n",
       "915960297                                NaN                            NaN   \n",
       "915960294                                NaN                            NaN   \n",
       "915960290                                NaN                            NaN   \n",
       "915960287                                NaN                            NaN   \n",
       "915960283                                NaN                            NaN   \n",
       "...                                      ...                            ...   \n",
       "915960975                                NaN                            NaN   \n",
       "915960972                                NaN                            NaN   \n",
       "915960968                                NaN                            NaN   \n",
       "915960996                                NaN                            NaN   \n",
       "915961134                                NaN                            NaN   \n",
       "\n",
       "           left_right_ccf_coordinate  probe_description  \\\n",
       "unit_id                                                   \n",
       "915960297                        NaN             probeC   \n",
       "915960294                        NaN             probeC   \n",
       "915960290                        NaN             probeC   \n",
       "915960287                        NaN             probeC   \n",
       "915960283                        NaN             probeC   \n",
       "...                              ...                ...   \n",
       "915960975                        NaN             probeC   \n",
       "915960972                        NaN             probeC   \n",
       "915960968                        NaN             probeC   \n",
       "915960996                        NaN             probeC   \n",
       "915961134                        NaN             probeC   \n",
       "\n",
       "                          location  probe_sampling_rate  \\\n",
       "unit_id                                                   \n",
       "915960297  See electrode locations         29999.991665   \n",
       "915960294  See electrode locations         29999.991665   \n",
       "915960290  See electrode locations         29999.991665   \n",
       "915960287  See electrode locations         29999.991665   \n",
       "915960283  See electrode locations         29999.991665   \n",
       "...                            ...                  ...   \n",
       "915960975  See electrode locations         29999.991665   \n",
       "915960972  See electrode locations         29999.991665   \n",
       "915960968  See electrode locations         29999.991665   \n",
       "915960996  See electrode locations         29999.991665   \n",
       "915961134  See electrode locations         29999.991665   \n",
       "\n",
       "           probe_lfp_sampling_rate  probe_has_lfp_data  \n",
       "unit_id                                                 \n",
       "915960297              1249.999653                True  \n",
       "915960294              1249.999653                True  \n",
       "915960290              1249.999653                True  \n",
       "915960287              1249.999653                True  \n",
       "915960283              1249.999653                True  \n",
       "...                            ...                 ...  \n",
       "915960975              1249.999653                True  \n",
       "915960972              1249.999653                True  \n",
       "915960968              1249.999653                True  \n",
       "915960996              1249.999653                True  \n",
       "915961134              1249.999653                True  \n",
       "\n",
       "[110 rows x 40 columns]"
      ]
     },
     "metadata": {},
     "output_type": "display_data"
    }
   ],
   "source": [
    "\"\"\"View units metadata.\"\"\"\n",
    "\n",
    "units_df = session_data.units\n",
    "region_units = units_df[units_df[\"structure_acronym\"] == region]\n",
    "display(region_units)"
   ]
  },
  {
   "cell_type": "code",
   "execution_count": null,
   "metadata": {},
   "outputs": [],
   "source": [
    "\"\"\"Get spikes for units within specified region.\"\"\"\n",
    "\n",
    "spike_times = session_data.spike_times\n",
    "region_unit_ids = set(region_units.index)\n",
    "region_spike_times = {\n",
    "    unit_id: spikes\n",
    "    for unit_id, spikes in spike_times.items()\n",
    "    if unit_id in region_unit_ids\n",
    "}\n",
    "display(region_spike_times)"
   ]
  },
  {
   "cell_type": "code",
   "execution_count": 12,
   "metadata": {},
   "outputs": [
    {
     "data": {
      "text/plain": [
       "(6910581, 458062)"
      ]
     },
     "execution_count": 12,
     "metadata": {},
     "output_type": "execute_result"
    }
   ],
   "source": [
    "\"\"\"See total number of spikes, and the maximum number of spikes in a single unit.\"\"\"\n",
    "\n",
    "region_unit_spike_counts = {len(ts) for ts in region_spike_times.values()}\n",
    "sum(region_unit_spike_counts), max(region_unit_spike_counts)"
   ]
  },
  {
   "cell_type": "markdown",
   "metadata": {},
   "source": [
    "Options for feeding in spikes:\n",
    "- Total spike counts per unit in a small time window"
   ]
  },
  {
   "cell_type": "code",
   "execution_count": 13,
   "metadata": {},
   "outputs": [],
   "source": [
    "\"\"\"Format spikes data for SAE: binned spike counts.\"\"\"\n",
    "\n",
    "win = 0.1  # 100 ms\n",
    "min_max_pairs = [(ts_arr.min(), ts_arr.max()) for ts_arr in region_spike_times.values()]\n",
    "first_spike_ts, last_spike_ts = (\n",
    "    min(pair[0] for pair in min_max_pairs), max(pair[1] for pair in min_max_pairs)\n",
    ")\n",
    "stop_time = session_data.stimulus_presentations.iloc[-1][\"stop_time\"]\n",
    "\n",
    "all_spike_ts = np.concatenate(list(region_spike_times.values()))\n",
    "unit_indices = np.concatenate(\n",
    "    [np.full(len(spikes), i) for i, spikes in enumerate(region_spike_times.values())]\n",
    ")\n",
    "bins = np.arange(0, last_spike_ts, win)\n",
    "counts, _, _ = np.histogram2d(\n",
    "    all_spike_ts, unit_indices, bins=[bins, range(len(region_spike_times) + 1)]\n",
    ")\n",
    "counts = torch.from_numpy(counts.astype(np.uint8))"
   ]
  },
  {
   "cell_type": "code",
   "execution_count": 14,
   "metadata": {},
   "outputs": [
    {
     "name": "stdout",
     "output_type": "stream",
     "text": [
      "frac_nonzero_bins=tensor(0.3095)\n",
      "frac_nonzero_examples=tensor(0.9997)\n"
     ]
    }
   ],
   "source": [
    "\"\"\"Check sparsity of binned spike counts.\"\"\"\n",
    "\n",
    "frac_nonzero_bins = torch.sum(counts > 0) / counts.numel()\n",
    "spike_counts_per_bin = torch.sum(counts > 0, axis=1)\n",
    "frac_nonzero_examples = sum(spike_counts_per_bin > 0) / spike_counts_per_bin.size()[0]\n",
    "print(f\"{frac_nonzero_bins=}\\n{frac_nonzero_examples=}\")"
   ]
  },
  {
   "cell_type": "code",
   "execution_count": 15,
   "metadata": {},
   "outputs": [
    {
     "name": "stdout",
     "output_type": "stream",
     "text": [
      "tensor(indices=tensor([[    5,     5,     5,  ..., 94149, 94149, 94149],\n",
      "                       [    5,    10,    12,  ...,   100,   102,   104]]),\n",
      "       values=tensor([1, 1, 1,  ..., 2, 2, 7]),\n",
      "       size=(94150, 110), nnz=3205141, dtype=torch.uint8,\n",
      "       layout=torch.sparse_coo)\n"
     ]
    }
   ],
   "source": [
    "\"\"\"Convert to sparse tensor.\"\"\"\n",
    "\n",
    "indxs = torch.nonzero(counts).t()  # get nonzero indxs in appropriate format for `sparse_coo_tensor`\n",
    "vals = counts[indxs[0], indxs[1]]\n",
    "counts = torch.sparse_coo_tensor(indxs, vals, torch.Size(counts.shape))\n",
    "print(counts)"
   ]
  },
  {
   "cell_type": "code",
   "execution_count": 16,
   "metadata": {},
   "outputs": [
    {
     "data": {
      "text/html": [
       "<div>\n",
       "<style scoped>\n",
       "    .dataframe tbody tr th:only-of-type {\n",
       "        vertical-align: middle;\n",
       "    }\n",
       "\n",
       "    .dataframe tbody tr th {\n",
       "        vertical-align: top;\n",
       "    }\n",
       "\n",
       "    .dataframe thead th {\n",
       "        text-align: right;\n",
       "    }\n",
       "</style>\n",
       "<table border=\"1\" class=\"dataframe\">\n",
       "  <thead>\n",
       "    <tr style=\"text-align: right;\">\n",
       "      <th></th>\n",
       "      <th>915960921</th>\n",
       "      <th>915960683</th>\n",
       "      <th>915960678</th>\n",
       "      <th>915960674</th>\n",
       "      <th>915960812</th>\n",
       "      <th>915960810</th>\n",
       "      <th>915960586</th>\n",
       "      <th>915960835</th>\n",
       "      <th>915960832</th>\n",
       "      <th>915960825</th>\n",
       "      <th>...</th>\n",
       "      <th>915960615</th>\n",
       "      <th>915960297</th>\n",
       "      <th>915960294</th>\n",
       "      <th>915960290</th>\n",
       "      <th>915960287</th>\n",
       "      <th>915960283</th>\n",
       "      <th>915960275</th>\n",
       "      <th>915960262</th>\n",
       "      <th>915960382</th>\n",
       "      <th>915960947</th>\n",
       "    </tr>\n",
       "  </thead>\n",
       "  <tbody>\n",
       "    <tr>\n",
       "      <th>0.0</th>\n",
       "      <td>0</td>\n",
       "      <td>0</td>\n",
       "      <td>0</td>\n",
       "      <td>0</td>\n",
       "      <td>0</td>\n",
       "      <td>0</td>\n",
       "      <td>0</td>\n",
       "      <td>0</td>\n",
       "      <td>0</td>\n",
       "      <td>0</td>\n",
       "      <td>...</td>\n",
       "      <td>0</td>\n",
       "      <td>0</td>\n",
       "      <td>0</td>\n",
       "      <td>0</td>\n",
       "      <td>0</td>\n",
       "      <td>0</td>\n",
       "      <td>0</td>\n",
       "      <td>0</td>\n",
       "      <td>0</td>\n",
       "      <td>0</td>\n",
       "    </tr>\n",
       "    <tr>\n",
       "      <th>0.1</th>\n",
       "      <td>0</td>\n",
       "      <td>0</td>\n",
       "      <td>0</td>\n",
       "      <td>0</td>\n",
       "      <td>0</td>\n",
       "      <td>0</td>\n",
       "      <td>0</td>\n",
       "      <td>0</td>\n",
       "      <td>0</td>\n",
       "      <td>0</td>\n",
       "      <td>...</td>\n",
       "      <td>0</td>\n",
       "      <td>0</td>\n",
       "      <td>0</td>\n",
       "      <td>0</td>\n",
       "      <td>0</td>\n",
       "      <td>0</td>\n",
       "      <td>0</td>\n",
       "      <td>0</td>\n",
       "      <td>0</td>\n",
       "      <td>0</td>\n",
       "    </tr>\n",
       "    <tr>\n",
       "      <th>0.2</th>\n",
       "      <td>0</td>\n",
       "      <td>0</td>\n",
       "      <td>0</td>\n",
       "      <td>0</td>\n",
       "      <td>0</td>\n",
       "      <td>0</td>\n",
       "      <td>0</td>\n",
       "      <td>0</td>\n",
       "      <td>0</td>\n",
       "      <td>0</td>\n",
       "      <td>...</td>\n",
       "      <td>0</td>\n",
       "      <td>0</td>\n",
       "      <td>0</td>\n",
       "      <td>0</td>\n",
       "      <td>0</td>\n",
       "      <td>0</td>\n",
       "      <td>0</td>\n",
       "      <td>0</td>\n",
       "      <td>0</td>\n",
       "      <td>0</td>\n",
       "    </tr>\n",
       "    <tr>\n",
       "      <th>0.3</th>\n",
       "      <td>0</td>\n",
       "      <td>0</td>\n",
       "      <td>0</td>\n",
       "      <td>0</td>\n",
       "      <td>0</td>\n",
       "      <td>0</td>\n",
       "      <td>0</td>\n",
       "      <td>0</td>\n",
       "      <td>0</td>\n",
       "      <td>0</td>\n",
       "      <td>...</td>\n",
       "      <td>0</td>\n",
       "      <td>0</td>\n",
       "      <td>0</td>\n",
       "      <td>0</td>\n",
       "      <td>0</td>\n",
       "      <td>0</td>\n",
       "      <td>0</td>\n",
       "      <td>0</td>\n",
       "      <td>0</td>\n",
       "      <td>0</td>\n",
       "    </tr>\n",
       "    <tr>\n",
       "      <th>0.4</th>\n",
       "      <td>0</td>\n",
       "      <td>0</td>\n",
       "      <td>0</td>\n",
       "      <td>0</td>\n",
       "      <td>0</td>\n",
       "      <td>0</td>\n",
       "      <td>0</td>\n",
       "      <td>0</td>\n",
       "      <td>0</td>\n",
       "      <td>0</td>\n",
       "      <td>...</td>\n",
       "      <td>0</td>\n",
       "      <td>0</td>\n",
       "      <td>0</td>\n",
       "      <td>0</td>\n",
       "      <td>0</td>\n",
       "      <td>0</td>\n",
       "      <td>0</td>\n",
       "      <td>0</td>\n",
       "      <td>0</td>\n",
       "      <td>0</td>\n",
       "    </tr>\n",
       "    <tr>\n",
       "      <th>...</th>\n",
       "      <td>...</td>\n",
       "      <td>...</td>\n",
       "      <td>...</td>\n",
       "      <td>...</td>\n",
       "      <td>...</td>\n",
       "      <td>...</td>\n",
       "      <td>...</td>\n",
       "      <td>...</td>\n",
       "      <td>...</td>\n",
       "      <td>...</td>\n",
       "      <td>...</td>\n",
       "      <td>...</td>\n",
       "      <td>...</td>\n",
       "      <td>...</td>\n",
       "      <td>...</td>\n",
       "      <td>...</td>\n",
       "      <td>...</td>\n",
       "      <td>...</td>\n",
       "      <td>...</td>\n",
       "      <td>...</td>\n",
       "      <td>...</td>\n",
       "    </tr>\n",
       "    <tr>\n",
       "      <th>9414.5</th>\n",
       "      <td>1</td>\n",
       "      <td>1</td>\n",
       "      <td>0</td>\n",
       "      <td>0</td>\n",
       "      <td>0</td>\n",
       "      <td>0</td>\n",
       "      <td>0</td>\n",
       "      <td>0</td>\n",
       "      <td>0</td>\n",
       "      <td>0</td>\n",
       "      <td>...</td>\n",
       "      <td>1</td>\n",
       "      <td>0</td>\n",
       "      <td>1</td>\n",
       "      <td>0</td>\n",
       "      <td>6</td>\n",
       "      <td>1</td>\n",
       "      <td>1</td>\n",
       "      <td>0</td>\n",
       "      <td>1</td>\n",
       "      <td>0</td>\n",
       "    </tr>\n",
       "    <tr>\n",
       "      <th>9414.6</th>\n",
       "      <td>1</td>\n",
       "      <td>0</td>\n",
       "      <td>1</td>\n",
       "      <td>0</td>\n",
       "      <td>0</td>\n",
       "      <td>0</td>\n",
       "      <td>0</td>\n",
       "      <td>0</td>\n",
       "      <td>0</td>\n",
       "      <td>0</td>\n",
       "      <td>...</td>\n",
       "      <td>1</td>\n",
       "      <td>0</td>\n",
       "      <td>0</td>\n",
       "      <td>0</td>\n",
       "      <td>5</td>\n",
       "      <td>1</td>\n",
       "      <td>1</td>\n",
       "      <td>0</td>\n",
       "      <td>2</td>\n",
       "      <td>0</td>\n",
       "    </tr>\n",
       "    <tr>\n",
       "      <th>9414.7</th>\n",
       "      <td>0</td>\n",
       "      <td>2</td>\n",
       "      <td>1</td>\n",
       "      <td>0</td>\n",
       "      <td>2</td>\n",
       "      <td>0</td>\n",
       "      <td>0</td>\n",
       "      <td>0</td>\n",
       "      <td>0</td>\n",
       "      <td>0</td>\n",
       "      <td>...</td>\n",
       "      <td>3</td>\n",
       "      <td>0</td>\n",
       "      <td>1</td>\n",
       "      <td>0</td>\n",
       "      <td>9</td>\n",
       "      <td>1</td>\n",
       "      <td>0</td>\n",
       "      <td>0</td>\n",
       "      <td>0</td>\n",
       "      <td>0</td>\n",
       "    </tr>\n",
       "    <tr>\n",
       "      <th>9414.8</th>\n",
       "      <td>0</td>\n",
       "      <td>1</td>\n",
       "      <td>1</td>\n",
       "      <td>0</td>\n",
       "      <td>0</td>\n",
       "      <td>0</td>\n",
       "      <td>0</td>\n",
       "      <td>0</td>\n",
       "      <td>0</td>\n",
       "      <td>0</td>\n",
       "      <td>...</td>\n",
       "      <td>1</td>\n",
       "      <td>0</td>\n",
       "      <td>1</td>\n",
       "      <td>0</td>\n",
       "      <td>2</td>\n",
       "      <td>1</td>\n",
       "      <td>1</td>\n",
       "      <td>0</td>\n",
       "      <td>1</td>\n",
       "      <td>0</td>\n",
       "    </tr>\n",
       "    <tr>\n",
       "      <th>9414.9</th>\n",
       "      <td>0</td>\n",
       "      <td>2</td>\n",
       "      <td>1</td>\n",
       "      <td>0</td>\n",
       "      <td>0</td>\n",
       "      <td>0</td>\n",
       "      <td>0</td>\n",
       "      <td>0</td>\n",
       "      <td>0</td>\n",
       "      <td>0</td>\n",
       "      <td>...</td>\n",
       "      <td>2</td>\n",
       "      <td>0</td>\n",
       "      <td>2</td>\n",
       "      <td>0</td>\n",
       "      <td>7</td>\n",
       "      <td>0</td>\n",
       "      <td>0</td>\n",
       "      <td>0</td>\n",
       "      <td>0</td>\n",
       "      <td>0</td>\n",
       "    </tr>\n",
       "  </tbody>\n",
       "</table>\n",
       "<p>94150 rows × 110 columns</p>\n",
       "</div>"
      ],
      "text/plain": [
       "        915960921  915960683  915960678  915960674  915960812  915960810  \\\n",
       "0.0             0          0          0          0          0          0   \n",
       "0.1             0          0          0          0          0          0   \n",
       "0.2             0          0          0          0          0          0   \n",
       "0.3             0          0          0          0          0          0   \n",
       "0.4             0          0          0          0          0          0   \n",
       "...           ...        ...        ...        ...        ...        ...   \n",
       "9414.5          1          1          0          0          0          0   \n",
       "9414.6          1          0          1          0          0          0   \n",
       "9414.7          0          2          1          0          2          0   \n",
       "9414.8          0          1          1          0          0          0   \n",
       "9414.9          0          2          1          0          0          0   \n",
       "\n",
       "        915960586  915960835  915960832  915960825  ...  915960615  915960297  \\\n",
       "0.0             0          0          0          0  ...          0          0   \n",
       "0.1             0          0          0          0  ...          0          0   \n",
       "0.2             0          0          0          0  ...          0          0   \n",
       "0.3             0          0          0          0  ...          0          0   \n",
       "0.4             0          0          0          0  ...          0          0   \n",
       "...           ...        ...        ...        ...  ...        ...        ...   \n",
       "9414.5          0          0          0          0  ...          1          0   \n",
       "9414.6          0          0          0          0  ...          1          0   \n",
       "9414.7          0          0          0          0  ...          3          0   \n",
       "9414.8          0          0          0          0  ...          1          0   \n",
       "9414.9          0          0          0          0  ...          2          0   \n",
       "\n",
       "        915960294  915960290  915960287  915960283  915960275  915960262  \\\n",
       "0.0             0          0          0          0          0          0   \n",
       "0.1             0          0          0          0          0          0   \n",
       "0.2             0          0          0          0          0          0   \n",
       "0.3             0          0          0          0          0          0   \n",
       "0.4             0          0          0          0          0          0   \n",
       "...           ...        ...        ...        ...        ...        ...   \n",
       "9414.5          1          0          6          1          1          0   \n",
       "9414.6          0          0          5          1          1          0   \n",
       "9414.7          1          0          9          1          0          0   \n",
       "9414.8          1          0          2          1          1          0   \n",
       "9414.9          2          0          7          0          0          0   \n",
       "\n",
       "        915960382  915960947  \n",
       "0.0             0          0  \n",
       "0.1             0          0  \n",
       "0.2             0          0  \n",
       "0.3             0          0  \n",
       "0.4             0          0  \n",
       "...           ...        ...  \n",
       "9414.5          1          0  \n",
       "9414.6          2          0  \n",
       "9414.7          0          0  \n",
       "9414.8          1          0  \n",
       "9414.9          0          0  \n",
       "\n",
       "[94150 rows x 110 columns]"
      ]
     },
     "metadata": {},
     "output_type": "display_data"
    }
   ],
   "source": [
    "\"\"\"View binned spike counts as df.\"\"\"\n",
    "\n",
    "counts_df = pd.DataFrame(\n",
    "    counts.to_dense(),\n",
    "    columns=region_spike_times.keys(),  # unit IDs as column names\n",
    "    index=bins[:-1],  # bin start times as index\n",
    ")\n",
    "display(counts_df)"
   ]
  },
  {
   "cell_type": "markdown",
   "metadata": {},
   "source": [
    "## Train the SAE"
   ]
  },
  {
   "cell_type": "code",
   "execution_count": 17,
   "metadata": {},
   "outputs": [
    {
     "name": "stdout",
     "output_type": "stream",
     "text": [
      "device=device(type='cuda')\n",
      "NVIDIA GeForce RTX 3090\n",
      "NVIDIA GeForce RTX 3090\n"
     ]
    }
   ],
   "source": [
    "\"\"\"Check torch device.\"\"\"\n",
    "\n",
    "device = torch.device(\"cuda\" if torch.cuda.is_available() else \"cpu\")\n",
    "print(f\"{device=}\")\n",
    "if device.type == \"cuda\":\n",
    "    print(torch.cuda.get_device_name(0))"
   ]
  },
  {
   "cell_type": "code",
   "execution_count": 18,
   "metadata": {},
   "outputs": [
    {
     "data": {
      "text/plain": [
       "15.488"
      ]
     },
     "execution_count": 18,
     "metadata": {},
     "output_type": "execute_result"
    }
   ],
   "source": [
    "\"\"\"Estimate gb required for largest tensor op.\"\"\"\n",
    "\n",
    "# batch_sz, n_instances, n_units, seq_len, n_hidden_ae = 8, 2, 110, 1, 10000\n",
    "# [16, 2, 110] @ [2, 110, 10000] -> [16, 2, 10000]\n",
    "16 * 2 * 110 * 2 * 110 * 10000 * 2 / 1e9"
   ]
  },
  {
   "cell_type": "code",
   "execution_count": 19,
   "metadata": {},
   "outputs": [],
   "source": [
    "\"\"\"Create SAE for taking binned spike counts.\"\"\"\n",
    "\n",
    "@dataclass\n",
    "class SaeConfig:\n",
    "    \"\"\"Config class to set some params for SAE.\"\"\"\n",
    "    n_input_ae: int  # number of input units to the autoencoder\n",
    "    n_hidden_ae: int = 10_000  # number of hidden units in the autoencoder\n",
    "    n_instances: int = 2  # number of model instances to optimize in parallel\n",
    "    l1_coeff: float = 0.0  # relative weight of sparsity_loss : activations_reconstruction_loss\n",
    "\n",
    "\n",
    "class Sae(nn.Module):\n",
    "    \"\"\"SAE model for learning sparse representations of binned spike counts.\"\"\"\n",
    "    # Shapes of weights and biases for the encoder and decoder in the single-layer SAE.\n",
    "    W_enc: Float[Tensor, \"n_instances n_input_ae n_hidden_ae\"]\n",
    "    W_dec: Float[Tensor, \"n_instances n_hidden_ae n_input_ae\"]\n",
    "    b_enc: Float[Tensor, \"n_instances n_hidden_ae\"]\n",
    "    b_dec: Float[Tensor, \"n_instances n_input_ae\"]\n",
    "\n",
    "    def __init__(self, cfg: SaeConfig):\n",
    "        \"\"\"Initializes model parameters.\"\"\"\n",
    "        super().__init__()\n",
    "        self.cfg = cfg\n",
    "        self.W_enc = nn.Parameter(\n",
    "            nn.init.xavier_normal_(\n",
    "                torch.empty((cfg.n_instances, cfg.n_input_ae, cfg.n_hidden_ae), dtype=bfloat16)\n",
    "            )\n",
    "        )\n",
    "        self.W_dec = nn.Parameter(\n",
    "            nn.init.xavier_normal_(\n",
    "                torch.empty((cfg.n_instances, cfg.n_hidden_ae, cfg.n_input_ae), dtype=bfloat16)\n",
    "            )\n",
    "        )\n",
    "        self.b_enc = nn.Parameter(torch.zeros((cfg.n_instances, cfg.n_hidden_ae), dtype=bfloat16))\n",
    "        self.b_dec = nn.Parameter(torch.zeros((cfg.n_instances, cfg.n_input_ae), dtype=bfloat16))\n",
    "\n",
    "    def forward(self, h: Float[Tensor, \"batch_sz n_instances n_input_ae\"]):\n",
    "        \"\"\"Computes loss as a function of SAE feature sparsity and spike_count reconstructions.\"\"\"\n",
    "        # Compute encoder hidden activations.\n",
    "        z = F.relu(\n",
    "            einops.einsum(\n",
    "                h,\n",
    "                self.W_enc,\n",
    "                \"batch_sz n_instances n_input_ae, n_instances n_input_ae n_hidden_ae \"\n",
    "                \"-> batch_sz n_instances n_hidden_ae\",\n",
    "            ) \n",
    "            + self.b_enc\n",
    "        )\n",
    "\n",
    "        # Compute reconstructed input.\n",
    "        h_prime = (\n",
    "            einops.einsum(\n",
    "                z,\n",
    "                self.W_dec,\n",
    "                \"batch_sz n_instances n_hidden_ae, n_instances n_hidden_ae n_input_ae \"\n",
    "                \"-> batch_sz n_instances n_input_ae\",\n",
    "            ) \n",
    "            + self.b_dec\n",
    "        )\n",
    "\n",
    "        # Compute loss (l1_loss and l2_loss shapes: [batch_sz n_instances]) and return values.\n",
    "        l1_loss = z.abs().sum(-1)  # sparsity component of loss, over n_hidden_ae\n",
    "        l2_loss = (h_prime - h).pow(2).mean(-1)  # spike count reconstruction loss, over n_input_ae\n",
    "        loss = (self.cfg.l1_coeff * l1_loss + l2_loss).mean(0).sum()  # scalar\n",
    "        return l1_loss, l2_loss, loss, z, h_prime\n",
    "\n",
    "    @torch.no_grad()\n",
    "    def normalize_decoder(self) -> None:\n",
    "        \"\"\"Unit norms the decoder weights.\"\"\"\n",
    "        self.W_dec.data = self.W_dec.data / self.W_dec.data.norm(dim=2, keepdim=True)"
   ]
  },
  {
   "cell_type": "code",
   "execution_count": 20,
   "metadata": {},
   "outputs": [],
   "source": [
    "\"\"\"Add method to `Sae` to resample dead neurons.\"\"\"\n",
    "\n",
    "@torch.no_grad()\n",
    "def resample_neurons(\n",
    "    self: Sae,\n",
    "    frac_active_in_window: Float[Tensor, \"window n_instances n_hidden_ae\"],\n",
    ") -> Tuple[List[List[str]], str]:  # -> (colors_for_neurons, title_with_resampling_info)\n",
    "    \"\"\"Resamples neurons dead for `dead_neuron_window` steps, according to `frac_active`.\"\"\"\n",
    "    # Get a tensor of dead neurons.\n",
    "    dead_features_mask = frac_active_in_window.sum(0) < 1e-8  # -> [n_instances n_hidden_ae]\n",
    "    n_dead = dead_features_mask.int().sum().item()\n",
    "\n",
    "    # Get our random replacement values (-> [n_dead n_input_ae]).\n",
    "    replacement_vals = torch.randn((n_dead, self.cfg.n_input_ae), device=self.W_enc.device)\n",
    "    replacement_vals_norm = replacement_vals / replacement_vals.norm(dim=-1, keepdim=True) + 1e-8\n",
    "\n",
    "    # Reset W_enc, W_dec, and b_enc (we transpose W_enc to return a view with correct shape).\n",
    "    self.W_enc.data.transpose(-1, -2)[dead_features_mask] = replacement_vals_norm\n",
    "    self.W_dec.data[dead_features_mask] = replacement_vals_norm\n",
    "    self.b_enc.data[dead_features_mask] = 0.0\n",
    "\n",
    "    # Return data for visualising the resampling process.\n",
    "    colors = [\n",
    "        [\"red\" if dead else \"black\" for dead in dead_neuron_mask_inst]\n",
    "        for dead_neuron_mask_inst in dead_features_mask\n",
    "    ]\n",
    "    title = f\"resampling {n_dead}/{dead_features_mask.numel()} neurons (shown in red)\"\n",
    "    return colors, title\n",
    "\n",
    "# Add method to sae class.\n",
    "Sae.resample_neurons = resample_neurons"
   ]
  },
  {
   "cell_type": "code",
   "execution_count": 21,
   "metadata": {},
   "outputs": [],
   "source": [
    "\"\"\"Add `Sae` optimization method.\"\"\"\n",
    "\n",
    "def lr_schedule(*_):\n",
    "    \"\"\"Simple learning rate schedule.\"\"\"\n",
    "    return 1.0\n",
    "\n",
    "def optimize(\n",
    "    self: Sae,\n",
    "    spike_counts: Int[Tensor, \"n_timebins n_units\"],\n",
    "    seq_len: int = 1,  # number of timebins to use in each spike_count_seq\n",
    "    batch_sz: int = 16,\n",
    "    steps: int = 200_000,\n",
    "    log_freq: int = 1000,\n",
    "    lr: float = 1e-3,\n",
    "    lr_scale: Callable[[int, int], float] = lr_schedule,\n",
    "    neuron_resample_window: Optional[int] = None,  # in optimization steps\n",
    "):\n",
    "    \"\"\"Optimizes the autoencoder using the given hyperparameters.\"\"\"\n",
    "    optimizer = torch.optim.Adam(list(self.parameters()), lr=lr)\n",
    "\n",
    "    # Create lists to store data we'll eventually be plotting.\n",
    "    frac_active_list = []  # fraction of non-zero activations for each neuron (feature)\n",
    "    data_log = {\"frac_active\": [], \"W_enc\": [], \"W_dec\": [], \"titles\": [], \"colors\": []}\n",
    "    colors = None\n",
    "    title = \"No resampling\"\n",
    "\n",
    "    # Define valid samples for `spike_counts`.\n",
    "    n_timebins, _n_units = spike_counts.shape\n",
    "    valid_starts = n_timebins - seq_len + 1\n",
    "\n",
    "    progress_bar = tqdm(range(steps))\n",
    "    for step in progress_bar:\n",
    "        # Normalize decoder weights at each step to prevent artificially small / sparse\n",
    "        # features from large decoder weights.\n",
    "        self.normalize_decoder()\n",
    "\n",
    "        # Check for dead neurons, and resample them if found.\n",
    "        if (neuron_resample_window is not None) and ((step + 1) % neuron_resample_window == 0):\n",
    "            frac_active_in_window = torch.stack(frac_active_list[-neuron_resample_window:], dim=0)\n",
    "            colors, title = self.resample_neurons(frac_active_in_window)\n",
    "\n",
    "        # Update learning rate.\n",
    "        step_lr = lr * lr_scale(step, steps)\n",
    "        for group in optimizer.param_groups:\n",
    "            group[\"lr\"] = step_lr\n",
    "\n",
    "        # Get batch of spike counts to feed into SAE.\n",
    "        start_indxs = torch.randint(0, valid_starts, (self.cfg.n_instances, batch_sz))\n",
    "        seq_indxs = start_indxs.unsqueeze(-1) + torch.arange(seq_len)\n",
    "        spike_count_seqs = spike_counts[seq_indxs]  # -> [n_instances batch_sz seq_len n_units]\n",
    "        spike_count_seqs = einops.rearrange(  # format for SAE\n",
    "            spike_count_seqs,\n",
    "            'n_instances batch_sz seq_len n_units -> (batch_sz seq_len) n_instances n_units'\n",
    "        )\n",
    "\n",
    "        # Optimize.\n",
    "        optimizer.zero_grad()\n",
    "        l1_loss, l2_loss, loss, z, _ = self.forward(spike_count_seqs)\n",
    "        loss.backward()\n",
    "        optimizer.step()\n",
    "\n",
    "        # Calculate the sparsities and them to the list.\n",
    "        frac_active = einops.reduce(\n",
    "            (z.abs() > 1e-8).float(),\n",
    "            \"batch_sz n_instances hidden_ae -> n_instances hidden_ae\",\n",
    "            \"mean\",\n",
    "        )\n",
    "        frac_active_list.append(frac_active.detach().cpu())\n",
    "\n",
    "        # Display progress bar, and append new values for plotting.\n",
    "        if step % log_freq == 0 or (step + 1 == steps):\n",
    "            progress_bar.set_postfix(\n",
    "                l1_loss=self.cfg.l1_coeff * l1_loss.mean(0).sum().item(),\n",
    "                l2_loss=l2_loss.mean(0).sum().item(),\n",
    "                lr=step_lr,\n",
    "            )\n",
    "            data_log[\"W_enc\"].append(self.W_enc.detach().cpu())\n",
    "            data_log[\"W_dec\"].append(self.W_dec.detach().cpu())\n",
    "            data_log[\"titles\"].append(f\"Step {step}/{steps}: {title}\")\n",
    "            data_log[\"frac_active\"].append(frac_active.detach().cpu())\n",
    "            data_log[\"colors\"].append(colors)\n",
    "\n",
    "    return data_log\n",
    "\n",
    "# Add method to SAE class.\n",
    "Sae.optimize = optimize"
   ]
  },
  {
   "cell_type": "code",
   "execution_count": 22,
   "metadata": {},
   "outputs": [
    {
     "data": {
      "application/vnd.jupyter.widget-view+json": {
       "model_id": "f75ac5117e1842869770b62044466301",
       "version_major": 2,
       "version_minor": 0
      },
      "text/plain": [
       "  0%|          | 0/50000 [00:00<?, ?it/s]"
      ]
     },
     "metadata": {},
     "output_type": "display_data"
    }
   ],
   "source": [
    "\"\"\"Train the SAE.\"\"\"\n",
    "\n",
    "ae_cfg = SaeConfig(\n",
    "    n_input_ae=counts.shape[1],\n",
    "    n_instances=2,\n",
    "    n_hidden_ae=10_000,\n",
    "    l1_coeff=0.01,\n",
    ")\n",
    "sae = Sae(ae_cfg).to(device)\n",
    "\n",
    "spike_counts = counts.to_dense().bfloat16().to(device)\n",
    "data_log = sae.optimize(spike_counts=spike_counts, steps=50_000, batch_sz=16, lr=0.05)\n",
    "\n",
    "# torch.save(sae.state_dict(), Path(r\"C:\\Users\\jai\\mini\\trained_saes\\sae1.pth\"))"
   ]
  },
  {
   "cell_type": "code",
   "execution_count": 23,
   "metadata": {},
   "outputs": [],
   "source": [
    "torch.save(sae.state_dict(), Path(r\"C:\\Users\\jai\\mini\\trained_saes\\sae0.pth\"))"
   ]
  },
  {
   "cell_type": "markdown",
   "metadata": {},
   "source": [
    "## Interpret the SAE features"
   ]
  },
  {
   "cell_type": "markdown",
   "metadata": {},
   "source": [
    "Try to find SAE features during full-field flash presentations (seems like an initial easy target)"
   ]
  },
  {
   "cell_type": "code",
   "execution_count": 24,
   "metadata": {},
   "outputs": [
    {
     "data": {
      "text/html": [
       "<div>\n",
       "<style scoped>\n",
       "    .dataframe tbody tr th:only-of-type {\n",
       "        vertical-align: middle;\n",
       "    }\n",
       "\n",
       "    .dataframe tbody tr th {\n",
       "        vertical-align: top;\n",
       "    }\n",
       "\n",
       "    .dataframe thead th {\n",
       "        text-align: right;\n",
       "    }\n",
       "</style>\n",
       "<table border=\"1\" class=\"dataframe\">\n",
       "  <thead>\n",
       "    <tr style=\"text-align: right;\">\n",
       "      <th></th>\n",
       "      <th>stimulus_block</th>\n",
       "      <th>start_time</th>\n",
       "      <th>stop_time</th>\n",
       "      <th>x_position</th>\n",
       "      <th>orientation</th>\n",
       "      <th>contrast</th>\n",
       "      <th>y_position</th>\n",
       "      <th>color</th>\n",
       "      <th>phase</th>\n",
       "      <th>stimulus_name</th>\n",
       "      <th>spatial_frequency</th>\n",
       "      <th>size</th>\n",
       "      <th>temporal_frequency</th>\n",
       "      <th>frame</th>\n",
       "      <th>duration</th>\n",
       "      <th>stimulus_condition_id</th>\n",
       "    </tr>\n",
       "    <tr>\n",
       "      <th>stimulus_presentation_id</th>\n",
       "      <th></th>\n",
       "      <th></th>\n",
       "      <th></th>\n",
       "      <th></th>\n",
       "      <th></th>\n",
       "      <th></th>\n",
       "      <th></th>\n",
       "      <th></th>\n",
       "      <th></th>\n",
       "      <th></th>\n",
       "      <th></th>\n",
       "      <th></th>\n",
       "      <th></th>\n",
       "      <th></th>\n",
       "      <th></th>\n",
       "      <th></th>\n",
       "    </tr>\n",
       "  </thead>\n",
       "  <tbody>\n",
       "    <tr>\n",
       "      <th>0</th>\n",
       "      <td>null</td>\n",
       "      <td>21.579074</td>\n",
       "      <td>81.645874</td>\n",
       "      <td>null</td>\n",
       "      <td>null</td>\n",
       "      <td>null</td>\n",
       "      <td>null</td>\n",
       "      <td>null</td>\n",
       "      <td>null</td>\n",
       "      <td>spontaneous</td>\n",
       "      <td>null</td>\n",
       "      <td>null</td>\n",
       "      <td>null</td>\n",
       "      <td>null</td>\n",
       "      <td>60.066800</td>\n",
       "      <td>0</td>\n",
       "    </tr>\n",
       "    <tr>\n",
       "      <th>1</th>\n",
       "      <td>0.0</td>\n",
       "      <td>81.645874</td>\n",
       "      <td>81.879397</td>\n",
       "      <td>-30.0</td>\n",
       "      <td>45.0</td>\n",
       "      <td>0.8</td>\n",
       "      <td>-20.0</td>\n",
       "      <td>null</td>\n",
       "      <td>[3644.93333333, 3644.93333333]</td>\n",
       "      <td>gabors</td>\n",
       "      <td>0.08</td>\n",
       "      <td>[20.0, 20.0]</td>\n",
       "      <td>4.0</td>\n",
       "      <td>null</td>\n",
       "      <td>0.233523</td>\n",
       "      <td>1</td>\n",
       "    </tr>\n",
       "    <tr>\n",
       "      <th>2</th>\n",
       "      <td>0.0</td>\n",
       "      <td>81.879397</td>\n",
       "      <td>82.129600</td>\n",
       "      <td>20.0</td>\n",
       "      <td>90.0</td>\n",
       "      <td>0.8</td>\n",
       "      <td>-10.0</td>\n",
       "      <td>null</td>\n",
       "      <td>[3644.93333333, 3644.93333333]</td>\n",
       "      <td>gabors</td>\n",
       "      <td>0.08</td>\n",
       "      <td>[20.0, 20.0]</td>\n",
       "      <td>4.0</td>\n",
       "      <td>null</td>\n",
       "      <td>0.250203</td>\n",
       "      <td>2</td>\n",
       "    </tr>\n",
       "    <tr>\n",
       "      <th>3</th>\n",
       "      <td>0.0</td>\n",
       "      <td>82.129600</td>\n",
       "      <td>82.379803</td>\n",
       "      <td>40.0</td>\n",
       "      <td>90.0</td>\n",
       "      <td>0.8</td>\n",
       "      <td>30.0</td>\n",
       "      <td>null</td>\n",
       "      <td>[3644.93333333, 3644.93333333]</td>\n",
       "      <td>gabors</td>\n",
       "      <td>0.08</td>\n",
       "      <td>[20.0, 20.0]</td>\n",
       "      <td>4.0</td>\n",
       "      <td>null</td>\n",
       "      <td>0.250203</td>\n",
       "      <td>3</td>\n",
       "    </tr>\n",
       "    <tr>\n",
       "      <th>4</th>\n",
       "      <td>0.0</td>\n",
       "      <td>82.379803</td>\n",
       "      <td>82.630006</td>\n",
       "      <td>40.0</td>\n",
       "      <td>45.0</td>\n",
       "      <td>0.8</td>\n",
       "      <td>-40.0</td>\n",
       "      <td>null</td>\n",
       "      <td>[3644.93333333, 3644.93333333]</td>\n",
       "      <td>gabors</td>\n",
       "      <td>0.08</td>\n",
       "      <td>[20.0, 20.0]</td>\n",
       "      <td>4.0</td>\n",
       "      <td>null</td>\n",
       "      <td>0.250203</td>\n",
       "      <td>4</td>\n",
       "    </tr>\n",
       "    <tr>\n",
       "      <th>...</th>\n",
       "      <td>...</td>\n",
       "      <td>...</td>\n",
       "      <td>...</td>\n",
       "      <td>...</td>\n",
       "      <td>...</td>\n",
       "      <td>...</td>\n",
       "      <td>...</td>\n",
       "      <td>...</td>\n",
       "      <td>...</td>\n",
       "      <td>...</td>\n",
       "      <td>...</td>\n",
       "      <td>...</td>\n",
       "      <td>...</td>\n",
       "      <td>...</td>\n",
       "      <td>...</td>\n",
       "      <td>...</td>\n",
       "    </tr>\n",
       "    <tr>\n",
       "      <th>70383</th>\n",
       "      <td>14.0</td>\n",
       "      <td>9142.164805</td>\n",
       "      <td>9142.415016</td>\n",
       "      <td>null</td>\n",
       "      <td>60.0</td>\n",
       "      <td>0.8</td>\n",
       "      <td>null</td>\n",
       "      <td>null</td>\n",
       "      <td>0.75</td>\n",
       "      <td>static_gratings</td>\n",
       "      <td>0.04</td>\n",
       "      <td>[250.0, 250.0]</td>\n",
       "      <td>null</td>\n",
       "      <td>null</td>\n",
       "      <td>0.250210</td>\n",
       "      <td>4806</td>\n",
       "    </tr>\n",
       "    <tr>\n",
       "      <th>70384</th>\n",
       "      <td>14.0</td>\n",
       "      <td>9142.415016</td>\n",
       "      <td>9142.665223</td>\n",
       "      <td>null</td>\n",
       "      <td>30.0</td>\n",
       "      <td>0.8</td>\n",
       "      <td>null</td>\n",
       "      <td>null</td>\n",
       "      <td>0.0</td>\n",
       "      <td>static_gratings</td>\n",
       "      <td>0.08</td>\n",
       "      <td>[250.0, 250.0]</td>\n",
       "      <td>null</td>\n",
       "      <td>null</td>\n",
       "      <td>0.250207</td>\n",
       "      <td>4857</td>\n",
       "    </tr>\n",
       "    <tr>\n",
       "      <th>70385</th>\n",
       "      <td>14.0</td>\n",
       "      <td>9142.665223</td>\n",
       "      <td>9142.915430</td>\n",
       "      <td>null</td>\n",
       "      <td>60.0</td>\n",
       "      <td>0.8</td>\n",
       "      <td>null</td>\n",
       "      <td>null</td>\n",
       "      <td>0.75</td>\n",
       "      <td>static_gratings</td>\n",
       "      <td>0.32</td>\n",
       "      <td>[250.0, 250.0]</td>\n",
       "      <td>null</td>\n",
       "      <td>null</td>\n",
       "      <td>0.250207</td>\n",
       "      <td>4876</td>\n",
       "    </tr>\n",
       "    <tr>\n",
       "      <th>70386</th>\n",
       "      <td>14.0</td>\n",
       "      <td>9142.915430</td>\n",
       "      <td>9143.165637</td>\n",
       "      <td>null</td>\n",
       "      <td>90.0</td>\n",
       "      <td>0.8</td>\n",
       "      <td>null</td>\n",
       "      <td>null</td>\n",
       "      <td>0.5</td>\n",
       "      <td>static_gratings</td>\n",
       "      <td>0.16</td>\n",
       "      <td>[250.0, 250.0]</td>\n",
       "      <td>null</td>\n",
       "      <td>null</td>\n",
       "      <td>0.250207</td>\n",
       "      <td>4790</td>\n",
       "    </tr>\n",
       "    <tr>\n",
       "      <th>70387</th>\n",
       "      <td>14.0</td>\n",
       "      <td>9143.165637</td>\n",
       "      <td>9143.415844</td>\n",
       "      <td>null</td>\n",
       "      <td>0.0</td>\n",
       "      <td>0.8</td>\n",
       "      <td>null</td>\n",
       "      <td>null</td>\n",
       "      <td>0.5</td>\n",
       "      <td>static_gratings</td>\n",
       "      <td>0.08</td>\n",
       "      <td>[250.0, 250.0]</td>\n",
       "      <td>null</td>\n",
       "      <td>null</td>\n",
       "      <td>0.250207</td>\n",
       "      <td>4905</td>\n",
       "    </tr>\n",
       "  </tbody>\n",
       "</table>\n",
       "<p>70388 rows × 16 columns</p>\n",
       "</div>"
      ],
      "text/plain": [
       "                         stimulus_block   start_time    stop_time x_position  \\\n",
       "stimulus_presentation_id                                                       \n",
       "0                                  null    21.579074    81.645874       null   \n",
       "1                                   0.0    81.645874    81.879397      -30.0   \n",
       "2                                   0.0    81.879397    82.129600       20.0   \n",
       "3                                   0.0    82.129600    82.379803       40.0   \n",
       "4                                   0.0    82.379803    82.630006       40.0   \n",
       "...                                 ...          ...          ...        ...   \n",
       "70383                              14.0  9142.164805  9142.415016       null   \n",
       "70384                              14.0  9142.415016  9142.665223       null   \n",
       "70385                              14.0  9142.665223  9142.915430       null   \n",
       "70386                              14.0  9142.915430  9143.165637       null   \n",
       "70387                              14.0  9143.165637  9143.415844       null   \n",
       "\n",
       "                         orientation contrast y_position color  \\\n",
       "stimulus_presentation_id                                         \n",
       "0                               null     null       null  null   \n",
       "1                               45.0      0.8      -20.0  null   \n",
       "2                               90.0      0.8      -10.0  null   \n",
       "3                               90.0      0.8       30.0  null   \n",
       "4                               45.0      0.8      -40.0  null   \n",
       "...                              ...      ...        ...   ...   \n",
       "70383                           60.0      0.8       null  null   \n",
       "70384                           30.0      0.8       null  null   \n",
       "70385                           60.0      0.8       null  null   \n",
       "70386                           90.0      0.8       null  null   \n",
       "70387                            0.0      0.8       null  null   \n",
       "\n",
       "                                                   phase    stimulus_name  \\\n",
       "stimulus_presentation_id                                                    \n",
       "0                                                   null      spontaneous   \n",
       "1                         [3644.93333333, 3644.93333333]           gabors   \n",
       "2                         [3644.93333333, 3644.93333333]           gabors   \n",
       "3                         [3644.93333333, 3644.93333333]           gabors   \n",
       "4                         [3644.93333333, 3644.93333333]           gabors   \n",
       "...                                                  ...              ...   \n",
       "70383                                               0.75  static_gratings   \n",
       "70384                                                0.0  static_gratings   \n",
       "70385                                               0.75  static_gratings   \n",
       "70386                                                0.5  static_gratings   \n",
       "70387                                                0.5  static_gratings   \n",
       "\n",
       "                         spatial_frequency            size temporal_frequency  \\\n",
       "stimulus_presentation_id                                                        \n",
       "0                                     null            null               null   \n",
       "1                                     0.08    [20.0, 20.0]                4.0   \n",
       "2                                     0.08    [20.0, 20.0]                4.0   \n",
       "3                                     0.08    [20.0, 20.0]                4.0   \n",
       "4                                     0.08    [20.0, 20.0]                4.0   \n",
       "...                                    ...             ...                ...   \n",
       "70383                                 0.04  [250.0, 250.0]               null   \n",
       "70384                                 0.08  [250.0, 250.0]               null   \n",
       "70385                                 0.32  [250.0, 250.0]               null   \n",
       "70386                                 0.16  [250.0, 250.0]               null   \n",
       "70387                                 0.08  [250.0, 250.0]               null   \n",
       "\n",
       "                         frame   duration  stimulus_condition_id  \n",
       "stimulus_presentation_id                                          \n",
       "0                         null  60.066800                      0  \n",
       "1                         null   0.233523                      1  \n",
       "2                         null   0.250203                      2  \n",
       "3                         null   0.250203                      3  \n",
       "4                         null   0.250203                      4  \n",
       "...                        ...        ...                    ...  \n",
       "70383                     null   0.250210                   4806  \n",
       "70384                     null   0.250207                   4857  \n",
       "70385                     null   0.250207                   4876  \n",
       "70386                     null   0.250207                   4790  \n",
       "70387                     null   0.250207                   4905  \n",
       "\n",
       "[70388 rows x 16 columns]"
      ]
     },
     "metadata": {},
     "output_type": "display_data"
    },
    {
     "name": "stdout",
     "output_type": "stream",
     "text": [
      "Visual stimuli types: ['spontaneous' 'gabors' 'flashes' 'drifting_gratings'\n",
      " 'natural_movie_three' 'natural_movie_one' 'static_gratings'\n",
      " 'natural_scenes']\n",
      "n_nat_imgs=119\n"
     ]
    }
   ],
   "source": [
    "\"\"\"View visual stim metadata.\"\"\"\n",
    "\n",
    "session_stim_data = session_data.get_stimulus_table()\n",
    "\n",
    "display(session_stim_data)\n",
    "print(f\"Visual stimuli types: {session_stim_data['stimulus_name'].unique()}\")\n",
    "n_nat_imgs = len(\n",
    "    session_stim_data[session_stim_data[\"stimulus_name\"] == \"natural_scenes\"]\n",
    "    [\"stimulus_condition_id\"].unique()\n",
    ")\n",
    "print(f\"{n_nat_imgs=}\")"
   ]
  },
  {
   "cell_type": "code",
   "execution_count": 25,
   "metadata": {},
   "outputs": [
    {
     "data": {
      "text/html": [
       "<div>\n",
       "<style scoped>\n",
       "    .dataframe tbody tr th:only-of-type {\n",
       "        vertical-align: middle;\n",
       "    }\n",
       "\n",
       "    .dataframe tbody tr th {\n",
       "        vertical-align: top;\n",
       "    }\n",
       "\n",
       "    .dataframe thead th {\n",
       "        text-align: right;\n",
       "    }\n",
       "</style>\n",
       "<table border=\"1\" class=\"dataframe\">\n",
       "  <thead>\n",
       "    <tr style=\"text-align: right;\">\n",
       "      <th></th>\n",
       "      <th>stimulus_block</th>\n",
       "      <th>start_time</th>\n",
       "      <th>stop_time</th>\n",
       "      <th>x_position</th>\n",
       "      <th>orientation</th>\n",
       "      <th>contrast</th>\n",
       "      <th>y_position</th>\n",
       "      <th>color</th>\n",
       "      <th>phase</th>\n",
       "      <th>stimulus_name</th>\n",
       "      <th>spatial_frequency</th>\n",
       "      <th>size</th>\n",
       "      <th>temporal_frequency</th>\n",
       "      <th>frame</th>\n",
       "      <th>duration</th>\n",
       "      <th>stimulus_condition_id</th>\n",
       "    </tr>\n",
       "    <tr>\n",
       "      <th>stimulus_presentation_id</th>\n",
       "      <th></th>\n",
       "      <th></th>\n",
       "      <th></th>\n",
       "      <th></th>\n",
       "      <th></th>\n",
       "      <th></th>\n",
       "      <th></th>\n",
       "      <th></th>\n",
       "      <th></th>\n",
       "      <th></th>\n",
       "      <th></th>\n",
       "      <th></th>\n",
       "      <th></th>\n",
       "      <th></th>\n",
       "      <th></th>\n",
       "      <th></th>\n",
       "    </tr>\n",
       "  </thead>\n",
       "  <tbody>\n",
       "    <tr>\n",
       "      <th>3793</th>\n",
       "      <td>1.0</td>\n",
       "      <td>1574.876904</td>\n",
       "      <td>1575.127112</td>\n",
       "      <td>null</td>\n",
       "      <td>0.0</td>\n",
       "      <td>0.8</td>\n",
       "      <td>null</td>\n",
       "      <td>-1.0</td>\n",
       "      <td>[0.0, 0.0]</td>\n",
       "      <td>flashes</td>\n",
       "      <td>[0.0, 0.0]</td>\n",
       "      <td>[300.0, 300.0]</td>\n",
       "      <td>null</td>\n",
       "      <td>null</td>\n",
       "      <td>0.250208</td>\n",
       "      <td>244</td>\n",
       "    </tr>\n",
       "    <tr>\n",
       "      <th>3794</th>\n",
       "      <td>1.0</td>\n",
       "      <td>1576.878604</td>\n",
       "      <td>1577.128807</td>\n",
       "      <td>null</td>\n",
       "      <td>0.0</td>\n",
       "      <td>0.8</td>\n",
       "      <td>null</td>\n",
       "      <td>1.0</td>\n",
       "      <td>[0.0, 0.0]</td>\n",
       "      <td>flashes</td>\n",
       "      <td>[0.0, 0.0]</td>\n",
       "      <td>[300.0, 300.0]</td>\n",
       "      <td>null</td>\n",
       "      <td>null</td>\n",
       "      <td>0.250203</td>\n",
       "      <td>245</td>\n",
       "    </tr>\n",
       "    <tr>\n",
       "      <th>3795</th>\n",
       "      <td>1.0</td>\n",
       "      <td>1578.880274</td>\n",
       "      <td>1579.130475</td>\n",
       "      <td>null</td>\n",
       "      <td>0.0</td>\n",
       "      <td>0.8</td>\n",
       "      <td>null</td>\n",
       "      <td>1.0</td>\n",
       "      <td>[0.0, 0.0]</td>\n",
       "      <td>flashes</td>\n",
       "      <td>[0.0, 0.0]</td>\n",
       "      <td>[300.0, 300.0]</td>\n",
       "      <td>null</td>\n",
       "      <td>null</td>\n",
       "      <td>0.250200</td>\n",
       "      <td>245</td>\n",
       "    </tr>\n",
       "    <tr>\n",
       "      <th>3796</th>\n",
       "      <td>1.0</td>\n",
       "      <td>1580.881944</td>\n",
       "      <td>1581.132147</td>\n",
       "      <td>null</td>\n",
       "      <td>0.0</td>\n",
       "      <td>0.8</td>\n",
       "      <td>null</td>\n",
       "      <td>-1.0</td>\n",
       "      <td>[0.0, 0.0]</td>\n",
       "      <td>flashes</td>\n",
       "      <td>[0.0, 0.0]</td>\n",
       "      <td>[300.0, 300.0]</td>\n",
       "      <td>null</td>\n",
       "      <td>null</td>\n",
       "      <td>0.250203</td>\n",
       "      <td>244</td>\n",
       "    </tr>\n",
       "  </tbody>\n",
       "</table>\n",
       "</div>"
      ],
      "text/plain": [
       "                         stimulus_block   start_time    stop_time x_position  \\\n",
       "stimulus_presentation_id                                                       \n",
       "3793                                1.0  1574.876904  1575.127112       null   \n",
       "3794                                1.0  1576.878604  1577.128807       null   \n",
       "3795                                1.0  1578.880274  1579.130475       null   \n",
       "3796                                1.0  1580.881944  1581.132147       null   \n",
       "\n",
       "                         orientation contrast y_position color       phase  \\\n",
       "stimulus_presentation_id                                                     \n",
       "3793                             0.0      0.8       null  -1.0  [0.0, 0.0]   \n",
       "3794                             0.0      0.8       null   1.0  [0.0, 0.0]   \n",
       "3795                             0.0      0.8       null   1.0  [0.0, 0.0]   \n",
       "3796                             0.0      0.8       null  -1.0  [0.0, 0.0]   \n",
       "\n",
       "                         stimulus_name spatial_frequency            size  \\\n",
       "stimulus_presentation_id                                                   \n",
       "3793                           flashes        [0.0, 0.0]  [300.0, 300.0]   \n",
       "3794                           flashes        [0.0, 0.0]  [300.0, 300.0]   \n",
       "3795                           flashes        [0.0, 0.0]  [300.0, 300.0]   \n",
       "3796                           flashes        [0.0, 0.0]  [300.0, 300.0]   \n",
       "\n",
       "                         temporal_frequency frame  duration  \\\n",
       "stimulus_presentation_id                                      \n",
       "3793                                   null  null  0.250208   \n",
       "3794                                   null  null  0.250203   \n",
       "3795                                   null  null  0.250200   \n",
       "3796                                   null  null  0.250203   \n",
       "\n",
       "                          stimulus_condition_id  \n",
       "stimulus_presentation_id                         \n",
       "3793                                        244  \n",
       "3794                                        245  \n",
       "3795                                        245  \n",
       "3796                                        244  "
      ]
     },
     "metadata": {},
     "output_type": "display_data"
    },
    {
     "data": {
      "text/html": [
       "<div>\n",
       "<style scoped>\n",
       "    .dataframe tbody tr th:only-of-type {\n",
       "        vertical-align: middle;\n",
       "    }\n",
       "\n",
       "    .dataframe tbody tr th {\n",
       "        vertical-align: top;\n",
       "    }\n",
       "\n",
       "    .dataframe thead th {\n",
       "        text-align: right;\n",
       "    }\n",
       "</style>\n",
       "<table border=\"1\" class=\"dataframe\">\n",
       "  <thead>\n",
       "    <tr style=\"text-align: right;\">\n",
       "      <th></th>\n",
       "      <th>915960921</th>\n",
       "      <th>915960683</th>\n",
       "      <th>915960678</th>\n",
       "      <th>915960674</th>\n",
       "      <th>915960812</th>\n",
       "      <th>915960810</th>\n",
       "      <th>915960586</th>\n",
       "      <th>915960835</th>\n",
       "      <th>915960832</th>\n",
       "      <th>915960825</th>\n",
       "      <th>...</th>\n",
       "      <th>915960615</th>\n",
       "      <th>915960297</th>\n",
       "      <th>915960294</th>\n",
       "      <th>915960290</th>\n",
       "      <th>915960287</th>\n",
       "      <th>915960283</th>\n",
       "      <th>915960275</th>\n",
       "      <th>915960262</th>\n",
       "      <th>915960382</th>\n",
       "      <th>915960947</th>\n",
       "    </tr>\n",
       "  </thead>\n",
       "  <tbody>\n",
       "    <tr>\n",
       "      <th>1576.9</th>\n",
       "      <td>0</td>\n",
       "      <td>0</td>\n",
       "      <td>1</td>\n",
       "      <td>0</td>\n",
       "      <td>0</td>\n",
       "      <td>0</td>\n",
       "      <td>1</td>\n",
       "      <td>1</td>\n",
       "      <td>0</td>\n",
       "      <td>0</td>\n",
       "      <td>...</td>\n",
       "      <td>1</td>\n",
       "      <td>0</td>\n",
       "      <td>1</td>\n",
       "      <td>0</td>\n",
       "      <td>0</td>\n",
       "      <td>0</td>\n",
       "      <td>0</td>\n",
       "      <td>0</td>\n",
       "      <td>0</td>\n",
       "      <td>0</td>\n",
       "    </tr>\n",
       "    <tr>\n",
       "      <th>1577.0</th>\n",
       "      <td>0</td>\n",
       "      <td>0</td>\n",
       "      <td>0</td>\n",
       "      <td>0</td>\n",
       "      <td>0</td>\n",
       "      <td>0</td>\n",
       "      <td>0</td>\n",
       "      <td>0</td>\n",
       "      <td>0</td>\n",
       "      <td>0</td>\n",
       "      <td>...</td>\n",
       "      <td>0</td>\n",
       "      <td>0</td>\n",
       "      <td>2</td>\n",
       "      <td>0</td>\n",
       "      <td>0</td>\n",
       "      <td>0</td>\n",
       "      <td>0</td>\n",
       "      <td>0</td>\n",
       "      <td>0</td>\n",
       "      <td>0</td>\n",
       "    </tr>\n",
       "    <tr>\n",
       "      <th>1577.1</th>\n",
       "      <td>0</td>\n",
       "      <td>0</td>\n",
       "      <td>0</td>\n",
       "      <td>0</td>\n",
       "      <td>0</td>\n",
       "      <td>0</td>\n",
       "      <td>5</td>\n",
       "      <td>0</td>\n",
       "      <td>0</td>\n",
       "      <td>0</td>\n",
       "      <td>...</td>\n",
       "      <td>2</td>\n",
       "      <td>1</td>\n",
       "      <td>2</td>\n",
       "      <td>0</td>\n",
       "      <td>0</td>\n",
       "      <td>0</td>\n",
       "      <td>0</td>\n",
       "      <td>1</td>\n",
       "      <td>0</td>\n",
       "      <td>0</td>\n",
       "    </tr>\n",
       "    <tr>\n",
       "      <th>1578.9</th>\n",
       "      <td>0</td>\n",
       "      <td>0</td>\n",
       "      <td>0</td>\n",
       "      <td>0</td>\n",
       "      <td>0</td>\n",
       "      <td>0</td>\n",
       "      <td>3</td>\n",
       "      <td>0</td>\n",
       "      <td>0</td>\n",
       "      <td>0</td>\n",
       "      <td>...</td>\n",
       "      <td>3</td>\n",
       "      <td>0</td>\n",
       "      <td>4</td>\n",
       "      <td>0</td>\n",
       "      <td>0</td>\n",
       "      <td>0</td>\n",
       "      <td>1</td>\n",
       "      <td>0</td>\n",
       "      <td>0</td>\n",
       "      <td>0</td>\n",
       "    </tr>\n",
       "    <tr>\n",
       "      <th>1579.0</th>\n",
       "      <td>0</td>\n",
       "      <td>0</td>\n",
       "      <td>0</td>\n",
       "      <td>0</td>\n",
       "      <td>0</td>\n",
       "      <td>0</td>\n",
       "      <td>1</td>\n",
       "      <td>0</td>\n",
       "      <td>0</td>\n",
       "      <td>0</td>\n",
       "      <td>...</td>\n",
       "      <td>0</td>\n",
       "      <td>0</td>\n",
       "      <td>1</td>\n",
       "      <td>0</td>\n",
       "      <td>0</td>\n",
       "      <td>1</td>\n",
       "      <td>1</td>\n",
       "      <td>0</td>\n",
       "      <td>0</td>\n",
       "      <td>0</td>\n",
       "    </tr>\n",
       "    <tr>\n",
       "      <th>1579.1</th>\n",
       "      <td>0</td>\n",
       "      <td>1</td>\n",
       "      <td>0</td>\n",
       "      <td>0</td>\n",
       "      <td>0</td>\n",
       "      <td>1</td>\n",
       "      <td>2</td>\n",
       "      <td>0</td>\n",
       "      <td>0</td>\n",
       "      <td>0</td>\n",
       "      <td>...</td>\n",
       "      <td>2</td>\n",
       "      <td>0</td>\n",
       "      <td>0</td>\n",
       "      <td>0</td>\n",
       "      <td>0</td>\n",
       "      <td>1</td>\n",
       "      <td>0</td>\n",
       "      <td>1</td>\n",
       "      <td>0</td>\n",
       "      <td>0</td>\n",
       "    </tr>\n",
       "  </tbody>\n",
       "</table>\n",
       "<p>6 rows × 110 columns</p>\n",
       "</div>"
      ],
      "text/plain": [
       "        915960921  915960683  915960678  915960674  915960812  915960810  \\\n",
       "1576.9          0          0          1          0          0          0   \n",
       "1577.0          0          0          0          0          0          0   \n",
       "1577.1          0          0          0          0          0          0   \n",
       "1578.9          0          0          0          0          0          0   \n",
       "1579.0          0          0          0          0          0          0   \n",
       "1579.1          0          1          0          0          0          1   \n",
       "\n",
       "        915960586  915960835  915960832  915960825  ...  915960615  915960297  \\\n",
       "1576.9          1          1          0          0  ...          1          0   \n",
       "1577.0          0          0          0          0  ...          0          0   \n",
       "1577.1          5          0          0          0  ...          2          1   \n",
       "1578.9          3          0          0          0  ...          3          0   \n",
       "1579.0          1          0          0          0  ...          0          0   \n",
       "1579.1          2          0          0          0  ...          2          0   \n",
       "\n",
       "        915960294  915960290  915960287  915960283  915960275  915960262  \\\n",
       "1576.9          1          0          0          0          0          0   \n",
       "1577.0          2          0          0          0          0          0   \n",
       "1577.1          2          0          0          0          0          1   \n",
       "1578.9          4          0          0          0          1          0   \n",
       "1579.0          1          0          0          1          1          0   \n",
       "1579.1          0          0          0          1          0          1   \n",
       "\n",
       "        915960382  915960947  \n",
       "1576.9          0          0  \n",
       "1577.0          0          0  \n",
       "1577.1          0          0  \n",
       "1578.9          0          0  \n",
       "1579.0          0          0  \n",
       "1579.1          0          0  \n",
       "\n",
       "[6 rows x 110 columns]"
      ]
     },
     "metadata": {},
     "output_type": "display_data"
    }
   ],
   "source": [
    "\"\"\"Get the final few flash presentations and spike counts at these times.\"\"\"\n",
    "\n",
    "round_to = 1  # decimal places to round to (for start time of spike count bin)\n",
    "\n",
    "flashes = session_stim_data[session_stim_data[\"stimulus_name\"] == \"flashes\"].iloc[-4:]\n",
    "display(flashes)\n",
    "\n",
    "flash_times_dark = []\n",
    "flash_times_light = []\n",
    "for _, row in flashes.iterrows():  # get all time bins for each flash\n",
    "    cur_stim_times = np.unique(np.arange(row[\"start_time\"], row[\"stop_time\"], win).round(round_to))\n",
    "    if row[\"color\"] < 0:\n",
    "        flash_times_dark.extend(cur_stim_times)\n",
    "    else:\n",
    "        flash_times_light.extend(cur_stim_times)\n",
    "\n",
    "counts_df.index = np.round(counts_df.index, round_to)\n",
    "counts_flash_df = counts_df.loc[flash_times_light]\n",
    "display(counts_flash_df)"
   ]
  },
  {
   "cell_type": "code",
   "execution_count": 26,
   "metadata": {},
   "outputs": [
    {
     "name": "stdout",
     "output_type": "stream",
     "text": [
      "flash timebin 1:\n",
      "  max feat act: 21.25\n",
      "  max recon spk ct: 20.25\n",
      "  max actual spk ct: 22.0\n",
      "\n",
      "flash timebin 2:\n",
      "  max feat act: 0.54296875\n",
      "  max recon spk ct: 0.859375\n",
      "  max actual spk ct: 2.0\n",
      "\n",
      "flash timebin 3:\n",
      "  max feat act: 14.6875\n",
      "  max recon spk ct: 14.9375\n",
      "  max actual spk ct: 16.0\n",
      "\n",
      "flash timebin 4:\n",
      "  max feat act: 14.5625\n",
      "  max recon spk ct: 14.3125\n",
      "  max actual spk ct: 15.0\n",
      "\n",
      "flash timebin 5:\n",
      "  max feat act: 5.34375\n",
      "  max recon spk ct: 6.3125\n",
      "  max actual spk ct: 7.0\n",
      "\n",
      "flash timebin 6:\n",
      "  max feat act: 13.625\n",
      "  max recon spk ct: 14.875\n",
      "  max actual spk ct: 16.0\n",
      "\n"
     ]
    },
    {
     "data": {
      "text/plain": [
       "[tensor([7183, 1617, 9058, 9673,  442], device='cuda:0'),\n",
       " tensor([5323, 5379,    2,    1,    0], device='cuda:0'),\n",
       " tensor([7183,  442, 5767, 9058, 1617], device='cuda:0'),\n",
       " tensor([7183, 1617, 5767, 9058, 2593], device='cuda:0'),\n",
       " tensor([7183, 5767, 7120, 9673, 2593], device='cuda:0'),\n",
       " tensor([7183,  442, 9058, 4162, 1617], device='cuda:0')]"
      ]
     },
     "metadata": {},
     "output_type": "display_data"
    }
   ],
   "source": [
    "\"\"\"Get topk SAE features for each flash.\"\"\"\n",
    "\n",
    "k = 5\n",
    "topk_feat_indxs_all = []\n",
    "topk_feat_vals_all = []\n",
    "\n",
    "# For each flash timebin, get corresponding spike count sequences and run through SAE.\n",
    "for i, (_, row) in enumerate(counts_flash_df.iterrows()):\n",
    "    spike_count_seqs = einops.repeat(\n",
    "        torch.from_numpy(row.values).bfloat16().to(device),\n",
    "        \"n_units -> batch_sz n_instances n_units\",\n",
    "        batch_sz=1,\n",
    "        n_instances=2,\n",
    "    )\n",
    "    _l1_loss, _l2_loss, _loss, feat_acts, recon_spk_cts = sae.forward(spike_count_seqs)\n",
    "    # Quick sanity check that we get a strongly activated SAE feature,\n",
    "    # and that spike count reconstructions are decent.\n",
    "    print(f\"flash timebin {i+1}:\")\n",
    "    print(f\"  max feat act: {torch.max(feat_acts).item()}\")\n",
    "    print(f\"  max recon spk ct: {torch.max(recon_spk_cts).item()}\")\n",
    "    print(f\"  max actual spk ct: {spike_count_seqs.max().item()}\\n\")\n",
    "    topk_feat_vals, topk_feat_idxs = feat_acts[0, 0, :].topk(k)\n",
    "    topk_feat_vals_all.append(topk_feat_vals)\n",
    "    topk_feat_indxs_all.append(topk_feat_idxs)\n",
    "\n",
    "# See topk features for each flash.\n",
    "display(topk_feat_indxs_all)"
   ]
  },
  {
   "cell_type": "markdown",
   "metadata": {},
   "source": [
    "Found some characteristic SAE features?! =D \n",
    "\n",
    "Looks like features 7183, 1617, 5767, 9058 might fire for full-field flashes!"
   ]
  },
  {
   "cell_type": "markdown",
   "metadata": {},
   "source": [
    "## Validate SAEs"
   ]
  },
  {
   "cell_type": "code",
   "execution_count": 27,
   "metadata": {},
   "outputs": [
    {
     "data": {
      "application/vnd.plotly.v1+json": {
       "config": {
        "plotlyServerURL": "https://plot.ly"
       },
       "data": [
        {
         "mode": "markers",
         "name": "flash 0",
         "type": "scatter",
         "x": [
          0,
          0,
          1,
          0,
          0,
          0,
          1,
          1,
          0,
          0,
          6,
          4,
          0,
          0,
          1,
          2,
          1,
          1,
          2,
          3,
          0,
          0,
          0,
          0,
          0,
          0,
          0,
          1,
          0,
          0,
          0,
          1,
          0,
          1,
          0,
          0,
          0,
          0,
          0,
          0,
          1,
          0,
          1,
          1,
          0,
          0,
          0,
          0,
          0,
          0,
          0,
          0,
          0,
          1,
          1,
          0,
          1,
          0,
          1,
          1,
          0,
          1,
          0,
          0,
          1,
          5,
          3,
          0,
          0,
          0,
          0,
          0,
          0,
          1,
          0,
          0,
          3,
          0,
          0,
          22,
          0,
          1,
          0,
          0,
          1,
          1,
          0,
          0,
          0,
          0,
          0,
          0,
          0,
          0,
          0,
          4,
          0,
          0,
          0,
          2,
          1,
          0,
          1,
          0,
          0,
          0,
          0,
          0,
          0,
          0
         ],
         "y": [
          0.06298828125,
          0.04296875,
          0.546875,
          0.5390625,
          0.111328125,
          -0.26953125,
          1.921875,
          1.1796875,
          -0.1767578125,
          0.02685546875,
          6.84375,
          2.3125,
          0.00390625,
          -0.0888671875,
          2,
          1.2734375,
          -0.107421875,
          -0.2265625,
          1.28125,
          3.390625,
          0.1689453125,
          1.5625,
          0.038330078125,
          0.71875,
          0.51953125,
          -0.23828125,
          0.58984375,
          0.44921875,
          0.036865234375,
          0.146484375,
          2.375,
          3.609375,
          0.78515625,
          1.890625,
          -0.318359375,
          -0.0146484375,
          0.21484375,
          0.41796875,
          -0.33203125,
          0.1611328125,
          0.20703125,
          0.2734375,
          0.103515625,
          0.7578125,
          -0.09765625,
          -0.138671875,
          0.47265625,
          -0.1826171875,
          0.1513671875,
          -0.3359375,
          -0.2421875,
          0.2138671875,
          -0.0458984375,
          0.5390625,
          0.5,
          0.67578125,
          1.90625,
          0.099609375,
          0.8359375,
          -0.451171875,
          1.0234375,
          0.609375,
          0.0830078125,
          0.1845703125,
          0.42578125,
          2.5625,
          3.671875,
          -0.400390625,
          -0.03662109375,
          0.53515625,
          0.89453125,
          0.8515625,
          0.0947265625,
          1.0234375,
          0.263671875,
          -0.158203125,
          2.53125,
          0.0213623046875,
          0.232421875,
          20.25,
          0.1806640625,
          1.0859375,
          -0.03125,
          -0.1953125,
          0.390625,
          0.451171875,
          0.326171875,
          0.125,
          0.0966796875,
          0.2138671875,
          0.12890625,
          0.181640625,
          0.35546875,
          0.28515625,
          0.3984375,
          4.03125,
          -0.189453125,
          0.703125,
          0.058837890625,
          1.3671875,
          1.53125,
          0.462890625,
          2,
          0.00390625,
          0.41015625,
          0.30859375,
          -0.01953125,
          0.62890625,
          -0.435546875,
          -0.203125
         ]
        },
        {
         "mode": "markers",
         "name": "flash 1",
         "type": "scatter",
         "x": [
          0,
          0,
          0,
          0,
          0,
          0,
          0,
          0,
          0,
          0,
          0,
          0,
          0,
          0,
          0,
          0,
          0,
          0,
          1,
          0,
          0,
          0,
          0,
          0,
          0,
          0,
          0,
          0,
          0,
          0,
          0,
          0,
          0,
          1,
          0,
          0,
          0,
          0,
          0,
          0,
          0,
          0,
          0,
          0,
          0,
          0,
          0,
          0,
          0,
          0,
          0,
          0,
          0,
          0,
          0,
          0,
          0,
          0,
          0,
          0,
          0,
          0,
          0,
          0,
          0,
          0,
          0,
          0,
          0,
          0,
          1,
          0,
          0,
          0,
          0,
          0,
          0,
          0,
          0,
          0,
          0,
          0,
          0,
          0,
          0,
          0,
          0,
          0,
          0,
          0,
          0,
          0,
          0,
          0,
          0,
          0,
          0,
          0,
          0,
          0,
          0,
          0,
          2,
          0,
          0,
          0,
          0,
          0,
          0,
          0
         ],
         "y": [
          0.0137939453125,
          0.2734375,
          0.255859375,
          0.047607421875,
          0.00860595703125,
          0.035400390625,
          0.498046875,
          0.2099609375,
          -0.150390625,
          -0.003265380859375,
          0.494140625,
          0.2451171875,
          0.322265625,
          0.12109375,
          0.251953125,
          0.306640625,
          0.232421875,
          0.162109375,
          0.455078125,
          0.27734375,
          0.0177001953125,
          0.298828125,
          0.0286865234375,
          0.412109375,
          0.28515625,
          0.042724609375,
          -0.00006103515625,
          0.482421875,
          0.06103515625,
          -0.01416015625,
          0.234375,
          0.27734375,
          0.076171875,
          0.3515625,
          -0.0137939453125,
          -0.216796875,
          0.185546875,
          0.390625,
          0.010498046875,
          0.00909423828125,
          0.27734375,
          -0.016357421875,
          0.244140625,
          0.330078125,
          0.255859375,
          -0.0140380859375,
          0.06396484375,
          0.0120849609375,
          -0.18359375,
          -0.00091552734375,
          0.0242919921875,
          -0.0054931640625,
          0.009521484375,
          0.357421875,
          0.240234375,
          -0.00469970703125,
          0.119140625,
          -0.00604248046875,
          0.267578125,
          0.18359375,
          0.224609375,
          -0.012451171875,
          -0.015869140625,
          0.0106201171875,
          0.26953125,
          -0.0341796875,
          0.23828125,
          0.14453125,
          -0.0284423828125,
          0.228515625,
          0.369140625,
          0.1767578125,
          0.25390625,
          0.263671875,
          0.1953125,
          -0.1943359375,
          0.279296875,
          0.00909423828125,
          0.154296875,
          0.5078125,
          -0.1328125,
          -0.007476806640625,
          0.040283203125,
          0.04638671875,
          0.0810546875,
          -0.00201416015625,
          0.03466796875,
          0.00067138671875,
          0.10205078125,
          0.03564453125,
          -0.0302734375,
          0.25390625,
          0.027099609375,
          0.072265625,
          0.12890625,
          0.375,
          0.14453125,
          0.06982421875,
          0.09814453125,
          0.26171875,
          0.255859375,
          0.25,
          0.53125,
          0.31640625,
          0.267578125,
          0.2431640625,
          0.50390625,
          0.22265625,
          0.10693359375,
          0.06689453125
         ]
        },
        {
         "mode": "markers",
         "name": "flash 2",
         "type": "scatter",
         "x": [
          0,
          0,
          0,
          0,
          0,
          0,
          5,
          0,
          0,
          0,
          9,
          1,
          0,
          0,
          2,
          2,
          0,
          0,
          1,
          10,
          0,
          0,
          0,
          3,
          2,
          0,
          0,
          0,
          0,
          0,
          2,
          1,
          0,
          0,
          0,
          0,
          1,
          1,
          0,
          0,
          0,
          0,
          0,
          2,
          2,
          0,
          0,
          0,
          0,
          0,
          0,
          0,
          0,
          0,
          0,
          0,
          0,
          0,
          2,
          0,
          2,
          0,
          0,
          0,
          1,
          1,
          3,
          0,
          0,
          0,
          5,
          0,
          1,
          1,
          0,
          0,
          3,
          0,
          0,
          16,
          0,
          1,
          0,
          0,
          0,
          0,
          0,
          0,
          0,
          0,
          0,
          1,
          0,
          0,
          0,
          4,
          0,
          0,
          0,
          1,
          2,
          1,
          2,
          0,
          0,
          0,
          0,
          1,
          0,
          0
         ],
         "y": [
          0.2001953125,
          0.8125,
          0.50390625,
          0.291015625,
          -0.15234375,
          -0.04638671875,
          2.9375,
          0.59375,
          -0.208984375,
          0.046142578125,
          9.875,
          1.2734375,
          -0.2734375,
          -0.0244140625,
          1.5625,
          1.765625,
          -0.0126953125,
          0.1328125,
          1.7578125,
          10.625,
          0.08740234375,
          1.25,
          0.31640625,
          1.328125,
          1.96875,
          0.002685546875,
          0.384765625,
          0.40234375,
          -0.07421875,
          0.169921875,
          2.1875,
          2.453125,
          0.5546875,
          0.515625,
          -0.1640625,
          0.1533203125,
          0.265625,
          0.58984375,
          -0.1962890625,
          0.228515625,
          0.49609375,
          0.41015625,
          0.15234375,
          1.234375,
          0.53515625,
          -0.03076171875,
          0.34375,
          -0.12890625,
          0.1689453125,
          -0.3203125,
          -0.2578125,
          0.2578125,
          0.0810546875,
          0.0859375,
          1.0234375,
          0.423828125,
          1.171875,
          0.10595703125,
          1.328125,
          -0.314453125,
          0.94140625,
          0.58203125,
          -0.01373291015625,
          0.2578125,
          0.81640625,
          1.140625,
          2.125,
          -0.435546875,
          0.03271484375,
          0.474609375,
          0.625,
          1.3046875,
          0.5390625,
          1.1796875,
          0.07421875,
          0.0224609375,
          3.515625,
          -0.05126953125,
          -0.328125,
          14.6875,
          0.1552734375,
          1.34375,
          -0.07861328125,
          0.036865234375,
          0.2236328125,
          0.251953125,
          0.059814453125,
          0.1728515625,
          0.125,
          0.1865234375,
          0.2373046875,
          0.41015625,
          0.259765625,
          0.08447265625,
          0.2890625,
          4.3125,
          -0.095703125,
          0.61328125,
          -0.1376953125,
          1.3359375,
          2.03125,
          0.255859375,
          2.796875,
          -0.16796875,
          0.2001953125,
          0.287109375,
          0.93359375,
          0.69140625,
          -0.431640625,
          -0.0986328125
         ]
        },
        {
         "mode": "markers",
         "name": "flash 3",
         "type": "scatter",
         "x": [
          0,
          0,
          0,
          0,
          0,
          0,
          3,
          0,
          0,
          0,
          7,
          2,
          0,
          0,
          1,
          2,
          0,
          0,
          1,
          3,
          0,
          1,
          1,
          0,
          0,
          0,
          0,
          0,
          0,
          0,
          4,
          1,
          0,
          1,
          0,
          0,
          0,
          0,
          0,
          0,
          0,
          0,
          2,
          2,
          0,
          0,
          0,
          0,
          0,
          0,
          0,
          0,
          0,
          0,
          1,
          0,
          1,
          0,
          1,
          0,
          0,
          0,
          0,
          0,
          1,
          7,
          3,
          0,
          0,
          0,
          0,
          0,
          0,
          1,
          0,
          0,
          4,
          0,
          0,
          15,
          0,
          1,
          1,
          0,
          0,
          2,
          1,
          1,
          0,
          0,
          0,
          0,
          1,
          1,
          0,
          3,
          0,
          0,
          0,
          1,
          3,
          0,
          4,
          0,
          0,
          0,
          1,
          0,
          0,
          0
         ],
         "y": [
          -0.06396484375,
          0.111328125,
          0.5390625,
          0.34765625,
          0.0693359375,
          -0.0458984375,
          1.9921875,
          0.765625,
          -0.111328125,
          0.0732421875,
          7.4375,
          1.2734375,
          0.1005859375,
          -0.064453125,
          1.84375,
          1.21875,
          -0.0234375,
          -0.0537109375,
          1.390625,
          3.078125,
          0.11328125,
          1.3515625,
          0.158203125,
          0.71484375,
          0.78125,
          -0.12109375,
          0.47265625,
          0.3046875,
          0.04345703125,
          0.138671875,
          2.78125,
          2.375,
          0.55078125,
          0.7265625,
          -0.197265625,
          -0.0078125,
          0.24609375,
          0.3203125,
          -0.267578125,
          0.103515625,
          0.41015625,
          0.302734375,
          0.15625,
          0.84375,
          0.333984375,
          -0.2060546875,
          0.51953125,
          -0.05712890625,
          0.1201171875,
          -0.265625,
          -0.1513671875,
          0.134765625,
          -0.043212890625,
          0.40625,
          0.5625,
          0.5390625,
          1.421875,
          0.0869140625,
          0.43359375,
          -0.29296875,
          1.109375,
          0.404296875,
          0.06201171875,
          0.150390625,
          0.921875,
          2.21875,
          3.875,
          -0.328125,
          -0.068359375,
          0.71875,
          0.69921875,
          0.98046875,
          0.263671875,
          1.3828125,
          0.04296875,
          -0.0791015625,
          2.265625,
          -0.0235595703125,
          0.0224609375,
          13.6875,
          0.25390625,
          0.9609375,
          0.004150390625,
          -0.146484375,
          0.33984375,
          0.298828125,
          0.2412109375,
          0.181640625,
          0.055908203125,
          0.142578125,
          0.1279296875,
          0.259765625,
          0.228515625,
          0.22265625,
          0.34765625,
          3.421875,
          -0.134765625,
          0.55859375,
          0.000030517578125,
          1.28125,
          1.40625,
          0.5234375,
          2.140625,
          -0.0390625,
          0.427734375,
          0.41796875,
          0.48046875,
          0.59375,
          -0.2734375,
          -0.1181640625
         ]
        },
        {
         "mode": "markers",
         "name": "flash 4",
         "type": "scatter",
         "x": [
          0,
          0,
          0,
          0,
          0,
          0,
          1,
          0,
          0,
          0,
          7,
          1,
          0,
          0,
          0,
          1,
          0,
          0,
          0,
          0,
          0,
          0,
          0,
          0,
          0,
          0,
          0,
          1,
          0,
          0,
          1,
          3,
          0,
          0,
          0,
          0,
          0,
          0,
          0,
          0,
          0,
          0,
          0,
          0,
          0,
          0,
          0,
          0,
          0,
          0,
          0,
          0,
          0,
          0,
          0,
          0,
          0,
          0,
          0,
          0,
          0,
          0,
          0,
          0,
          0,
          0,
          1,
          0,
          0,
          0,
          2,
          0,
          0,
          0,
          0,
          0,
          1,
          0,
          0,
          6,
          0,
          0,
          0,
          0,
          0,
          0,
          0,
          0,
          0,
          0,
          0,
          0,
          0,
          0,
          0,
          0,
          0,
          0,
          0,
          0,
          0,
          0,
          1,
          0,
          0,
          1,
          1,
          0,
          0,
          0
         ],
         "y": [
          0.01904296875,
          0.1806640625,
          0.2119140625,
          0.1044921875,
          0.022216796875,
          0.2138671875,
          0.94921875,
          0.36328125,
          -0.025390625,
          0.0458984375,
          6.3125,
          0.7265625,
          0.2109375,
          0.03271484375,
          0.60546875,
          0.578125,
          0.072265625,
          0.037109375,
          1.078125,
          1.1796875,
          0.055419921875,
          0.8359375,
          0.06640625,
          0.88671875,
          0.283203125,
          -0.1884765625,
          0.02294921875,
          0.400390625,
          0.0419921875,
          0.0006103515625,
          0.765625,
          1.28125,
          0.63671875,
          0.40234375,
          -0.0771484375,
          -0.0068359375,
          0.2470703125,
          0.41015625,
          -0.2109375,
          0.04833984375,
          0.1796875,
          0.20703125,
          0.1328125,
          0.703125,
          0.18359375,
          -0.0927734375,
          -0.06787109375,
          -0.04443359375,
          -0.13671875,
          -0.0693359375,
          -0.1865234375,
          0.002410888671875,
          -0.033447265625,
          0.12109375,
          0.5546875,
          0.2138671875,
          0.609375,
          0.14453125,
          0.44140625,
          -0.146484375,
          0.349609375,
          0.158203125,
          -0.05712890625,
          0.08740234375,
          0.42578125,
          -0.014892578125,
          0.380859375,
          -0.033203125,
          -0.0301513671875,
          0.251953125,
          0.419921875,
          0.32421875,
          0.3515625,
          0.298828125,
          -0.119140625,
          -0.13671875,
          1.4296875,
          0.028564453125,
          -0.0185546875,
          5.84375,
          0.041015625,
          0.431640625,
          0.193359375,
          -0.03564453125,
          0.26171875,
          0.02734375,
          -0.2421875,
          0.171875,
          0.1728515625,
          0.09375,
          0.047119140625,
          0.0810546875,
          0.09228515625,
          -0.2294921875,
          0.25,
          0.70703125,
          -0.0498046875,
          0.201171875,
          -0.00030517578125,
          0.4453125,
          0.8984375,
          0.37890625,
          1.546875,
          -0.0234375,
          0.16796875,
          0.1572265625,
          0.73046875,
          0.349609375,
          -0.12890625,
          -0.0576171875
         ]
        },
        {
         "mode": "markers",
         "name": "flash 5",
         "type": "scatter",
         "x": [
          0,
          1,
          0,
          0,
          0,
          1,
          2,
          0,
          0,
          0,
          7,
          1,
          0,
          0,
          1,
          1,
          0,
          0,
          0,
          9,
          0,
          1,
          0,
          3,
          4,
          0,
          0,
          0,
          0,
          0,
          5,
          3,
          0,
          0,
          0,
          0,
          1,
          0,
          0,
          0,
          0,
          0,
          1,
          0,
          2,
          0,
          0,
          0,
          0,
          0,
          0,
          0,
          0,
          0,
          0,
          0,
          0,
          0,
          0,
          0,
          0,
          0,
          1,
          0,
          2,
          1,
          3,
          0,
          0,
          0,
          2,
          1,
          0,
          2,
          0,
          0,
          3,
          0,
          0,
          16,
          0,
          2,
          0,
          0,
          0,
          0,
          0,
          0,
          0,
          0,
          0,
          0,
          0,
          0,
          0,
          5,
          0,
          1,
          0,
          2,
          2,
          0,
          0,
          0,
          0,
          1,
          0,
          1,
          0,
          0
         ],
         "y": [
          0.2041015625,
          1.03125,
          0.7890625,
          0.58984375,
          -0.018798828125,
          -0.2314453125,
          2.109375,
          0.83984375,
          -0.1484375,
          0.037353515625,
          7.53125,
          1.3984375,
          0.1640625,
          -0.0234375,
          1.53125,
          1.4453125,
          -0.052734375,
          0.37890625,
          1.4609375,
          9.125,
          0.1142578125,
          1.1796875,
          0.02978515625,
          1.25,
          3.921875,
          -0.030517578125,
          0.62109375,
          0.54296875,
          -0.0029296875,
          0.142578125,
          4.8125,
          2.828125,
          0.546875,
          0.466796875,
          -0.205078125,
          -0.07421875,
          0.2158203125,
          0.46484375,
          0.038330078125,
          0.279296875,
          0.875,
          0.341796875,
          0.345703125,
          1.109375,
          0.640625,
          0.109375,
          0.478515625,
          -0.0849609375,
          0.1572265625,
          -0.37109375,
          -0.1708984375,
          0.39453125,
          0.09228515625,
          0.8984375,
          0.86328125,
          0.6875,
          1.515625,
          0.1708984375,
          1.453125,
          0.0830078125,
          1.03125,
          0.53125,
          0.1708984375,
          0.341796875,
          0.72265625,
          1.59375,
          2.4375,
          -0.30078125,
          0.0015869140625,
          0.5390625,
          0.92578125,
          1.65625,
          0.5390625,
          1.5234375,
          0.515625,
          0.03125,
          3.203125,
          -0.0213623046875,
          -0.115234375,
          14.875,
          0.0986328125,
          1.3046875,
          0.03369140625,
          0.06591796875,
          0.2138671875,
          0.31640625,
          0.63671875,
          0.173828125,
          0.2021484375,
          0.3359375,
          0.19921875,
          0.412109375,
          0.384765625,
          0.40625,
          0.13671875,
          4.53125,
          -0.044921875,
          0.7265625,
          -0.05859375,
          1.359375,
          1.671875,
          0.333984375,
          1.8046875,
          0.0234375,
          0.36328125,
          0.302734375,
          0.31640625,
          0.609375,
          -0.234375,
          -0.0869140625
         ]
        },
        {
         "mode": "lines",
         "name": "y=x",
         "type": "scatter",
         "x": [
          0,
          22
         ],
         "y": [
          0,
          22
         ]
        }
       ],
       "layout": {
        "template": {
         "data": {
          "bar": [
           {
            "error_x": {
             "color": "#2a3f5f"
            },
            "error_y": {
             "color": "#2a3f5f"
            },
            "marker": {
             "line": {
              "color": "#E5ECF6",
              "width": 0.5
             },
             "pattern": {
              "fillmode": "overlay",
              "size": 10,
              "solidity": 0.2
             }
            },
            "type": "bar"
           }
          ],
          "barpolar": [
           {
            "marker": {
             "line": {
              "color": "#E5ECF6",
              "width": 0.5
             },
             "pattern": {
              "fillmode": "overlay",
              "size": 10,
              "solidity": 0.2
             }
            },
            "type": "barpolar"
           }
          ],
          "carpet": [
           {
            "aaxis": {
             "endlinecolor": "#2a3f5f",
             "gridcolor": "white",
             "linecolor": "white",
             "minorgridcolor": "white",
             "startlinecolor": "#2a3f5f"
            },
            "baxis": {
             "endlinecolor": "#2a3f5f",
             "gridcolor": "white",
             "linecolor": "white",
             "minorgridcolor": "white",
             "startlinecolor": "#2a3f5f"
            },
            "type": "carpet"
           }
          ],
          "choropleth": [
           {
            "colorbar": {
             "outlinewidth": 0,
             "ticks": ""
            },
            "type": "choropleth"
           }
          ],
          "contour": [
           {
            "colorbar": {
             "outlinewidth": 0,
             "ticks": ""
            },
            "colorscale": [
             [
              0,
              "#0d0887"
             ],
             [
              0.1111111111111111,
              "#46039f"
             ],
             [
              0.2222222222222222,
              "#7201a8"
             ],
             [
              0.3333333333333333,
              "#9c179e"
             ],
             [
              0.4444444444444444,
              "#bd3786"
             ],
             [
              0.5555555555555556,
              "#d8576b"
             ],
             [
              0.6666666666666666,
              "#ed7953"
             ],
             [
              0.7777777777777778,
              "#fb9f3a"
             ],
             [
              0.8888888888888888,
              "#fdca26"
             ],
             [
              1,
              "#f0f921"
             ]
            ],
            "type": "contour"
           }
          ],
          "contourcarpet": [
           {
            "colorbar": {
             "outlinewidth": 0,
             "ticks": ""
            },
            "type": "contourcarpet"
           }
          ],
          "heatmap": [
           {
            "colorbar": {
             "outlinewidth": 0,
             "ticks": ""
            },
            "colorscale": [
             [
              0,
              "#0d0887"
             ],
             [
              0.1111111111111111,
              "#46039f"
             ],
             [
              0.2222222222222222,
              "#7201a8"
             ],
             [
              0.3333333333333333,
              "#9c179e"
             ],
             [
              0.4444444444444444,
              "#bd3786"
             ],
             [
              0.5555555555555556,
              "#d8576b"
             ],
             [
              0.6666666666666666,
              "#ed7953"
             ],
             [
              0.7777777777777778,
              "#fb9f3a"
             ],
             [
              0.8888888888888888,
              "#fdca26"
             ],
             [
              1,
              "#f0f921"
             ]
            ],
            "type": "heatmap"
           }
          ],
          "heatmapgl": [
           {
            "colorbar": {
             "outlinewidth": 0,
             "ticks": ""
            },
            "colorscale": [
             [
              0,
              "#0d0887"
             ],
             [
              0.1111111111111111,
              "#46039f"
             ],
             [
              0.2222222222222222,
              "#7201a8"
             ],
             [
              0.3333333333333333,
              "#9c179e"
             ],
             [
              0.4444444444444444,
              "#bd3786"
             ],
             [
              0.5555555555555556,
              "#d8576b"
             ],
             [
              0.6666666666666666,
              "#ed7953"
             ],
             [
              0.7777777777777778,
              "#fb9f3a"
             ],
             [
              0.8888888888888888,
              "#fdca26"
             ],
             [
              1,
              "#f0f921"
             ]
            ],
            "type": "heatmapgl"
           }
          ],
          "histogram": [
           {
            "marker": {
             "pattern": {
              "fillmode": "overlay",
              "size": 10,
              "solidity": 0.2
             }
            },
            "type": "histogram"
           }
          ],
          "histogram2d": [
           {
            "colorbar": {
             "outlinewidth": 0,
             "ticks": ""
            },
            "colorscale": [
             [
              0,
              "#0d0887"
             ],
             [
              0.1111111111111111,
              "#46039f"
             ],
             [
              0.2222222222222222,
              "#7201a8"
             ],
             [
              0.3333333333333333,
              "#9c179e"
             ],
             [
              0.4444444444444444,
              "#bd3786"
             ],
             [
              0.5555555555555556,
              "#d8576b"
             ],
             [
              0.6666666666666666,
              "#ed7953"
             ],
             [
              0.7777777777777778,
              "#fb9f3a"
             ],
             [
              0.8888888888888888,
              "#fdca26"
             ],
             [
              1,
              "#f0f921"
             ]
            ],
            "type": "histogram2d"
           }
          ],
          "histogram2dcontour": [
           {
            "colorbar": {
             "outlinewidth": 0,
             "ticks": ""
            },
            "colorscale": [
             [
              0,
              "#0d0887"
             ],
             [
              0.1111111111111111,
              "#46039f"
             ],
             [
              0.2222222222222222,
              "#7201a8"
             ],
             [
              0.3333333333333333,
              "#9c179e"
             ],
             [
              0.4444444444444444,
              "#bd3786"
             ],
             [
              0.5555555555555556,
              "#d8576b"
             ],
             [
              0.6666666666666666,
              "#ed7953"
             ],
             [
              0.7777777777777778,
              "#fb9f3a"
             ],
             [
              0.8888888888888888,
              "#fdca26"
             ],
             [
              1,
              "#f0f921"
             ]
            ],
            "type": "histogram2dcontour"
           }
          ],
          "mesh3d": [
           {
            "colorbar": {
             "outlinewidth": 0,
             "ticks": ""
            },
            "type": "mesh3d"
           }
          ],
          "parcoords": [
           {
            "line": {
             "colorbar": {
              "outlinewidth": 0,
              "ticks": ""
             }
            },
            "type": "parcoords"
           }
          ],
          "pie": [
           {
            "automargin": true,
            "type": "pie"
           }
          ],
          "scatter": [
           {
            "fillpattern": {
             "fillmode": "overlay",
             "size": 10,
             "solidity": 0.2
            },
            "type": "scatter"
           }
          ],
          "scatter3d": [
           {
            "line": {
             "colorbar": {
              "outlinewidth": 0,
              "ticks": ""
             }
            },
            "marker": {
             "colorbar": {
              "outlinewidth": 0,
              "ticks": ""
             }
            },
            "type": "scatter3d"
           }
          ],
          "scattercarpet": [
           {
            "marker": {
             "colorbar": {
              "outlinewidth": 0,
              "ticks": ""
             }
            },
            "type": "scattercarpet"
           }
          ],
          "scattergeo": [
           {
            "marker": {
             "colorbar": {
              "outlinewidth": 0,
              "ticks": ""
             }
            },
            "type": "scattergeo"
           }
          ],
          "scattergl": [
           {
            "marker": {
             "colorbar": {
              "outlinewidth": 0,
              "ticks": ""
             }
            },
            "type": "scattergl"
           }
          ],
          "scattermapbox": [
           {
            "marker": {
             "colorbar": {
              "outlinewidth": 0,
              "ticks": ""
             }
            },
            "type": "scattermapbox"
           }
          ],
          "scatterpolar": [
           {
            "marker": {
             "colorbar": {
              "outlinewidth": 0,
              "ticks": ""
             }
            },
            "type": "scatterpolar"
           }
          ],
          "scatterpolargl": [
           {
            "marker": {
             "colorbar": {
              "outlinewidth": 0,
              "ticks": ""
             }
            },
            "type": "scatterpolargl"
           }
          ],
          "scatterternary": [
           {
            "marker": {
             "colorbar": {
              "outlinewidth": 0,
              "ticks": ""
             }
            },
            "type": "scatterternary"
           }
          ],
          "surface": [
           {
            "colorbar": {
             "outlinewidth": 0,
             "ticks": ""
            },
            "colorscale": [
             [
              0,
              "#0d0887"
             ],
             [
              0.1111111111111111,
              "#46039f"
             ],
             [
              0.2222222222222222,
              "#7201a8"
             ],
             [
              0.3333333333333333,
              "#9c179e"
             ],
             [
              0.4444444444444444,
              "#bd3786"
             ],
             [
              0.5555555555555556,
              "#d8576b"
             ],
             [
              0.6666666666666666,
              "#ed7953"
             ],
             [
              0.7777777777777778,
              "#fb9f3a"
             ],
             [
              0.8888888888888888,
              "#fdca26"
             ],
             [
              1,
              "#f0f921"
             ]
            ],
            "type": "surface"
           }
          ],
          "table": [
           {
            "cells": {
             "fill": {
              "color": "#EBF0F8"
             },
             "line": {
              "color": "white"
             }
            },
            "header": {
             "fill": {
              "color": "#C8D4E3"
             },
             "line": {
              "color": "white"
             }
            },
            "type": "table"
           }
          ]
         },
         "layout": {
          "annotationdefaults": {
           "arrowcolor": "#2a3f5f",
           "arrowhead": 0,
           "arrowwidth": 1
          },
          "autotypenumbers": "strict",
          "coloraxis": {
           "colorbar": {
            "outlinewidth": 0,
            "ticks": ""
           }
          },
          "colorscale": {
           "diverging": [
            [
             0,
             "#8e0152"
            ],
            [
             0.1,
             "#c51b7d"
            ],
            [
             0.2,
             "#de77ae"
            ],
            [
             0.3,
             "#f1b6da"
            ],
            [
             0.4,
             "#fde0ef"
            ],
            [
             0.5,
             "#f7f7f7"
            ],
            [
             0.6,
             "#e6f5d0"
            ],
            [
             0.7,
             "#b8e186"
            ],
            [
             0.8,
             "#7fbc41"
            ],
            [
             0.9,
             "#4d9221"
            ],
            [
             1,
             "#276419"
            ]
           ],
           "sequential": [
            [
             0,
             "#0d0887"
            ],
            [
             0.1111111111111111,
             "#46039f"
            ],
            [
             0.2222222222222222,
             "#7201a8"
            ],
            [
             0.3333333333333333,
             "#9c179e"
            ],
            [
             0.4444444444444444,
             "#bd3786"
            ],
            [
             0.5555555555555556,
             "#d8576b"
            ],
            [
             0.6666666666666666,
             "#ed7953"
            ],
            [
             0.7777777777777778,
             "#fb9f3a"
            ],
            [
             0.8888888888888888,
             "#fdca26"
            ],
            [
             1,
             "#f0f921"
            ]
           ],
           "sequentialminus": [
            [
             0,
             "#0d0887"
            ],
            [
             0.1111111111111111,
             "#46039f"
            ],
            [
             0.2222222222222222,
             "#7201a8"
            ],
            [
             0.3333333333333333,
             "#9c179e"
            ],
            [
             0.4444444444444444,
             "#bd3786"
            ],
            [
             0.5555555555555556,
             "#d8576b"
            ],
            [
             0.6666666666666666,
             "#ed7953"
            ],
            [
             0.7777777777777778,
             "#fb9f3a"
            ],
            [
             0.8888888888888888,
             "#fdca26"
            ],
            [
             1,
             "#f0f921"
            ]
           ]
          },
          "colorway": [
           "#636efa",
           "#EF553B",
           "#00cc96",
           "#ab63fa",
           "#FFA15A",
           "#19d3f3",
           "#FF6692",
           "#B6E880",
           "#FF97FF",
           "#FECB52"
          ],
          "font": {
           "color": "#2a3f5f"
          },
          "geo": {
           "bgcolor": "white",
           "lakecolor": "white",
           "landcolor": "#E5ECF6",
           "showlakes": true,
           "showland": true,
           "subunitcolor": "white"
          },
          "hoverlabel": {
           "align": "left"
          },
          "hovermode": "closest",
          "mapbox": {
           "style": "light"
          },
          "paper_bgcolor": "white",
          "plot_bgcolor": "#E5ECF6",
          "polar": {
           "angularaxis": {
            "gridcolor": "white",
            "linecolor": "white",
            "ticks": ""
           },
           "bgcolor": "#E5ECF6",
           "radialaxis": {
            "gridcolor": "white",
            "linecolor": "white",
            "ticks": ""
           }
          },
          "scene": {
           "xaxis": {
            "backgroundcolor": "#E5ECF6",
            "gridcolor": "white",
            "gridwidth": 2,
            "linecolor": "white",
            "showbackground": true,
            "ticks": "",
            "zerolinecolor": "white"
           },
           "yaxis": {
            "backgroundcolor": "#E5ECF6",
            "gridcolor": "white",
            "gridwidth": 2,
            "linecolor": "white",
            "showbackground": true,
            "ticks": "",
            "zerolinecolor": "white"
           },
           "zaxis": {
            "backgroundcolor": "#E5ECF6",
            "gridcolor": "white",
            "gridwidth": 2,
            "linecolor": "white",
            "showbackground": true,
            "ticks": "",
            "zerolinecolor": "white"
           }
          },
          "shapedefaults": {
           "line": {
            "color": "#2a3f5f"
           }
          },
          "ternary": {
           "aaxis": {
            "gridcolor": "white",
            "linecolor": "white",
            "ticks": ""
           },
           "baxis": {
            "gridcolor": "white",
            "linecolor": "white",
            "ticks": ""
           },
           "bgcolor": "#E5ECF6",
           "caxis": {
            "gridcolor": "white",
            "linecolor": "white",
            "ticks": ""
           }
          },
          "title": {
           "x": 0.05
          },
          "xaxis": {
           "automargin": true,
           "gridcolor": "white",
           "linecolor": "white",
           "ticks": "",
           "title": {
            "standoff": 15
           },
           "zerolinecolor": "white",
           "zerolinewidth": 2
          },
          "yaxis": {
           "automargin": true,
           "gridcolor": "white",
           "linecolor": "white",
           "ticks": "",
           "title": {
            "standoff": 15
           },
           "zerolinecolor": "white",
           "zerolinewidth": 2
          }
         }
        },
        "title": {
         "text": "SAE 0",
         "x": 0.5
        },
        "xaxis": {
         "title": {
          "text": "actual spike counts"
         }
        },
        "yaxis": {
         "title": {
          "text": "reconstructed spike counts"
         }
        }
       }
      }
     },
     "metadata": {},
     "output_type": "display_data"
    },
    {
     "data": {
      "application/vnd.plotly.v1+json": {
       "config": {
        "plotlyServerURL": "https://plot.ly"
       },
       "data": [
        {
         "mode": "markers",
         "name": "flash 0",
         "type": "scatter",
         "x": [
          0,
          0,
          1,
          0,
          0,
          0,
          1,
          1,
          0,
          0,
          6,
          4,
          0,
          0,
          1,
          2,
          1,
          1,
          2,
          3,
          0,
          0,
          0,
          0,
          0,
          0,
          0,
          1,
          0,
          0,
          0,
          1,
          0,
          1,
          0,
          0,
          0,
          0,
          0,
          0,
          1,
          0,
          1,
          1,
          0,
          0,
          0,
          0,
          0,
          0,
          0,
          0,
          0,
          1,
          1,
          0,
          1,
          0,
          1,
          1,
          0,
          1,
          0,
          0,
          1,
          5,
          3,
          0,
          0,
          0,
          0,
          0,
          0,
          1,
          0,
          0,
          3,
          0,
          0,
          22,
          0,
          1,
          0,
          0,
          1,
          1,
          0,
          0,
          0,
          0,
          0,
          0,
          0,
          0,
          0,
          4,
          0,
          0,
          0,
          2,
          1,
          0,
          1,
          0,
          0,
          0,
          0,
          0,
          0,
          0
         ],
         "y": [
          -0.75,
          -0.44921875,
          -0.345703125,
          -0.119140625,
          -0.01123046875,
          0.2158203125,
          2.046875,
          0.9921875,
          0.146484375,
          0.2392578125,
          6.78125,
          2.453125,
          0.31640625,
          -0.00390625,
          1.5625,
          2.0625,
          0.00390625,
          -0.43359375,
          1.015625,
          2.265625,
          0.359375,
          1.6484375,
          -0.435546875,
          0.4921875,
          0.21484375,
          0.203125,
          -0.028076171875,
          0.515625,
          0.119140625,
          0.1669921875,
          1.7109375,
          2.1875,
          -0.1689453125,
          1.671875,
          0.466796875,
          -0.044921875,
          -0.30078125,
          -0.44140625,
          0.003814697265625,
          -0.458984375,
          0.3828125,
          -0.06591796875,
          0.9921875,
          0.33203125,
          1.203125,
          0.16796875,
          -0.203125,
          -0.11181640625,
          -0.043212890625,
          0.080078125,
          -0.220703125,
          -0.208984375,
          -0.283203125,
          0.84375,
          0.7421875,
          0.2060546875,
          0.2421875,
          0.11767578125,
          1.265625,
          0.5390625,
          0.796875,
          0.4921875,
          0.376953125,
          0.63671875,
          1.21875,
          1.3046875,
          3.625,
          0.419921875,
          0.65234375,
          0.875,
          0.83203125,
          0.1123046875,
          -0.029296875,
          1.1875,
          -0.455078125,
          0.482421875,
          3.3125,
          -0.29296875,
          0.2099609375,
          20,
          0.2734375,
          1.3125,
          0.158203125,
          -0.1767578125,
          -0.3671875,
          0.1357421875,
          -0.1962890625,
          0.53125,
          0.34765625,
          -0.0654296875,
          0.2021484375,
          0.5390625,
          -0.01513671875,
          0.017578125,
          0.1201171875,
          3.921875,
          -0.1875,
          0.6796875,
          -0.0712890625,
          1.109375,
          1.4609375,
          0.2197265625,
          1.984375,
          0.90625,
          0.28125,
          1.21875,
          0.59375,
          1.3515625,
          -0.39453125,
          -0.3671875
         ]
        },
        {
         "mode": "markers",
         "name": "flash 1",
         "type": "scatter",
         "x": [
          0,
          0,
          0,
          0,
          0,
          0,
          0,
          0,
          0,
          0,
          0,
          0,
          0,
          0,
          0,
          0,
          0,
          0,
          1,
          0,
          0,
          0,
          0,
          0,
          0,
          0,
          0,
          0,
          0,
          0,
          0,
          0,
          0,
          1,
          0,
          0,
          0,
          0,
          0,
          0,
          0,
          0,
          0,
          0,
          0,
          0,
          0,
          0,
          0,
          0,
          0,
          0,
          0,
          0,
          0,
          0,
          0,
          0,
          0,
          0,
          0,
          0,
          0,
          0,
          0,
          0,
          0,
          0,
          0,
          0,
          1,
          0,
          0,
          0,
          0,
          0,
          0,
          0,
          0,
          0,
          0,
          0,
          0,
          0,
          0,
          0,
          0,
          0,
          0,
          0,
          0,
          0,
          0,
          0,
          0,
          0,
          0,
          0,
          0,
          0,
          0,
          0,
          2,
          0,
          0,
          0,
          0,
          0,
          0,
          0
         ],
         "y": [
          0.02392578125,
          0.25,
          0.21875,
          0.03955078125,
          -0.020263671875,
          0.11865234375,
          0.609375,
          0.2177734375,
          -0.0191650390625,
          -0.0047607421875,
          0.474609375,
          0.25,
          0.39453125,
          0.1533203125,
          0.38671875,
          0.3203125,
          0.2216796875,
          0.1767578125,
          0.41015625,
          0.380859375,
          -0.003662109375,
          0.3046875,
          -0.0576171875,
          0.296875,
          0.2060546875,
          0.03857421875,
          -0.060302734375,
          0.314453125,
          0.06689453125,
          0.0260009765625,
          0.29296875,
          0.33984375,
          0.061279296875,
          0.859375,
          -0.0152587890625,
          -0.296875,
          0.1357421875,
          0.240234375,
          -0.0281982421875,
          -0.0007171630859375,
          0.19921875,
          0.0023193359375,
          0.2373046875,
          0.3828125,
          0.19140625,
          0.01446533203125,
          0.083984375,
          0.0361328125,
          0.01470947265625,
          0.008544921875,
          0.009033203125,
          -0.0184326171875,
          -0.0089111328125,
          0.2734375,
          0.23046875,
          -0.01141357421875,
          0.0830078125,
          0.014892578125,
          0.142578125,
          0.2080078125,
          0.3203125,
          -0.0211181640625,
          -0.055419921875,
          0.0274658203125,
          0.220703125,
          0.08349609375,
          0.42578125,
          0.1337890625,
          -0.0091552734375,
          0.263671875,
          0.2490234375,
          0.20703125,
          0.33984375,
          0.279296875,
          0.193359375,
          -0.006591796875,
          0.24609375,
          0.0106201171875,
          0.265625,
          0.466796875,
          0.1494140625,
          0.1904296875,
          0.0186767578125,
          0.045166015625,
          0.052001953125,
          -0.017822265625,
          0.056884765625,
          -0.0054931640625,
          0.03857421875,
          0.042724609375,
          -0.029296875,
          0.4609375,
          0.076171875,
          0.0625,
          0.130859375,
          0.37109375,
          -0.0028076171875,
          0.1328125,
          -0.01348876953125,
          0.2060546875,
          0.2578125,
          0.271484375,
          0.65234375,
          0.35546875,
          0.4609375,
          0.4140625,
          0.828125,
          0.2734375,
          0.06787109375,
          0.056884765625
         ]
        },
        {
         "mode": "markers",
         "name": "flash 2",
         "type": "scatter",
         "x": [
          0,
          0,
          0,
          0,
          0,
          0,
          5,
          0,
          0,
          0,
          9,
          1,
          0,
          0,
          2,
          2,
          0,
          0,
          1,
          10,
          0,
          0,
          0,
          3,
          2,
          0,
          0,
          0,
          0,
          0,
          2,
          1,
          0,
          0,
          0,
          0,
          1,
          1,
          0,
          0,
          0,
          0,
          0,
          2,
          2,
          0,
          0,
          0,
          0,
          0,
          0,
          0,
          0,
          0,
          0,
          0,
          0,
          0,
          2,
          0,
          2,
          0,
          0,
          0,
          1,
          1,
          3,
          0,
          0,
          0,
          5,
          0,
          1,
          1,
          0,
          0,
          3,
          0,
          0,
          16,
          0,
          1,
          0,
          0,
          0,
          0,
          0,
          0,
          0,
          0,
          0,
          1,
          0,
          0,
          0,
          4,
          0,
          0,
          0,
          1,
          2,
          1,
          2,
          0,
          0,
          0,
          0,
          1,
          0,
          0
         ],
         "y": [
          -0.40625,
          0.208984375,
          0.041015625,
          -0.1240234375,
          0.04443359375,
          0.05224609375,
          2.84375,
          0.734375,
          0.2060546875,
          0.240234375,
          9.375,
          1.7265625,
          0.306640625,
          0.13671875,
          1.78125,
          2.28125,
          0.0478515625,
          -0.2158203125,
          1.5859375,
          9.25,
          0.333984375,
          1.484375,
          -0.2578125,
          2.125,
          1.90625,
          0.234375,
          -0.150390625,
          0.453125,
          0.091796875,
          -0.0673828125,
          1.71875,
          1.765625,
          -0.2333984375,
          1.1640625,
          0.408203125,
          0,
          -0.42578125,
          -0.28125,
          0.181640625,
          -0.376953125,
          0.72265625,
          -0.041259765625,
          0.9140625,
          0.9921875,
          1.640625,
          0.2177734375,
          -0.05322265625,
          -0.06298828125,
          -0.035400390625,
          0.08837890625,
          -0.1728515625,
          -0.1669921875,
          -0.14453125,
          0.138671875,
          1.25,
          0.1376953125,
          0.146484375,
          0.265625,
          1.546875,
          0.578125,
          0.8984375,
          0.67578125,
          0.18359375,
          0.5546875,
          1.3515625,
          0.84375,
          2.8125,
          0.2275390625,
          0.59765625,
          0.8671875,
          0.79296875,
          0.14453125,
          0.7421875,
          1.3359375,
          -0.09375,
          0.353515625,
          3.90625,
          0.08349609375,
          0.203125,
          14.9375,
          0.1513671875,
          1.625,
          0.0155029296875,
          -0.1025390625,
          0,
          0.0546875,
          0.177734375,
          0.32421875,
          0.34765625,
          0.02880859375,
          0.038330078125,
          0.62109375,
          -0.0693359375,
          -0.2431640625,
          0.07275390625,
          3.890625,
          -0.130859375,
          0.85546875,
          -0.0211181640625,
          1.4375,
          1.7421875,
          0.375,
          2.765625,
          0.7578125,
          0.34375,
          1.1484375,
          1.1953125,
          1.0234375,
          -0.4609375,
          -0.2197265625
         ]
        },
        {
         "mode": "markers",
         "name": "flash 3",
         "type": "scatter",
         "x": [
          0,
          0,
          0,
          0,
          0,
          0,
          3,
          0,
          0,
          0,
          7,
          2,
          0,
          0,
          1,
          2,
          0,
          0,
          1,
          3,
          0,
          1,
          1,
          0,
          0,
          0,
          0,
          0,
          0,
          0,
          4,
          1,
          0,
          1,
          0,
          0,
          0,
          0,
          0,
          0,
          0,
          0,
          2,
          2,
          0,
          0,
          0,
          0,
          0,
          0,
          0,
          0,
          0,
          0,
          1,
          0,
          1,
          0,
          1,
          0,
          0,
          0,
          0,
          0,
          1,
          7,
          3,
          0,
          0,
          0,
          0,
          0,
          0,
          1,
          0,
          0,
          4,
          0,
          0,
          15,
          0,
          1,
          1,
          0,
          0,
          2,
          1,
          1,
          0,
          0,
          0,
          0,
          1,
          1,
          0,
          3,
          0,
          0,
          0,
          1,
          3,
          0,
          4,
          0,
          0,
          0,
          1,
          0,
          0,
          0
         ],
         "y": [
          -0.5703125,
          0.0595703125,
          -0.01953125,
          -0.13671875,
          -0.02734375,
          0.1669921875,
          1.8984375,
          0.6484375,
          0.1162109375,
          0.154296875,
          7.28125,
          1.59375,
          0.55078125,
          0.01220703125,
          1.296875,
          1.421875,
          -0.0068359375,
          -0.26171875,
          1.0546875,
          2.75,
          0.306640625,
          1.375,
          -0.2353515625,
          0.76953125,
          0.6484375,
          0.126953125,
          0.0703125,
          0.49609375,
          0.1376953125,
          0.033203125,
          2.03125,
          1.625,
          -0.1044921875,
          1.0703125,
          0.326171875,
          -0.03515625,
          -0.232421875,
          -0.1748046875,
          0.056396484375,
          -0.296875,
          0.734375,
          -0.0390625,
          0.7734375,
          0.51953125,
          1.0859375,
          0.1376953125,
          -0.1484375,
          -0.0712890625,
          -0.051513671875,
          -0.01416015625,
          -0.1142578125,
          -0.1142578125,
          -0.2099609375,
          0.6328125,
          0.7421875,
          0.2041015625,
          0.22265625,
          0.1416015625,
          0.5625,
          0.328125,
          0.6875,
          0.41015625,
          0.30078125,
          0.5,
          1.21875,
          1.125,
          2.515625,
          0.3125,
          0.380859375,
          0.7890625,
          0.7578125,
          0.41796875,
          0.2177734375,
          1.1484375,
          -0.251953125,
          0.359375,
          2.828125,
          -0.162109375,
          0.09130859375,
          14.3125,
          0.1669921875,
          1,
          0.130859375,
          -0.1484375,
          -0.1484375,
          0.0859375,
          -0.013671875,
          0.38671875,
          0.337890625,
          -0.0634765625,
          0.17578125,
          0.208984375,
          -0.033203125,
          -0.0771484375,
          0.1171875,
          3.890625,
          -0.11474609375,
          0.51953125,
          -0.04248046875,
          1.09375,
          1.296875,
          0.30859375,
          2.03125,
          0.87109375,
          0.37890625,
          1.046875,
          0.890625,
          0.890625,
          -0.25,
          -0.28125
         ]
        },
        {
         "mode": "markers",
         "name": "flash 4",
         "type": "scatter",
         "x": [
          0,
          0,
          0,
          0,
          0,
          0,
          1,
          0,
          0,
          0,
          7,
          1,
          0,
          0,
          0,
          1,
          0,
          0,
          0,
          0,
          0,
          0,
          0,
          0,
          0,
          0,
          0,
          1,
          0,
          0,
          1,
          3,
          0,
          0,
          0,
          0,
          0,
          0,
          0,
          0,
          0,
          0,
          0,
          0,
          0,
          0,
          0,
          0,
          0,
          0,
          0,
          0,
          0,
          0,
          0,
          0,
          0,
          0,
          0,
          0,
          0,
          0,
          0,
          0,
          0,
          0,
          1,
          0,
          0,
          0,
          2,
          0,
          0,
          0,
          0,
          0,
          1,
          0,
          0,
          6,
          0,
          0,
          0,
          0,
          0,
          0,
          0,
          0,
          0,
          0,
          0,
          0,
          0,
          0,
          0,
          0,
          0,
          0,
          0,
          0,
          0,
          0,
          1,
          0,
          0,
          1,
          1,
          0,
          0,
          0
         ],
         "y": [
          -0.21875,
          -0.00390625,
          0.2294921875,
          -0.04052734375,
          -0.080078125,
          0.095703125,
          1.4140625,
          0.271484375,
          0.028564453125,
          0.013671875,
          5.375,
          0.8203125,
          0.26953125,
          0.083984375,
          0.828125,
          0.71875,
          0.05859375,
          -0.068359375,
          0.97265625,
          1,
          0.166015625,
          0.8203125,
          -0.00341796875,
          0.953125,
          0.2158203125,
          0.08984375,
          -0.08984375,
          0.421875,
          0.1396484375,
          0.00714111328125,
          0.45703125,
          0.8828125,
          0.11669921875,
          0.8203125,
          0.064453125,
          -0.0673828125,
          -0.0009765625,
          0.158203125,
          0.043212890625,
          -0.0859375,
          0.234375,
          -0.00787353515625,
          0.337890625,
          0.6171875,
          0.578125,
          0.0986328125,
          -0.0361328125,
          -0.0108642578125,
          -0.0322265625,
          -0.05908203125,
          -0.0150146484375,
          -0.039794921875,
          -0.056884765625,
          0.30859375,
          0.5078125,
          0.158203125,
          0.12109375,
          0.0966796875,
          0.228515625,
          0.1728515625,
          0.484375,
          0.11767578125,
          0.0908203125,
          0.185546875,
          0.75,
          0.212890625,
          0.9296875,
          0.158203125,
          0.142578125,
          0.46875,
          0.3046875,
          0.1533203125,
          0.328125,
          0.640625,
          -0.0546875,
          0.107421875,
          1.578125,
          -0.041015625,
          -0.041015625,
          5.0625,
          0.0791015625,
          0.53515625,
          0.057861328125,
          -0.1357421875,
          0.02392578125,
          0.00115966796875,
          -0.03564453125,
          0.1162109375,
          0.1357421875,
          -0.055908203125,
          0.1044921875,
          0.2353515625,
          -0.037109375,
          -0.091796875,
          0.140625,
          1.40625,
          -0.031982421875,
          0.23046875,
          -0.0155029296875,
          0.54296875,
          0.7578125,
          0.3046875,
          1.4375,
          0.39453125,
          0.19921875,
          0.6640625,
          0.984375,
          0.375,
          -0.0595703125,
          -0.01611328125
         ]
        },
        {
         "mode": "markers",
         "name": "flash 5",
         "type": "scatter",
         "x": [
          0,
          1,
          0,
          0,
          0,
          1,
          2,
          0,
          0,
          0,
          7,
          1,
          0,
          0,
          1,
          1,
          0,
          0,
          0,
          9,
          0,
          1,
          0,
          3,
          4,
          0,
          0,
          0,
          0,
          0,
          5,
          3,
          0,
          0,
          0,
          0,
          1,
          0,
          0,
          0,
          0,
          0,
          1,
          0,
          2,
          0,
          0,
          0,
          0,
          0,
          0,
          0,
          0,
          0,
          0,
          0,
          0,
          0,
          0,
          0,
          0,
          0,
          1,
          0,
          2,
          1,
          3,
          0,
          0,
          0,
          2,
          1,
          0,
          2,
          0,
          0,
          3,
          0,
          0,
          16,
          0,
          2,
          0,
          0,
          0,
          0,
          0,
          0,
          0,
          0,
          0,
          0,
          0,
          0,
          0,
          5,
          0,
          1,
          0,
          2,
          2,
          0,
          0,
          0,
          0,
          1,
          0,
          1,
          0,
          0
         ],
         "y": [
          -0.326171875,
          1.171875,
          0.31640625,
          -0.107421875,
          0.1015625,
          0.1416015625,
          2.25,
          0.765625,
          0.2314453125,
          0.2353515625,
          6.84375,
          1.625,
          0.86328125,
          0.09619140625,
          1.6875,
          1.6484375,
          0.1015625,
          -0.056640625,
          1.359375,
          8.375,
          0.296875,
          1.3828125,
          -0.7265625,
          1.5390625,
          3.4375,
          0.18359375,
          0.4140625,
          0.314453125,
          0.1767578125,
          -0.0673828125,
          3.71875,
          2.328125,
          -0.1455078125,
          0.9140625,
          0.40625,
          -0.0478515625,
          -0.30078125,
          -0.2353515625,
          0.244140625,
          -0.34375,
          1.4765625,
          0.021240234375,
          1.0703125,
          0.8984375,
          1.546875,
          0.150390625,
          0.013916015625,
          0.0008544921875,
          -0.04638671875,
          0.125,
          -0.1220703125,
          -0.10205078125,
          -0.087890625,
          1.1640625,
          1.078125,
          0.2236328125,
          0.53125,
          0.279296875,
          0.6875,
          0.58984375,
          0.84375,
          0.62109375,
          0.296875,
          0.58203125,
          1.515625,
          1.3984375,
          2.6875,
          0.328125,
          0.408203125,
          0.953125,
          1.1484375,
          0.96484375,
          0.890625,
          1.7734375,
          0.43359375,
          0.408203125,
          3.390625,
          0.1357421875,
          0.455078125,
          14.5,
          0.1572265625,
          1.5234375,
          0.1865234375,
          0.103515625,
          -0.00732421875,
          0.1171875,
          0.4609375,
          0.396484375,
          0.482421875,
          0.0576171875,
          0.11865234375,
          0.458984375,
          -0.005126953125,
          -0.0283203125,
          0.1337890625,
          5,
          -0.099609375,
          0.78515625,
          -0.0179443359375,
          1.625,
          1.7265625,
          0.34375,
          2.0625,
          1.375,
          0.9609375,
          1.046875,
          0.71875,
          0.78125,
          -0.138671875,
          -0.26171875
         ]
        },
        {
         "mode": "lines",
         "name": "y=x",
         "type": "scatter",
         "x": [
          0,
          22
         ],
         "y": [
          0,
          22
         ]
        }
       ],
       "layout": {
        "template": {
         "data": {
          "bar": [
           {
            "error_x": {
             "color": "#2a3f5f"
            },
            "error_y": {
             "color": "#2a3f5f"
            },
            "marker": {
             "line": {
              "color": "#E5ECF6",
              "width": 0.5
             },
             "pattern": {
              "fillmode": "overlay",
              "size": 10,
              "solidity": 0.2
             }
            },
            "type": "bar"
           }
          ],
          "barpolar": [
           {
            "marker": {
             "line": {
              "color": "#E5ECF6",
              "width": 0.5
             },
             "pattern": {
              "fillmode": "overlay",
              "size": 10,
              "solidity": 0.2
             }
            },
            "type": "barpolar"
           }
          ],
          "carpet": [
           {
            "aaxis": {
             "endlinecolor": "#2a3f5f",
             "gridcolor": "white",
             "linecolor": "white",
             "minorgridcolor": "white",
             "startlinecolor": "#2a3f5f"
            },
            "baxis": {
             "endlinecolor": "#2a3f5f",
             "gridcolor": "white",
             "linecolor": "white",
             "minorgridcolor": "white",
             "startlinecolor": "#2a3f5f"
            },
            "type": "carpet"
           }
          ],
          "choropleth": [
           {
            "colorbar": {
             "outlinewidth": 0,
             "ticks": ""
            },
            "type": "choropleth"
           }
          ],
          "contour": [
           {
            "colorbar": {
             "outlinewidth": 0,
             "ticks": ""
            },
            "colorscale": [
             [
              0,
              "#0d0887"
             ],
             [
              0.1111111111111111,
              "#46039f"
             ],
             [
              0.2222222222222222,
              "#7201a8"
             ],
             [
              0.3333333333333333,
              "#9c179e"
             ],
             [
              0.4444444444444444,
              "#bd3786"
             ],
             [
              0.5555555555555556,
              "#d8576b"
             ],
             [
              0.6666666666666666,
              "#ed7953"
             ],
             [
              0.7777777777777778,
              "#fb9f3a"
             ],
             [
              0.8888888888888888,
              "#fdca26"
             ],
             [
              1,
              "#f0f921"
             ]
            ],
            "type": "contour"
           }
          ],
          "contourcarpet": [
           {
            "colorbar": {
             "outlinewidth": 0,
             "ticks": ""
            },
            "type": "contourcarpet"
           }
          ],
          "heatmap": [
           {
            "colorbar": {
             "outlinewidth": 0,
             "ticks": ""
            },
            "colorscale": [
             [
              0,
              "#0d0887"
             ],
             [
              0.1111111111111111,
              "#46039f"
             ],
             [
              0.2222222222222222,
              "#7201a8"
             ],
             [
              0.3333333333333333,
              "#9c179e"
             ],
             [
              0.4444444444444444,
              "#bd3786"
             ],
             [
              0.5555555555555556,
              "#d8576b"
             ],
             [
              0.6666666666666666,
              "#ed7953"
             ],
             [
              0.7777777777777778,
              "#fb9f3a"
             ],
             [
              0.8888888888888888,
              "#fdca26"
             ],
             [
              1,
              "#f0f921"
             ]
            ],
            "type": "heatmap"
           }
          ],
          "heatmapgl": [
           {
            "colorbar": {
             "outlinewidth": 0,
             "ticks": ""
            },
            "colorscale": [
             [
              0,
              "#0d0887"
             ],
             [
              0.1111111111111111,
              "#46039f"
             ],
             [
              0.2222222222222222,
              "#7201a8"
             ],
             [
              0.3333333333333333,
              "#9c179e"
             ],
             [
              0.4444444444444444,
              "#bd3786"
             ],
             [
              0.5555555555555556,
              "#d8576b"
             ],
             [
              0.6666666666666666,
              "#ed7953"
             ],
             [
              0.7777777777777778,
              "#fb9f3a"
             ],
             [
              0.8888888888888888,
              "#fdca26"
             ],
             [
              1,
              "#f0f921"
             ]
            ],
            "type": "heatmapgl"
           }
          ],
          "histogram": [
           {
            "marker": {
             "pattern": {
              "fillmode": "overlay",
              "size": 10,
              "solidity": 0.2
             }
            },
            "type": "histogram"
           }
          ],
          "histogram2d": [
           {
            "colorbar": {
             "outlinewidth": 0,
             "ticks": ""
            },
            "colorscale": [
             [
              0,
              "#0d0887"
             ],
             [
              0.1111111111111111,
              "#46039f"
             ],
             [
              0.2222222222222222,
              "#7201a8"
             ],
             [
              0.3333333333333333,
              "#9c179e"
             ],
             [
              0.4444444444444444,
              "#bd3786"
             ],
             [
              0.5555555555555556,
              "#d8576b"
             ],
             [
              0.6666666666666666,
              "#ed7953"
             ],
             [
              0.7777777777777778,
              "#fb9f3a"
             ],
             [
              0.8888888888888888,
              "#fdca26"
             ],
             [
              1,
              "#f0f921"
             ]
            ],
            "type": "histogram2d"
           }
          ],
          "histogram2dcontour": [
           {
            "colorbar": {
             "outlinewidth": 0,
             "ticks": ""
            },
            "colorscale": [
             [
              0,
              "#0d0887"
             ],
             [
              0.1111111111111111,
              "#46039f"
             ],
             [
              0.2222222222222222,
              "#7201a8"
             ],
             [
              0.3333333333333333,
              "#9c179e"
             ],
             [
              0.4444444444444444,
              "#bd3786"
             ],
             [
              0.5555555555555556,
              "#d8576b"
             ],
             [
              0.6666666666666666,
              "#ed7953"
             ],
             [
              0.7777777777777778,
              "#fb9f3a"
             ],
             [
              0.8888888888888888,
              "#fdca26"
             ],
             [
              1,
              "#f0f921"
             ]
            ],
            "type": "histogram2dcontour"
           }
          ],
          "mesh3d": [
           {
            "colorbar": {
             "outlinewidth": 0,
             "ticks": ""
            },
            "type": "mesh3d"
           }
          ],
          "parcoords": [
           {
            "line": {
             "colorbar": {
              "outlinewidth": 0,
              "ticks": ""
             }
            },
            "type": "parcoords"
           }
          ],
          "pie": [
           {
            "automargin": true,
            "type": "pie"
           }
          ],
          "scatter": [
           {
            "fillpattern": {
             "fillmode": "overlay",
             "size": 10,
             "solidity": 0.2
            },
            "type": "scatter"
           }
          ],
          "scatter3d": [
           {
            "line": {
             "colorbar": {
              "outlinewidth": 0,
              "ticks": ""
             }
            },
            "marker": {
             "colorbar": {
              "outlinewidth": 0,
              "ticks": ""
             }
            },
            "type": "scatter3d"
           }
          ],
          "scattercarpet": [
           {
            "marker": {
             "colorbar": {
              "outlinewidth": 0,
              "ticks": ""
             }
            },
            "type": "scattercarpet"
           }
          ],
          "scattergeo": [
           {
            "marker": {
             "colorbar": {
              "outlinewidth": 0,
              "ticks": ""
             }
            },
            "type": "scattergeo"
           }
          ],
          "scattergl": [
           {
            "marker": {
             "colorbar": {
              "outlinewidth": 0,
              "ticks": ""
             }
            },
            "type": "scattergl"
           }
          ],
          "scattermapbox": [
           {
            "marker": {
             "colorbar": {
              "outlinewidth": 0,
              "ticks": ""
             }
            },
            "type": "scattermapbox"
           }
          ],
          "scatterpolar": [
           {
            "marker": {
             "colorbar": {
              "outlinewidth": 0,
              "ticks": ""
             }
            },
            "type": "scatterpolar"
           }
          ],
          "scatterpolargl": [
           {
            "marker": {
             "colorbar": {
              "outlinewidth": 0,
              "ticks": ""
             }
            },
            "type": "scatterpolargl"
           }
          ],
          "scatterternary": [
           {
            "marker": {
             "colorbar": {
              "outlinewidth": 0,
              "ticks": ""
             }
            },
            "type": "scatterternary"
           }
          ],
          "surface": [
           {
            "colorbar": {
             "outlinewidth": 0,
             "ticks": ""
            },
            "colorscale": [
             [
              0,
              "#0d0887"
             ],
             [
              0.1111111111111111,
              "#46039f"
             ],
             [
              0.2222222222222222,
              "#7201a8"
             ],
             [
              0.3333333333333333,
              "#9c179e"
             ],
             [
              0.4444444444444444,
              "#bd3786"
             ],
             [
              0.5555555555555556,
              "#d8576b"
             ],
             [
              0.6666666666666666,
              "#ed7953"
             ],
             [
              0.7777777777777778,
              "#fb9f3a"
             ],
             [
              0.8888888888888888,
              "#fdca26"
             ],
             [
              1,
              "#f0f921"
             ]
            ],
            "type": "surface"
           }
          ],
          "table": [
           {
            "cells": {
             "fill": {
              "color": "#EBF0F8"
             },
             "line": {
              "color": "white"
             }
            },
            "header": {
             "fill": {
              "color": "#C8D4E3"
             },
             "line": {
              "color": "white"
             }
            },
            "type": "table"
           }
          ]
         },
         "layout": {
          "annotationdefaults": {
           "arrowcolor": "#2a3f5f",
           "arrowhead": 0,
           "arrowwidth": 1
          },
          "autotypenumbers": "strict",
          "coloraxis": {
           "colorbar": {
            "outlinewidth": 0,
            "ticks": ""
           }
          },
          "colorscale": {
           "diverging": [
            [
             0,
             "#8e0152"
            ],
            [
             0.1,
             "#c51b7d"
            ],
            [
             0.2,
             "#de77ae"
            ],
            [
             0.3,
             "#f1b6da"
            ],
            [
             0.4,
             "#fde0ef"
            ],
            [
             0.5,
             "#f7f7f7"
            ],
            [
             0.6,
             "#e6f5d0"
            ],
            [
             0.7,
             "#b8e186"
            ],
            [
             0.8,
             "#7fbc41"
            ],
            [
             0.9,
             "#4d9221"
            ],
            [
             1,
             "#276419"
            ]
           ],
           "sequential": [
            [
             0,
             "#0d0887"
            ],
            [
             0.1111111111111111,
             "#46039f"
            ],
            [
             0.2222222222222222,
             "#7201a8"
            ],
            [
             0.3333333333333333,
             "#9c179e"
            ],
            [
             0.4444444444444444,
             "#bd3786"
            ],
            [
             0.5555555555555556,
             "#d8576b"
            ],
            [
             0.6666666666666666,
             "#ed7953"
            ],
            [
             0.7777777777777778,
             "#fb9f3a"
            ],
            [
             0.8888888888888888,
             "#fdca26"
            ],
            [
             1,
             "#f0f921"
            ]
           ],
           "sequentialminus": [
            [
             0,
             "#0d0887"
            ],
            [
             0.1111111111111111,
             "#46039f"
            ],
            [
             0.2222222222222222,
             "#7201a8"
            ],
            [
             0.3333333333333333,
             "#9c179e"
            ],
            [
             0.4444444444444444,
             "#bd3786"
            ],
            [
             0.5555555555555556,
             "#d8576b"
            ],
            [
             0.6666666666666666,
             "#ed7953"
            ],
            [
             0.7777777777777778,
             "#fb9f3a"
            ],
            [
             0.8888888888888888,
             "#fdca26"
            ],
            [
             1,
             "#f0f921"
            ]
           ]
          },
          "colorway": [
           "#636efa",
           "#EF553B",
           "#00cc96",
           "#ab63fa",
           "#FFA15A",
           "#19d3f3",
           "#FF6692",
           "#B6E880",
           "#FF97FF",
           "#FECB52"
          ],
          "font": {
           "color": "#2a3f5f"
          },
          "geo": {
           "bgcolor": "white",
           "lakecolor": "white",
           "landcolor": "#E5ECF6",
           "showlakes": true,
           "showland": true,
           "subunitcolor": "white"
          },
          "hoverlabel": {
           "align": "left"
          },
          "hovermode": "closest",
          "mapbox": {
           "style": "light"
          },
          "paper_bgcolor": "white",
          "plot_bgcolor": "#E5ECF6",
          "polar": {
           "angularaxis": {
            "gridcolor": "white",
            "linecolor": "white",
            "ticks": ""
           },
           "bgcolor": "#E5ECF6",
           "radialaxis": {
            "gridcolor": "white",
            "linecolor": "white",
            "ticks": ""
           }
          },
          "scene": {
           "xaxis": {
            "backgroundcolor": "#E5ECF6",
            "gridcolor": "white",
            "gridwidth": 2,
            "linecolor": "white",
            "showbackground": true,
            "ticks": "",
            "zerolinecolor": "white"
           },
           "yaxis": {
            "backgroundcolor": "#E5ECF6",
            "gridcolor": "white",
            "gridwidth": 2,
            "linecolor": "white",
            "showbackground": true,
            "ticks": "",
            "zerolinecolor": "white"
           },
           "zaxis": {
            "backgroundcolor": "#E5ECF6",
            "gridcolor": "white",
            "gridwidth": 2,
            "linecolor": "white",
            "showbackground": true,
            "ticks": "",
            "zerolinecolor": "white"
           }
          },
          "shapedefaults": {
           "line": {
            "color": "#2a3f5f"
           }
          },
          "ternary": {
           "aaxis": {
            "gridcolor": "white",
            "linecolor": "white",
            "ticks": ""
           },
           "baxis": {
            "gridcolor": "white",
            "linecolor": "white",
            "ticks": ""
           },
           "bgcolor": "#E5ECF6",
           "caxis": {
            "gridcolor": "white",
            "linecolor": "white",
            "ticks": ""
           }
          },
          "title": {
           "x": 0.05
          },
          "xaxis": {
           "automargin": true,
           "gridcolor": "white",
           "linecolor": "white",
           "ticks": "",
           "title": {
            "standoff": 15
           },
           "zerolinecolor": "white",
           "zerolinewidth": 2
          },
          "yaxis": {
           "automargin": true,
           "gridcolor": "white",
           "linecolor": "white",
           "ticks": "",
           "title": {
            "standoff": 15
           },
           "zerolinecolor": "white",
           "zerolinewidth": 2
          }
         }
        },
        "title": {
         "text": "SAE 1",
         "x": 0.5
        },
        "xaxis": {
         "title": {
          "text": "actual spike counts"
         }
        },
        "yaxis": {
         "title": {
          "text": "reconstructed spike counts"
         }
        }
       }
      }
     },
     "metadata": {},
     "output_type": "display_data"
    }
   ],
   "source": [
    "\"\"\"View spike counts actual vs. spike counts reconstructions for flashes for SAEs.\"\"\"\n",
    "\n",
    "def plot_reconstructed_spike_counts(sae_idx, counts_flash_df, sae_model, device):\n",
    "    \"\"\"Plot actual vs reconstructed spike counts for a given instance in `Sae`.\n",
    "\n",
    "    Parameters:\n",
    "        sae_idx (int): Index for the specific Sparse Autoencoder (SAE).\n",
    "        counts_flash_df (pd.DataFrame): DataFrame containing actual spike counts.\n",
    "        sae_model (object): `Sae` model instance.\n",
    "        device (torch.device): Torch device to perform SAE computations on.\n",
    "    \"\"\"\n",
    "    cos_sims = []\n",
    "    fig = go.Figure()\n",
    "\n",
    "    max_ct_spks = 0\n",
    "    for i, (_, row) in enumerate(counts_flash_df.iterrows()):\n",
    "        spike_count_seqs = einops.repeat(\n",
    "            torch.from_numpy(row.values).bfloat16().to(device),\n",
    "            \"n_units -> batch_sz n_instances n_units\",\n",
    "            batch_sz=1,\n",
    "            n_instances=2,\n",
    "        )\n",
    "        _l1_loss, _l2_loss, _loss, feat_acts, recon_spk_cts = sae_model.forward(spike_count_seqs)\n",
    "\n",
    "        fig.add_trace(\n",
    "            go.Scatter(\n",
    "                x=row.values,\n",
    "                y=recon_spk_cts[0, sae_idx, :].to(torch.float16).detach().cpu().numpy(),\n",
    "                mode=\"markers\",\n",
    "                name=f\"flash {i}\",\n",
    "            )\n",
    "        )\n",
    "        \n",
    "        max_ct_spks = max(max_ct_spks, row.values.max())\n",
    "\n",
    "        cos_sims.append(\n",
    "            torch.cosine_similarity(\n",
    "                recon_spk_cts[0, sae_idx, :], spike_count_seqs[0, sae_idx, :], dim=0\n",
    "            ).item()\n",
    "        )\n",
    "\n",
    "    # Add y=x reference line.\n",
    "    fig.add_trace(go.Scatter(x=[0, max_ct_spks], y=[0, max_ct_spks], mode=\"lines\", name=\"y=x\"))\n",
    "    # Update the layout with axis titles and figure title.\n",
    "    fig.update_layout(\n",
    "        title={\"text\": f\"SAE {sae_idx}\",\"x\": 0.5}, \n",
    "        xaxis_title=\"actual spike counts\", \n",
    "        yaxis_title=\"reconstructed spike counts\"\n",
    "    )\n",
    "    fig.show()\n",
    "    return cos_sims\n",
    "\n",
    "spk_recon_cos_sims_sae0 = plot_reconstructed_spike_counts(0, counts_flash_df, sae, device)\n",
    "spk_recon_cos_sims_sae1 = plot_reconstructed_spike_counts(1, counts_flash_df, sae, device)"
   ]
  },
  {
   "cell_type": "code",
   "execution_count": 28,
   "metadata": {},
   "outputs": [
    {
     "data": {
      "application/vnd.plotly.v1+json": {
       "config": {
        "plotlyServerURL": "https://plot.ly"
       },
       "data": [
        {
         "mode": "markers",
         "name": "SAE 0",
         "type": "scatter",
         "x": [
          0,
          1,
          2,
          3,
          4,
          5
         ],
         "y": [
          0.953125,
          0.361328125,
          0.95703125,
          0.9296875,
          0.91015625,
          0.95703125
         ]
        },
        {
         "mode": "markers",
         "name": "SAE 1",
         "type": "scatter",
         "x": [
          0,
          1,
          2,
          3,
          4,
          5
         ],
         "y": [
          0.94921875,
          0.40234375,
          0.953125,
          0.9140625,
          0.8828125,
          0.96484375
         ]
        }
       ],
       "layout": {
        "template": {
         "data": {
          "bar": [
           {
            "error_x": {
             "color": "#2a3f5f"
            },
            "error_y": {
             "color": "#2a3f5f"
            },
            "marker": {
             "line": {
              "color": "#E5ECF6",
              "width": 0.5
             },
             "pattern": {
              "fillmode": "overlay",
              "size": 10,
              "solidity": 0.2
             }
            },
            "type": "bar"
           }
          ],
          "barpolar": [
           {
            "marker": {
             "line": {
              "color": "#E5ECF6",
              "width": 0.5
             },
             "pattern": {
              "fillmode": "overlay",
              "size": 10,
              "solidity": 0.2
             }
            },
            "type": "barpolar"
           }
          ],
          "carpet": [
           {
            "aaxis": {
             "endlinecolor": "#2a3f5f",
             "gridcolor": "white",
             "linecolor": "white",
             "minorgridcolor": "white",
             "startlinecolor": "#2a3f5f"
            },
            "baxis": {
             "endlinecolor": "#2a3f5f",
             "gridcolor": "white",
             "linecolor": "white",
             "minorgridcolor": "white",
             "startlinecolor": "#2a3f5f"
            },
            "type": "carpet"
           }
          ],
          "choropleth": [
           {
            "colorbar": {
             "outlinewidth": 0,
             "ticks": ""
            },
            "type": "choropleth"
           }
          ],
          "contour": [
           {
            "colorbar": {
             "outlinewidth": 0,
             "ticks": ""
            },
            "colorscale": [
             [
              0,
              "#0d0887"
             ],
             [
              0.1111111111111111,
              "#46039f"
             ],
             [
              0.2222222222222222,
              "#7201a8"
             ],
             [
              0.3333333333333333,
              "#9c179e"
             ],
             [
              0.4444444444444444,
              "#bd3786"
             ],
             [
              0.5555555555555556,
              "#d8576b"
             ],
             [
              0.6666666666666666,
              "#ed7953"
             ],
             [
              0.7777777777777778,
              "#fb9f3a"
             ],
             [
              0.8888888888888888,
              "#fdca26"
             ],
             [
              1,
              "#f0f921"
             ]
            ],
            "type": "contour"
           }
          ],
          "contourcarpet": [
           {
            "colorbar": {
             "outlinewidth": 0,
             "ticks": ""
            },
            "type": "contourcarpet"
           }
          ],
          "heatmap": [
           {
            "colorbar": {
             "outlinewidth": 0,
             "ticks": ""
            },
            "colorscale": [
             [
              0,
              "#0d0887"
             ],
             [
              0.1111111111111111,
              "#46039f"
             ],
             [
              0.2222222222222222,
              "#7201a8"
             ],
             [
              0.3333333333333333,
              "#9c179e"
             ],
             [
              0.4444444444444444,
              "#bd3786"
             ],
             [
              0.5555555555555556,
              "#d8576b"
             ],
             [
              0.6666666666666666,
              "#ed7953"
             ],
             [
              0.7777777777777778,
              "#fb9f3a"
             ],
             [
              0.8888888888888888,
              "#fdca26"
             ],
             [
              1,
              "#f0f921"
             ]
            ],
            "type": "heatmap"
           }
          ],
          "heatmapgl": [
           {
            "colorbar": {
             "outlinewidth": 0,
             "ticks": ""
            },
            "colorscale": [
             [
              0,
              "#0d0887"
             ],
             [
              0.1111111111111111,
              "#46039f"
             ],
             [
              0.2222222222222222,
              "#7201a8"
             ],
             [
              0.3333333333333333,
              "#9c179e"
             ],
             [
              0.4444444444444444,
              "#bd3786"
             ],
             [
              0.5555555555555556,
              "#d8576b"
             ],
             [
              0.6666666666666666,
              "#ed7953"
             ],
             [
              0.7777777777777778,
              "#fb9f3a"
             ],
             [
              0.8888888888888888,
              "#fdca26"
             ],
             [
              1,
              "#f0f921"
             ]
            ],
            "type": "heatmapgl"
           }
          ],
          "histogram": [
           {
            "marker": {
             "pattern": {
              "fillmode": "overlay",
              "size": 10,
              "solidity": 0.2
             }
            },
            "type": "histogram"
           }
          ],
          "histogram2d": [
           {
            "colorbar": {
             "outlinewidth": 0,
             "ticks": ""
            },
            "colorscale": [
             [
              0,
              "#0d0887"
             ],
             [
              0.1111111111111111,
              "#46039f"
             ],
             [
              0.2222222222222222,
              "#7201a8"
             ],
             [
              0.3333333333333333,
              "#9c179e"
             ],
             [
              0.4444444444444444,
              "#bd3786"
             ],
             [
              0.5555555555555556,
              "#d8576b"
             ],
             [
              0.6666666666666666,
              "#ed7953"
             ],
             [
              0.7777777777777778,
              "#fb9f3a"
             ],
             [
              0.8888888888888888,
              "#fdca26"
             ],
             [
              1,
              "#f0f921"
             ]
            ],
            "type": "histogram2d"
           }
          ],
          "histogram2dcontour": [
           {
            "colorbar": {
             "outlinewidth": 0,
             "ticks": ""
            },
            "colorscale": [
             [
              0,
              "#0d0887"
             ],
             [
              0.1111111111111111,
              "#46039f"
             ],
             [
              0.2222222222222222,
              "#7201a8"
             ],
             [
              0.3333333333333333,
              "#9c179e"
             ],
             [
              0.4444444444444444,
              "#bd3786"
             ],
             [
              0.5555555555555556,
              "#d8576b"
             ],
             [
              0.6666666666666666,
              "#ed7953"
             ],
             [
              0.7777777777777778,
              "#fb9f3a"
             ],
             [
              0.8888888888888888,
              "#fdca26"
             ],
             [
              1,
              "#f0f921"
             ]
            ],
            "type": "histogram2dcontour"
           }
          ],
          "mesh3d": [
           {
            "colorbar": {
             "outlinewidth": 0,
             "ticks": ""
            },
            "type": "mesh3d"
           }
          ],
          "parcoords": [
           {
            "line": {
             "colorbar": {
              "outlinewidth": 0,
              "ticks": ""
             }
            },
            "type": "parcoords"
           }
          ],
          "pie": [
           {
            "automargin": true,
            "type": "pie"
           }
          ],
          "scatter": [
           {
            "fillpattern": {
             "fillmode": "overlay",
             "size": 10,
             "solidity": 0.2
            },
            "type": "scatter"
           }
          ],
          "scatter3d": [
           {
            "line": {
             "colorbar": {
              "outlinewidth": 0,
              "ticks": ""
             }
            },
            "marker": {
             "colorbar": {
              "outlinewidth": 0,
              "ticks": ""
             }
            },
            "type": "scatter3d"
           }
          ],
          "scattercarpet": [
           {
            "marker": {
             "colorbar": {
              "outlinewidth": 0,
              "ticks": ""
             }
            },
            "type": "scattercarpet"
           }
          ],
          "scattergeo": [
           {
            "marker": {
             "colorbar": {
              "outlinewidth": 0,
              "ticks": ""
             }
            },
            "type": "scattergeo"
           }
          ],
          "scattergl": [
           {
            "marker": {
             "colorbar": {
              "outlinewidth": 0,
              "ticks": ""
             }
            },
            "type": "scattergl"
           }
          ],
          "scattermapbox": [
           {
            "marker": {
             "colorbar": {
              "outlinewidth": 0,
              "ticks": ""
             }
            },
            "type": "scattermapbox"
           }
          ],
          "scatterpolar": [
           {
            "marker": {
             "colorbar": {
              "outlinewidth": 0,
              "ticks": ""
             }
            },
            "type": "scatterpolar"
           }
          ],
          "scatterpolargl": [
           {
            "marker": {
             "colorbar": {
              "outlinewidth": 0,
              "ticks": ""
             }
            },
            "type": "scatterpolargl"
           }
          ],
          "scatterternary": [
           {
            "marker": {
             "colorbar": {
              "outlinewidth": 0,
              "ticks": ""
             }
            },
            "type": "scatterternary"
           }
          ],
          "surface": [
           {
            "colorbar": {
             "outlinewidth": 0,
             "ticks": ""
            },
            "colorscale": [
             [
              0,
              "#0d0887"
             ],
             [
              0.1111111111111111,
              "#46039f"
             ],
             [
              0.2222222222222222,
              "#7201a8"
             ],
             [
              0.3333333333333333,
              "#9c179e"
             ],
             [
              0.4444444444444444,
              "#bd3786"
             ],
             [
              0.5555555555555556,
              "#d8576b"
             ],
             [
              0.6666666666666666,
              "#ed7953"
             ],
             [
              0.7777777777777778,
              "#fb9f3a"
             ],
             [
              0.8888888888888888,
              "#fdca26"
             ],
             [
              1,
              "#f0f921"
             ]
            ],
            "type": "surface"
           }
          ],
          "table": [
           {
            "cells": {
             "fill": {
              "color": "#EBF0F8"
             },
             "line": {
              "color": "white"
             }
            },
            "header": {
             "fill": {
              "color": "#C8D4E3"
             },
             "line": {
              "color": "white"
             }
            },
            "type": "table"
           }
          ]
         },
         "layout": {
          "annotationdefaults": {
           "arrowcolor": "#2a3f5f",
           "arrowhead": 0,
           "arrowwidth": 1
          },
          "autotypenumbers": "strict",
          "coloraxis": {
           "colorbar": {
            "outlinewidth": 0,
            "ticks": ""
           }
          },
          "colorscale": {
           "diverging": [
            [
             0,
             "#8e0152"
            ],
            [
             0.1,
             "#c51b7d"
            ],
            [
             0.2,
             "#de77ae"
            ],
            [
             0.3,
             "#f1b6da"
            ],
            [
             0.4,
             "#fde0ef"
            ],
            [
             0.5,
             "#f7f7f7"
            ],
            [
             0.6,
             "#e6f5d0"
            ],
            [
             0.7,
             "#b8e186"
            ],
            [
             0.8,
             "#7fbc41"
            ],
            [
             0.9,
             "#4d9221"
            ],
            [
             1,
             "#276419"
            ]
           ],
           "sequential": [
            [
             0,
             "#0d0887"
            ],
            [
             0.1111111111111111,
             "#46039f"
            ],
            [
             0.2222222222222222,
             "#7201a8"
            ],
            [
             0.3333333333333333,
             "#9c179e"
            ],
            [
             0.4444444444444444,
             "#bd3786"
            ],
            [
             0.5555555555555556,
             "#d8576b"
            ],
            [
             0.6666666666666666,
             "#ed7953"
            ],
            [
             0.7777777777777778,
             "#fb9f3a"
            ],
            [
             0.8888888888888888,
             "#fdca26"
            ],
            [
             1,
             "#f0f921"
            ]
           ],
           "sequentialminus": [
            [
             0,
             "#0d0887"
            ],
            [
             0.1111111111111111,
             "#46039f"
            ],
            [
             0.2222222222222222,
             "#7201a8"
            ],
            [
             0.3333333333333333,
             "#9c179e"
            ],
            [
             0.4444444444444444,
             "#bd3786"
            ],
            [
             0.5555555555555556,
             "#d8576b"
            ],
            [
             0.6666666666666666,
             "#ed7953"
            ],
            [
             0.7777777777777778,
             "#fb9f3a"
            ],
            [
             0.8888888888888888,
             "#fdca26"
            ],
            [
             1,
             "#f0f921"
            ]
           ]
          },
          "colorway": [
           "#636efa",
           "#EF553B",
           "#00cc96",
           "#ab63fa",
           "#FFA15A",
           "#19d3f3",
           "#FF6692",
           "#B6E880",
           "#FF97FF",
           "#FECB52"
          ],
          "font": {
           "color": "#2a3f5f"
          },
          "geo": {
           "bgcolor": "white",
           "lakecolor": "white",
           "landcolor": "#E5ECF6",
           "showlakes": true,
           "showland": true,
           "subunitcolor": "white"
          },
          "hoverlabel": {
           "align": "left"
          },
          "hovermode": "closest",
          "mapbox": {
           "style": "light"
          },
          "paper_bgcolor": "white",
          "plot_bgcolor": "#E5ECF6",
          "polar": {
           "angularaxis": {
            "gridcolor": "white",
            "linecolor": "white",
            "ticks": ""
           },
           "bgcolor": "#E5ECF6",
           "radialaxis": {
            "gridcolor": "white",
            "linecolor": "white",
            "ticks": ""
           }
          },
          "scene": {
           "xaxis": {
            "backgroundcolor": "#E5ECF6",
            "gridcolor": "white",
            "gridwidth": 2,
            "linecolor": "white",
            "showbackground": true,
            "ticks": "",
            "zerolinecolor": "white"
           },
           "yaxis": {
            "backgroundcolor": "#E5ECF6",
            "gridcolor": "white",
            "gridwidth": 2,
            "linecolor": "white",
            "showbackground": true,
            "ticks": "",
            "zerolinecolor": "white"
           },
           "zaxis": {
            "backgroundcolor": "#E5ECF6",
            "gridcolor": "white",
            "gridwidth": 2,
            "linecolor": "white",
            "showbackground": true,
            "ticks": "",
            "zerolinecolor": "white"
           }
          },
          "shapedefaults": {
           "line": {
            "color": "#2a3f5f"
           }
          },
          "ternary": {
           "aaxis": {
            "gridcolor": "white",
            "linecolor": "white",
            "ticks": ""
           },
           "baxis": {
            "gridcolor": "white",
            "linecolor": "white",
            "ticks": ""
           },
           "bgcolor": "#E5ECF6",
           "caxis": {
            "gridcolor": "white",
            "linecolor": "white",
            "ticks": ""
           }
          },
          "title": {
           "x": 0.05
          },
          "xaxis": {
           "automargin": true,
           "gridcolor": "white",
           "linecolor": "white",
           "ticks": "",
           "title": {
            "standoff": 15
           },
           "zerolinecolor": "white",
           "zerolinewidth": 2
          },
          "yaxis": {
           "automargin": true,
           "gridcolor": "white",
           "linecolor": "white",
           "ticks": "",
           "title": {
            "standoff": 15
           },
           "zerolinecolor": "white",
           "zerolinewidth": 2
          }
         }
        },
        "title": {
         "text": "Cosine similarities (actual spike counts, reconstructed spike counts) for each flash"
        },
        "xaxis": {
         "title": {
          "text": "flash number"
         }
        },
        "yaxis": {
         "title": {
          "text": "cosine similarity (spikes across units)"
         }
        }
       }
      }
     },
     "metadata": {},
     "output_type": "display_data"
    }
   ],
   "source": [
    "\"\"\"Plot cosine similarities of spikes-to-reconstructions for each flash.\"\"\"\n",
    "\n",
    "x = np.arange(len(spk_recon_cos_sims_sae0))\n",
    "fig = go.Figure()\n",
    "fig.add_trace(go.Scatter(x=x, y=spk_recon_cos_sims_sae0, mode=\"markers\", name=\"SAE 0\"))\n",
    "fig.add_trace(go.Scatter(x=x, y=spk_recon_cos_sims_sae1, mode=\"markers\", name=\"SAE 1\"))\n",
    "fig.update_layout(\n",
    "    title=\"Cosine similarities (actual spike counts, reconstructed spike counts) for each flash\",\n",
    "    xaxis_title=\"flash number\",\n",
    "    yaxis_title=\"cosine similarity (spikes across units)\",\n",
    ")"
   ]
  },
  {
   "cell_type": "code",
   "execution_count": 29,
   "metadata": {},
   "outputs": [
    {
     "data": {
      "text/plain": [
       "'Visualize decoder weights.'"
      ]
     },
     "execution_count": 29,
     "metadata": {},
     "output_type": "execute_result"
    }
   ],
   "source": [
    "\"\"\"Visualize decoder weights.\"\"\"\n",
    "\n",
    "# px.histogram(sae.W_dec.to(torch.float16).detach().flatten().cpu().numpy())"
   ]
  },
  {
   "cell_type": "markdown",
   "metadata": {},
   "source": [
    "- Find spike_counts examples within \"flash\" stim start and stop times\n",
    "- Feed those spikes into SAE and see what features fire"
   ]
  },
  {
   "cell_type": "markdown",
   "metadata": {},
   "source": [
    "## Scratchpad below here"
   ]
  },
  {
   "cell_type": "code",
   "execution_count": 30,
   "metadata": {},
   "outputs": [
    {
     "name": "stdout",
     "output_type": "stream",
     "text": [
      "index=4\n"
     ]
    }
   ],
   "source": [
    "def rotated_binary_search(arr, target, left, right):\n",
    "    \"\"\"Performs a binary search on a rotated sorted array.\"\"\"\n",
    "    if left > right:\n",
    "        return -1  # Target not found\n",
    "    mid = (left + right) // 2\n",
    "    if arr[mid] == target:\n",
    "        return mid\n",
    "    if arr[left] <= arr[mid]:  # if left half is sorted\n",
    "        if arr[left] <= target < arr[mid]:  # if target is in the left sorted half\n",
    "            return rotated_binary_search(arr, target, left, mid - 1)\n",
    "        else:  # search in right half\n",
    "            return rotated_binary_search(arr, target, mid + 1, right)\n",
    "    else:  # right half is sorted\n",
    "        if arr[mid] < target <= arr[right]:\n",
    "            return rotated_binary_search(arr, target, mid + 1, right)\n",
    "        else:  # search in left half\n",
    "            return rotated_binary_search(arr, target, left, mid - 1)\n",
    "\n",
    "# Example\n",
    "arr = [7, 8, 9, 2, 3, 4]\n",
    "target = 3\n",
    "index = rotated_binary_search(arr, target, 0, (len(arr) - 1))\n",
    "print(f\"{index=}\")"
   ]
  },
  {
   "cell_type": "code",
   "execution_count": null,
   "metadata": {},
   "outputs": [],
   "source": []
  }
 ],
 "metadata": {
  "kernelspec": {
   "display_name": "mini",
   "language": "python",
   "name": "python3"
  },
  "language_info": {
   "codemirror_mode": {
    "name": "ipython",
    "version": 3
   },
   "file_extension": ".py",
   "mimetype": "text/x-python",
   "name": "python",
   "nbconvert_exporter": "python",
   "pygments_lexer": "ipython3",
   "version": "3.11.11"
  }
 },
 "nbformat": 4,
 "nbformat_minor": 2
}
