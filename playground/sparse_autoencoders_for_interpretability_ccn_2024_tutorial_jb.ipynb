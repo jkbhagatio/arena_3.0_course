{
 "cells": [
  {
   "cell_type": "markdown",
   "metadata": {},
   "source": [
    "*Note*: This is Jai Bhagat's edited version of Jack Lindsey's SAE tutorial. \n",
    "\n",
    "For details about the original tutorial, see here: https://x.com/Jack_W_Lindsey/status/1825760546177822854"
   ]
  },
  {
   "cell_type": "markdown",
   "metadata": {
    "id": "RVzj-5vnOJYQ"
   },
   "source": [
    "# Introduction to sparse autoencoders (SAEs) for interpretability"
   ]
  },
  {
   "cell_type": "markdown",
   "metadata": {
    "id": "kD2hEepx58tp"
   },
   "source": [
    "Sparse autoencoders (SAEs) are a tool for decomposing neural network model activations into more interpretable components. SAEs are an instance of a family of “sparse dictionary learning” algorithms that seek to express data as a weighted linear sum of sparsely active components.\n",
    "\n",
    "Sparse dictionary learning-based approaches to interpreting neural networks are based on two assumptions:\n",
    "\n",
    "1. *The linear representation hypothesis*: the claim that neural networks represent meaningful concepts (\"features\") as linear directions in their activation spaces\n",
    "\n",
    "2. *The superposition hypothesis*: the claim that ground-truth features are only sparsely \"active\" (i.e. only relevant a small fraction of the time), and thus a large number of features can be encoded with minimal interference in a much smaller neural network representation. While neither of these assumptions has been conclusively established, they have proven quite useful.\n",
    "\n",
    "In the past year, a variety of groups have shown that overcomplete SAEs are capable of decomposing a model's activity into semantically meaningful components that shed light on how a model represents concepts and computes outputs. A standard overcomplete SAE consists of two layers. The first layer (encoder) maps the input (the other model's activity) to a higher-dimensional layer via a learned linear transformation followed by a ReLU nonlinearity. We refer to the units of this higher-dimensional layer (the hidden layer in the Autoencoder, sometimes called the \"Autoencoder latent space\") as **SAE features**. The second layer (decoder) attempts to reconstruct the model activations via a linear transformation of the feature activations. In the standard SAE formulation, the model is trained to minimize a combination of (1) reconstruction error and (2) an L1 regularization penalty on the feature activations, which incentivizes sparsity.\n",
    "\n",
    "Note that recent work suggests that different objective functions and/or architectures can improve SAE performance, but in this tutorial we will focus on the basic setup.\n",
    "\n",
    "<div>\n",
    "<img src=\"./superposition.png\" />\n",
    "</div>\n",
    "\n",
    "(Image from [Toy Models of Superposition](https://transformer-circuits.pub/2022/toy_model/index.html))"
   ]
  },
  {
   "cell_type": "markdown",
   "metadata": {},
   "source": [
    "*Note*: Until reaching header \"(1)\", can just run the code cells, don't need to read."
   ]
  },
  {
   "cell_type": "code",
   "execution_count": 1,
   "metadata": {
    "id": "koQM0J3d5DSy"
   },
   "outputs": [],
   "source": [
    "\"\"\"Notebook settings and imports.\"\"\"\n",
    "\n",
    "%load_ext autoreload\n",
    "%autoreload 2\n",
    "# %flow mode reactive\n",
    "\n",
    "import os\n",
    "from dataclasses import dataclass\n",
    "from typing import Callable, List, Optional, Tuple, Union\n",
    "\n",
    "import einops\n",
    "import numpy as np\n",
    "import plotly.express as px\n",
    "import plotly.graph_objects as go\n",
    "import torch\n",
    "from jaxtyping import Float, Int\n",
    "from matplotlib import pyplot as plt\n",
    "from rich import print as rprint\n",
    "from torch import Tensor, nn\n",
    "from torch.nn import functional as F\n",
    "from tqdm.notebook import tqdm\n",
    "from transformer_lens.utils import to_numpy"
   ]
  },
  {
   "cell_type": "code",
   "execution_count": 2,
   "metadata": {
    "id": "dAZS1slHPvr6"
   },
   "outputs": [
    {
     "name": "stdout",
     "output_type": "stream",
     "text": [
      "device=device(type='cuda')\n",
      "torch.__version__='2.5.1+cu121'\n"
     ]
    }
   ],
   "source": [
    "\"\"\"Create some helper variables and functions we'll use downstream.\"\"\"\n",
    "\n",
    "os.environ[\"KMP_DUPLICATE_LIB_OK\"] = \"TRUE\"  # allow for multiple versions of OpenMP to be used\n",
    "device = torch.device(\"cuda\" if torch.cuda.is_available() else \"cpu\")  # set cuda device\n",
    "print(f\"{device=}\")\n",
    "print(f\"{torch.__version__=}\")\n",
    "update_layout_set = {  # plotly fig layout params to be used as kwargs in `hist` below\n",
    "    \"xaxis_range\",\n",
    "    \"yaxis_range\",\n",
    "    \"hovermode\",\n",
    "    \"xaxis_title\",\n",
    "    \"yaxis_title\",\n",
    "    \"colorbar\",\n",
    "    \"colorscale\",\n",
    "    \"coloraxis\",\n",
    "    \"title_x\",\n",
    "    \"bargap\",\n",
    "    \"bargroupgap\",\n",
    "    \"xaxis_tickformat\",\n",
    "    \"yaxis_tickformat\",\n",
    "    \"title_y\",\n",
    "    \"legend_title_text\",\n",
    "    \"xaxis_showgrid\",\n",
    "    \"xaxis_gridwidth\",\n",
    "    \"xaxis_gridcolor\",\n",
    "    \"yaxis_showgrid\",\n",
    "    \"yaxis_gridwidth\",\n",
    "    \"yaxis_gridcolor\",\n",
    "    \"showlegend\",\n",
    "    \"xaxis_tickmode\",\n",
    "    \"yaxis_tickmode\",\n",
    "    \"margin\",\n",
    "    \"xaxis_visible\",\n",
    "    \"yaxis_visible\",\n",
    "    \"bargap\",\n",
    "    \"bargroupgap\",\n",
    "    \"coloraxis_showscale\",\n",
    "    \"xaxis_tickangle\",\n",
    "    \"yaxis2_range\",\n",
    "}\n",
    "\n",
    "\n",
    "def hist(\n",
    "    tensor: Union[torch.Tensor, List[torch.Tensor], List[List], np.ndarray],  # input data for hist\n",
    "    renderer: str | None,  # renderer for plotly fig\n",
    "    **kwargs  # layout params to update plotly fig\n",
    "):\n",
    "    \"\"\"Enhances plotly histogram functions by accepting various data formats and layout params.\"\"\"\n",
    "    kwargs_post = {k: v for k, v in kwargs.items() if k in update_layout_set}\n",
    "    kwargs_pre = {k: v for k, v in kwargs.items() if k not in update_layout_set}\n",
    "    kwargs_pre.pop(\"draw\", True)\n",
    "    return_fig = kwargs_pre.pop(\"return_fig\", False)\n",
    "    if isinstance(tensor, list):\n",
    "        if isinstance(tensor[0], torch.Tensor):\n",
    "            arr = [to_numpy(tn) for tn in tensor]\n",
    "        elif isinstance(tensor[0], list):\n",
    "            arr = [np.array(tn) for tn in tensor]\n",
    "        else:\n",
    "            arr = np.array(tensor)\n",
    "    else:\n",
    "        arr = to_numpy(tensor)\n",
    "    if \"modebar_add\" not in kwargs_post:\n",
    "        kwargs_post[\"modebar_add\"] = [\n",
    "            \"drawline\",\n",
    "            \"drawopenpath\",\n",
    "            \"drawclosedpath\",\n",
    "            \"drawcircle\",\n",
    "            \"drawrect\",\n",
    "            \"eraseshape\",\n",
    "        ]\n",
    "    add_mean_line = kwargs_pre.pop(\"add_mean_line\", False)\n",
    "    names = kwargs_pre.pop(\"names\", None)\n",
    "    if \"barmode\" not in kwargs_post:\n",
    "        kwargs_post[\"barmode\"] = \"overlay\"\n",
    "    if \"bargap\" not in kwargs_post:\n",
    "        kwargs_post[\"bargap\"] = 0.0\n",
    "    if \"margin\" in kwargs_post and isinstance(kwargs_post[\"margin\"], int):\n",
    "        kwargs_post[\"margin\"] = dict.fromkeys(list(\"tblr\"), kwargs_post[\"margin\"])\n",
    "    if \"hovermode\" not in kwargs_post:\n",
    "        kwargs_post[\"hovermode\"] = \"x unified\"\n",
    "    if \"autosize\" not in kwargs_post:\n",
    "        kwargs_post[\"autosize\"] = False\n",
    "\n",
    "    # If `arr` has a list of arrays, then just doing px.histogram doesn't work annoyingly enough.\n",
    "    # (This is janky, even for my functions!)\n",
    "    if isinstance(arr, list) and isinstance(arr[0], np.ndarray):\n",
    "        assert \"marginal\" not in kwargs_pre, \"Can't use `marginal` with a list of arrays\"\n",
    "        for thing_to_move_from_pre_to_post in [\"title\", \"template\", \"height\", \"width\", \"labels\"]:\n",
    "            if thing_to_move_from_pre_to_post in kwargs_pre:\n",
    "                kwargs_post[thing_to_move_from_pre_to_post] = kwargs_pre.pop(\n",
    "                    thing_to_move_from_pre_to_post\n",
    "                )\n",
    "        if \"labels\" in kwargs_post:\n",
    "            kwargs_post[\"xaxis_title_text\"] = kwargs_post[\"labels\"].get(\"x\", \"\")\n",
    "            kwargs_post[\"yaxis_title_text\"] = kwargs_post[\"labels\"].get(\"y\", \"\")\n",
    "            del kwargs_post[\"labels\"]\n",
    "        fig = go.Figure(layout=go.Layout(**kwargs_post))\n",
    "        if \"nbins\" in kwargs_pre:\n",
    "            kwargs_pre[\"nbinsx\"] = int(kwargs_pre.pop(\"nbins\"))\n",
    "        for x in arr:\n",
    "            fig.add_trace(\n",
    "                go.Histogram(x=x, name=names.pop(0) if names is not None else None, **kwargs_pre)\n",
    "            )\n",
    "    else:\n",
    "        fig = px.histogram(x=arr, **kwargs_pre).update_layout(**kwargs_post)\n",
    "        if names is not None:\n",
    "            for i in range(len(fig.data)):\n",
    "                fig.data[i][\"name\"] = names[i // 2 if \"marginal\" in kwargs_pre else i]\n",
    "\n",
    "    if add_mean_line:\n",
    "        if arr.ndim == 1:\n",
    "            fig.add_vline(\n",
    "                x=arr.mean(),\n",
    "                line_width=3,\n",
    "                line_dash=\"dash\",\n",
    "                line_color=\"black\",\n",
    "                annotation_text=f\"Mean = {arr.mean():.3f}\",\n",
    "                annotation_position=\"top\",\n",
    "            )\n",
    "        elif arr.ndim == 2:\n",
    "            for i in range(arr.shape[0]):\n",
    "                fig.add_vline(\n",
    "                    x=arr[i].mean(),\n",
    "                    line_width=3,\n",
    "                    line_dash=\"dash\",\n",
    "                    line_color=\"black\",\n",
    "                    annotation_text=f\"Mean = {arr.mean():.3f}\",\n",
    "                    annotation_position=\"top\",\n",
    "                )\n",
    "    \n",
    "    return fig if return_fig else fig.show(renderer=renderer)"
   ]
  },
  {
   "cell_type": "markdown",
   "metadata": {
    "id": "2MD88v4Zvw-r"
   },
   "source": [
    "# (1) Training sparse autoencoders on a toy model with known ground-truth features"
   ]
  },
  {
   "cell_type": "markdown",
   "metadata": {},
   "source": [
    "## Problem and Toy Model setup and training"
   ]
  },
  {
   "cell_type": "markdown",
   "metadata": {
    "id": "coYq5m5IW9np"
   },
   "source": [
    "To begin, we will consider a toy model of neural network activations which we can use to experiment with sparse autoencoders. Our toy model embeds a set of 5 ground-truth \"features\" (sparsely active, uncorrelated variables whose activity is denoted with a five-dimensional vector $x$) into a lower-dimensional (2D) space (hidden activations $h$), in such a way that they can be reconstructed accurately ($x'$ is the attempted reconstruction) with a single-layer decoder.  \n",
    "\n",
    "$$\n",
    "\\begin{aligned}\n",
    "h &= W x \\hspace{1em} ... \\hspace{1em} [2 \\times 5] @ [5 \\times 1] \\rightarrow [2 \\times 1] \\\\\n",
    "x' &= \\operatorname{ReLU}(W^T h + b) \\hspace{1em} ... \\hspace{1em} [5 \\times 2] @ [2 \\times 1] + [2 \\times 1] \\rightarrow [5 \\times 1]\n",
    "\\end{aligned}\n",
    "$$\n",
    "\n",
    "\n",
    "In other words our toy model is itself the opposite of a sparse autoencoder! It attempts to near-losslessly compress high-dimensional information (in this case five uncorrelated variables) into a lower-dimensional space -- a kind of representation we call *superposition* (we can refer to our toy model as a \"toy model of superposition\"). This is meant to (very roughly!) model what we believe is going on in large deep learning models like LLMs, which manage to represent, and compute with, a large variety of concepts despite possessing a relatively small number of neurons.\n",
    "\n",
    "The job of our sparse autoencoder will be to *reverse* this compression process -- extracting the latent sparse and high-dimensional (5D in this example) features from the dense, low-dimensional (2D in this example) model activations."
   ]
  },
  {
   "cell_type": "code",
   "execution_count": 3,
   "metadata": {
    "id": "GcaikHGJW9_F"
   },
   "outputs": [],
   "source": [
    "\"\"\"Create Toy Model of NN Activations (Superposition).\"\"\"\n",
    "\n",
    "# We use a constant learning rate in our learning rate scheduler for our toy model optimizer.\n",
    "def constant_lr(*_):\n",
    "    \"\"\"Returns a constant learning rate.\"\"\"\n",
    "    return 1.0\n",
    "\n",
    "\n",
    "@dataclass\n",
    "class Config:\n",
    "    \"\"\"Config to set some params for (Toy) `Model`.\"\"\"\n",
    "    # We specify `n_instances` in a single training loop to let us sweep over sparsity or other \n",
    "    # hyperparameters efficiently. We can treat `n_instances` kinda like another batch dimension.\n",
    "    n_instances: int  # number of model instances to optimize in parallel\n",
    "    n_feat_gt: int = 5  # number of ground truth features in the generated data\n",
    "    n_hidden: int = 2  # number of hidden units in the model\n",
    "\n",
    "\n",
    "class Model(nn.Module):\n",
    "    \"\"\"Toy Model of NN Activations (Superposition).\"\"\"\n",
    "    # We specify the shape of the model params using the typing package.\n",
    "    # Our linear map is x -> ReLU(W.T @ W @ x + b_final)\n",
    "    W: Float[Tensor, \"n_instances n_hidden n_feat_gt\"]\n",
    "    b_final: Float[Tensor, \"n_instances n_feat_gt 1\"]\n",
    "\n",
    "    def __init__(\n",
    "        self,\n",
    "        cfg: Config,\n",
    "        feature_probability: Optional[Union[float, Tensor]],  # prob of each feature being nonzero\n",
    "        device: torch.device = device\n",
    "    ):\n",
    "        \"\"\"Sets model parameters and feature probabilities.\"\"\"\n",
    "        super().__init__()\n",
    "        self.cfg = cfg\n",
    "\n",
    "        # Broadcast feature probability to all features to all instances.\n",
    "        feature_probability = torch.tensor(feature_probability)\n",
    "        self.feature_probability = feature_probability.to(device).broadcast_to(\n",
    "            (cfg.n_instances, cfg.n_feat_gt)\n",
    "        )\n",
    "\n",
    "        # Initialize params and send them to device.\n",
    "        self.W = nn.Parameter(\n",
    "            nn.init.xavier_normal_(torch.empty((cfg.n_instances, cfg.n_hidden, cfg.n_feat_gt)))\n",
    "        )\n",
    "        self.b_final = nn.Parameter(torch.zeros((cfg.n_instances, cfg.n_feat_gt)))\n",
    "        self.to(device)\n",
    "\n",
    "    def forward(\n",
    "        self, features: Float[Tensor, \"batch_sz n_instances n_feat_gt\"]\n",
    "    ) -> Float[Tensor, \"batch_sz n_instances n_feat_gt\"]:\n",
    "        \"\"\"Computes the hidden activations, and then the feature reconstruction attempt.\"\"\"\n",
    "        hidden = einops.einsum(\n",
    "            self.W,\n",
    "            features,\n",
    "            \"n_instances n_hidden n_feat_gt, batch_sz n_instances n_feat_gt \" \n",
    "            \"-> batch_sz n_instances n_hidden\",\n",
    "        )\n",
    "        out = einops.einsum(\n",
    "            self.W,\n",
    "            hidden,\n",
    "            \"n_instances n_hidden n_feat_gt, batch_sz n_instances n_hidden \"\n",
    "            \"-> batch_sz n_instances n_feat_gt\",\n",
    "        )\n",
    "        return F.relu(out + self.b_final)\n",
    "\n",
    "    def generate_batch(self, batch_sz: int) -> Float[Tensor, \"batch_sz n_instances n_feat_gt\"]:\n",
    "        \"\"\"Generates a batch of data (features of binary values).\"\"\"\n",
    "        # Generate features and \"feature absence seeds\".\n",
    "        feat = torch.rand(\n",
    "            (batch_sz, self.cfg.n_instances, self.cfg.n_feat_gt), device=self.W.device\n",
    "        )\n",
    "        feat_seeds = torch.rand(\n",
    "            (batch_sz, self.cfg.n_instances, self.cfg.n_feat_gt), device=self.W.device,\n",
    "        )\n",
    "        feat_is_absent = feat_seeds <= self.feature_probability\n",
    "        \n",
    "        # Create batch from features with some zerod.\n",
    "        batch = torch.where(feat_is_absent, feat, 0.0)\n",
    "        return batch\n",
    "\n",
    "    def calculate_loss(\n",
    "        self,\n",
    "        out: Float[Tensor, \"batch n_instances n_feat_gt\"],\n",
    "        batch: Float[Tensor, \"batch n_instances n_feat_gt\"],\n",
    "    ) -> Float[Tensor, \"\"]:\n",
    "        \"\"\"Calculates the loss for a given batch, using loss described in the Toy Models paper.\"\"\"\n",
    "        error = (batch - out) ** 2\n",
    "        loss = einops.reduce(error, \"batch_sz n_instances n_feat_gt -> n_instances\", \"mean\").sum()\n",
    "        return loss\n",
    "\n",
    "    def optimize(\n",
    "        self,\n",
    "        batch_sz: int = 1024,\n",
    "        steps: int = 10_000,\n",
    "        log_freq: int = 100,\n",
    "        lr: float = 1e-3,\n",
    "        lr_scale: Callable[[int, int], float] = constant_lr,\n",
    "    ):\n",
    "        \"\"\"Optimizes the model using the given hyperparameters.\"\"\"\n",
    "        optimizer = torch.optim.Adam(list(self.parameters()), lr=lr)\n",
    "        progress_bar = tqdm(range(steps))\n",
    "\n",
    "        for step in progress_bar:\n",
    "            # Update learning rate.\n",
    "            step_lr = lr * lr_scale(step, steps)\n",
    "            for group in optimizer.param_groups:\n",
    "                group[\"lr\"] = step_lr\n",
    "\n",
    "            # Optimize.\n",
    "            optimizer.zero_grad()\n",
    "            batch = self.generate_batch(batch_sz)\n",
    "            out = self(batch)\n",
    "            loss = self.calculate_loss(out, batch)\n",
    "            loss.backward()\n",
    "            optimizer.step()\n",
    "\n",
    "            # Display progress bar.\n",
    "            if step % log_freq == 0 or (step + 1 == steps):\n",
    "                progress_bar.set_postfix(loss=loss.item() / self.cfg.n_instances, lr=step_lr)"
   ]
  },
  {
   "cell_type": "markdown",
   "metadata": {
    "id": "3PgY8_Mxvw-r"
   },
   "source": [
    "First, we'll optimize our toy model to compress sparsely active features, and generate an example batch of model activations."
   ]
  },
  {
   "cell_type": "code",
   "execution_count": 4,
   "metadata": {
    "colab": {
     "base_uri": "https://localhost:8080/",
     "height": 49,
     "referenced_widgets": [
      "a57a452486634ae1be768520876279af",
      "493716aa9c7d4ff1abb71f55e5b2bd78",
      "503c926da5114c1ea5c9b7ee5f48a45e",
      "6b60c31264e84e6aae9c2645aa2bec7f",
      "f45225444d8a426b8dd01c6e2e175b7d",
      "37d94e17fcf84c6c8afda115ef2eae08",
      "adbb86624ce34d2f8b1d4e2ab89635d9",
      "27697357021f41cb806a4f2a916ce1cb",
      "0521116e947a48388e0dbc51d6081a47",
      "21d33ffda5b54199bc27113d17b9391c",
      "38918279746b4591a02429e9aa7bd60d"
     ]
    },
    "executionInfo": {
     "elapsed": 18028,
     "status": "ok",
     "timestamp": 1723063231819,
     "user": {
      "displayName": "Jack Lindsey",
      "userId": "09885759716350612548"
     },
     "user_tz": 240
    },
    "id": "8FWJNyOjvw-r",
    "outputId": "29a900c0-c991-4e43-bafb-522fe6d8ac48"
   },
   "outputs": [
    {
     "data": {
      "application/vnd.jupyter.widget-view+json": {
       "model_id": "9bef967714514fc8a7e60606d6415b9b",
       "version_major": 2,
       "version_minor": 0
      },
      "text/plain": [
       "  0%|          | 0/10000 [00:00<?, ?it/s]"
      ]
     },
     "metadata": {},
     "output_type": "display_data"
    }
   ],
   "source": [
    "\"\"\"Create activations from Toy Model of Superposition.\"\"\"\n",
    "\n",
    "torch.manual_seed(0)  # set torch rng seed for reproducibility\n",
    "feature_probability = 0.01  # sparsity of the ground-truth \"features\"\n",
    "\n",
    "# Set up and train model.\n",
    "cfg = Config(\n",
    "    n_instances=8,  # use multiple toy models in parallel to see robustness/consistency\n",
    "    n_feat_gt=5,  # ground truth features in the toy model\n",
    "    n_hidden=2,  # dimensions in the toy model activations\n",
    ")\n",
    "model = Model(\n",
    "    cfg=cfg,\n",
    "    device=device,\n",
    "    feature_probability=feature_probability\n",
    ")\n",
    "model.optimize(steps=10_000)\n",
    "\n",
    "# Generate activations from the model.\n",
    "batch_sz = 1000\n",
    "features = model.generate_batch(batch_sz)  # -> [batch_sz, n_instances, n_features_gt]\n",
    "activations = einops.einsum(\n",
    "    features,\n",
    "    model.W,\n",
    "    \"batch_sz instances features, instances hidden features -> instances hidden batch_sz\",\n",
    ")"
   ]
  },
  {
   "cell_type": "code",
   "execution_count": 5,
   "metadata": {},
   "outputs": [
    {
     "name": "stdout",
     "output_type": "stream",
     "text": [
      "model.W.shape=torch.Size([8, 2, 5])\n",
      "\n",
      "features.shape=torch.Size([1000, 8, 5])\n",
      "\n",
      "activations.shape=torch.Size([8, 2, 1000])\n"
     ]
    }
   ],
   "source": [
    "\"\"\"Look at some tensor shapes\"\"\"\n",
    "\n",
    "print(f\"{model.W.shape=}\\n\\n{features.shape=}\\n\\n{activations.shape=}\")"
   ]
  },
  {
   "cell_type": "code",
   "execution_count": 6,
   "metadata": {},
   "outputs": [
    {
     "name": "stdout",
     "output_type": "stream",
     "text": [
      "Single feature activation of features 1, 3 in model instances 4, 7 (respectively):\n",
      "\n",
      "tensor([[0.0000, 0.0000, 0.0000, 0.0000, 0.0000],\n",
      "        [0.0000, 0.0000, 0.0000, 0.0000, 0.0000],\n",
      "        [0.0000, 0.0000, 0.0000, 0.0000, 0.0000],\n",
      "        [0.2135, 0.0000, 0.0000, 0.0000, 0.0000],\n",
      "        [0.0000, 0.0000, 0.0000, 0.0000, 0.0000],\n",
      "        [0.0000, 0.0000, 0.0000, 0.0000, 0.0000],\n",
      "        [0.0000, 0.0000, 0.6634, 0.0000, 0.0000],\n",
      "        [0.0000, 0.0000, 0.0000, 0.0000, 0.0000]], device='cuda:0')\n",
      "tensor([[ 0.0000,  0.0000],\n",
      "        [ 0.0000,  0.0000],\n",
      "        [ 0.0000,  0.0000],\n",
      "        [ 0.2016, -0.1450],\n",
      "        [ 0.0000,  0.0000],\n",
      "        [ 0.0000,  0.0000],\n",
      "        [ 0.7726, -0.0214],\n",
      "        [ 0.0000,  0.0000]], device='cuda:0', grad_fn=<SelectBackward0>)\n",
      "---\n",
      "\n",
      "Two-feature activations in a model:\n",
      "\n",
      "tensor([[0.0000, 0.0000, 0.0000, 0.0000, 0.0000],\n",
      "        [0.3403, 0.0000, 0.9667, 0.0000, 0.0000],\n",
      "        [0.0000, 0.0000, 0.0000, 0.0000, 0.0000],\n",
      "        [0.0000, 0.0000, 0.0000, 0.0000, 0.0000],\n",
      "        [0.0000, 0.0000, 0.0000, 0.0000, 0.0000],\n",
      "        [0.0000, 0.0000, 0.0000, 0.0000, 0.0000],\n",
      "        [0.0000, 0.0000, 0.0000, 0.0000, 0.0000],\n",
      "        [0.0000, 0.0000, 0.0000, 0.0000, 0.0000]], device='cuda:0')\n",
      "tensor([[ 0.0000,  0.0000],\n",
      "        [-0.7489, -0.3772],\n",
      "        [ 0.0000,  0.0000],\n",
      "        [ 0.0000,  0.0000],\n",
      "        [ 0.0000,  0.0000],\n",
      "        [ 0.0000,  0.0000],\n",
      "        [ 0.0000,  0.0000],\n",
      "        [ 0.0000,  0.0000]], device='cuda:0', grad_fn=<SelectBackward0>)\n"
     ]
    }
   ],
   "source": [
    "\"\"\"Look at some example feature values and activations\"\"\"\n",
    "\n",
    "print(\"Single feature activation of features 1, 3 in model instances 4, 7 (respectively):\\n\")\n",
    "print(features[3])  # feature vectors for all model instances for the fourth batch\n",
    "print(activations[:, :, 3])  # activations for all model instances for the fourth batch\n",
    "print(\"---\\n\")\n",
    "\n",
    "print(\"Two-feature activations in a model:\\n\")  # rare\n",
    "batch, instance, feat = features.shape\n",
    "inner_flag = False\n",
    "# Find the first batch with more than one feature active in a single model instance.\n",
    "for i in range(batch):\n",
    "    if inner_flag:\n",
    "        break\n",
    "    for j in range(instance):\n",
    "        if features[i, j].count_nonzero() > 1:\n",
    "            inner_flag = True\n",
    "            break\n",
    "print(features[i - 1])\n",
    "print(activations[:, :, i - 1])"
   ]
  },
  {
   "cell_type": "markdown",
   "metadata": {
    "id": "i6ycEbMf98mb"
   },
   "source": [
    "Now we'll look at how the model maps features from the original 5-d feature space to the 2-d activation space.\n",
    "\n",
    "Since the model was trained on sparse activations (typically where only 1 if not 0 features were \"found active\" in the example), the model learned to represent each feature as a distinct direction (the weights took distinct values for each feature) in the 2D activation space.\n",
    "\n",
    "The last two dimensions of the model's weight tensor (`model.W`) represents the \"direction vector\" in the 2-d activation space corresponding to each of the 5 features. (These \"direction vectors\" show how the presence of each feature, when active, influences the position in the 2D activation space. If an activation has a value further along a direction vector, this can be interpreted as an increased representation of that feature for that activation.)\n",
    "\n",
    "We will plot the direction vectors as black lines from the origin with circles at the end (the weight values) for each of the 5 features.\n",
    "\n",
    "We can also visualize our batch of example activations (blue x's). In this example, our features are so sparse that usually at most one feature is active at a time, and so the activations are aligned with a single feature direction. Sometimes more than one feature is active, resulting in activations that are linear combinations of multiple feature directions."
   ]
  },
  {
   "cell_type": "code",
   "execution_count": 7,
   "metadata": {
    "colab": {
     "base_uri": "https://localhost:8080/",
     "height": 227
    },
    "executionInfo": {
     "elapsed": 9909,
     "status": "ok",
     "timestamp": 1723063283882,
     "user": {
      "displayName": "Jack Lindsey",
      "userId": "09885759716350612548"
     },
     "user_tz": 240
    },
    "id": "wMEXdaF7UWA2",
    "outputId": "daa4f882-9d18-46cc-d89c-8597932c1af3"
   },
   "outputs": [
    {
     "data": {
      "image/png": "[encoded data removed]",
      "text/plain": [
       "<Figure size 800x400 with 8 Axes>"
      ]
     },
     "metadata": {},
     "output_type": "display_data"
    }
   ],
   "source": [
    "\"\"\"Plot activations on top of features (model weights).\"\"\"\n",
    "\n",
    "def plot_features_in_2d(\n",
    "        W: Float[Tensor, \"n_instances n_hidden n_feat_gt\"],\n",
    "        activations: Optional[Float[Tensor, \"n_instances n_hidden batch_sz\"]] = None\n",
    "    ):\n",
    "    \"\"\"Plot model features in 2-d with a subplot for each model instance.\"\"\"\n",
    "    fig, axs = plt.subplots(\n",
    "        1, cfg.n_instances, figsize=(cfg.n_instances, 4), sharex=True, sharey=True\n",
    "    )\n",
    "\n",
    "    # Loop over each model instance, plotting the feature vectors and activations.\n",
    "    for i in range(cfg.n_instances):\n",
    "        ax = axs[i]\n",
    "        ax.set_aspect(\"equal\")\n",
    "        ax.set_xticks([-1, 0, 1])\n",
    "        ax.set_yticks([-1, 0, 1])\n",
    "\n",
    "        # Plot feature direction vectors.\n",
    "        for j in range(cfg.n_feat_gt):\n",
    "            x, y = W[i, :, j].detach().cpu()\n",
    "            ax.plot([0, x], [0, y], \"k-\")  # line from origin to point\n",
    "            ax.plot(x, y, \"o\", color=\"k\")  # arrow marker\n",
    "\n",
    "        # Plot example activations.\n",
    "        if activations is not None:  # ignore '0' activations\n",
    "            for d in range(batch_sz):\n",
    "                x, y = activations[i, :, d].detach().cpu()\n",
    "                ax.plot(x, y, color=\"blue\", marker=\"x\", alpha=0.5)\n",
    "\n",
    "        ax.set_title(f\"Instance {i+1}\", fontsize=12)\n",
    "\n",
    "    plt.tight_layout()\n",
    "    plt.show()\n",
    "\n",
    "\n",
    "plot_features_in_2d(model.W, activations=activations)"
   ]
  },
  {
   "cell_type": "markdown",
   "metadata": {},
   "source": [
    "## SAE setup and training"
   ]
  },
  {
   "cell_type": "markdown",
   "metadata": {
    "id": "bZ8uXi56vw-r"
   },
   "source": [
    "We call the hidden activations of the autoencoder **autoencoder features**.\n",
    "\n",
    "Notation:\n",
    "\n",
    "- (5) `n_features_gt` = number of ground-truth features in the data generating process.\n",
    "- (2) `n_hidden` = number of hidden dimensions of the underlying model. \n",
    "- (2) `n_input_ae` = number of input dimensions for the **autoencoder**.\n",
    "- (5) `n_hidden_ae` = number of hidden dimensions / neurons / features of your **autoencoder**. We require `n_hidden_ae >= n_features_gt` for our autoencoder to have a chance of reconstructing all the features. Usually we'll have `n_hidden_ae == n_features_gt` in this section."
   ]
  },
  {
   "cell_type": "markdown",
   "metadata": {},
   "source": [
    "We're going to train a sparse autoencoder to try to infer the underlying features -- their activity values and their embedding directions -- from the model activations alone.  We'll take in the hidden state activations $h$, map them to a larger (\"overcomplete\") hidden state $z$, then reconstruct the original hidden state $h$ from $z$.\n",
    "\n",
    "$$\n",
    "\\begin{aligned}\n",
    "z &= \\operatorname{ReLU}({W_{enc}}^T(h - b_{dec}) + b_{enc}) \\hspace{1em} ... \\hspace{1em} [5 \\times 2] @ ([2 \\times 1] - [2 \\times 1]) + [5 \\times 1] \\rightarrow [5 \\times 1] \\\\\n",
    "h' &= {W_{dec}}^Tz + b_{dec}  \\hspace{1em} ... \\hspace{1em} [2 \\times 5] @ [5 \\times 1] + [2 \\times 1] \\rightarrow [2 \\times 1]\n",
    "\\end{aligned}\n",
    "$$"
   ]
  },
  {
   "cell_type": "markdown",
   "metadata": {},
   "source": [
    "### Some important notes on training the SAE"
   ]
  },
  {
   "cell_type": "markdown",
   "metadata": {},
   "source": [
    "- We're training our autoencoder on the hidden state activations $h$ of our model, rather than from the original randomly generated ground-truth features $x$. We don't generate data directly from the `Model.generate_batch` method, but rather we use this method to generate features then use those features to generate hidden state activations for our model, which we use as the input to our autoencoder.\n",
    "\n",
    "- Our autoencoder loss is the sum of the $l1$ and $l2$ losses returned by the `forward` function.\n",
    "\n",
    "- The `optimize` method logs some more interesting data, including the fraction of hidden state activations $h$ which are active, for each instance. It also returns these values as a tensor at the end.\n",
    "\n",
    "- We normalize the decoder weights at each optimization step. Normalizing the decoder weights does the following:\n",
    "\n",
    "1. Prevents the model from making features artificially sparse by making decoder weights very large (which would allow very small activations to reconstruct the original activations).\n",
    "2. Makes it easier to compare features importance in the activations reconstruction.\n",
    "3. Makes the feature directions more interpretable (in this particular case. The weights will be on the same scale as the original feature directions)."
   ]
  },
  {
   "cell_type": "markdown",
   "metadata": {},
   "source": [
    "<details>\n",
    "<summary>Question - in the formulas above (for the Toy Model and then for the SAE), using the notation defined above, what are the shapes of x, x', z, h, and h' ?</summary>\n",
    "\n",
    "Ignoring batch and instance dimensions:\n",
    "\n",
    "- `x` and `x'` are vectors of shape `(n_features_gt,)`\n",
    "- `z` is a vector of shape `(n_hidden_ae,)`, which will usually be equal to or larger than `n_features_gt` (so that our autoencoder is overcomplete)\n",
    "- `h` and `h'` are vectors of shape `(n_input_ae,)`, also equal to `(n_hidden,)`\n",
    "\n",
    "Including batch and instance dimensions, all shapes `(d,)` turn into `(batch_size, n_instances, d)`.\n",
    "\n",
    "</details>"
   ]
  },
  {
   "cell_type": "markdown",
   "metadata": {
    "id": "uNwpo1vavw-r"
   },
   "source": [
    "We define an `AEConfig` class below. Its arguments are `n_instances`, `n_input_ae` (which is the size of the toy model's hidden layer, i.e. the input into the autoencoder), and `n_hidden_ae` (which is the size of the **AutoEncoder's** hidden layer). In our case, we'll set this to be the same as the ground-truth number of features `n_features_gt` of the toy model (in real applications, you don't know the ground truth number of features!!)"
   ]
  },
  {
   "cell_type": "code",
   "execution_count": 8,
   "metadata": {
    "id": "tX8LcRtubmJ_"
   },
   "outputs": [],
   "source": [
    "\"\"\"Create SAE for taking in Toy Model's activations and finding features.\"\"\"\n",
    "\n",
    "@dataclass\n",
    "class AutoEncoderConfig:\n",
    "    \"\"\"Config to set some params for (Toy) `AutoEncoder`.\"\"\"\n",
    "    n_instances: int  # number of model instances to optimize in parallel\n",
    "    n_input_ae: int  # number of input units to the autoencoder\n",
    "    n_hidden_ae: int  # number of hidden units in the autoencoder\n",
    "    l1_coeff: float = 0.5  # relative weight of sparsity_loss : activations_reconstruction_loss\n",
    "\n",
    "\n",
    "class AutoEncoder(nn.Module):\n",
    "    \"\"\"SAE for finding features in the activations of the Toy Model.\"\"\"\n",
    "    # Shapes of weights and biases for the encoder and decoder in the SAE.\n",
    "    W_enc: Float[Tensor, \"n_instances n_input_ae n_hidden_ae\"]\n",
    "    W_dec: Float[Tensor, \"n_instances n_hidden_ae n_input_ae\"]\n",
    "    b_enc: Float[Tensor, \"n_instances n_hidden_ae\"]\n",
    "    b_dec: Float[Tensor, \"n_instances n_input_ae\"]\n",
    "\n",
    "    def __init__(self, cfg: AutoEncoderConfig):\n",
    "        \"\"\"Sets model parameters.\"\"\"\n",
    "        super().__init__()\n",
    "        self.cfg = cfg\n",
    "        self.W_enc = nn.Parameter(\n",
    "            nn.init.xavier_normal_(torch.empty((cfg.n_instances, cfg.n_input_ae, cfg.n_hidden_ae)))\n",
    "        )\n",
    "        self.W_dec = nn.Parameter(\n",
    "            nn.init.xavier_normal_(torch.empty((cfg.n_instances, cfg.n_hidden_ae, cfg.n_input_ae)))\n",
    "        )\n",
    "        self.b_enc = nn.Parameter(torch.zeros(cfg.n_instances, cfg.n_hidden_ae))\n",
    "        self.b_dec = nn.Parameter(torch.zeros(cfg.n_instances, cfg.n_input_ae))\n",
    "        self.to(device)\n",
    "\n",
    "    def forward(self, h: Float[Tensor, \"batch_sz n_instances n_hidden\"]):\n",
    "        \"\"\"Computes loss as a function of SAE feature sparsity and activations reconstructions.\"\"\"\n",
    "        # Compute encoder hidden activations.\n",
    "        z = F.relu(\n",
    "            einops.einsum(\n",
    "                self.W_enc,\n",
    "                h - self.b_dec,  # center the activations around bias (\"baseline\" activation)\n",
    "                \"n_instances n_input_ae n_hidden_ae, batch_sz n_instances n_input_ae  \"\n",
    "                \"-> batch_sz n_instances n_hidden_ae\"\n",
    "            )\n",
    "            + self.b_enc\n",
    "        )\n",
    "\n",
    "        # Compute reconstructed input.\n",
    "        h_prime = (\n",
    "            einops.einsum(\n",
    "                self.W_dec,\n",
    "                z,\n",
    "                \"n_instances n_hidden_ae n_input_ae, batch_sz n_instances n_hidden_ae \"\n",
    "                \"-> batch_sz n_instances n_input_ae\"\n",
    "            )\n",
    "            + self.b_dec\n",
    "        )\n",
    "\n",
    "        # Compute loss (l1_loss and l2_loss shapes: [batch_sz n_instances]) and return values.\n",
    "        l1_loss = z.abs().sum(-1)  # sparsity component of loss, over n_hidden_ae\n",
    "        l2_loss = (h_prime - h).pow(2).mean(-1)  # activations reconstruction loss, over n_input_ae\n",
    "        loss = (self.cfg.l1_coeff * l1_loss + l2_loss).mean(0).sum()  # scalar\n",
    "        return l1_loss, l2_loss, loss, z, h_prime\n",
    "\n",
    "    @torch.no_grad()\n",
    "    def normalize_decoder(self) -> None:\n",
    "        \"\"\"Normalizes the decoder weights to have unit norm.\"\"\"\n",
    "        self.W_dec.data = self.W_dec.data / self.W_dec.data.norm(dim=2, keepdim=True)\n",
    "\n",
    "    def optimize(\n",
    "        self,\n",
    "        model: Model,  # Toy Model of Superposition\n",
    "        batch_sz: int = 1024,\n",
    "        steps: int = 10_000,\n",
    "        log_freq: int = 100,\n",
    "        lr: float = 1e-3,\n",
    "        lr_scale: Callable[[int, int], float] = constant_lr,\n",
    "    ):\n",
    "        \"\"\"Optimizes the autoencoder using the given hyperparameters.\"\"\"\n",
    "        optimizer = torch.optim.Adam(list(self.parameters()), lr=lr)\n",
    "\n",
    "        # Create lists to store data we'll eventually be plotting.\n",
    "        frac_active_list = []  # fraction of active units (features) for each step\n",
    "        data_log = {\"frac_active\": [], \"W_enc\": [], \"W_dec\": [], \"titles\": []}\n",
    "\n",
    "        progress_bar = tqdm(range(steps))\n",
    "        for step in progress_bar:\n",
    "            # Normalize decoder weights at each step to prevent artificially small / sparse\n",
    "            # features from large decoder weights.\n",
    "            self.normalize_decoder()\n",
    "\n",
    "            # Update learning rate.\n",
    "            step_lr = lr * lr_scale(step, steps)\n",
    "            for group in optimizer.param_groups:\n",
    "                group[\"lr\"] = step_lr\n",
    "\n",
    "            # Get a batch of hidden activations from the model.\n",
    "            with torch.inference_mode():\n",
    "                features = model.generate_batch(batch_sz)\n",
    "                h = einops.einsum(\n",
    "                    features,\n",
    "                    model.W,\n",
    "                    \"batch_sz n_instances n_feat_gt, n_instances n_hidden n_feat_gt \"\n",
    "                    \"-> batch_sz n_instances n_hidden\",\n",
    "                )\n",
    "\n",
    "            # Optimize.\n",
    "            optimizer.zero_grad()\n",
    "            l1_loss, l2_loss, loss, z, _ = self.forward(h)\n",
    "            loss.backward()\n",
    "            optimizer.step()\n",
    "\n",
    "            # Calculate the sparsities and them to the list.\n",
    "            frac_active = einops.reduce(\n",
    "                (z.abs() > 1e-8).float(),\n",
    "                \"batch_sz n_instances hidden_ae -> n_instances hidden_ae\",\n",
    "                \"mean\",\n",
    "            )\n",
    "            frac_active_list.append(frac_active)\n",
    "\n",
    "            # Display progress bar, and append new values for plotting.\n",
    "            if step % log_freq == 0 or (step + 1 == steps):\n",
    "                progress_bar.set_postfix(\n",
    "                    l1_loss=self.cfg.l1_coeff * l1_loss.mean(0).sum().item(),\n",
    "                    l2_loss=l2_loss.mean(0).sum().item(),\n",
    "                    lr=step_lr,\n",
    "                )\n",
    "                data_log[\"W_enc\"].append(self.W_enc.detach().cpu())\n",
    "                data_log[\"W_dec\"].append(self.W_dec.detach().cpu())\n",
    "                data_log[\"titles\"].append(f\"Step {step}/{steps}: \")\n",
    "                data_log[\"frac_active\"].append(frac_active.detach().cpu())\n",
    "\n",
    "        return data_log"
   ]
  },
  {
   "cell_type": "markdown",
   "metadata": {},
   "source": [
    "<details>\n",
    "<summary>Question - why do you think we sum over the hidden dimension when computing <code>l1_loss</code>, but average over the hidden dimension for <code>l2_loss</code> ?</summary>\n",
    "\n",
    "Suppose we took the average of $l1$ loss over the `n_hidden_ae` dimension; we'll create a thought experiment to show why this would be bad.\n",
    "\n",
    "Consider a single feature, in an autoencoder with a fixed `n_input_ae` but a variable number of features `n_hidden_ae`. If we double the number of features, then any change in that feature will affect the $l2$ loss by the same amount, since we average over `n_input_ae` (*not* `n_hidden_ae` in computing the $l2$ loss). But the $l1$ loss would be affected by half that amount, since we average the $l2$ over the features (i.e. over `n_hidden_ae`). So the more features we have, the less any given feature will be encouraged to be sparse. In the limit, feature sparsity basically won't matter at all; only reconstruction loss will matter.\n",
    "\n",
    "On the other hand, if we sum $l1$ loss over the `n_hidden_ae` dimension, then the effect of a change in any given feature is still the same for $l1$ and $l2$ loss, so we don't have this problem.\n",
    "\n",
    "</details>"
   ]
  },
  {
   "cell_type": "markdown",
   "metadata": {
    "id": "CF4mUxhMvw-s"
   },
   "source": [
    "Next, we train our autoencoder. \n",
    "\n",
    "As noted above, the `optimize` function returns a dictionary `data_log` containing data which is useful for visualizing the training process. We'll use this to visualize the autoencoder training over time."
   ]
  },
  {
   "cell_type": "code",
   "execution_count": 9,
   "metadata": {
    "colab": {
     "base_uri": "https://localhost:8080/",
     "height": 49,
     "referenced_widgets": [
      "c848f39b702f4f759f339144df4836dd",
      "592169dff1c44a58b51ad5e31307f264",
      "6a648ab770184c3284ac6e2821f851cc",
      "b25c4a7c4a9b4847836e15a55b1cf1a6",
      "45fa0b331538476f9215c1b8af22877e",
      "f15f9b9009674abaa8b8098a8f4c027b",
      "2d4ae01ac9f74d64817231f4fb692339",
      "dc7c5e9a8b8d4a80a5d689905832bd4e",
      "c61254c79d0d4e8aba1c6ef7f0e1a405",
      "bd2e4f3cdcb4491a86797822845fa639",
      "c582a20d221146278d761172b6361934"
     ]
    },
    "executionInfo": {
     "elapsed": 23334,
     "status": "ok",
     "timestamp": 1723064276545,
     "user": {
      "displayName": "Jack Lindsey",
      "userId": "09885759716350612548"
     },
     "user_tz": 240
    },
    "id": "3b_Vf7f7vw-s",
    "outputId": "80601014-43ea-4094-c908-4f4a2054679e"
   },
   "outputs": [
    {
     "data": {
      "application/vnd.jupyter.widget-view+json": {
       "model_id": "84f1a54d45064dd4b533adae13a1cd50",
       "version_major": 2,
       "version_minor": 0
      },
      "text/plain": [
       "  0%|          | 0/10000 [00:00<?, ?it/s]"
      ]
     },
     "metadata": {},
     "output_type": "display_data"
    }
   ],
   "source": [
    "\"\"\"Train the SAE.\"\"\"\n",
    "\n",
    "ae_cfg = AutoEncoderConfig(\n",
    "    n_instances=8,\n",
    "    n_input_ae=2,\n",
    "    n_hidden_ae=5,\n",
    "    l1_coeff=0.5,\n",
    ")\n",
    "sae = AutoEncoder(ae_cfg)\n",
    "\n",
    "data_log = sae.optimize(\n",
    "    model=model,\n",
    "    steps=10_000,\n",
    "    log_freq=1000,\n",
    ")"
   ]
  },
  {
   "cell_type": "code",
   "execution_count": 10,
   "metadata": {},
   "outputs": [
    {
     "name": "stdout",
     "output_type": "stream",
     "text": [
      "n_logged_steps: [11, 11, 11, 11]\n",
      "\n",
      "data_log['W_enc'][-1].shape=torch.Size([8, 2, 5])\n",
      "\n",
      "data_log['W_dec'][-1].shape=torch.Size([8, 5, 2])\n"
     ]
    }
   ],
   "source": [
    "\"\"\"Verify some info about the training run.\"\"\"\n",
    "\n",
    "# Print the number of steps we logged: these should all be equal (`steps // log_freq + 1``)\n",
    "print(f\"n_logged_steps: {[len(data_log[k]) for k in data_log]}\\n\")\n",
    "\n",
    "# Verify the shapes of the encoder and decoder weights from the last step\n",
    "print(f\"{data_log['W_enc'][-1].shape=}\\n\\n{data_log['W_dec'][-1].shape=}\")"
   ]
  },
  {
   "cell_type": "markdown",
   "metadata": {
    "id": "aqPiEdishus7"
   },
   "source": [
    "Now we'll plot the feature directions inferred by the model. Specifically, we'll plot the encoder and decoder weights of the model. We should expect to see a pentagon pattern, as we saw in the Toy Model's weights, for all model instances."
   ]
  },
  {
   "cell_type": "code",
   "execution_count": 11,
   "metadata": {
    "colab": {
     "base_uri": "https://localhost:8080/",
     "height": 474
    },
    "executionInfo": {
     "elapsed": 1470,
     "status": "ok",
     "timestamp": 1723064281763,
     "user": {
      "displayName": "Jack Lindsey",
      "userId": "09885759716350612548"
     },
     "user_tz": 240
    },
    "id": "wj8Xx_hBvw-s",
    "outputId": "0bd1aa7e-8794-454c-9ff9-b938466dca8a"
   },
   "outputs": [
    {
     "name": "stdout",
     "output_type": "stream",
     "text": [
      "ENCODER\n"
     ]
    },
    {
     "data": {
      "image/png": "[encoded data removed]",
      "text/plain": [
       "<Figure size 800x400 with 8 Axes>"
      ]
     },
     "metadata": {},
     "output_type": "display_data"
    },
    {
     "name": "stdout",
     "output_type": "stream",
     "text": [
      "DECODER\n"
     ]
    },
    {
     "data": {
      "image/png": "[encoded data removed]",
      "text/plain": [
       "<Figure size 800x400 with 8 Axes>"
      ]
     },
     "metadata": {},
     "output_type": "display_data"
    }
   ],
   "source": [
    "\"\"\"Plot the SAE's encoder and decoder weights.\"\"\"\n",
    "\n",
    "print(\"ENCODER\")\n",
    "plot_features_in_2d(\n",
    "    data_log[\"W_enc\"][-1],  # -1 for the weights at the last step\n",
    ")\n",
    "\n",
    "print(\"DECODER\")\n",
    "plot_features_in_2d(\n",
    "    data_log[\"W_dec\"][-1].transpose(\n",
    "        -1, -2\n",
    "    ),  # transpose to match encoder weights shape (5 feat on 2 ax)\n",
    ")"
   ]
  },
  {
   "cell_type": "markdown",
   "metadata": {
    "id": "XCOR4Vbevw-s"
   },
   "source": [
    "That doesn't look good!  Many of the SAE's encoder weights (features) are zero! And the decoder weights (features) corresponding to the zero-encoder weights are pointing in essentially random directions.\n",
    "\n",
    "Let's dig into this further by looking at feature sparsity levels over training. We should find that there are 2 types of features: ones which converge roughly to the expected `feature_probability` (which we set to $0.01$ previously), and ones which quickly converge to zero. These latter neurons are **\"dead autoencoder features\"**, and they're an annoying problem when training SAEs."
   ]
  },
  {
   "cell_type": "code",
   "execution_count": 12,
   "metadata": {
    "colab": {
     "base_uri": "https://localhost:8080/",
     "height": 542
    },
    "executionInfo": {
     "elapsed": 1897,
     "status": "ok",
     "timestamp": 1723064344731,
     "user": {
      "displayName": "Jack Lindsey",
      "userId": "09885759716350612548"
     },
     "user_tz": 240
    },
    "id": "kh33p6xYvw-s",
    "outputId": "0ee45a89-8480-421c-cb59-c9f2ac1efc9c"
   },
   "outputs": [
    {
     "data": {
      "application/vnd.plotly.v1+json": {
       "config": {
        "plotlyServerURL": "https://plot.ly"
       },
       "data": [
        {
         "legendgroup": "Instance #0",
         "legendgrouptitle": {
          "text": "Instance #0"
         },
         "mode": "lines",
         "name": "AE neuron #0",
         "opacity": 0.3,
         "type": "scatter",
         "x": [
          0,
          1,
          2,
          3,
          4,
          5,
          6,
          7,
          8,
          9,
          10
         ],
         "y": [
          0.0283203125,
          0.005859375,
          0.01171875,
          0.0048828125,
          0.005859375,
          0.005859375,
          0.005859375,
          0.005859375,
          0.00390625,
          0.0068359375,
          0.0078125
         ]
        },
        {
         "legendgroup": "Instance #0",
         "legendgrouptitle": {
          "text": "Instance #0"
         },
         "mode": "lines",
         "name": "AE neuron #1",
         "opacity": 0.3,
         "type": "scatter",
         "x": [
          0,
          1,
          2,
          3,
          4,
          5,
          6,
          7,
          8,
          9,
          10
         ],
         "y": [
          0.0322265625,
          0.0029296875,
          0.0048828125,
          0.0048828125,
          0.005859375,
          0.0068359375,
          0.00390625,
          0.0078125,
          0.0068359375,
          0.0048828125,
          0.00390625
         ]
        },
        {
         "legendgroup": "Instance #0",
         "legendgrouptitle": {
          "text": "Instance #0"
         },
         "mode": "lines",
         "name": "AE neuron #2",
         "opacity": 0.3,
         "type": "scatter",
         "x": [
          0,
          1,
          2,
          3,
          4,
          5,
          6,
          7,
          8,
          9,
          10
         ],
         "y": [
          0.0185546875,
          0,
          0,
          0,
          0,
          0,
          0,
          0,
          0,
          0,
          0
         ]
        },
        {
         "legendgroup": "Instance #0",
         "legendgrouptitle": {
          "text": "Instance #0"
         },
         "mode": "lines",
         "name": "AE neuron #3",
         "opacity": 0.3,
         "type": "scatter",
         "x": [
          0,
          1,
          2,
          3,
          4,
          5,
          6,
          7,
          8,
          9,
          10
         ],
         "y": [
          0.0283203125,
          0,
          0,
          0,
          0,
          0,
          0,
          0,
          0,
          0,
          0
         ]
        },
        {
         "legendgroup": "Instance #0",
         "legendgrouptitle": {
          "text": "Instance #0"
         },
         "mode": "lines",
         "name": "AE neuron #4",
         "opacity": 0.3,
         "type": "scatter",
         "x": [
          0,
          1,
          2,
          3,
          4,
          5,
          6,
          7,
          8,
          9,
          10
         ],
         "y": [
          0.0322265625,
          0.0068359375,
          0.0048828125,
          0.0068359375,
          0.005859375,
          0.0068359375,
          0.005859375,
          0.0029296875,
          0.00390625,
          0.0078125,
          0.005859375
         ]
        },
        {
         "legendgroup": "Instance #1",
         "legendgrouptitle": {
          "text": "Instance #1"
         },
         "mode": "lines",
         "name": "AE neuron #0",
         "opacity": 0.3,
         "type": "scatter",
         "x": [
          0,
          1,
          2,
          3,
          4,
          5,
          6,
          7,
          8,
          9,
          10
         ],
         "y": [
          0.0263671875,
          0.0107421875,
          0.00390625,
          0.005859375,
          0.005859375,
          0.00390625,
          0.0078125,
          0.005859375,
          0.0048828125,
          0.0048828125,
          0.0087890625
         ]
        },
        {
         "legendgroup": "Instance #1",
         "legendgrouptitle": {
          "text": "Instance #1"
         },
         "mode": "lines",
         "name": "AE neuron #1",
         "opacity": 0.3,
         "type": "scatter",
         "x": [
          0,
          1,
          2,
          3,
          4,
          5,
          6,
          7,
          8,
          9,
          10
         ],
         "y": [
          0.0205078125,
          0,
          0,
          0,
          0,
          0,
          0,
          0,
          0,
          0,
          0
         ]
        },
        {
         "legendgroup": "Instance #1",
         "legendgrouptitle": {
          "text": "Instance #1"
         },
         "mode": "lines",
         "name": "AE neuron #2",
         "opacity": 0.3,
         "type": "scatter",
         "x": [
          0,
          1,
          2,
          3,
          4,
          5,
          6,
          7,
          8,
          9,
          10
         ],
         "y": [
          0.025390625,
          0.0029296875,
          0.0048828125,
          0.0068359375,
          0.0029296875,
          0.00390625,
          0.005859375,
          0.0087890625,
          0.005859375,
          0.0009765625,
          0.0068359375
         ]
        },
        {
         "legendgroup": "Instance #1",
         "legendgrouptitle": {
          "text": "Instance #1"
         },
         "mode": "lines",
         "name": "AE neuron #3",
         "opacity": 0.3,
         "type": "scatter",
         "x": [
          0,
          1,
          2,
          3,
          4,
          5,
          6,
          7,
          8,
          9,
          10
         ],
         "y": [
          0.0263671875,
          0.00390625,
          0.0078125,
          0.0068359375,
          0.005859375,
          0.005859375,
          0.0048828125,
          0.0068359375,
          0.0029296875,
          0.00390625,
          0.0087890625
         ]
        },
        {
         "legendgroup": "Instance #1",
         "legendgrouptitle": {
          "text": "Instance #1"
         },
         "mode": "lines",
         "name": "AE neuron #4",
         "opacity": 0.3,
         "type": "scatter",
         "x": [
          0,
          1,
          2,
          3,
          4,
          5,
          6,
          7,
          8,
          9,
          10
         ],
         "y": [
          0.0205078125,
          0,
          0,
          0,
          0,
          0,
          0,
          0,
          0,
          0,
          0
         ]
        },
        {
         "legendgroup": "Instance #2",
         "legendgrouptitle": {
          "text": "Instance #2"
         },
         "mode": "lines",
         "name": "AE neuron #0",
         "opacity": 0.3,
         "type": "scatter",
         "x": [
          0,
          1,
          2,
          3,
          4,
          5,
          6,
          7,
          8,
          9,
          10
         ],
         "y": [
          0.015625,
          0,
          0,
          0,
          0,
          0,
          0,
          0,
          0,
          0,
          0
         ]
        },
        {
         "legendgroup": "Instance #2",
         "legendgrouptitle": {
          "text": "Instance #2"
         },
         "mode": "lines",
         "name": "AE neuron #1",
         "opacity": 0.3,
         "type": "scatter",
         "x": [
          0,
          1,
          2,
          3,
          4,
          5,
          6,
          7,
          8,
          9,
          10
         ],
         "y": [
          0.0224609375,
          0,
          0,
          0,
          0,
          0,
          0,
          0,
          0,
          0,
          0
         ]
        },
        {
         "legendgroup": "Instance #2",
         "legendgrouptitle": {
          "text": "Instance #2"
         },
         "mode": "lines",
         "name": "AE neuron #2",
         "opacity": 0.3,
         "type": "scatter",
         "x": [
          0,
          1,
          2,
          3,
          4,
          5,
          6,
          7,
          8,
          9,
          10
         ],
         "y": [
          0.015625,
          0.005859375,
          0.005859375,
          0.00390625,
          0.0078125,
          0.013671875,
          0.005859375,
          0.005859375,
          0.0029296875,
          0.0087890625,
          0.005859375
         ]
        },
        {
         "legendgroup": "Instance #2",
         "legendgrouptitle": {
          "text": "Instance #2"
         },
         "mode": "lines",
         "name": "AE neuron #3",
         "opacity": 0.3,
         "type": "scatter",
         "x": [
          0,
          1,
          2,
          3,
          4,
          5,
          6,
          7,
          8,
          9,
          10
         ],
         "y": [
          0.0185546875,
          0.0078125,
          0.0185546875,
          0.0068359375,
          0.0087890625,
          0.009765625,
          0.0087890625,
          0.00390625,
          0.009765625,
          0.0078125,
          0.0087890625
         ]
        },
        {
         "legendgroup": "Instance #2",
         "legendgrouptitle": {
          "text": "Instance #2"
         },
         "mode": "lines",
         "name": "AE neuron #4",
         "opacity": 0.3,
         "type": "scatter",
         "x": [
          0,
          1,
          2,
          3,
          4,
          5,
          6,
          7,
          8,
          9,
          10
         ],
         "y": [
          0.029296875,
          0.0107421875,
          0.0078125,
          0.005859375,
          0.0078125,
          0.0107421875,
          0.005859375,
          0.00390625,
          0.0048828125,
          0.0107421875,
          0.0087890625
         ]
        },
        {
         "legendgroup": "Instance #3",
         "legendgrouptitle": {
          "text": "Instance #3"
         },
         "mode": "lines",
         "name": "AE neuron #0",
         "opacity": 0.3,
         "type": "scatter",
         "x": [
          0,
          1,
          2,
          3,
          4,
          5,
          6,
          7,
          8,
          9,
          10
         ],
         "y": [
          0.0263671875,
          0,
          0,
          0,
          0,
          0,
          0,
          0,
          0,
          0,
          0
         ]
        },
        {
         "legendgroup": "Instance #3",
         "legendgrouptitle": {
          "text": "Instance #3"
         },
         "mode": "lines",
         "name": "AE neuron #1",
         "opacity": 0.3,
         "type": "scatter",
         "x": [
          0,
          1,
          2,
          3,
          4,
          5,
          6,
          7,
          8,
          9,
          10
         ],
         "y": [
          0.0185546875,
          0.0107421875,
          0.0087890625,
          0.0078125,
          0.0078125,
          0.0107421875,
          0.0087890625,
          0.0029296875,
          0.015625,
          0.0087890625,
          0.01171875
         ]
        },
        {
         "legendgroup": "Instance #3",
         "legendgrouptitle": {
          "text": "Instance #3"
         },
         "mode": "lines",
         "name": "AE neuron #2",
         "opacity": 0.3,
         "type": "scatter",
         "x": [
          0,
          1,
          2,
          3,
          4,
          5,
          6,
          7,
          8,
          9,
          10
         ],
         "y": [
          0.029296875,
          0.01171875,
          0.0048828125,
          0.0078125,
          0.005859375,
          0.0068359375,
          0.001953125,
          0.0078125,
          0.0068359375,
          0.00390625,
          0.00390625
         ]
        },
        {
         "legendgroup": "Instance #3",
         "legendgrouptitle": {
          "text": "Instance #3"
         },
         "mode": "lines",
         "name": "AE neuron #3",
         "opacity": 0.3,
         "type": "scatter",
         "x": [
          0,
          1,
          2,
          3,
          4,
          5,
          6,
          7,
          8,
          9,
          10
         ],
         "y": [
          0.021484375,
          0,
          0,
          0,
          0,
          0,
          0,
          0,
          0,
          0,
          0
         ]
        },
        {
         "legendgroup": "Instance #3",
         "legendgrouptitle": {
          "text": "Instance #3"
         },
         "mode": "lines",
         "name": "AE neuron #4",
         "opacity": 0.3,
         "type": "scatter",
         "x": [
          0,
          1,
          2,
          3,
          4,
          5,
          6,
          7,
          8,
          9,
          10
         ],
         "y": [
          0.021484375,
          0,
          0,
          0,
          0,
          0,
          0,
          0,
          0,
          0,
          0
         ]
        },
        {
         "legendgroup": "Instance #4",
         "legendgrouptitle": {
          "text": "Instance #4"
         },
         "mode": "lines",
         "name": "AE neuron #0",
         "opacity": 0.3,
         "type": "scatter",
         "x": [
          0,
          1,
          2,
          3,
          4,
          5,
          6,
          7,
          8,
          9,
          10
         ],
         "y": [
          0.0244140625,
          0,
          0,
          0,
          0,
          0,
          0,
          0,
          0,
          0,
          0
         ]
        },
        {
         "legendgroup": "Instance #4",
         "legendgrouptitle": {
          "text": "Instance #4"
         },
         "mode": "lines",
         "name": "AE neuron #1",
         "opacity": 0.3,
         "type": "scatter",
         "x": [
          0,
          1,
          2,
          3,
          4,
          5,
          6,
          7,
          8,
          9,
          10
         ],
         "y": [
          0.0244140625,
          0.005859375,
          0.0078125,
          0.005859375,
          0.0048828125,
          0.005859375,
          0.0029296875,
          0.0029296875,
          0.00390625,
          0.009765625,
          0.0087890625
         ]
        },
        {
         "legendgroup": "Instance #4",
         "legendgrouptitle": {
          "text": "Instance #4"
         },
         "mode": "lines",
         "name": "AE neuron #2",
         "opacity": 0.3,
         "type": "scatter",
         "x": [
          0,
          1,
          2,
          3,
          4,
          5,
          6,
          7,
          8,
          9,
          10
         ],
         "y": [
          0.0166015625,
          0.0029296875,
          0.0029296875,
          0.009765625,
          0.0029296875,
          0.0048828125,
          0.001953125,
          0.00390625,
          0.005859375,
          0.0048828125,
          0.00390625
         ]
        },
        {
         "legendgroup": "Instance #4",
         "legendgrouptitle": {
          "text": "Instance #4"
         },
         "mode": "lines",
         "name": "AE neuron #3",
         "opacity": 0.3,
         "type": "scatter",
         "x": [
          0,
          1,
          2,
          3,
          4,
          5,
          6,
          7,
          8,
          9,
          10
         ],
         "y": [
          0.0205078125,
          0.0126953125,
          0.0126953125,
          0.0048828125,
          0.01171875,
          0.0087890625,
          0.0048828125,
          0.0009765625,
          0.005859375,
          0.009765625,
          0.0068359375
         ]
        },
        {
         "legendgroup": "Instance #4",
         "legendgrouptitle": {
          "text": "Instance #4"
         },
         "mode": "lines",
         "name": "AE neuron #4",
         "opacity": 0.3,
         "type": "scatter",
         "x": [
          0,
          1,
          2,
          3,
          4,
          5,
          6,
          7,
          8,
          9,
          10
         ],
         "y": [
          0.0283203125,
          0.009765625,
          0.0029296875,
          0.0078125,
          0.0009765625,
          0.0009765625,
          0.001953125,
          0.00390625,
          0.005859375,
          0.0048828125,
          0.00390625
         ]
        },
        {
         "legendgroup": "Instance #5",
         "legendgrouptitle": {
          "text": "Instance #5"
         },
         "mode": "lines",
         "name": "AE neuron #0",
         "opacity": 0.3,
         "type": "scatter",
         "x": [
          0,
          1,
          2,
          3,
          4,
          5,
          6,
          7,
          8,
          9,
          10
         ],
         "y": [
          0.01953125,
          0,
          0,
          0,
          0,
          0,
          0,
          0,
          0,
          0,
          0
         ]
        },
        {
         "legendgroup": "Instance #5",
         "legendgrouptitle": {
          "text": "Instance #5"
         },
         "mode": "lines",
         "name": "AE neuron #1",
         "opacity": 0.3,
         "type": "scatter",
         "x": [
          0,
          1,
          2,
          3,
          4,
          5,
          6,
          7,
          8,
          9,
          10
         ],
         "y": [
          0.0361328125,
          0,
          0,
          0,
          0,
          0,
          0,
          0,
          0,
          0,
          0
         ]
        },
        {
         "legendgroup": "Instance #5",
         "legendgrouptitle": {
          "text": "Instance #5"
         },
         "mode": "lines",
         "name": "AE neuron #2",
         "opacity": 0.3,
         "type": "scatter",
         "x": [
          0,
          1,
          2,
          3,
          4,
          5,
          6,
          7,
          8,
          9,
          10
         ],
         "y": [
          0.0263671875,
          0,
          0,
          0,
          0,
          0,
          0,
          0,
          0,
          0,
          0
         ]
        },
        {
         "legendgroup": "Instance #5",
         "legendgrouptitle": {
          "text": "Instance #5"
         },
         "mode": "lines",
         "name": "AE neuron #3",
         "opacity": 0.3,
         "type": "scatter",
         "x": [
          0,
          1,
          2,
          3,
          4,
          5,
          6,
          7,
          8,
          9,
          10
         ],
         "y": [
          0.021484375,
          0,
          0,
          0,
          0,
          0,
          0,
          0,
          0,
          0,
          0
         ]
        },
        {
         "legendgroup": "Instance #5",
         "legendgrouptitle": {
          "text": "Instance #5"
         },
         "mode": "lines",
         "name": "AE neuron #4",
         "opacity": 0.3,
         "type": "scatter",
         "x": [
          0,
          1,
          2,
          3,
          4,
          5,
          6,
          7,
          8,
          9,
          10
         ],
         "y": [
          0.03515625,
          0,
          0,
          0,
          0,
          0,
          0,
          0,
          0,
          0,
          0
         ]
        },
        {
         "legendgroup": "Instance #6",
         "legendgrouptitle": {
          "text": "Instance #6"
         },
         "mode": "lines",
         "name": "AE neuron #0",
         "opacity": 0.3,
         "type": "scatter",
         "x": [
          0,
          1,
          2,
          3,
          4,
          5,
          6,
          7,
          8,
          9,
          10
         ],
         "y": [
          0.0322265625,
          0,
          0,
          0,
          0,
          0,
          0,
          0,
          0,
          0,
          0
         ]
        },
        {
         "legendgroup": "Instance #6",
         "legendgrouptitle": {
          "text": "Instance #6"
         },
         "mode": "lines",
         "name": "AE neuron #1",
         "opacity": 0.3,
         "type": "scatter",
         "x": [
          0,
          1,
          2,
          3,
          4,
          5,
          6,
          7,
          8,
          9,
          10
         ],
         "y": [
          0.0205078125,
          0.005859375,
          0.0078125,
          0.0078125,
          0.01171875,
          0.0068359375,
          0.00390625,
          0.0029296875,
          0.005859375,
          0.0078125,
          0.005859375
         ]
        },
        {
         "legendgroup": "Instance #6",
         "legendgrouptitle": {
          "text": "Instance #6"
         },
         "mode": "lines",
         "name": "AE neuron #2",
         "opacity": 0.3,
         "type": "scatter",
         "x": [
          0,
          1,
          2,
          3,
          4,
          5,
          6,
          7,
          8,
          9,
          10
         ],
         "y": [
          0.021484375,
          0.0078125,
          0.0048828125,
          0.0078125,
          0.00390625,
          0.0068359375,
          0.0068359375,
          0.0068359375,
          0.00390625,
          0.00390625,
          0.01171875
         ]
        },
        {
         "legendgroup": "Instance #6",
         "legendgrouptitle": {
          "text": "Instance #6"
         },
         "mode": "lines",
         "name": "AE neuron #3",
         "opacity": 0.3,
         "type": "scatter",
         "x": [
          0,
          1,
          2,
          3,
          4,
          5,
          6,
          7,
          8,
          9,
          10
         ],
         "y": [
          0.0185546875,
          0.01171875,
          0.01171875,
          0.0029296875,
          0.009765625,
          0.00390625,
          0.0068359375,
          0.0029296875,
          0.0048828125,
          0.0029296875,
          0.00390625
         ]
        },
        {
         "legendgroup": "Instance #6",
         "legendgrouptitle": {
          "text": "Instance #6"
         },
         "mode": "lines",
         "name": "AE neuron #4",
         "opacity": 0.3,
         "type": "scatter",
         "x": [
          0,
          1,
          2,
          3,
          4,
          5,
          6,
          7,
          8,
          9,
          10
         ],
         "y": [
          0.021484375,
          0.0078125,
          0.00390625,
          0.0068359375,
          0.0048828125,
          0.0048828125,
          0.0029296875,
          0.005859375,
          0.00390625,
          0.00390625,
          0.00390625
         ]
        },
        {
         "legendgroup": "Instance #7",
         "legendgrouptitle": {
          "text": "Instance #7"
         },
         "mode": "lines",
         "name": "AE neuron #0",
         "opacity": 0.3,
         "type": "scatter",
         "x": [
          0,
          1,
          2,
          3,
          4,
          5,
          6,
          7,
          8,
          9,
          10
         ],
         "y": [
          0.0302734375,
          0,
          0,
          0,
          0,
          0,
          0,
          0,
          0,
          0,
          0
         ]
        },
        {
         "legendgroup": "Instance #7",
         "legendgrouptitle": {
          "text": "Instance #7"
         },
         "mode": "lines",
         "name": "AE neuron #1",
         "opacity": 0.3,
         "type": "scatter",
         "x": [
          0,
          1,
          2,
          3,
          4,
          5,
          6,
          7,
          8,
          9,
          10
         ],
         "y": [
          0.015625,
          0.0048828125,
          0.0048828125,
          0.00390625,
          0.00390625,
          0.0068359375,
          0.0087890625,
          0.0048828125,
          0.0048828125,
          0.0078125,
          0.0048828125
         ]
        },
        {
         "legendgroup": "Instance #7",
         "legendgrouptitle": {
          "text": "Instance #7"
         },
         "mode": "lines",
         "name": "AE neuron #2",
         "opacity": 0.3,
         "type": "scatter",
         "x": [
          0,
          1,
          2,
          3,
          4,
          5,
          6,
          7,
          8,
          9,
          10
         ],
         "y": [
          0.0322265625,
          0.009765625,
          0.0068359375,
          0.005859375,
          0.001953125,
          0.005859375,
          0,
          0.00390625,
          0.0029296875,
          0.005859375,
          0.0029296875
         ]
        },
        {
         "legendgroup": "Instance #7",
         "legendgrouptitle": {
          "text": "Instance #7"
         },
         "mode": "lines",
         "name": "AE neuron #3",
         "opacity": 0.3,
         "type": "scatter",
         "x": [
          0,
          1,
          2,
          3,
          4,
          5,
          6,
          7,
          8,
          9,
          10
         ],
         "y": [
          0.0205078125,
          0.0107421875,
          0.0087890625,
          0.0078125,
          0.0029296875,
          0.005859375,
          0.001953125,
          0.00390625,
          0.0029296875,
          0.005859375,
          0.0029296875
         ]
        },
        {
         "legendgroup": "Instance #7",
         "legendgrouptitle": {
          "text": "Instance #7"
         },
         "mode": "lines",
         "name": "AE neuron #4",
         "opacity": 0.3,
         "type": "scatter",
         "x": [
          0,
          1,
          2,
          3,
          4,
          5,
          6,
          7,
          8,
          9,
          10
         ],
         "y": [
          0.0205078125,
          0,
          0,
          0,
          0,
          0,
          0,
          0,
          0,
          0,
          0
         ]
        }
       ],
       "layout": {
        "annotations": [
         {
          "font": {
           "size": 14
          },
          "showarrow": false,
          "text": "Feature prob",
          "x": 0,
          "xanchor": "left",
          "xref": "x domain",
          "y": 0.01,
          "yanchor": "top",
          "yref": "y"
         }
        ],
        "shapes": [
         {
          "line": {
           "color": "black",
           "width": 2
          },
          "opacity": 1,
          "type": "line",
          "x0": 0,
          "x1": 1,
          "xref": "x domain",
          "y0": 0.01,
          "y1": 0.01,
          "yref": "y"
         }
        ],
        "template": {
         "data": {
          "bar": [
           {
            "error_x": {
             "color": "rgb(36,36,36)"
            },
            "error_y": {
             "color": "rgb(36,36,36)"
            },
            "marker": {
             "line": {
              "color": "white",
              "width": 0.5
             },
             "pattern": {
              "fillmode": "overlay",
              "size": 10,
              "solidity": 0.2
             }
            },
            "type": "bar"
           }
          ],
          "barpolar": [
           {
            "marker": {
             "line": {
              "color": "white",
              "width": 0.5
             },
             "pattern": {
              "fillmode": "overlay",
              "size": 10,
              "solidity": 0.2
             }
            },
            "type": "barpolar"
           }
          ],
          "carpet": [
           {
            "aaxis": {
             "endlinecolor": "rgb(36,36,36)",
             "gridcolor": "white",
             "linecolor": "white",
             "minorgridcolor": "white",
             "startlinecolor": "rgb(36,36,36)"
            },
            "baxis": {
             "endlinecolor": "rgb(36,36,36)",
             "gridcolor": "white",
             "linecolor": "white",
             "minorgridcolor": "white",
             "startlinecolor": "rgb(36,36,36)"
            },
            "type": "carpet"
           }
          ],
          "choropleth": [
           {
            "colorbar": {
             "outlinewidth": 1,
             "tickcolor": "rgb(36,36,36)",
             "ticks": "outside"
            },
            "type": "choropleth"
           }
          ],
          "contour": [
           {
            "colorbar": {
             "outlinewidth": 1,
             "tickcolor": "rgb(36,36,36)",
             "ticks": "outside"
            },
            "colorscale": [
             [
              0,
              "#440154"
             ],
             [
              0.1111111111111111,
              "#482878"
             ],
             [
              0.2222222222222222,
              "#3e4989"
             ],
             [
              0.3333333333333333,
              "#31688e"
             ],
             [
              0.4444444444444444,
              "#26828e"
             ],
             [
              0.5555555555555556,
              "#1f9e89"
             ],
             [
              0.6666666666666666,
              "#35b779"
             ],
             [
              0.7777777777777778,
              "#6ece58"
             ],
             [
              0.8888888888888888,
              "#b5de2b"
             ],
             [
              1,
              "#fde725"
             ]
            ],
            "type": "contour"
           }
          ],
          "contourcarpet": [
           {
            "colorbar": {
             "outlinewidth": 1,
             "tickcolor": "rgb(36,36,36)",
             "ticks": "outside"
            },
            "type": "contourcarpet"
           }
          ],
          "heatmap": [
           {
            "colorbar": {
             "outlinewidth": 1,
             "tickcolor": "rgb(36,36,36)",
             "ticks": "outside"
            },
            "colorscale": [
             [
              0,
              "#440154"
             ],
             [
              0.1111111111111111,
              "#482878"
             ],
             [
              0.2222222222222222,
              "#3e4989"
             ],
             [
              0.3333333333333333,
              "#31688e"
             ],
             [
              0.4444444444444444,
              "#26828e"
             ],
             [
              0.5555555555555556,
              "#1f9e89"
             ],
             [
              0.6666666666666666,
              "#35b779"
             ],
             [
              0.7777777777777778,
              "#6ece58"
             ],
             [
              0.8888888888888888,
              "#b5de2b"
             ],
             [
              1,
              "#fde725"
             ]
            ],
            "type": "heatmap"
           }
          ],
          "heatmapgl": [
           {
            "colorbar": {
             "outlinewidth": 1,
             "tickcolor": "rgb(36,36,36)",
             "ticks": "outside"
            },
            "colorscale": [
             [
              0,
              "#440154"
             ],
             [
              0.1111111111111111,
              "#482878"
             ],
             [
              0.2222222222222222,
              "#3e4989"
             ],
             [
              0.3333333333333333,
              "#31688e"
             ],
             [
              0.4444444444444444,
              "#26828e"
             ],
             [
              0.5555555555555556,
              "#1f9e89"
             ],
             [
              0.6666666666666666,
              "#35b779"
             ],
             [
              0.7777777777777778,
              "#6ece58"
             ],
             [
              0.8888888888888888,
              "#b5de2b"
             ],
             [
              1,
              "#fde725"
             ]
            ],
            "type": "heatmapgl"
           }
          ],
          "histogram": [
           {
            "marker": {
             "line": {
              "color": "white",
              "width": 0.6
             }
            },
            "type": "histogram"
           }
          ],
          "histogram2d": [
           {
            "colorbar": {
             "outlinewidth": 1,
             "tickcolor": "rgb(36,36,36)",
             "ticks": "outside"
            },
            "colorscale": [
             [
              0,
              "#440154"
             ],
             [
              0.1111111111111111,
              "#482878"
             ],
             [
              0.2222222222222222,
              "#3e4989"
             ],
             [
              0.3333333333333333,
              "#31688e"
             ],
             [
              0.4444444444444444,
              "#26828e"
             ],
             [
              0.5555555555555556,
              "#1f9e89"
             ],
             [
              0.6666666666666666,
              "#35b779"
             ],
             [
              0.7777777777777778,
              "#6ece58"
             ],
             [
              0.8888888888888888,
              "#b5de2b"
             ],
             [
              1,
              "#fde725"
             ]
            ],
            "type": "histogram2d"
           }
          ],
          "histogram2dcontour": [
           {
            "colorbar": {
             "outlinewidth": 1,
             "tickcolor": "rgb(36,36,36)",
             "ticks": "outside"
            },
            "colorscale": [
             [
              0,
              "#440154"
             ],
             [
              0.1111111111111111,
              "#482878"
             ],
             [
              0.2222222222222222,
              "#3e4989"
             ],
             [
              0.3333333333333333,
              "#31688e"
             ],
             [
              0.4444444444444444,
              "#26828e"
             ],
             [
              0.5555555555555556,
              "#1f9e89"
             ],
             [
              0.6666666666666666,
              "#35b779"
             ],
             [
              0.7777777777777778,
              "#6ece58"
             ],
             [
              0.8888888888888888,
              "#b5de2b"
             ],
             [
              1,
              "#fde725"
             ]
            ],
            "type": "histogram2dcontour"
           }
          ],
          "mesh3d": [
           {
            "colorbar": {
             "outlinewidth": 1,
             "tickcolor": "rgb(36,36,36)",
             "ticks": "outside"
            },
            "type": "mesh3d"
           }
          ],
          "parcoords": [
           {
            "line": {
             "colorbar": {
              "outlinewidth": 1,
              "tickcolor": "rgb(36,36,36)",
              "ticks": "outside"
             }
            },
            "type": "parcoords"
           }
          ],
          "pie": [
           {
            "automargin": true,
            "type": "pie"
           }
          ],
          "scatter": [
           {
            "fillpattern": {
             "fillmode": "overlay",
             "size": 10,
             "solidity": 0.2
            },
            "type": "scatter"
           }
          ],
          "scatter3d": [
           {
            "line": {
             "colorbar": {
              "outlinewidth": 1,
              "tickcolor": "rgb(36,36,36)",
              "ticks": "outside"
             }
            },
            "marker": {
             "colorbar": {
              "outlinewidth": 1,
              "tickcolor": "rgb(36,36,36)",
              "ticks": "outside"
             }
            },
            "type": "scatter3d"
           }
          ],
          "scattercarpet": [
           {
            "marker": {
             "colorbar": {
              "outlinewidth": 1,
              "tickcolor": "rgb(36,36,36)",
              "ticks": "outside"
             }
            },
            "type": "scattercarpet"
           }
          ],
          "scattergeo": [
           {
            "marker": {
             "colorbar": {
              "outlinewidth": 1,
              "tickcolor": "rgb(36,36,36)",
              "ticks": "outside"
             }
            },
            "type": "scattergeo"
           }
          ],
          "scattergl": [
           {
            "marker": {
             "colorbar": {
              "outlinewidth": 1,
              "tickcolor": "rgb(36,36,36)",
              "ticks": "outside"
             }
            },
            "type": "scattergl"
           }
          ],
          "scattermapbox": [
           {
            "marker": {
             "colorbar": {
              "outlinewidth": 1,
              "tickcolor": "rgb(36,36,36)",
              "ticks": "outside"
             }
            },
            "type": "scattermapbox"
           }
          ],
          "scatterpolar": [
           {
            "marker": {
             "colorbar": {
              "outlinewidth": 1,
              "tickcolor": "rgb(36,36,36)",
              "ticks": "outside"
             }
            },
            "type": "scatterpolar"
           }
          ],
          "scatterpolargl": [
           {
            "marker": {
             "colorbar": {
              "outlinewidth": 1,
              "tickcolor": "rgb(36,36,36)",
              "ticks": "outside"
             }
            },
            "type": "scatterpolargl"
           }
          ],
          "scatterternary": [
           {
            "marker": {
             "colorbar": {
              "outlinewidth": 1,
              "tickcolor": "rgb(36,36,36)",
              "ticks": "outside"
             }
            },
            "type": "scatterternary"
           }
          ],
          "surface": [
           {
            "colorbar": {
             "outlinewidth": 1,
             "tickcolor": "rgb(36,36,36)",
             "ticks": "outside"
            },
            "colorscale": [
             [
              0,
              "#440154"
             ],
             [
              0.1111111111111111,
              "#482878"
             ],
             [
              0.2222222222222222,
              "#3e4989"
             ],
             [
              0.3333333333333333,
              "#31688e"
             ],
             [
              0.4444444444444444,
              "#26828e"
             ],
             [
              0.5555555555555556,
              "#1f9e89"
             ],
             [
              0.6666666666666666,
              "#35b779"
             ],
             [
              0.7777777777777778,
              "#6ece58"
             ],
             [
              0.8888888888888888,
              "#b5de2b"
             ],
             [
              1,
              "#fde725"
             ]
            ],
            "type": "surface"
           }
          ],
          "table": [
           {
            "cells": {
             "fill": {
              "color": "rgb(237,237,237)"
             },
             "line": {
              "color": "white"
             }
            },
            "header": {
             "fill": {
              "color": "rgb(217,217,217)"
             },
             "line": {
              "color": "white"
             }
            },
            "type": "table"
           }
          ]
         },
         "layout": {
          "annotationdefaults": {
           "arrowhead": 0,
           "arrowwidth": 1
          },
          "autotypenumbers": "strict",
          "coloraxis": {
           "colorbar": {
            "outlinewidth": 1,
            "tickcolor": "rgb(36,36,36)",
            "ticks": "outside"
           }
          },
          "colorscale": {
           "diverging": [
            [
             0,
             "rgb(103,0,31)"
            ],
            [
             0.1,
             "rgb(178,24,43)"
            ],
            [
             0.2,
             "rgb(214,96,77)"
            ],
            [
             0.3,
             "rgb(244,165,130)"
            ],
            [
             0.4,
             "rgb(253,219,199)"
            ],
            [
             0.5,
             "rgb(247,247,247)"
            ],
            [
             0.6,
             "rgb(209,229,240)"
            ],
            [
             0.7,
             "rgb(146,197,222)"
            ],
            [
             0.8,
             "rgb(67,147,195)"
            ],
            [
             0.9,
             "rgb(33,102,172)"
            ],
            [
             1,
             "rgb(5,48,97)"
            ]
           ],
           "sequential": [
            [
             0,
             "#440154"
            ],
            [
             0.1111111111111111,
             "#482878"
            ],
            [
             0.2222222222222222,
             "#3e4989"
            ],
            [
             0.3333333333333333,
             "#31688e"
            ],
            [
             0.4444444444444444,
             "#26828e"
            ],
            [
             0.5555555555555556,
             "#1f9e89"
            ],
            [
             0.6666666666666666,
             "#35b779"
            ],
            [
             0.7777777777777778,
             "#6ece58"
            ],
            [
             0.8888888888888888,
             "#b5de2b"
            ],
            [
             1,
             "#fde725"
            ]
           ],
           "sequentialminus": [
            [
             0,
             "#440154"
            ],
            [
             0.1111111111111111,
             "#482878"
            ],
            [
             0.2222222222222222,
             "#3e4989"
            ],
            [
             0.3333333333333333,
             "#31688e"
            ],
            [
             0.4444444444444444,
             "#26828e"
            ],
            [
             0.5555555555555556,
             "#1f9e89"
            ],
            [
             0.6666666666666666,
             "#35b779"
            ],
            [
             0.7777777777777778,
             "#6ece58"
            ],
            [
             0.8888888888888888,
             "#b5de2b"
            ],
            [
             1,
             "#fde725"
            ]
           ]
          },
          "colorway": [
           "#1F77B4",
           "#FF7F0E",
           "#2CA02C",
           "#D62728",
           "#9467BD",
           "#8C564B",
           "#E377C2",
           "#7F7F7F",
           "#BCBD22",
           "#17BECF"
          ],
          "font": {
           "color": "rgb(36,36,36)"
          },
          "geo": {
           "bgcolor": "white",
           "lakecolor": "white",
           "landcolor": "white",
           "showlakes": true,
           "showland": true,
           "subunitcolor": "white"
          },
          "hoverlabel": {
           "align": "left"
          },
          "hovermode": "closest",
          "mapbox": {
           "style": "light"
          },
          "paper_bgcolor": "white",
          "plot_bgcolor": "white",
          "polar": {
           "angularaxis": {
            "gridcolor": "rgb(232,232,232)",
            "linecolor": "rgb(36,36,36)",
            "showgrid": false,
            "showline": true,
            "ticks": "outside"
           },
           "bgcolor": "white",
           "radialaxis": {
            "gridcolor": "rgb(232,232,232)",
            "linecolor": "rgb(36,36,36)",
            "showgrid": false,
            "showline": true,
            "ticks": "outside"
           }
          },
          "scene": {
           "xaxis": {
            "backgroundcolor": "white",
            "gridcolor": "rgb(232,232,232)",
            "gridwidth": 2,
            "linecolor": "rgb(36,36,36)",
            "showbackground": true,
            "showgrid": false,
            "showline": true,
            "ticks": "outside",
            "zeroline": false,
            "zerolinecolor": "rgb(36,36,36)"
           },
           "yaxis": {
            "backgroundcolor": "white",
            "gridcolor": "rgb(232,232,232)",
            "gridwidth": 2,
            "linecolor": "rgb(36,36,36)",
            "showbackground": true,
            "showgrid": false,
            "showline": true,
            "ticks": "outside",
            "zeroline": false,
            "zerolinecolor": "rgb(36,36,36)"
           },
           "zaxis": {
            "backgroundcolor": "white",
            "gridcolor": "rgb(232,232,232)",
            "gridwidth": 2,
            "linecolor": "rgb(36,36,36)",
            "showbackground": true,
            "showgrid": false,
            "showline": true,
            "ticks": "outside",
            "zeroline": false,
            "zerolinecolor": "rgb(36,36,36)"
           }
          },
          "shapedefaults": {
           "fillcolor": "black",
           "line": {
            "width": 0
           },
           "opacity": 0.3
          },
          "ternary": {
           "aaxis": {
            "gridcolor": "rgb(232,232,232)",
            "linecolor": "rgb(36,36,36)",
            "showgrid": false,
            "showline": true,
            "ticks": "outside"
           },
           "baxis": {
            "gridcolor": "rgb(232,232,232)",
            "linecolor": "rgb(36,36,36)",
            "showgrid": false,
            "showline": true,
            "ticks": "outside"
           },
           "bgcolor": "white",
           "caxis": {
            "gridcolor": "rgb(232,232,232)",
            "linecolor": "rgb(36,36,36)",
            "showgrid": false,
            "showline": true,
            "ticks": "outside"
           }
          },
          "title": {
           "x": 0.05
          },
          "xaxis": {
           "automargin": true,
           "gridcolor": "rgb(232,232,232)",
           "linecolor": "rgb(36,36,36)",
           "showgrid": false,
           "showline": true,
           "ticks": "outside",
           "title": {
            "standoff": 15
           },
           "zeroline": false,
           "zerolinecolor": "rgb(36,36,36)"
          },
          "yaxis": {
           "automargin": true,
           "gridcolor": "rgb(232,232,232)",
           "linecolor": "rgb(36,36,36)",
           "showgrid": false,
           "showline": true,
           "ticks": "outside",
           "title": {
            "standoff": 15
           },
           "zeroline": false,
           "zerolinecolor": "rgb(36,36,36)"
          }
         }
        },
        "title": {
         "text": "Probability of SAE neurons being active during training"
        },
        "width": 1000,
        "xaxis": {
         "title": {
          "text": "Training Step"
         }
        },
        "yaxis": {
         "range": [
          0,
          0.03
         ],
         "title": {
          "text": "Fraction of Active Neurons"
         }
        }
       }
      }
     },
     "metadata": {},
     "output_type": "display_data"
    }
   ],
   "source": [
    "\"\"\"Plot fraction of active neurons (features) over training.\"\"\"\n",
    "\n",
    "def frac_active_line_plot(\n",
    "    frac_active: Float[Tensor, \"n_steps n_instances n_hidden_ae\"],\n",
    "    feature_probability: float,\n",
    "):\n",
    "    \"\"\"Plots the fraction of active neurons over training.\"\"\"\n",
    "    n_steps, n_instances, n_hidden_ae = frac_active.shape\n",
    "    y_max = feature_probability * 3\n",
    "    fig = go.Figure(\n",
    "        layout=dict(\n",
    "            template=\"simple_white\",\n",
    "            title=\"Probability of SAE neurons being active during training\",\n",
    "            xaxis_title=\"Training Step\",\n",
    "            yaxis_title=\"Fraction of Active Neurons\",\n",
    "            yaxis_range=[0, y_max],\n",
    "            width=1000,\n",
    "        )\n",
    "    )\n",
    "    # Add a curve for each neuron for each instance.\n",
    "    for inst in range(n_instances):\n",
    "        for neuron in range(n_hidden_ae):\n",
    "            fig.add_trace(\n",
    "                go.Scatter(\n",
    "                    x=list(range(0, n_steps)),\n",
    "                    y=frac_active[:, inst, neuron].tolist(),\n",
    "                    name=f\"AE neuron #{neuron}\",\n",
    "                    mode=\"lines\",\n",
    "                    opacity=0.3,\n",
    "                    legendgroup=f\"Instance #{inst}\",\n",
    "                    legendgrouptitle_text=f\"Instance #{inst}\",\n",
    "                )\n",
    "            )\n",
    "    # Add a horizontal line for the feature probability, and show figure.\n",
    "    fig.add_hline(\n",
    "        y=feature_probability,\n",
    "        opacity=1,\n",
    "        line=dict(color=\"black\", width=2),\n",
    "        annotation_text=\"Feature prob\",\n",
    "        annotation_position=\"bottom left\",\n",
    "        annotation_font_size=14,\n",
    "    )\n",
    "    fig.show()\n",
    "\n",
    "\n",
    "# Plot it.\n",
    "frac_active_line_plot(\n",
    "    frac_active=torch.stack(data_log[\"frac_active\"], dim=0),  # turn 2d list into 3d tensor\n",
    "    feature_probability=feature_probability\n",
    ")"
   ]
  },
  {
   "cell_type": "markdown",
   "metadata": {
    "id": "yR5DArrBvw-s"
   },
   "source": [
    "### Addressing dead features: Neuron resampling"
   ]
  },
  {
   "cell_type": "markdown",
   "metadata": {},
   "source": [
    "These \"dead\" neurons are a common problem when training SAEs. Fundamentally, they arise from the L1 penalty incentivizing neurons to be inactive.  Some recent research suggests that alternative SAE architectures may mitigate this issue by avoiding the L1 penalty altogether and using different ways of encouraging sparsity. There have also been a variety of mitigations proposed in the context of the standard L1-based SAE.\n",
    "\n",
    "Here we provide an implementation of one of these mitigations, known as \"neuron resampling.\" At a high level, the idea behind resampling is to re-initialize the weights corresponding to dead SAE neurons, so that they have the opportunity to \"learn again\".\n",
    "\n",
    "We'll find that by addressing the dead features issue, the SAE will perform much better."
   ]
  },
  {
   "cell_type": "markdown",
   "metadata": {
    "id": "f6pg8w2Qi6_y"
   },
   "source": [
    "Specifically, we'll implement the following algorithm:\n",
    "\n",
    "* For a model instance, over a specified time window, check for dead neurons.\n",
    "* For each dead neuron:\n",
    "    * Generate a new random vector `v` of length `n_input_ae`, and normalize it to have unit length.\n",
    "    * Reset the decoder weights `W_dec[inst, dead_feature_idx, :]` to this new vector `v`.\n",
    "    * Reset the encoder weights `W_enc[inst, :, dead_feature_idx]` to this new vector `v`.\n",
    "    * Reset the encoder biases `W_enc[inst, dead_feature_idx]` to zero."
   ]
  },
  {
   "cell_type": "code",
   "execution_count": 13,
   "metadata": {
    "id": "94bT2nq_2cKS"
   },
   "outputs": [],
   "source": [
    "\"\"\"Add method for resampling neurons, and update the `optimize` method to use it.\"\"\"\n",
    "\n",
    "@torch.no_grad()\n",
    "def resample_neurons(\n",
    "    self: AutoEncoder,\n",
    "    frac_active_in_window: Float[Tensor, \"window n_instances n_hidden_ae\"],\n",
    ") -> Tuple[List[List[str]], str]:  # -> (colors_for_neurons, title_with_resampling_info)\n",
    "    \"\"\"Resamples neurons dead for `dead_neuron_window` steps, according to `frac_active`.\"\"\"\n",
    "    # Get a tensor of dead neurons.\n",
    "    dead_features_mask = frac_active_in_window.sum(0) < 1e-8  # -> [n_instances n_hidden_ae]\n",
    "    n_dead = dead_features_mask.int().sum().item()\n",
    "\n",
    "    # Get our random replacement values (-> [n_dead n_input_ae]).\n",
    "    replacement_values = torch.randn((n_dead, self.cfg.n_input_ae), device=self.W_enc.device)\n",
    "    replacement_values_normalized = (\n",
    "        replacement_values / replacement_values.norm(dim=-1, keepdim=True) + 1e-8\n",
    "    )\n",
    "\n",
    "    # Reset W_enc, W_dec, and b_enc (we transpose W_enc to return a view with correct shape).\n",
    "    self.W_enc.data.transpose(-1, -2)[dead_features_mask] = replacement_values_normalized\n",
    "    self.W_dec.data[dead_features_mask] = replacement_values_normalized\n",
    "    self.b_enc.data[dead_features_mask] = 0.0\n",
    "\n",
    "    # Return data for visualising the resampling process.\n",
    "    colors = [\n",
    "        [\"red\" if dead else \"black\" for dead in dead_neuron_mask_inst]\n",
    "        for dead_neuron_mask_inst in dead_features_mask\n",
    "    ]\n",
    "    title = f\"resampling {n_dead}/{dead_features_mask.numel()} neurons (shown in red)\"\n",
    "    return colors, title\n",
    "\n",
    "\n",
    "# Update the `optimize` method to use the new `resample_neurons` method.\n",
    "def optimize(\n",
    "    self: AutoEncoder,\n",
    "    model: Model,  # Toy Model of Superposition\n",
    "    batch_sz: int = 1024,\n",
    "    steps: int = 10_000,\n",
    "    log_freq: int = 100,\n",
    "    lr: float = 1e-3,\n",
    "    lr_scale: Callable[[int, int], float] = constant_lr,\n",
    "    neuron_resample_window: Optional[int] = None,  # in optimization steps\n",
    "):\n",
    "    \"\"\"Optimizes the autoencoder using the given hyperparameters.\"\"\"\n",
    "    optimizer = torch.optim.Adam(list(self.parameters()), lr=lr)\n",
    "\n",
    "    # Create lists to store data we'll eventually be plotting.\n",
    "    frac_active_list = []  # fraction of active units (features) for each step\n",
    "    data_log = {\"frac_active\": [], \"W_enc\": [], \"W_dec\": [], \"titles\": [], \"colors\": []}\n",
    "    colors = None\n",
    "    title = \"No resampling\"\n",
    "\n",
    "    progress_bar = tqdm(range(steps))\n",
    "    for step in progress_bar:\n",
    "        # Normalize decoder weights at each step to prevent artificially small / sparse\n",
    "        # features from large decoder weights.\n",
    "        self.normalize_decoder()\n",
    "\n",
    "        # Check for dead neurons, and resample them if found.\n",
    "        if (neuron_resample_window is not None) and ((step + 1) % neuron_resample_window == 0):\n",
    "            frac_active_in_window = torch.stack(frac_active_list[-neuron_resample_window:], dim=0)\n",
    "            colors, title = self.resample_neurons(frac_active_in_window)\n",
    "        \n",
    "        # Update learning rate.\n",
    "        step_lr = lr * lr_scale(step, steps)\n",
    "        for group in optimizer.param_groups:\n",
    "            group[\"lr\"] = step_lr\n",
    "\n",
    "        # Get a batch of hidden activations from the model.\n",
    "        with torch.inference_mode():\n",
    "            features = model.generate_batch(batch_sz)\n",
    "            h = einops.einsum(\n",
    "                features,\n",
    "                model.W,\n",
    "                \"batch_sz n_instances n_feat_gt, n_instances n_hidden n_feat_gt \"\n",
    "                \"-> batch_sz n_instances n_hidden\",\n",
    "            )\n",
    "\n",
    "        # Optimize.\n",
    "        optimizer.zero_grad()\n",
    "        l1_loss, l2_loss, loss, z, _ = self.forward(h)\n",
    "        loss.backward()\n",
    "        optimizer.step()\n",
    "\n",
    "        # Calculate the sparsities and them to the list.\n",
    "        frac_active = einops.reduce(\n",
    "            (z.abs() > 1e-8).float(),\n",
    "            \"batch_sz n_instances hidden_ae -> n_instances hidden_ae\",\n",
    "            \"mean\",\n",
    "        )\n",
    "        frac_active_list.append(frac_active)\n",
    "\n",
    "        # Display progress bar, and append new values for plotting.\n",
    "        if step % log_freq == 0 or (step + 1 == steps):\n",
    "            progress_bar.set_postfix(\n",
    "                l1_loss=self.cfg.l1_coeff * l1_loss.mean(0).sum().item(),\n",
    "                l2_loss=l2_loss.mean(0).sum().item(),\n",
    "                lr=step_lr,\n",
    "            )\n",
    "            data_log[\"W_enc\"].append(self.W_enc.detach().cpu())\n",
    "            data_log[\"W_dec\"].append(self.W_dec.detach().cpu())\n",
    "            data_log[\"titles\"].append(f\"Step {step}/{steps}: {title}\")\n",
    "            data_log[\"frac_active\"].append(frac_active.detach().cpu())\n",
    "            data_log[\"colors\"].append(colors)\n",
    "\n",
    "    return data_log\n",
    "\n",
    "\n",
    "# Add methods to SAE class.\n",
    "AutoEncoder.resample_neurons = resample_neurons\n",
    "AutoEncoder.optimize = optimize"
   ]
  },
  {
   "cell_type": "markdown",
   "metadata": {
    "id": "2iQIvxATi_WP"
   },
   "source": [
    "### SAE training attempt #2"
   ]
  },
  {
   "cell_type": "markdown",
   "metadata": {
    "id": "AA8d7SRx-Htc"
   },
   "source": [
    "Now we'll try training our SAE again, this time with neuron resampling."
   ]
  },
  {
   "cell_type": "code",
   "execution_count": 14,
   "metadata": {
    "colab": {
     "base_uri": "https://localhost:8080/",
     "height": 49,
     "referenced_widgets": [
      "c5c485292505460cb0b2fea360b4792f",
      "04788755bb054acba3375d5486e0e590",
      "d414d3ceee9c4b34919ea910c9346db4",
      "0e9d5cc58caa4319a9119bd9131da307",
      "f5535c57b00041d581c4b5c1f9a53207",
      "64848adcbf3e4bf6a2695b6659e82c44",
      "c02fa5a6eb9646328b8450bed6492d0b",
      "11e1e3c7af514c1388ccc5c61f2f99a8",
      "d4e4d0a695b54a0f8fae837760e12233",
      "d42445f2b3a141edb134352b679d1d02",
      "edd73a7d5acd40a6943778f5f61e5115"
     ]
    },
    "executionInfo": {
     "elapsed": 48664,
     "status": "ok",
     "timestamp": 1723064510531,
     "user": {
      "displayName": "Jack Lindsey",
      "userId": "09885759716350612548"
     },
     "user_tz": 240
    },
    "id": "qbPwDCVUvw-s",
    "outputId": "e37d2e4e-8cd4-434d-a26f-d70031e204fb"
   },
   "outputs": [
    {
     "data": {
      "application/vnd.jupyter.widget-view+json": {
       "model_id": "e022cb72adad488682f5f60434cfee52",
       "version_major": 2,
       "version_minor": 0
      },
      "text/plain": [
       "  0%|          | 0/10000 [00:00<?, ?it/s]"
      ]
     },
     "metadata": {},
     "output_type": "display_data"
    }
   ],
   "source": [
    "\"\"\"Train the SAE with neuron resampling.\"\"\"\n",
    "\n",
    "ae_cfg = AutoEncoderConfig(\n",
    "    n_instances=8,\n",
    "    n_input_ae=2,\n",
    "    n_hidden_ae=5,\n",
    "    l1_coeff=0.25,\n",
    ")\n",
    "sae = AutoEncoder(ae_cfg)\n",
    "\n",
    "data_log = sae.optimize(\n",
    "    model=model,\n",
    "    steps=10_000,\n",
    "    neuron_resample_window=1000,\n",
    "    log_freq=1000,\n",
    ")"
   ]
  },
  {
   "cell_type": "code",
   "execution_count": 15,
   "metadata": {
    "colab": {
     "base_uri": "https://localhost:8080/",
     "height": 542
    },
    "executionInfo": {
     "elapsed": 311,
     "status": "ok",
     "timestamp": 1723064511825,
     "user": {
      "displayName": "Jack Lindsey",
      "userId": "09885759716350612548"
     },
     "user_tz": 240
    },
    "id": "vq5hbwBXvw-s",
    "outputId": "1fc7f3e6-2fc7-460a-80ef-7c3af87f362b"
   },
   "outputs": [
    {
     "data": {
      "application/vnd.plotly.v1+json": {
       "config": {
        "plotlyServerURL": "https://plot.ly"
       },
       "data": [
        {
         "legendgroup": "Instance #0",
         "legendgrouptitle": {
          "text": "Instance #0"
         },
         "mode": "lines",
         "name": "AE neuron #0",
         "opacity": 0.3,
         "type": "scatter",
         "x": [
          0,
          1,
          2,
          3,
          4,
          5,
          6,
          7,
          8,
          9,
          10
         ],
         "y": [
          0.025390625,
          0.0126953125,
          0.0048828125,
          0.0146484375,
          0.017578125,
          0.013671875,
          0.0078125,
          0.0048828125,
          0.0087890625,
          0.005859375,
          0.0107421875
         ]
        },
        {
         "legendgroup": "Instance #0",
         "legendgrouptitle": {
          "text": "Instance #0"
         },
         "mode": "lines",
         "name": "AE neuron #1",
         "opacity": 0.3,
         "type": "scatter",
         "x": [
          0,
          1,
          2,
          3,
          4,
          5,
          6,
          7,
          8,
          9,
          10
         ],
         "y": [
          0.0126953125,
          0.0234375,
          0.01171875,
          0.0107421875,
          0.0146484375,
          0.0078125,
          0.0087890625,
          0.0107421875,
          0.01171875,
          0.01171875,
          0.0087890625
         ]
        },
        {
         "legendgroup": "Instance #0",
         "legendgrouptitle": {
          "text": "Instance #0"
         },
         "mode": "lines",
         "name": "AE neuron #2",
         "opacity": 0.3,
         "type": "scatter",
         "x": [
          0,
          1,
          2,
          3,
          4,
          5,
          6,
          7,
          8,
          9,
          10
         ],
         "y": [
          0.021484375,
          0.0244140625,
          0.01953125,
          0.015625,
          0.005859375,
          0.01171875,
          0.0107421875,
          0.01171875,
          0.0068359375,
          0.009765625,
          0.0048828125
         ]
        },
        {
         "legendgroup": "Instance #0",
         "legendgrouptitle": {
          "text": "Instance #0"
         },
         "mode": "lines",
         "name": "AE neuron #3",
         "opacity": 0.3,
         "type": "scatter",
         "x": [
          0,
          1,
          2,
          3,
          4,
          5,
          6,
          7,
          8,
          9,
          10
         ],
         "y": [
          0.025390625,
          0,
          0,
          0.02734375,
          0.0146484375,
          0.0166015625,
          0.0078125,
          0.0009765625,
          0.005859375,
          0.0087890625,
          0.009765625
         ]
        },
        {
         "legendgroup": "Instance #0",
         "legendgrouptitle": {
          "text": "Instance #0"
         },
         "mode": "lines",
         "name": "AE neuron #4",
         "opacity": 0.3,
         "type": "scatter",
         "x": [
          0,
          1,
          2,
          3,
          4,
          5,
          6,
          7,
          8,
          9,
          10
         ],
         "y": [
          0.0224609375,
          0.0029296875,
          0.013671875,
          0.0078125,
          0.0107421875,
          0.0146484375,
          0.0087890625,
          0.0048828125,
          0.009765625,
          0.0087890625,
          0.0048828125
         ]
        },
        {
         "legendgroup": "Instance #1",
         "legendgrouptitle": {
          "text": "Instance #1"
         },
         "mode": "lines",
         "name": "AE neuron #0",
         "opacity": 0.3,
         "type": "scatter",
         "x": [
          0,
          1,
          2,
          3,
          4,
          5,
          6,
          7,
          8,
          9,
          10
         ],
         "y": [
          0.0205078125,
          0.021484375,
          0.0146484375,
          0.01171875,
          0.005859375,
          0.0166015625,
          0.013671875,
          0.0146484375,
          0.01171875,
          0.01171875,
          0.0126953125
         ]
        },
        {
         "legendgroup": "Instance #1",
         "legendgrouptitle": {
          "text": "Instance #1"
         },
         "mode": "lines",
         "name": "AE neuron #1",
         "opacity": 0.3,
         "type": "scatter",
         "x": [
          0,
          1,
          2,
          3,
          4,
          5,
          6,
          7,
          8,
          9,
          10
         ],
         "y": [
          0.03125,
          0.0185546875,
          0.0166015625,
          0.013671875,
          0.0126953125,
          0.009765625,
          0.01171875,
          0.0185546875,
          0.01171875,
          0.0126953125,
          0.005859375
         ]
        },
        {
         "legendgroup": "Instance #1",
         "legendgrouptitle": {
          "text": "Instance #1"
         },
         "mode": "lines",
         "name": "AE neuron #2",
         "opacity": 0.3,
         "type": "scatter",
         "x": [
          0,
          1,
          2,
          3,
          4,
          5,
          6,
          7,
          8,
          9,
          10
         ],
         "y": [
          0.0185546875,
          0.0166015625,
          0.0126953125,
          0.0068359375,
          0.005859375,
          0.009765625,
          0.0078125,
          0.0078125,
          0.0166015625,
          0.0107421875,
          0.01171875
         ]
        },
        {
         "legendgroup": "Instance #1",
         "legendgrouptitle": {
          "text": "Instance #1"
         },
         "mode": "lines",
         "name": "AE neuron #3",
         "opacity": 0.3,
         "type": "scatter",
         "x": [
          0,
          1,
          2,
          3,
          4,
          5,
          6,
          7,
          8,
          9,
          10
         ],
         "y": [
          0.017578125,
          0,
          0,
          0.0185546875,
          0.01171875,
          0.013671875,
          0.0126953125,
          0.0166015625,
          0.013671875,
          0.0126953125,
          0.0107421875
         ]
        },
        {
         "legendgroup": "Instance #1",
         "legendgrouptitle": {
          "text": "Instance #1"
         },
         "mode": "lines",
         "name": "AE neuron #4",
         "opacity": 0.3,
         "type": "scatter",
         "x": [
          0,
          1,
          2,
          3,
          4,
          5,
          6,
          7,
          8,
          9,
          10
         ],
         "y": [
          0.0302734375,
          0,
          0,
          0,
          0,
          0,
          0,
          0,
          0.0185546875,
          0.013671875,
          0.01171875
         ]
        },
        {
         "legendgroup": "Instance #2",
         "legendgrouptitle": {
          "text": "Instance #2"
         },
         "mode": "lines",
         "name": "AE neuron #0",
         "opacity": 0.3,
         "type": "scatter",
         "x": [
          0,
          1,
          2,
          3,
          4,
          5,
          6,
          7,
          8,
          9,
          10
         ],
         "y": [
          0.025390625,
          0,
          0,
          0,
          0,
          0.017578125,
          0.0029296875,
          0.0048828125,
          0.0078125,
          0.005859375,
          0.0146484375
         ]
        },
        {
         "legendgroup": "Instance #2",
         "legendgrouptitle": {
          "text": "Instance #2"
         },
         "mode": "lines",
         "name": "AE neuron #1",
         "opacity": 0.3,
         "type": "scatter",
         "x": [
          0,
          1,
          2,
          3,
          4,
          5,
          6,
          7,
          8,
          9,
          10
         ],
         "y": [
          0.0244140625,
          0.0244140625,
          0.0166015625,
          0.015625,
          0.0146484375,
          0.009765625,
          0.009765625,
          0.0087890625,
          0.009765625,
          0.0087890625,
          0.0048828125
         ]
        },
        {
         "legendgroup": "Instance #2",
         "legendgrouptitle": {
          "text": "Instance #2"
         },
         "mode": "lines",
         "name": "AE neuron #2",
         "opacity": 0.3,
         "type": "scatter",
         "x": [
          0,
          1,
          2,
          3,
          4,
          5,
          6,
          7,
          8,
          9,
          10
         ],
         "y": [
          0.015625,
          0.01953125,
          0.017578125,
          0.013671875,
          0.0185546875,
          0.0126953125,
          0.0166015625,
          0.0107421875,
          0.0048828125,
          0.0078125,
          0.0048828125
         ]
        },
        {
         "legendgroup": "Instance #2",
         "legendgrouptitle": {
          "text": "Instance #2"
         },
         "mode": "lines",
         "name": "AE neuron #3",
         "opacity": 0.3,
         "type": "scatter",
         "x": [
          0,
          1,
          2,
          3,
          4,
          5,
          6,
          7,
          8,
          9,
          10
         ],
         "y": [
          0.0234375,
          0.0244140625,
          0.0234375,
          0.01171875,
          0.0087890625,
          0.0107421875,
          0.0087890625,
          0.005859375,
          0.0068359375,
          0.0068359375,
          0.015625
         ]
        },
        {
         "legendgroup": "Instance #2",
         "legendgrouptitle": {
          "text": "Instance #2"
         },
         "mode": "lines",
         "name": "AE neuron #4",
         "opacity": 0.3,
         "type": "scatter",
         "x": [
          0,
          1,
          2,
          3,
          4,
          5,
          6,
          7,
          8,
          9,
          10
         ],
         "y": [
          0.015625,
          0.0166015625,
          0.0185546875,
          0.0068359375,
          0.013671875,
          0.01171875,
          0.0166015625,
          0.0087890625,
          0.0068359375,
          0.0078125,
          0.005859375
         ]
        },
        {
         "legendgroup": "Instance #3",
         "legendgrouptitle": {
          "text": "Instance #3"
         },
         "mode": "lines",
         "name": "AE neuron #0",
         "opacity": 0.3,
         "type": "scatter",
         "x": [
          0,
          1,
          2,
          3,
          4,
          5,
          6,
          7,
          8,
          9,
          10
         ],
         "y": [
          0.015625,
          0.0205078125,
          0.015625,
          0.013671875,
          0.01953125,
          0.0087890625,
          0.009765625,
          0.01171875,
          0.0107421875,
          0.01171875,
          0.0107421875
         ]
        },
        {
         "legendgroup": "Instance #3",
         "legendgrouptitle": {
          "text": "Instance #3"
         },
         "mode": "lines",
         "name": "AE neuron #1",
         "opacity": 0.3,
         "type": "scatter",
         "x": [
          0,
          1,
          2,
          3,
          4,
          5,
          6,
          7,
          8,
          9,
          10
         ],
         "y": [
          0.0244140625,
          0,
          0,
          0,
          0,
          0,
          0,
          0.021484375,
          0.005859375,
          0.0078125,
          0.00390625
         ]
        },
        {
         "legendgroup": "Instance #3",
         "legendgrouptitle": {
          "text": "Instance #3"
         },
         "mode": "lines",
         "name": "AE neuron #2",
         "opacity": 0.3,
         "type": "scatter",
         "x": [
          0,
          1,
          2,
          3,
          4,
          5,
          6,
          7,
          8,
          9,
          10
         ],
         "y": [
          0.025390625,
          0.015625,
          0.015625,
          0.017578125,
          0.0185546875,
          0.017578125,
          0.015625,
          0.021484375,
          0.0146484375,
          0.01171875,
          0.0078125
         ]
        },
        {
         "legendgroup": "Instance #3",
         "legendgrouptitle": {
          "text": "Instance #3"
         },
         "mode": "lines",
         "name": "AE neuron #3",
         "opacity": 0.3,
         "type": "scatter",
         "x": [
          0,
          1,
          2,
          3,
          4,
          5,
          6,
          7,
          8,
          9,
          10
         ],
         "y": [
          0.0244140625,
          0,
          0.021484375,
          0.0224609375,
          0.0166015625,
          0.013671875,
          0.0166015625,
          0.01953125,
          0.0087890625,
          0.005859375,
          0.00390625
         ]
        },
        {
         "legendgroup": "Instance #3",
         "legendgrouptitle": {
          "text": "Instance #3"
         },
         "mode": "lines",
         "name": "AE neuron #4",
         "opacity": 0.3,
         "type": "scatter",
         "x": [
          0,
          1,
          2,
          3,
          4,
          5,
          6,
          7,
          8,
          9,
          10
         ],
         "y": [
          0.015625,
          0,
          0,
          0,
          0.0224609375,
          0.0126953125,
          0.0126953125,
          0.0146484375,
          0.01171875,
          0.013671875,
          0.0087890625
         ]
        },
        {
         "legendgroup": "Instance #4",
         "legendgrouptitle": {
          "text": "Instance #4"
         },
         "mode": "lines",
         "name": "AE neuron #0",
         "opacity": 0.3,
         "type": "scatter",
         "x": [
          0,
          1,
          2,
          3,
          4,
          5,
          6,
          7,
          8,
          9,
          10
         ],
         "y": [
          0.0263671875,
          0.0185546875,
          0.0107421875,
          0.0146484375,
          0.0087890625,
          0.01171875,
          0.0087890625,
          0.0087890625,
          0.01171875,
          0.0087890625,
          0.0068359375
         ]
        },
        {
         "legendgroup": "Instance #4",
         "legendgrouptitle": {
          "text": "Instance #4"
         },
         "mode": "lines",
         "name": "AE neuron #1",
         "opacity": 0.3,
         "type": "scatter",
         "x": [
          0,
          1,
          2,
          3,
          4,
          5,
          6,
          7,
          8,
          9,
          10
         ],
         "y": [
          0.0224609375,
          0.017578125,
          0.0126953125,
          0.013671875,
          0.0107421875,
          0.015625,
          0.0087890625,
          0.0087890625,
          0.0126953125,
          0.0087890625,
          0.0048828125
         ]
        },
        {
         "legendgroup": "Instance #4",
         "legendgrouptitle": {
          "text": "Instance #4"
         },
         "mode": "lines",
         "name": "AE neuron #2",
         "opacity": 0.3,
         "type": "scatter",
         "x": [
          0,
          1,
          2,
          3,
          4,
          5,
          6,
          7,
          8,
          9,
          10
         ],
         "y": [
          0.0263671875,
          0.017578125,
          0.013671875,
          0.017578125,
          0.009765625,
          0.009765625,
          0.01171875,
          0.0048828125,
          0.009765625,
          0.0068359375,
          0.0078125
         ]
        },
        {
         "legendgroup": "Instance #4",
         "legendgrouptitle": {
          "text": "Instance #4"
         },
         "mode": "lines",
         "name": "AE neuron #3",
         "opacity": 0.3,
         "type": "scatter",
         "x": [
          0,
          1,
          2,
          3,
          4,
          5,
          6,
          7,
          8,
          9,
          10
         ],
         "y": [
          0.025390625,
          0.015625,
          0.009765625,
          0.01171875,
          0.0068359375,
          0.015625,
          0.017578125,
          0.015625,
          0.0087890625,
          0.0068359375,
          0.015625
         ]
        },
        {
         "legendgroup": "Instance #4",
         "legendgrouptitle": {
          "text": "Instance #4"
         },
         "mode": "lines",
         "name": "AE neuron #4",
         "opacity": 0.3,
         "type": "scatter",
         "x": [
          0,
          1,
          2,
          3,
          4,
          5,
          6,
          7,
          8,
          9,
          10
         ],
         "y": [
          0.0341796875,
          0.01171875,
          0.0087890625,
          0.01171875,
          0.0078125,
          0.009765625,
          0.009765625,
          0.0087890625,
          0.0048828125,
          0.0029296875,
          0.01171875
         ]
        },
        {
         "legendgroup": "Instance #5",
         "legendgrouptitle": {
          "text": "Instance #5"
         },
         "mode": "lines",
         "name": "AE neuron #0",
         "opacity": 0.3,
         "type": "scatter",
         "x": [
          0,
          1,
          2,
          3,
          4,
          5,
          6,
          7,
          8,
          9,
          10
         ],
         "y": [
          0.0302734375,
          0,
          0,
          0.0322265625,
          0.0087890625,
          0.0068359375,
          0.0146484375,
          0.0087890625,
          0.01171875,
          0.0029296875,
          0.0048828125
         ]
        },
        {
         "legendgroup": "Instance #5",
         "legendgrouptitle": {
          "text": "Instance #5"
         },
         "mode": "lines",
         "name": "AE neuron #1",
         "opacity": 0.3,
         "type": "scatter",
         "x": [
          0,
          1,
          2,
          3,
          4,
          5,
          6,
          7,
          8,
          9,
          10
         ],
         "y": [
          0.0166015625,
          0.0146484375,
          0.01953125,
          0.013671875,
          0.01171875,
          0.0126953125,
          0.009765625,
          0.0078125,
          0.005859375,
          0.009765625,
          0.01171875
         ]
        },
        {
         "legendgroup": "Instance #5",
         "legendgrouptitle": {
          "text": "Instance #5"
         },
         "mode": "lines",
         "name": "AE neuron #2",
         "opacity": 0.3,
         "type": "scatter",
         "x": [
          0,
          1,
          2,
          3,
          4,
          5,
          6,
          7,
          8,
          9,
          10
         ],
         "y": [
          0.0185546875,
          0.021484375,
          0.0244140625,
          0.0166015625,
          0.01171875,
          0.015625,
          0.0107421875,
          0.001953125,
          0.0078125,
          0.0087890625,
          0.0078125
         ]
        },
        {
         "legendgroup": "Instance #5",
         "legendgrouptitle": {
          "text": "Instance #5"
         },
         "mode": "lines",
         "name": "AE neuron #3",
         "opacity": 0.3,
         "type": "scatter",
         "x": [
          0,
          1,
          2,
          3,
          4,
          5,
          6,
          7,
          8,
          9,
          10
         ],
         "y": [
          0.0224609375,
          0.015625,
          0.015625,
          0.0205078125,
          0.0107421875,
          0.013671875,
          0.001953125,
          0.009765625,
          0.0107421875,
          0.01171875,
          0.0087890625
         ]
        },
        {
         "legendgroup": "Instance #5",
         "legendgrouptitle": {
          "text": "Instance #5"
         },
         "mode": "lines",
         "name": "AE neuron #4",
         "opacity": 0.3,
         "type": "scatter",
         "x": [
          0,
          1,
          2,
          3,
          4,
          5,
          6,
          7,
          8,
          9,
          10
         ],
         "y": [
          0.0185546875,
          0,
          0,
          0,
          0,
          0.029296875,
          0.0107421875,
          0.009765625,
          0.0126953125,
          0.01171875,
          0.005859375
         ]
        },
        {
         "legendgroup": "Instance #6",
         "legendgrouptitle": {
          "text": "Instance #6"
         },
         "mode": "lines",
         "name": "AE neuron #0",
         "opacity": 0.3,
         "type": "scatter",
         "x": [
          0,
          1,
          2,
          3,
          4,
          5,
          6,
          7,
          8,
          9,
          10
         ],
         "y": [
          0.0263671875,
          0,
          0,
          0,
          0,
          0.021484375,
          0.0068359375,
          0.009765625,
          0.0126953125,
          0.013671875,
          0.009765625
         ]
        },
        {
         "legendgroup": "Instance #6",
         "legendgrouptitle": {
          "text": "Instance #6"
         },
         "mode": "lines",
         "name": "AE neuron #1",
         "opacity": 0.3,
         "type": "scatter",
         "x": [
          0,
          1,
          2,
          3,
          4,
          5,
          6,
          7,
          8,
          9,
          10
         ],
         "y": [
          0.0283203125,
          0.0185546875,
          0.0205078125,
          0.0146484375,
          0.013671875,
          0.0166015625,
          0.0078125,
          0.0078125,
          0.013671875,
          0.009765625,
          0.0078125
         ]
        },
        {
         "legendgroup": "Instance #6",
         "legendgrouptitle": {
          "text": "Instance #6"
         },
         "mode": "lines",
         "name": "AE neuron #2",
         "opacity": 0.3,
         "type": "scatter",
         "x": [
          0,
          1,
          2,
          3,
          4,
          5,
          6,
          7,
          8,
          9,
          10
         ],
         "y": [
          0.0185546875,
          0.015625,
          0.0224609375,
          0.0205078125,
          0.013671875,
          0.01171875,
          0.0048828125,
          0.0087890625,
          0.0048828125,
          0.0107421875,
          0.009765625
         ]
        },
        {
         "legendgroup": "Instance #6",
         "legendgrouptitle": {
          "text": "Instance #6"
         },
         "mode": "lines",
         "name": "AE neuron #3",
         "opacity": 0.3,
         "type": "scatter",
         "x": [
          0,
          1,
          2,
          3,
          4,
          5,
          6,
          7,
          8,
          9,
          10
         ],
         "y": [
          0.0205078125,
          0,
          0,
          0,
          0.017578125,
          0.0107421875,
          0.0048828125,
          0.015625,
          0.0068359375,
          0.0087890625,
          0.0068359375
         ]
        },
        {
         "legendgroup": "Instance #6",
         "legendgrouptitle": {
          "text": "Instance #6"
         },
         "mode": "lines",
         "name": "AE neuron #4",
         "opacity": 0.3,
         "type": "scatter",
         "x": [
          0,
          1,
          2,
          3,
          4,
          5,
          6,
          7,
          8,
          9,
          10
         ],
         "y": [
          0.01953125,
          0.01953125,
          0.0224609375,
          0.0244140625,
          0.0146484375,
          0.009765625,
          0.005859375,
          0.00390625,
          0.0126953125,
          0.013671875,
          0.009765625
         ]
        },
        {
         "legendgroup": "Instance #7",
         "legendgrouptitle": {
          "text": "Instance #7"
         },
         "mode": "lines",
         "name": "AE neuron #0",
         "opacity": 0.3,
         "type": "scatter",
         "x": [
          0,
          1,
          2,
          3,
          4,
          5,
          6,
          7,
          8,
          9,
          10
         ],
         "y": [
          0.0166015625,
          0,
          0,
          0,
          0,
          0.0185546875,
          0.0068359375,
          0.0107421875,
          0.005859375,
          0.0029296875,
          0.0078125
         ]
        },
        {
         "legendgroup": "Instance #7",
         "legendgrouptitle": {
          "text": "Instance #7"
         },
         "mode": "lines",
         "name": "AE neuron #1",
         "opacity": 0.3,
         "type": "scatter",
         "x": [
          0,
          1,
          2,
          3,
          4,
          5,
          6,
          7,
          8,
          9,
          10
         ],
         "y": [
          0.0244140625,
          0.0234375,
          0.015625,
          0.015625,
          0.01171875,
          0.0126953125,
          0.0068359375,
          0.013671875,
          0.009765625,
          0.0087890625,
          0.0068359375
         ]
        },
        {
         "legendgroup": "Instance #7",
         "legendgrouptitle": {
          "text": "Instance #7"
         },
         "mode": "lines",
         "name": "AE neuron #2",
         "opacity": 0.3,
         "type": "scatter",
         "x": [
          0,
          1,
          2,
          3,
          4,
          5,
          6,
          7,
          8,
          9,
          10
         ],
         "y": [
          0.0107421875,
          0,
          0,
          0,
          0.0263671875,
          0.0166015625,
          0.0068359375,
          0.0078125,
          0.0068359375,
          0.00390625,
          0.0126953125
         ]
        },
        {
         "legendgroup": "Instance #7",
         "legendgrouptitle": {
          "text": "Instance #7"
         },
         "mode": "lines",
         "name": "AE neuron #3",
         "opacity": 0.3,
         "type": "scatter",
         "x": [
          0,
          1,
          2,
          3,
          4,
          5,
          6,
          7,
          8,
          9,
          10
         ],
         "y": [
          0.0126953125,
          0,
          0,
          0.0244140625,
          0.013671875,
          0.0126953125,
          0.009765625,
          0.005859375,
          0.009765625,
          0.0078125,
          0.005859375
         ]
        },
        {
         "legendgroup": "Instance #7",
         "legendgrouptitle": {
          "text": "Instance #7"
         },
         "mode": "lines",
         "name": "AE neuron #4",
         "opacity": 0.3,
         "type": "scatter",
         "x": [
          0,
          1,
          2,
          3,
          4,
          5,
          6,
          7,
          8,
          9,
          10
         ],
         "y": [
          0.017578125,
          0,
          0,
          0,
          0.0302734375,
          0.013671875,
          0.0126953125,
          0.0068359375,
          0.0107421875,
          0.0087890625,
          0.005859375
         ]
        }
       ],
       "layout": {
        "annotations": [
         {
          "font": {
           "size": 14
          },
          "showarrow": false,
          "text": "Feature prob",
          "x": 0,
          "xanchor": "left",
          "xref": "x domain",
          "y": 0.01,
          "yanchor": "top",
          "yref": "y"
         }
        ],
        "shapes": [
         {
          "line": {
           "color": "black",
           "width": 2
          },
          "opacity": 1,
          "type": "line",
          "x0": 0,
          "x1": 1,
          "xref": "x domain",
          "y0": 0.01,
          "y1": 0.01,
          "yref": "y"
         }
        ],
        "template": {
         "data": {
          "bar": [
           {
            "error_x": {
             "color": "rgb(36,36,36)"
            },
            "error_y": {
             "color": "rgb(36,36,36)"
            },
            "marker": {
             "line": {
              "color": "white",
              "width": 0.5
             },
             "pattern": {
              "fillmode": "overlay",
              "size": 10,
              "solidity": 0.2
             }
            },
            "type": "bar"
           }
          ],
          "barpolar": [
           {
            "marker": {
             "line": {
              "color": "white",
              "width": 0.5
             },
             "pattern": {
              "fillmode": "overlay",
              "size": 10,
              "solidity": 0.2
             }
            },
            "type": "barpolar"
           }
          ],
          "carpet": [
           {
            "aaxis": {
             "endlinecolor": "rgb(36,36,36)",
             "gridcolor": "white",
             "linecolor": "white",
             "minorgridcolor": "white",
             "startlinecolor": "rgb(36,36,36)"
            },
            "baxis": {
             "endlinecolor": "rgb(36,36,36)",
             "gridcolor": "white",
             "linecolor": "white",
             "minorgridcolor": "white",
             "startlinecolor": "rgb(36,36,36)"
            },
            "type": "carpet"
           }
          ],
          "choropleth": [
           {
            "colorbar": {
             "outlinewidth": 1,
             "tickcolor": "rgb(36,36,36)",
             "ticks": "outside"
            },
            "type": "choropleth"
           }
          ],
          "contour": [
           {
            "colorbar": {
             "outlinewidth": 1,
             "tickcolor": "rgb(36,36,36)",
             "ticks": "outside"
            },
            "colorscale": [
             [
              0,
              "#440154"
             ],
             [
              0.1111111111111111,
              "#482878"
             ],
             [
              0.2222222222222222,
              "#3e4989"
             ],
             [
              0.3333333333333333,
              "#31688e"
             ],
             [
              0.4444444444444444,
              "#26828e"
             ],
             [
              0.5555555555555556,
              "#1f9e89"
             ],
             [
              0.6666666666666666,
              "#35b779"
             ],
             [
              0.7777777777777778,
              "#6ece58"
             ],
             [
              0.8888888888888888,
              "#b5de2b"
             ],
             [
              1,
              "#fde725"
             ]
            ],
            "type": "contour"
           }
          ],
          "contourcarpet": [
           {
            "colorbar": {
             "outlinewidth": 1,
             "tickcolor": "rgb(36,36,36)",
             "ticks": "outside"
            },
            "type": "contourcarpet"
           }
          ],
          "heatmap": [
           {
            "colorbar": {
             "outlinewidth": 1,
             "tickcolor": "rgb(36,36,36)",
             "ticks": "outside"
            },
            "colorscale": [
             [
              0,
              "#440154"
             ],
             [
              0.1111111111111111,
              "#482878"
             ],
             [
              0.2222222222222222,
              "#3e4989"
             ],
             [
              0.3333333333333333,
              "#31688e"
             ],
             [
              0.4444444444444444,
              "#26828e"
             ],
             [
              0.5555555555555556,
              "#1f9e89"
             ],
             [
              0.6666666666666666,
              "#35b779"
             ],
             [
              0.7777777777777778,
              "#6ece58"
             ],
             [
              0.8888888888888888,
              "#b5de2b"
             ],
             [
              1,
              "#fde725"
             ]
            ],
            "type": "heatmap"
           }
          ],
          "heatmapgl": [
           {
            "colorbar": {
             "outlinewidth": 1,
             "tickcolor": "rgb(36,36,36)",
             "ticks": "outside"
            },
            "colorscale": [
             [
              0,
              "#440154"
             ],
             [
              0.1111111111111111,
              "#482878"
             ],
             [
              0.2222222222222222,
              "#3e4989"
             ],
             [
              0.3333333333333333,
              "#31688e"
             ],
             [
              0.4444444444444444,
              "#26828e"
             ],
             [
              0.5555555555555556,
              "#1f9e89"
             ],
             [
              0.6666666666666666,
              "#35b779"
             ],
             [
              0.7777777777777778,
              "#6ece58"
             ],
             [
              0.8888888888888888,
              "#b5de2b"
             ],
             [
              1,
              "#fde725"
             ]
            ],
            "type": "heatmapgl"
           }
          ],
          "histogram": [
           {
            "marker": {
             "line": {
              "color": "white",
              "width": 0.6
             }
            },
            "type": "histogram"
           }
          ],
          "histogram2d": [
           {
            "colorbar": {
             "outlinewidth": 1,
             "tickcolor": "rgb(36,36,36)",
             "ticks": "outside"
            },
            "colorscale": [
             [
              0,
              "#440154"
             ],
             [
              0.1111111111111111,
              "#482878"
             ],
             [
              0.2222222222222222,
              "#3e4989"
             ],
             [
              0.3333333333333333,
              "#31688e"
             ],
             [
              0.4444444444444444,
              "#26828e"
             ],
             [
              0.5555555555555556,
              "#1f9e89"
             ],
             [
              0.6666666666666666,
              "#35b779"
             ],
             [
              0.7777777777777778,
              "#6ece58"
             ],
             [
              0.8888888888888888,
              "#b5de2b"
             ],
             [
              1,
              "#fde725"
             ]
            ],
            "type": "histogram2d"
           }
          ],
          "histogram2dcontour": [
           {
            "colorbar": {
             "outlinewidth": 1,
             "tickcolor": "rgb(36,36,36)",
             "ticks": "outside"
            },
            "colorscale": [
             [
              0,
              "#440154"
             ],
             [
              0.1111111111111111,
              "#482878"
             ],
             [
              0.2222222222222222,
              "#3e4989"
             ],
             [
              0.3333333333333333,
              "#31688e"
             ],
             [
              0.4444444444444444,
              "#26828e"
             ],
             [
              0.5555555555555556,
              "#1f9e89"
             ],
             [
              0.6666666666666666,
              "#35b779"
             ],
             [
              0.7777777777777778,
              "#6ece58"
             ],
             [
              0.8888888888888888,
              "#b5de2b"
             ],
             [
              1,
              "#fde725"
             ]
            ],
            "type": "histogram2dcontour"
           }
          ],
          "mesh3d": [
           {
            "colorbar": {
             "outlinewidth": 1,
             "tickcolor": "rgb(36,36,36)",
             "ticks": "outside"
            },
            "type": "mesh3d"
           }
          ],
          "parcoords": [
           {
            "line": {
             "colorbar": {
              "outlinewidth": 1,
              "tickcolor": "rgb(36,36,36)",
              "ticks": "outside"
             }
            },
            "type": "parcoords"
           }
          ],
          "pie": [
           {
            "automargin": true,
            "type": "pie"
           }
          ],
          "scatter": [
           {
            "fillpattern": {
             "fillmode": "overlay",
             "size": 10,
             "solidity": 0.2
            },
            "type": "scatter"
           }
          ],
          "scatter3d": [
           {
            "line": {
             "colorbar": {
              "outlinewidth": 1,
              "tickcolor": "rgb(36,36,36)",
              "ticks": "outside"
             }
            },
            "marker": {
             "colorbar": {
              "outlinewidth": 1,
              "tickcolor": "rgb(36,36,36)",
              "ticks": "outside"
             }
            },
            "type": "scatter3d"
           }
          ],
          "scattercarpet": [
           {
            "marker": {
             "colorbar": {
              "outlinewidth": 1,
              "tickcolor": "rgb(36,36,36)",
              "ticks": "outside"
             }
            },
            "type": "scattercarpet"
           }
          ],
          "scattergeo": [
           {
            "marker": {
             "colorbar": {
              "outlinewidth": 1,
              "tickcolor": "rgb(36,36,36)",
              "ticks": "outside"
             }
            },
            "type": "scattergeo"
           }
          ],
          "scattergl": [
           {
            "marker": {
             "colorbar": {
              "outlinewidth": 1,
              "tickcolor": "rgb(36,36,36)",
              "ticks": "outside"
             }
            },
            "type": "scattergl"
           }
          ],
          "scattermapbox": [
           {
            "marker": {
             "colorbar": {
              "outlinewidth": 1,
              "tickcolor": "rgb(36,36,36)",
              "ticks": "outside"
             }
            },
            "type": "scattermapbox"
           }
          ],
          "scatterpolar": [
           {
            "marker": {
             "colorbar": {
              "outlinewidth": 1,
              "tickcolor": "rgb(36,36,36)",
              "ticks": "outside"
             }
            },
            "type": "scatterpolar"
           }
          ],
          "scatterpolargl": [
           {
            "marker": {
             "colorbar": {
              "outlinewidth": 1,
              "tickcolor": "rgb(36,36,36)",
              "ticks": "outside"
             }
            },
            "type": "scatterpolargl"
           }
          ],
          "scatterternary": [
           {
            "marker": {
             "colorbar": {
              "outlinewidth": 1,
              "tickcolor": "rgb(36,36,36)",
              "ticks": "outside"
             }
            },
            "type": "scatterternary"
           }
          ],
          "surface": [
           {
            "colorbar": {
             "outlinewidth": 1,
             "tickcolor": "rgb(36,36,36)",
             "ticks": "outside"
            },
            "colorscale": [
             [
              0,
              "#440154"
             ],
             [
              0.1111111111111111,
              "#482878"
             ],
             [
              0.2222222222222222,
              "#3e4989"
             ],
             [
              0.3333333333333333,
              "#31688e"
             ],
             [
              0.4444444444444444,
              "#26828e"
             ],
             [
              0.5555555555555556,
              "#1f9e89"
             ],
             [
              0.6666666666666666,
              "#35b779"
             ],
             [
              0.7777777777777778,
              "#6ece58"
             ],
             [
              0.8888888888888888,
              "#b5de2b"
             ],
             [
              1,
              "#fde725"
             ]
            ],
            "type": "surface"
           }
          ],
          "table": [
           {
            "cells": {
             "fill": {
              "color": "rgb(237,237,237)"
             },
             "line": {
              "color": "white"
             }
            },
            "header": {
             "fill": {
              "color": "rgb(217,217,217)"
             },
             "line": {
              "color": "white"
             }
            },
            "type": "table"
           }
          ]
         },
         "layout": {
          "annotationdefaults": {
           "arrowhead": 0,
           "arrowwidth": 1
          },
          "autotypenumbers": "strict",
          "coloraxis": {
           "colorbar": {
            "outlinewidth": 1,
            "tickcolor": "rgb(36,36,36)",
            "ticks": "outside"
           }
          },
          "colorscale": {
           "diverging": [
            [
             0,
             "rgb(103,0,31)"
            ],
            [
             0.1,
             "rgb(178,24,43)"
            ],
            [
             0.2,
             "rgb(214,96,77)"
            ],
            [
             0.3,
             "rgb(244,165,130)"
            ],
            [
             0.4,
             "rgb(253,219,199)"
            ],
            [
             0.5,
             "rgb(247,247,247)"
            ],
            [
             0.6,
             "rgb(209,229,240)"
            ],
            [
             0.7,
             "rgb(146,197,222)"
            ],
            [
             0.8,
             "rgb(67,147,195)"
            ],
            [
             0.9,
             "rgb(33,102,172)"
            ],
            [
             1,
             "rgb(5,48,97)"
            ]
           ],
           "sequential": [
            [
             0,
             "#440154"
            ],
            [
             0.1111111111111111,
             "#482878"
            ],
            [
             0.2222222222222222,
             "#3e4989"
            ],
            [
             0.3333333333333333,
             "#31688e"
            ],
            [
             0.4444444444444444,
             "#26828e"
            ],
            [
             0.5555555555555556,
             "#1f9e89"
            ],
            [
             0.6666666666666666,
             "#35b779"
            ],
            [
             0.7777777777777778,
             "#6ece58"
            ],
            [
             0.8888888888888888,
             "#b5de2b"
            ],
            [
             1,
             "#fde725"
            ]
           ],
           "sequentialminus": [
            [
             0,
             "#440154"
            ],
            [
             0.1111111111111111,
             "#482878"
            ],
            [
             0.2222222222222222,
             "#3e4989"
            ],
            [
             0.3333333333333333,
             "#31688e"
            ],
            [
             0.4444444444444444,
             "#26828e"
            ],
            [
             0.5555555555555556,
             "#1f9e89"
            ],
            [
             0.6666666666666666,
             "#35b779"
            ],
            [
             0.7777777777777778,
             "#6ece58"
            ],
            [
             0.8888888888888888,
             "#b5de2b"
            ],
            [
             1,
             "#fde725"
            ]
           ]
          },
          "colorway": [
           "#1F77B4",
           "#FF7F0E",
           "#2CA02C",
           "#D62728",
           "#9467BD",
           "#8C564B",
           "#E377C2",
           "#7F7F7F",
           "#BCBD22",
           "#17BECF"
          ],
          "font": {
           "color": "rgb(36,36,36)"
          },
          "geo": {
           "bgcolor": "white",
           "lakecolor": "white",
           "landcolor": "white",
           "showlakes": true,
           "showland": true,
           "subunitcolor": "white"
          },
          "hoverlabel": {
           "align": "left"
          },
          "hovermode": "closest",
          "mapbox": {
           "style": "light"
          },
          "paper_bgcolor": "white",
          "plot_bgcolor": "white",
          "polar": {
           "angularaxis": {
            "gridcolor": "rgb(232,232,232)",
            "linecolor": "rgb(36,36,36)",
            "showgrid": false,
            "showline": true,
            "ticks": "outside"
           },
           "bgcolor": "white",
           "radialaxis": {
            "gridcolor": "rgb(232,232,232)",
            "linecolor": "rgb(36,36,36)",
            "showgrid": false,
            "showline": true,
            "ticks": "outside"
           }
          },
          "scene": {
           "xaxis": {
            "backgroundcolor": "white",
            "gridcolor": "rgb(232,232,232)",
            "gridwidth": 2,
            "linecolor": "rgb(36,36,36)",
            "showbackground": true,
            "showgrid": false,
            "showline": true,
            "ticks": "outside",
            "zeroline": false,
            "zerolinecolor": "rgb(36,36,36)"
           },
           "yaxis": {
            "backgroundcolor": "white",
            "gridcolor": "rgb(232,232,232)",
            "gridwidth": 2,
            "linecolor": "rgb(36,36,36)",
            "showbackground": true,
            "showgrid": false,
            "showline": true,
            "ticks": "outside",
            "zeroline": false,
            "zerolinecolor": "rgb(36,36,36)"
           },
           "zaxis": {
            "backgroundcolor": "white",
            "gridcolor": "rgb(232,232,232)",
            "gridwidth": 2,
            "linecolor": "rgb(36,36,36)",
            "showbackground": true,
            "showgrid": false,
            "showline": true,
            "ticks": "outside",
            "zeroline": false,
            "zerolinecolor": "rgb(36,36,36)"
           }
          },
          "shapedefaults": {
           "fillcolor": "black",
           "line": {
            "width": 0
           },
           "opacity": 0.3
          },
          "ternary": {
           "aaxis": {
            "gridcolor": "rgb(232,232,232)",
            "linecolor": "rgb(36,36,36)",
            "showgrid": false,
            "showline": true,
            "ticks": "outside"
           },
           "baxis": {
            "gridcolor": "rgb(232,232,232)",
            "linecolor": "rgb(36,36,36)",
            "showgrid": false,
            "showline": true,
            "ticks": "outside"
           },
           "bgcolor": "white",
           "caxis": {
            "gridcolor": "rgb(232,232,232)",
            "linecolor": "rgb(36,36,36)",
            "showgrid": false,
            "showline": true,
            "ticks": "outside"
           }
          },
          "title": {
           "x": 0.05
          },
          "xaxis": {
           "automargin": true,
           "gridcolor": "rgb(232,232,232)",
           "linecolor": "rgb(36,36,36)",
           "showgrid": false,
           "showline": true,
           "ticks": "outside",
           "title": {
            "standoff": 15
           },
           "zeroline": false,
           "zerolinecolor": "rgb(36,36,36)"
          },
          "yaxis": {
           "automargin": true,
           "gridcolor": "rgb(232,232,232)",
           "linecolor": "rgb(36,36,36)",
           "showgrid": false,
           "showline": true,
           "ticks": "outside",
           "title": {
            "standoff": 15
           },
           "zeroline": false,
           "zerolinecolor": "rgb(36,36,36)"
          }
         }
        },
        "title": {
         "text": "Probability of SAE neurons being active during training"
        },
        "width": 1000,
        "xaxis": {
         "title": {
          "text": "Training Step"
         }
        },
        "yaxis": {
         "range": [
          0,
          0.03
         ],
         "title": {
          "text": "Fraction of Active Neurons"
         }
        }
       }
      }
     },
     "metadata": {},
     "output_type": "display_data"
    }
   ],
   "source": [
    "\"\"\"Post resampling training, plot the fraction of active neurons (features) over training.\"\"\"\n",
    "\n",
    "frac_active_line_plot(\n",
    "    frac_active=torch.stack(data_log[\"frac_active\"], dim=0),\n",
    "    feature_probability=0.01,\n",
    ")"
   ]
  },
  {
   "cell_type": "markdown",
   "metadata": {
    "id": "IsuGlV_Yo_vk"
   },
   "source": [
    "We can see that the problem of dead features has been resolved..."
   ]
  },
  {
   "cell_type": "code",
   "execution_count": 16,
   "metadata": {
    "colab": {
     "base_uri": "https://localhost:8080/",
     "height": 474
    },
    "executionInfo": {
     "elapsed": 1934,
     "status": "ok",
     "timestamp": 1723064537250,
     "user": {
      "displayName": "Jack Lindsey",
      "userId": "09885759716350612548"
     },
     "user_tz": 240
    },
    "id": "k7RaT3Vuvw-s",
    "outputId": "78a267f3-4946-41a7-bc4f-27afc69cc10b"
   },
   "outputs": [
    {
     "name": "stdout",
     "output_type": "stream",
     "text": [
      "ENCODER\n"
     ]
    },
    {
     "data": {
      "image/png": "[encoded data removed]",
      "text/plain": [
       "<Figure size 800x400 with 8 Axes>"
      ]
     },
     "metadata": {},
     "output_type": "display_data"
    },
    {
     "name": "stdout",
     "output_type": "stream",
     "text": [
      "DECODER\n"
     ]
    },
    {
     "data": {
      "image/png": "[encoded data removed]",
      "text/plain": [
       "<Figure size 800x400 with 8 Axes>"
      ]
     },
     "metadata": {},
     "output_type": "display_data"
    },
    {
     "name": "stdout",
     "output_type": "stream",
     "text": [
      "GROUND TRUTH\n"
     ]
    },
    {
     "data": {
      "image/png": "[encoded data removed]",
      "text/plain": [
       "<Figure size 800x400 with 8 Axes>"
      ]
     },
     "metadata": {},
     "output_type": "display_data"
    }
   ],
   "source": [
    "\"\"\"View the encoder, decoder, and ground truth features post resampling training.\"\"\"\n",
    "\n",
    "print(\"ENCODER\")\n",
    "plot_features_in_2d(\n",
    "    data_log[\"W_enc\"][-1],\n",
    ")\n",
    "\n",
    "print(\"DECODER\")\n",
    "plot_features_in_2d(\n",
    "    data_log[\"W_dec\"][-1].transpose(-1, -2),\n",
    ")\n",
    "\n",
    "print(\"GROUND TRUTH\")\n",
    "plot_features_in_2d(\n",
    "    model.W,\n",
    ")"
   ]
  },
  {
   "cell_type": "markdown",
   "metadata": {},
   "source": [
    "And the feature directions inferred by the model are now what we expect! \n",
    "\n",
    "Furthermore, if we compare them to the ground-truth feature directions (the Toy Model's weights), we can see they match pretty well!"
   ]
  },
  {
   "cell_type": "markdown",
   "metadata": {
    "id": "YVvXnD8w-UGE"
   },
   "source": [
    "In conclusion, we've seen that properly implemented sparse autoencoders can accurately infer ground-truth sparse features underlying observed activations."
   ]
  },
  {
   "cell_type": "markdown",
   "metadata": {
    "id": "xEIICm1Zvw-t"
   },
   "source": [
    "# (2) Sparse Autoencoders applied to language models"
   ]
  },
  {
   "cell_type": "markdown",
   "metadata": {
    "id": "cuPwVyL7vw-t"
   },
   "source": [
    "Now that we've trained SAEs on a toy model, we'll graduate to some more realistic models.\n",
    "\n",
    "Currently, the open-source infrastructure for training SAEs is very much in development, and we'd love you to help build it out! But for now, we'll take an SAE which was trained on activations of a GELU-1l model (from Neel Nanda's HookedTransformer library). Specifically, these are the MLP neuron activations from a 1-layer transformer.\n",
    "\n",
    "If you're not familiar with the transformer architecture, no worries -- you actually don't need to be for this exercise!  All you need to know is that these activations are internal model representations of a text sequence."
   ]
  },
  {
   "cell_type": "markdown",
   "metadata": {
    "id": "Jp1NG-yivw-t"
   },
   "source": [
    "First, here's some code to load in sparse autoencoders. We'll load in two different SAEs, denoted with the parameter `version`. These have the same architectures & were trained in the same way, but with different random seeds. This is a robustness check -- if two different SAE runs find the same feature, that's evidence that the feature is universal rather than just a fluke of the training process.\n",
    "\n",
    "We'll load in both of these autoencoders into the same `AutoEncoder` object (as 2 different **instances**).\n",
    "\n",
    "A few notes / pieces of terminology:\n",
    "\n",
    "- Because we're working with an MLP layer, we'll use `d_mlp` to denote the size of the MLP layer - this is equivalent to `n_input_ae` in the previous section. We'll keep using `n_hidden_ae` to refer to the autoencoder's hidden dimension.\n",
    "- The **dictionary multiplier** (denoted `dict_mult` below) is the factor by which the autoencoder's hidden dimension is larger than the model's hidden dimension, in other words `n_hidden_ae = dict_mult * d_mlp`.\n",
    "- We're  now working with a real language model rather than a toy data-generating process with known ground-truth features, so when we say \"features\" in this section we're referring to the autoencoder's hidden values rather than theoretical \"true features\" of the data-generation process."
   ]
  },
  {
   "cell_type": "markdown",
   "metadata": {
    "id": "SRhV5u40cJIA"
   },
   "source": [
    "### Imports and setup"
   ]
  },
  {
   "cell_type": "code",
   "execution_count": 4,
   "metadata": {
    "id": "m3A8xTDRvw-t"
   },
   "outputs": [],
   "source": [
    "from transformer_lens import HookedTransformer, FactoredMatrix\n",
    "from transformer_lens.hook_points import HookPoint\n",
    "\n",
    "from transformer_lens.utils import (\n",
    "    load_dataset,\n",
    "    tokenize_and_concatenate,\n",
    "    download_file_from_hf,\n",
    ")"
   ]
  },
  {
   "cell_type": "code",
   "execution_count": 9,
   "metadata": {
    "colab": {
     "base_uri": "https://localhost:8080/",
     "height": 284,
     "referenced_widgets": [
      "0f486a7b0ce34eb884f52f9353a02461",
      "3c39998444d94445b7a2ae32f059f462",
      "f2837001ebc84d99be5675215ee2217f",
      "4700f4ecdad14e1ead940ded7c97654d",
      "3dda3f1dc4214fc79d304b211a421b79",
      "61585b05a6ea474f99a2c813466e51de",
      "9fec165f7e6e4c87aa63fa1d8ba56985",
      "4d2eb635834145edb4a72e0168561331",
      "2b08db436a9349518a56c916de347832",
      "181b13b41858487dad4ed21caf15e8d1",
      "5b123f8690ed4ef2bcaff710ebf47653",
      "dd4ebd8a213e4fbb8cb3c790d2cb589e",
      "535216fafe1d4112a72b7d69b774b0b5",
      "67a7c4364bf546199473c486292377e9",
      "8d75bccfafac4c7b9c3358b7df005f0e",
      "733f8f5ddf3a42439714fb0f36b4ee0c",
      "b575bc8181ee4282a77054a1880d245a",
      "b6f9f8dd2c1d4daf9060f1b86419b0ea",
      "c6c80d2d65d74a41a87d89b745249cb8",
      "ff7871c3a6e5447cb9275a3c5b4e5528",
      "33f82469b57c49f19cdde3124da7df39",
      "b8152b5c6f354e2db8c24645471021db",
      "0732626e4a394e309ae72f1c0463b06b",
      "d3d59b79bfe8446c842b1ff853365bdf",
      "0ac41f03c8914552aaadc5302d2e97ba",
      "3ad7492a61e541e08939ae309940bb88",
      "33dda862a29a4a42abbb8bc4c2649ff8",
      "924b4d5f2d834f6183d2d5014f16f9d7",
      "6b8a8ce96b0c45ba81f27d4ba34e0508",
      "7ae0c6304be84b24accf3b070c03bf00",
      "2bd13f64244f4b78b34c0a4eb3a85c65",
      "f482611349924bc6ad7524f5f112aeb7",
      "4532be13d88c4bbab8dad0eb7dbca5ea",
      "3b3cbce2adac477593ccdf97acba5829",
      "a6cbe840edd447e0b44187ddfc53fae2",
      "022878078f404a21942340422d025a22",
      "c8966ab35b424facbdeb703af970fc78",
      "5d334ef4e33e445aaa27e4d2c5d123fa",
      "bc87a60a56284946a0236e6f883ab7a3",
      "835691af86864579a330a23910db6e48",
      "ca75e30c255b44ec9d29f6a6e0ea28db",
      "165446bd398e4c7688eb2dddbeeb9d52",
      "06f24f38c1f547ad85ad7b1c9dee49b9",
      "16940867afcf49d9867e117e0f11661c"
     ]
    },
    "executionInfo": {
     "elapsed": 6506,
     "status": "ok",
     "timestamp": 1723064808059,
     "user": {
      "displayName": "Jack Lindsey",
      "userId": "09885759716350612548"
     },
     "user_tz": 240
    },
    "id": "lGtuxxzevw-t",
    "outputId": "206eb2e7-66b0-4375-e973-527fe4046b77"
   },
   "outputs": [],
   "source": [
    "VERSION_DICT = {\"run1\": 25, \"run2\": 47}\n",
    "\n",
    "\n",
    "def load_autoencoder_from_huggingface(versions: List[str] = [\"run1\", \"run2\"]):\n",
    "    state_dict = {}\n",
    "\n",
    "    for version in versions:\n",
    "        version_id = VERSION_DICT[version]\n",
    "        # Load the data from huggingface (both metadata and state dict)\n",
    "        sae_data: dict = download_file_from_hf(\n",
    "            \"NeelNanda/sparse_autoencoder\", f\"{version_id}_cfg.json\"\n",
    "        )\n",
    "        new_state_dict: dict = download_file_from_hf(\n",
    "            \"NeelNanda/sparse_autoencoder\", f\"{version_id}.pt\", force_is_torch=True\n",
    "        )\n",
    "        # Add new state dict to the existing one\n",
    "        for k, v in new_state_dict.items():\n",
    "            state_dict[k] = torch.stack([state_dict[k], v]) if k in state_dict else v\n",
    "\n",
    "    # Get data about the model dimensions, and use that to initialize our model (with 2 instances)\n",
    "    d_mlp = sae_data[\"d_mlp\"]\n",
    "    dict_mult = sae_data[\"dict_mult\"]\n",
    "    n_hidden_ae = d_mlp * dict_mult\n",
    "\n",
    "    cfg = AutoEncoderConfig(\n",
    "        n_instances=2,\n",
    "        n_input_ae=d_mlp,\n",
    "        n_hidden_ae=n_hidden_ae,\n",
    "    )\n",
    "\n",
    "    # Initialize our model, and load in state dict\n",
    "    autoencoder = AutoEncoder(cfg)\n",
    "    autoencoder.load_state_dict(state_dict)\n",
    "\n",
    "    return autoencoder\n",
    "\n",
    "\n",
    "autoencoder = load_autoencoder_from_huggingface()"
   ]
  },
  {
   "cell_type": "markdown",
   "metadata": {
    "id": "u5AnIslpvw-t"
   },
   "source": [
    "### Language Model\n",
    "\n",
    "We also load in our model from TransformerLens, and inspect it. The model we'll be working with is 1-layer, with `d_mlp = 2048`. Note that the autoencoder we defined above has a dictionary multiplier of 8, meaning it has 2048 * 8 = 16384 neurons!"
   ]
  },
  {
   "cell_type": "code",
   "execution_count": null,
   "metadata": {
    "colab": {
     "base_uri": "https://localhost:8080/",
     "height": 1000,
     "referenced_widgets": [
      "94074bbc208d451bab87bd9f38b5455f",
      "60ceb06596df4df09e96a2f974abff6a",
      "defc10751f3b4e83bfd893d3ed5a3d7e",
      "1de9334c990443f9b8d399b8065b6be0",
      "322a952fd6b04d8f997d6b8912338341",
      "1299cb18530d43cfb081077943fc8c2c",
      "2497856d520948aaadd089e16254f6a7",
      "7d62117aeeda42f9b979fa5667270907",
      "4faa760e1911476a9017f55d4ac3215f",
      "281a94659be844cdabdeb95cf338f6df",
      "9136f2240fdf48459b9042ad7051a1d9",
      "33bd7baf18b64dbaa28941577389de9d",
      "4677bead0e364165baa8bdd67dac91b7",
      "53d140c5f6a34f73a4f469e36877bc2d",
      "a583f341aebb4687882d086b3ad6fa2a",
      "2f3307e44e8048f79aa7bee6ce5011c2",
      "ca3a47d91054411eb57c85c4c22f3239",
      "4a894f56c40d4ad1b74c0655c84304d4",
      "68514a55f8fb4ed493966b8a6e01156b",
      "dca238dbb7894b0ab9329a0b04009fd6",
      "77aa9f890a0a48d3a2f94eb30bd6b6ff",
      "268d1f32a8a645919ef2b03241ecdc38",
      "25650bb34b52470495e9f0ceb2039c43",
      "5f39074ab3ab4cb8a2640d3c55d70e12",
      "8c3b697c05274aab82299096d75b491e",
      "3a57e421c60442679c0e90c31a93a8b3",
      "e6f9ed2642d54db2b4ff7c2d82562007",
      "b78e8c0790f84e9d8c27ad14cd277c7d",
      "a2838f06572d45b0b1f25b13a51097ed",
      "662f333746344682be091bea31cf9e83",
      "83229cb65ae64831955aa316c6af0da1",
      "ea37df6ce4a7446b947a3a6fc57dce85",
      "35df640071a54ccf96640125cbed5acc",
      "3e574c4a5d544e04820d9aeb8971a66b",
      "325bb1011cce4d3d98970d68c325bc64",
      "3a1f1d678d324df3b1ffc2b3022e83a3",
      "90cd824c990343fd95d256e8a5576e32",
      "95e1b76dfee84cbcb593efb0ff4dcb1d",
      "a2784ae3bf6747af97fe8008fcd0d54f",
      "941650622be24b5f8846ace5a32b2743",
      "1f8eba6a8a82488ebbdbb519b2eb19c4",
      "e8b18ef7a9174160a64af17470d1e4e3",
      "69894973b1cc43f69fd29ead77340acf",
      "173d5ab5f92f4514bf6b6632f54d8ca0",
      "f6c161de2cde4916b7621730cf9e6549",
      "6d53f44682d24906b12891e6ed13a1e4",
      "db7a99e45e054a6781e3214214c8acbf",
      "a4f694f5f1d445ed89aa78016392f447",
      "2f51ca12b8504ed0aa3f64e98e3a01b2",
      "26d48ee822da446faf7c0c621fb6c137",
      "4498b6d2c5fe48a2b759ab691f859401",
      "b144a2c61a57472d934369d289aa8296",
      "4d9bce5ace4440c99cf47c345cf06c32",
      "1f5b0e87a0d7429786de7c953a86ba7e",
      "d797852de07044f393934aac02a193ae"
     ]
    },
    "executionInfo": {
     "elapsed": 4752,
     "status": "ok",
     "timestamp": 1723064931777,
     "user": {
      "displayName": "Jack Lindsey",
      "userId": "09885759716350612548"
     },
     "user_tz": 240
    },
    "id": "IoG5fOjQvw-t",
    "outputId": "3e4fd9f2-0470-485d-849e-d93e243e69c2"
   },
   "outputs": [],
   "source": [
    "model = HookedTransformer.from_pretrained(\"gelu-1l\").to(device)\n",
    "\n",
    "print(model)"
   ]
  },
  {
   "cell_type": "markdown",
   "metadata": {
    "id": "-qgOh7kuvw-t"
   },
   "source": [
    "Lastly, we load in a large batch of data which is representative of the data which the autoencoder was trained on:"
   ]
  },
  {
   "cell_type": "code",
   "execution_count": null,
   "metadata": {},
   "outputs": [],
   "source": [
    "# from datasets import clear_cache, load_from_disk\n",
    "# clear_cache()"
   ]
  },
  {
   "cell_type": "code",
   "execution_count": null,
   "metadata": {
    "colab": {
     "base_uri": "https://localhost:8080/",
     "height": 162,
     "referenced_widgets": [
      "a6f0fe9a26ce41dd9539e5f195ac42b3",
      "9bf912b0ee83403788b7a9b6d8e6afe4",
      "d13b44f0a5664ae78db5133d98c90cff",
      "f54e3b4c955348f987e221ba8d2c424c",
      "12ecc541d92c4e40a442202c1a60f793",
      "5655dd45adc949cda15775ed54efa632",
      "5358847390434d59875fd03bfbff53fa",
      "cd38ee8696ee4c4a8aa1fffac9667853",
      "c39a513944e2415d9f8c1f0a8632cac2",
      "7722701967f3443788a9f4e6181f3d76",
      "ed12077191a6459284fc48e7640f575c",
      "cec1b28da239477594c343e406ed881a",
      "bc1d4ed7ee754c19ba7cfb44f65b42f8",
      "e2d9ef16fd18489aaba051382a7e401d",
      "e67f46df38b1487695ac09112432c3ec",
      "0d6680adfed9410292daed8512d055e2",
      "ccc7147e7f034406b2607f5928141a2f",
      "6b393d8439b64796aca2cf315ecb00c5",
      "de28f68742fd4e7a9334ef549d115f18",
      "e48801f5be6a4b03b6dabc2e3bd5a1e5",
      "df6030b2581848d7a16891d3c6143d25",
      "33542db6eaa94fbfbe83ef5284405fa5",
      "44661cbb9b224294a9701af9a1eda1b6",
      "4b329f0a0d7c45c2838a2dcc1bb81f76",
      "39128b3180934f62904dd9dbbd2b7257",
      "1c9bda41dd484582aebcade150eccb72",
      "8334cb121208403b8867da75950c6c5b",
      "668a33efebc64f0eb886104136bb6879",
      "dca40d3f90e6454e80d57c4121598879",
      "95a8977699ef46ffad44497447fbef14",
      "830031ebcaa24402979d418270680a86",
      "07bcea7b61994cdc995be645e137172a",
      "c14bfa0514084d798d1000f6160cb56f",
      "6c453354de214000b0c686544cbc59d4",
      "cea41bde8dc142429a364e7cfaceb678",
      "132a545ea62547fb986c0fb191f98347",
      "9254e555150d4b84b9749559b460462c",
      "b62493081ae1494f8ecaba2ea7cefc6b",
      "29a164a2285c473cbb9ac74e6815b19d",
      "a99a336c6f044144887bdc6632aa8690",
      "cf0466f59a944ca7b36e7894c9ada6ee",
      "312caee9a6094d4ba1f3205cfcc3c61c",
      "2d1cbbfffef14c95bf27095432c09333",
      "fa99fc7e67e241448a6ddfb2733d9de7"
     ]
    },
    "executionInfo": {
     "elapsed": 31098,
     "status": "ok",
     "timestamp": 1723064962872,
     "user": {
      "displayName": "Jack Lindsey",
      "userId": "09885759716350612548"
     },
     "user_tz": 240
    },
    "id": "OaKugwwAvw-t",
    "outputId": "f8bf5181-806d-416a-efc3-f0bd19c2fe99"
   },
   "outputs": [],
   "source": [
    "data = load_dataset(\"NeelNanda/c4-code-20k\", split=\"train\", download_mode=\"force_redownload\")\n",
    "tokenized_data = tokenize_and_concatenate(data, model.tokenizer, max_length=128)\n",
    "tokenized_data = tokenized_data.shuffle(42)\n",
    "\n",
    "# this will function as our input to the language model\n",
    "all_tokens = tokenized_data[\"tokens\"]\n",
    "print(\"Tokens shape: \", all_tokens.shape)"
   ]
  },
  {
   "cell_type": "markdown",
   "metadata": {
    "id": "2iPlSwND0ubd"
   },
   "source": [
    "## Working with a language model SAE\n",
    "\n",
    "Now that we've loaded the sparse autoencoder, let's verify that it actually functions well as a sparse autoencoder! This will also help familiarize you with working with these models. Specifically, we want to verify two things: (1) that the SAE activations are indeed sparse, and (2) That the SAE outputs are indeed a pretty good reconstruction of the inputs."
   ]
  },
  {
   "cell_type": "markdown",
   "metadata": {
    "id": "6ryzV2Snvw-t"
   },
   "source": [
    "### Exercise - validate the sparsity of the SAE activations\n",
    "\n",
    "\n",
    "You should fill in the `get_feature_probability` function below, which returns the fraction of time each autoencoder feature fires (as a tensor of shape `(2, n_hidden_ae)` - the latter `2` dimension because we have 2 different instances, and you should return the feature probabilities for each feature in both instances).\n",
    "\n",
    "Some of this should be familiar - in the previous sections you've already written code to calculate the model's hidden activations, and seen some that measured feature sparsity (if you investigated the resampling autoencoder neurons section). The only new thing here is how the hidden activations are generated. You should:\n",
    "\n",
    "- Run the transformer model on `tokens`, and get the post-GELU activations with shape `(batch_size, seq_len, d_mlp)`.\n",
    "- Rearrange this into shape `(batch_size * seq_len, d_mlp)`, because the activations at each token are a separate input for our autoencoder.\n",
    "- Duplicate this tensor into `(batch_size * seq_len, 2, d_mlp)`, because we have 2 different autoencoder instances.\n",
    "- Run the autoencoder on these activations, finding the activations (and the fraction of times the feature is active, over the `batch_size * seq_len` dimension).\n"
   ]
  },
  {
   "cell_type": "code",
   "execution_count": null,
   "metadata": {
    "colab": {
     "base_uri": "https://localhost:8080/",
     "height": 510,
     "referenced_widgets": [
      "c8363f314272490f8697795049a8fcff",
      "04c7e1de9715427cbf68ae75f9360d0d",
      "4b090c22d5d94460af604eaa95242428",
      "9a6fd9caf7b44930afdef15e08e62878",
      "28ebd777524046a6ab1113ae8da03330",
      "9ec124baec8043a7890d2684229f76e4",
      "8c8e316caa1340c7bb147b7807262a02",
      "73f4a881dd034c528b202a5d3423c9fc",
      "c6b22c5130204fa2ab4722d0059d794f",
      "7d930b5a608b4d5ca9db84211a664003",
      "c90ab849cd2f48358eee2098522f55c1"
     ]
    },
    "executionInfo": {
     "elapsed": 1037,
     "status": "error",
     "timestamp": 1723065385405,
     "user": {
      "displayName": "Jack Lindsey",
      "userId": "09885759716350612548"
     },
     "user_tz": 240
    },
    "id": "EEOSRbzXvw-t",
    "outputId": "8c1a3105-47d7-4bf9-9168-ff7b43c56ebf"
   },
   "outputs": [],
   "source": [
    "@torch.no_grad()\n",
    "def get_feature_probability(\n",
    "    tokens: Int[Tensor, \"batch seq\"],\n",
    "    model: HookedTransformer,\n",
    "    autoencoder: AutoEncoder,\n",
    ") -> Float[Tensor, \"\"]:\n",
    "    \"\"\"\n",
    "    Returns the feature activation probability for the autoencoder on the given batch of tokens.\n",
    "    \"\"\"\n",
    "    batch_size, seq_len = tokens.shape\n",
    "\n",
    "    # Get the activations from the transformer language model\n",
    "    logits, cache = model.run_with_cache(tokens, names_filter=[\"blocks.0.mlp.hook_post\"])\n",
    "    mlp_acts = cache[\"blocks.0.mlp.hook_post\"]\n",
    "\n",
    "    assert mlp_acts.shape == (batch_size, seq_len, model.cfg.d_mlp)\n",
    "\n",
    "    # Reshape and duplicate the activations to the desired size for both AE models\n",
    "    mlp_acts_reshaped = einops.repeat(\n",
    "        mlp_acts, \"batch seq d_mlp -> (_____ _____) __________ d_mlp\", instances=2\n",
    "    )\n",
    "    assert mlp_acts_reshaped.shape == (batch_size * seq_len, 2, d_mlp)\n",
    "\n",
    "    # Get the sparse AE hidden layer activations to the language model activations\n",
    "    l1_loss, l2_loss, loss, acts, h_reconstructed = autoencoder.forward(mlp_acts_reshaped)\n",
    "    assert acts.shape == (batch_size * seq_len, 2, autoencoder.cfg.n_hidden_ae)\n",
    "    binary_acts = (acts > 0).mean()\n",
    "    return binary_acts.mean(0)\n",
    "\n",
    "\n",
    "# Get a batch of feature probabilities & average them (so we don't put strain on the GPU)\n",
    "feature_probability = [\n",
    "    get_feature_probability(all_tokens[i : i + 50], model, autoencoder)\n",
    "    for i in tqdm(range(0, 1000, 50))\n",
    "]\n",
    "# average over the feature probabilities\n",
    "feature_probability = sum(feature_probability) / len(feature_probability)\n",
    "\n",
    "log_freq = (feature_probability + 1e-10).log10()"
   ]
  },
  {
   "cell_type": "markdown",
   "metadata": {
    "id": "HHbFVn00ursd"
   },
   "source": [
    "#### Solution"
   ]
  },
  {
   "cell_type": "code",
   "execution_count": null,
   "metadata": {
    "colab": {
     "base_uri": "https://localhost:8080/",
     "height": 49,
     "referenced_widgets": [
      "a1d906bd3b494f56b56e4089b7235231",
      "8efd4ac115de4591ae84cb8dfceb3409",
      "b5a927fb003c4c24a7e7e12522910159",
      "d35b311080444ba5b5fb5a9c2725778a",
      "e690654818574988b8152616283ab8be",
      "b76c9b425963476cb1427e94dcc5dc3d",
      "2504a0fe6f12481388814fc757bda77f",
      "cb8744f39e734dc788dddd88354edc69",
      "27f38368b8ed4061bd93ad65978adf02",
      "622f8bb687e846fe9ca71befce4c175a",
      "39eb3ba4290f4b28b35799cddef47146"
     ]
    },
    "executionInfo": {
     "elapsed": 13317,
     "status": "ok",
     "timestamp": 1723065409262,
     "user": {
      "displayName": "Jack Lindsey",
      "userId": "09885759716350612548"
     },
     "user_tz": 240
    },
    "id": "T_X3dkgoutH1",
    "outputId": "6ceb36b3-4771-4e1c-a594-05efe59bb79e"
   },
   "outputs": [],
   "source": [
    "@torch.no_grad()\n",
    "def get_feature_probability(\n",
    "    tokens: Int[Tensor, \"bach seq\"],\n",
    "    model: HookedTransformer,\n",
    "    autoencoder: AutoEncoder,\n",
    ") -> Float[Tensor, \"\"]:\n",
    "    \"\"\"\n",
    "    Returns the feature activation probability for the autoencoder on the given batch of tokens.\n",
    "    \"\"\"\n",
    "    batch_size, seq_len = tokens.shape\n",
    "\n",
    "    # Get the activations from the transformer language model\n",
    "    logits, cache = model.run_with_cache(tokens, names_filter=[\"blocks.0.mlp.hook_post\"])\n",
    "    mlp_acts = cache[\"blocks.0.mlp.hook_post\"]\n",
    "\n",
    "    assert mlp_acts.shape == (batch_size, seq_len, model.cfg.d_mlp)\n",
    "\n",
    "    # Reshape and duplicate the activations to the desired size for both AE models\n",
    "    mlp_acts_reshaped = einops.repeat(\n",
    "        mlp_acts, \"batch seq d_mlp -> (batch seq) instances d_mlp\", instances=2\n",
    "    )\n",
    "    assert mlp_acts_reshaped.shape == (batch_size * seq_len, 2, model.cfg.d_mlp)\n",
    "\n",
    "    # Get the sparse AE hidden layer activations to the language model activations\n",
    "    l1_loss, l2_loss, loss, acts, h_reconstructed = autoencoder.forward(mlp_acts_reshaped)\n",
    "    assert acts.shape == (batch_size * seq_len, 2, autoencoder.cfg.n_hidden_ae)\n",
    "    binary_acts = (acts > 0).float()\n",
    "    return binary_acts.mean(0)\n",
    "\n",
    "\n",
    "# Get a batch of feature probabilities & average them (so we don't put strain on the GPU)\n",
    "feature_probability = [\n",
    "    get_feature_probability(all_tokens[i : i + 50], model, autoencoder)\n",
    "    for i in tqdm(range(0, 500, 50))\n",
    "]\n",
    "# average over the feature probabilities\n",
    "feature_probability = sum(feature_probability) / len(feature_probability)\n",
    "\n",
    "log_freq = (feature_probability + 1e-10).log10()"
   ]
  },
  {
   "cell_type": "code",
   "execution_count": null,
   "metadata": {
    "colab": {
     "base_uri": "https://localhost:8080/",
     "height": 1000
    },
    "executionInfo": {
     "elapsed": 919,
     "status": "ok",
     "timestamp": 1723065412714,
     "user": {
      "displayName": "Jack Lindsey",
      "userId": "09885759716350612548"
     },
     "user_tz": 240
    },
    "id": "W23gB6wPvw-t",
    "outputId": "81531a8a-54d3-4390-d612-90d3a68d7cf5"
   },
   "outputs": [],
   "source": [
    "# Visualize distribution of sparsity levels across features for each instance\n",
    "for i, lf in enumerate(log_freq):\n",
    "    hist(\n",
    "        lf,\n",
    "        title=f\"Instance #{i+1}: Log Frequency of Features\",\n",
    "        labels={\"x\": \"log<sub>10</sub>(freq)\"},\n",
    "        histnorm=\"percent\",\n",
    "        template=\"ggplot2\",\n",
    "    )"
   ]
  },
  {
   "cell_type": "markdown",
   "metadata": {
    "id": "7Wye5byOvw-t"
   },
   "source": [
    "There are a few things to notice here.\n",
    "\n",
    "First, the histograms are highly consistent between the two model instances.  That's a good sign that the SAE training is robust!\n",
    "\n",
    "Second, the features are indeed sparse, with the bulk of the features activating significantly less than 1% of the time.\n",
    "\n",
    "Third, the features sparsity values are bimodal. We won't dig into this here, but further investigation of the lower-frequency group has revealed that almost all these features are meaningless, with very high cosine similarity to each other, suggesting that these are an artifact of this particular SAE's optimization rather than meaningful features."
   ]
  },
  {
   "cell_type": "markdown",
   "metadata": {
    "id": "-14_K0wIvw-t"
   },
   "source": [
    "### Exercise - validate the SAE reconstruction loss\n",
    "\n",
    "\n",
    "You should fill in the `get_reconstruction_loss` function below, which returns the average reconstruction loss (i.e. $L_2$ loss) of each autoencoder instance on a batch of data, in the form of a list of 2 values.\n",
    "\n",
    "This should be very similar to the previous exercise, except rather than getting the activations & returning their sparsity, you should return the average reconstruction loss."
   ]
  },
  {
   "cell_type": "code",
   "execution_count": null,
   "metadata": {
    "colab": {
     "base_uri": "https://localhost:8080/",
     "height": 329
    },
    "executionInfo": {
     "elapsed": 328,
     "status": "error",
     "timestamp": 1722497198913,
     "user": {
      "displayName": "Jack Lindsey",
      "userId": "09885759716350612548"
     },
     "user_tz": 420
    },
    "id": "YX2DZFv1vw-t",
    "outputId": "9beb9458-a066-40eb-cc50-64206b0aae95"
   },
   "outputs": [],
   "source": [
    "@torch.no_grad()\n",
    "def get_reconstruction_loss(\n",
    "    tokens: Int[Tensor, \"bach seq\"],\n",
    "    model: HookedTransformer,\n",
    "    autoencoder: AutoEncoder,\n",
    "):\n",
    "    \"\"\"\n",
    "    Returns the reconstruction loss of the autoencoder on the given batch of tokens.\n",
    "    \"\"\"\n",
    "    batch_size, seq_len = tokens.shape\n",
    "\n",
    "    logits, cache = model.run_with_cache(tokens, names_filter=[\"blocks.0.mlp.hook_post\"])\n",
    "    mlp_acts = cache[\"blocks.0.mlp.hook_post\"]\n",
    "    assert mlp_acts.shape == (batch_size, seq_len, model.cfg.d_mlp)\n",
    "\n",
    "    mlp_acts_reshaped = einops.repeat(\n",
    "        mlp_acts, \"batch seq d_mlp -> (batch seq) instances d_mlp\", instances=2\n",
    "    )\n",
    "    assert mlp_acts_reshaped.shape == (batch_size * seq_len, 2, model.cfg.d_mlp)\n",
    "\n",
    "    # Get the l2 loss and reconstructed post-GELU activations\n",
    "    l1_loss, l2_loss, loss, acts, mlp_acts_reconstructed = autoencoder.forward(mlp_acts_reshaped)\n",
    "    assert l2_loss.shape == (batch_size * seq_len, 2)\n",
    "    assert mlp_acts_reconstructed.shape == (______ * ______, 2, model.cfg.______)\n",
    "\n",
    "    print(\n",
    "        \"Avg cos sim of neuron reconstructions with ground-truth: \",\n",
    "        torch.cosine_similarity(mlp_acts_reconstructed, mlp_acts_reshaped, dim=0)\n",
    "        .mean(-1)\n",
    "        .tolist(),\n",
    "    )\n",
    "    print(\n",
    "        \"Avg L2 norm of acts: \",\n",
    "        einops.reduce(mlp_acts_reshaped.pow(2), \"batch inst d_mlp -> inst\", \"mean\").tolist(),\n",
    "    )\n",
    "    print(\"Avg mean-squared error of neuron reconstructions: \", l2_loss.mean(0).tolist())\n",
    "\n",
    "\n",
    "print(get_reconstruction_loss(all_tokens[:10], model, autoencoder))"
   ]
  },
  {
   "cell_type": "markdown",
   "metadata": {
    "id": "85X9xPPfvZQY"
   },
   "source": [
    "#### Solution"
   ]
  },
  {
   "cell_type": "code",
   "execution_count": null,
   "metadata": {
    "colab": {
     "base_uri": "https://localhost:8080/"
    },
    "executionInfo": {
     "elapsed": 1044,
     "status": "ok",
     "timestamp": 1723065489338,
     "user": {
      "displayName": "Jack Lindsey",
      "userId": "09885759716350612548"
     },
     "user_tz": 240
    },
    "id": "VXqkJc3Avc_x",
    "outputId": "e570c428-d9b9-497f-e500-b83e4ebef2fb"
   },
   "outputs": [],
   "source": [
    "@torch.no_grad()\n",
    "def get_reconstruction_loss(\n",
    "    tokens: Int[Tensor, \"bach seq\"],\n",
    "    model: HookedTransformer,\n",
    "    autoencoder: AutoEncoder,\n",
    "):\n",
    "    \"\"\"\n",
    "    Returns the reconstruction loss of the autoencoder on the given batch of tokens.\n",
    "    \"\"\"\n",
    "    batch_size, seq_len = tokens.shape\n",
    "\n",
    "    logits, cache = model.run_with_cache(tokens, names_filter=[\"blocks.0.mlp.hook_post\"])\n",
    "    mlp_acts = cache[\"blocks.0.mlp.hook_post\"]\n",
    "    assert mlp_acts.shape == (batch_size, seq_len, model.cfg.d_mlp)\n",
    "\n",
    "    mlp_acts_reshaped = einops.repeat(\n",
    "        mlp_acts, \"batch seq d_mlp -> (batch seq) instances d_mlp\", instances=2\n",
    "    )\n",
    "    assert mlp_acts_reshaped.shape == (batch_size * seq_len, 2, model.cfg.d_mlp)\n",
    "\n",
    "    # Get the l2 loss and reconstructed MLP activations\n",
    "    l1_loss, l2_loss, loss, acts, mlp_acts_reconstructed = autoencoder.forward(mlp_acts_reshaped)\n",
    "    assert l2_loss.shape == (batch_size * seq_len, 2)\n",
    "    assert mlp_acts_reconstructed.shape == (batch_size * seq_len, 2, model.cfg.d_mlp)\n",
    "\n",
    "    print(\n",
    "        \"Avg cos sim of neuron reconstructions with ground-truth: \",\n",
    "        torch.cosine_similarity(mlp_acts_reconstructed, mlp_acts_reshaped, dim=0)\n",
    "        .mean(-1)\n",
    "        .tolist(),\n",
    "    )\n",
    "    print(\n",
    "        \"Avg L2 norm of acts: \",\n",
    "        einops.reduce(mlp_acts_reshaped.pow(2), \"batch inst d_mlp -> inst\", \"mean\").tolist(),\n",
    "    )\n",
    "    print(\"Avg mean-squared error of neuron reconstructions: \", l2_loss.mean(0).tolist())\n",
    "\n",
    "\n",
    "get_reconstruction_loss(all_tokens[:10], model, autoencoder)"
   ]
  },
  {
   "cell_type": "markdown",
   "metadata": {
    "id": "T4-u_8OXvw-t"
   },
   "source": [
    "You should find that the reconstruction loss is around 0.016 (and about the same for encoder-B). You can compare this to the average squared $L_2$ norm of the activations to get an idea of how good this is - this value is around 0.11, so we're doing a pretty good job (albeit not perfect) of reconstructing the activations."
   ]
  },
  {
   "cell_type": "markdown",
   "metadata": {
    "id": "WZMhAzLTvw-u"
   },
   "source": [
    "### Exercise - find highest-activating tokens\n",
    "\n",
    "Now we've sanity-checked these SAEs, let's try to interpret the SAE features!\n",
    "\n",
    "The first thing we should do is find the sequences in the dataset that most strongly activate each feature. This gives decent idea of what this feature represents, especially since the features are sparsely active.\n",
    "\n",
    "(Note that this shouldn't be the end point of our analysis - the top activating examples look like they fit a pattern, but other examples that activate the feature less strongly don't fit the same pattern. Ideally you'd want to perform tests like passing particular sequences through the model which you expect will / won't cause your feature to activate, in order to test your hypothesis about the feature's function. To be fully confident in your interpretation, you'd also like to perform causal interventions by modifying feature values. However, viewing top-activating examples is a very useful starting point.)\n",
    "\n",
    "The function `highest_activating_tokens` returns a tensor of shape `(k, 2)`, where the `i`-th element of this tensor are the (batch, seq) indices of the `i`-th highest-activating token (i.e. the token on which the `feature_idx`-th neuron in the autoencoder has the largest activations). If also returns a tensor of shape `(k,)` containing these activation values.\n",
    "\n",
    "Note that the function also takes a boolean argument `autoencoder_B`, which is `True` when we're looking at the second autoencoder (i.e. the second instance).\n",
    "\n",
    "Tip - you can make this function a lot more efficient by calculating the activations explicitly, rather than by extracting `acts` from the 5-tuple returned by `autoencoder.forward`. This is because you only need one feature - it's wasteful to calculate all 16384! You can just copy & modify code from the start of the `AutoEncoder.forward` method.\n",
    "\n",
    "You can test your function by running the code in the cell below. Click the toggle below to see what sequences you should be getting."
   ]
  },
  {
   "cell_type": "markdown",
   "metadata": {
    "id": "y9mTD1ax-5c8"
   },
   "source": [
    "\n",
    "<details>\n",
    "<summary>Spoiler: sequences you should be getting</summary>\n",
    "\n",
    "If you run the function with at least a batch size of ~100, you should observe the following pattern: **the top-activating tokens for feature #7 are consistently pronouns like ` I`, ` you` or ` it`, commonly following either the word ` and` or ` but`.\n",
    "\n",
    "</details>"
   ]
  },
  {
   "cell_type": "code",
   "execution_count": null,
   "metadata": {
    "colab": {
     "base_uri": "https://localhost:8080/",
     "height": 339
    },
    "executionInfo": {
     "elapsed": 386,
     "status": "error",
     "timestamp": 1723066104997,
     "user": {
      "displayName": "Jack Lindsey",
      "userId": "09885759716350612548"
     },
     "user_tz": 240
    },
    "id": "3JBOIPlTxVWo",
    "outputId": "2f20511b-6521-40f5-8e8c-27b713077337"
   },
   "outputs": [],
   "source": [
    "@torch.inference_mode()\n",
    "def highest_activating_tokens(\n",
    "    tokens: Int[Tensor, \"batch seq\"],\n",
    "    model: HookedTransformer,\n",
    "    autoencoder: AutoEncoder,\n",
    "    feature_idx: int,\n",
    "    instance_idx: int = 0,\n",
    "    k: int = 10,\n",
    ") -> Tuple[Int[Tensor, \"k 2\"], Float[Tensor, \"k\"]]:\n",
    "    \"\"\"\n",
    "    Returns the indices & values for the highest-activating tokens in the given batch of data.\n",
    "    \"\"\"\n",
    "    batch_size, seq_len = tokens.shape\n",
    "\n",
    "    # Get the post activations from the clean run\n",
    "    cache = model.run_with_cache(tokens, names_filter=[\"blocks.0.mlp.hook_post\"])[1]\n",
    "    mlp_acts = cache[\"blocks.0.mlp.hook_post\"]\n",
    "    mlp_acts_reshaped = einops.rearrange(mlp_acts, \"batch seq d_mlp -> (batch seq) d_mlp\")\n",
    "\n",
    "    # Compute activations (not from a fwd pass, but explicitly, by taking only the feature we want)\n",
    "    # This code will be modified from the first part of the 'forward' method of the AutoEncoder class\n",
    "\n",
    "    h_cent = (\n",
    "        mlp_acts_reshaped - autoencoder.b_dec[instance_idx]\n",
    "    )  # this autoencoder preprocesses inputs by subtracting the bias of the decoder, which serves as a proxy for the mean layer activations\n",
    "    acts = einops.einsum(\n",
    "        h_cent,\n",
    "        autoencoder.W_enc[instance_idx, :, feature_idx],\n",
    "        \"batch_size d_mlp, d_mlp -> batch_size\",\n",
    "    )\n",
    "\n",
    "    # Get the top k largest activations\n",
    "    top_acts_values, top_acts_indices = acts.topk(k)\n",
    "\n",
    "    # Convert the indices into (batch, seq) indices\n",
    "    top_acts_batch = top_acts_indices // seq_len\n",
    "    top_acts_seq = top_acts_indices % seq_len\n",
    "\n",
    "    return torch.stack([top_acts_batch, top_acts_seq], dim=-1), top_acts_values\n",
    "\n",
    "\n",
    "def display_top_sequences(top_acts_indices, top_acts_values, tokens):\n",
    "    s = \"\"\n",
    "    for (batch_idx, seq_idx), value in zip(top_acts_indices, top_acts_values):\n",
    "        # Get the sequence as a string (with some padding on either side of our sequence)\n",
    "        seq_start = max(seq_idx - 5, 0)\n",
    "        seq_end = min(seq_idx + 5, all_tokens.shape[1])\n",
    "        seq = \"\"\n",
    "        # Loop over the sequence, adding each token to the string (highlighting the token with the large activations)\n",
    "        for i in range(seq_start, seq_end):\n",
    "            new_str_token = (\n",
    "                model.to_single_str_token(tokens[batch_idx, i].item())\n",
    "                .replace(\"\\n\", \"\\\\n\")\n",
    "                .replace(\"<|BOS|>\", \"|BOS|\")\n",
    "            )\n",
    "            if i == seq_idx:\n",
    "                new_str_token = f\"[bold u dark_orange]{new_str_token}[/]\"\n",
    "            seq += new_str_token\n",
    "        # Print the sequence, and the activation value\n",
    "        s += f'Act = {value:.2f}, Seq = \"{seq}\"\\n'\n",
    "\n",
    "    rprint(s)\n",
    "\n",
    "\n",
    "tokens = all_tokens[:200]\n",
    "top_acts_indices, top_acts_values = highest_activating_tokens(\n",
    "    tokens, model, autoencoder, feature_idx=11, instance_idx=7\n",
    ")\n",
    "display_top_sequences(top_acts_indices, top_acts_values, tokens)"
   ]
  },
  {
   "cell_type": "markdown",
   "metadata": {
    "id": "ZWQWTsopxbkp"
   },
   "source": [
    "#### Solution"
   ]
  },
  {
   "cell_type": "code",
   "execution_count": null,
   "metadata": {
    "colab": {
     "base_uri": "https://localhost:8080/",
     "height": 193
    },
    "executionInfo": {
     "elapsed": 1383,
     "status": "ok",
     "timestamp": 1723066113849,
     "user": {
      "displayName": "Jack Lindsey",
      "userId": "09885759716350612548"
     },
     "user_tz": 240
    },
    "id": "8bubVP_kxdOR",
    "outputId": "1365d5f2-3e10-4363-e6df-07a4e26eed86"
   },
   "outputs": [],
   "source": [
    "@torch.inference_mode()\n",
    "def highest_activating_tokens(\n",
    "    tokens: Int[Tensor, \"batch seq\"],\n",
    "    model: HookedTransformer,\n",
    "    autoencoder: AutoEncoder,\n",
    "    feature_idx: int,\n",
    "    instance_idx: int = 0,\n",
    "    k: int = 10,\n",
    ") -> Tuple[Int[Tensor, \"k 2\"], Float[Tensor, \"k\"]]:\n",
    "    \"\"\"\n",
    "    Returns the indices & values for the highest-activating tokens in the given batch of data.\n",
    "    \"\"\"\n",
    "    batch_size, seq_len = tokens.shape\n",
    "\n",
    "    # Get the post activations from the clean run\n",
    "    cache = model.run_with_cache(tokens, names_filter=[\"blocks.0.mlp.hook_post\"])[1]\n",
    "    mlp_acts = cache[\"blocks.0.mlp.hook_post\"]\n",
    "    mlp_acts_reshaped = einops.rearrange(mlp_acts, \"batch seq d_mlp -> (batch seq) d_mlp\")\n",
    "\n",
    "    # Compute activations (not from a fwd pass, but explicitly, by taking only the feature we want)\n",
    "    # This code will be modified from the first part of the 'forward' method of the AutoEncoder class\n",
    "\n",
    "    h_cent = (\n",
    "        mlp_acts_reshaped - autoencoder.b_dec[instance_idx]\n",
    "    )  # this autoencoder preprocesses inputs by subtracting the bias of the decoder, which serves as a proxy for the mean layer activations\n",
    "    acts = einops.einsum(\n",
    "        h_cent,\n",
    "        autoencoder.W_enc[instance_idx, :, feature_idx],\n",
    "        \"batch_size n_input_ae, n_input_ae -> batch_size\",\n",
    "    )\n",
    "\n",
    "    # Get the top k largest activations\n",
    "    top_acts_values, top_acts_indices = acts.topk(k)\n",
    "\n",
    "    # Convert the indices into (batch, seq) indices\n",
    "    top_acts_batch = top_acts_indices // seq_len\n",
    "    top_acts_seq = top_acts_indices % seq_len\n",
    "\n",
    "    return torch.stack([top_acts_batch, top_acts_seq], dim=-1), top_acts_values\n",
    "\n",
    "\n",
    "def display_top_sequences(top_acts_indices, top_acts_values, tokens):\n",
    "    s = \"\"\n",
    "    for (batch_idx, seq_idx), value in zip(top_acts_indices, top_acts_values):\n",
    "        # Get the sequence as a string (with some padding on either side of our sequence)\n",
    "        seq_start = max(seq_idx - 5, 0)\n",
    "        seq_end = min(seq_idx + 5, all_tokens.shape[1])\n",
    "        seq = \"\"\n",
    "        # Loop over the sequence, adding each token to the string (highlighting the token with the large activations)\n",
    "        for i in range(seq_start, seq_end):\n",
    "            new_str_token = (\n",
    "                model.to_single_str_token(tokens[batch_idx, i].item())\n",
    "                .replace(\"\\n\", \"\\\\n\")\n",
    "                .replace(\"<|BOS|>\", \"|BOS|\")\n",
    "            )\n",
    "            if i == seq_idx:\n",
    "                new_str_token = f\"[bold u dark_orange]{new_str_token}[/]\"\n",
    "            seq += new_str_token\n",
    "        # Print the sequence, and the activation value\n",
    "        s += f'Act = {value:.2f}, Seq = \"{seq}\"\\n'\n",
    "\n",
    "    rprint(s)\n",
    "\n",
    "\n",
    "tokens = all_tokens[:200]\n",
    "top_acts_indices, top_acts_values = highest_activating_tokens(\n",
    "    tokens, model, autoencoder, feature_idx=7, instance_idx=0\n",
    ")\n",
    "display_top_sequences(top_acts_indices, top_acts_values, tokens)"
   ]
  },
  {
   "cell_type": "markdown",
   "metadata": {
    "id": "UB4rGGqevw-u"
   },
   "source": [
    "### Exercise - compute a feature's logit effects\n",
    "\n",
    "Understanding when a feature activates tells us only half the story about a feature. We are also interested in the feature's *effects* on downstream computation. In general, effects can be complicated and nonlinear in deep models. However, in this one-layer model, we can simply check is the direct effect of the feature's activations on the model's outputs.  (Note that since even large language models typically have residual connections, there always exists a direct linear path from any layer's features to the model outputs. Thus we can apply this same technique in larger models, though it may no longer be as accurate a description of the feature's function).\n",
    "\n",
    "Try to find the 10 tokens that `feature_idx = 7` (shown above) most strongly boosts / supresses. In other words, when you multiply the decoder weight with the GELU-1l model's MLP output matrix and unembedding matrix, which tokens are most affected?  We call these \"logit effects,\" since \"logits\" are the term for the unnormalized log probabilities of outputing each token in the model's vocabulary.\n"
   ]
  },
  {
   "cell_type": "markdown",
   "metadata": {
    "id": "fHG3KDK3-7dD"
   },
   "source": [
    "\n",
    "<details>\n",
    "<summary>Spoilers </summary>\n",
    "\n",
    "You should find that the most boosted token is `'ll` - not surprising given this commonly follows `I`, `we` and `it`. It seems likely that this feature is mostly a **bigram feature**. Some other highly boosted tokens also commonly follow these pronouns, e.g. `hope`, `wouldn`, `definitely`.\n",
    "\n",
    "Note - when we say **bigram feature**, we mean features which seem to exist in order to model bigram frequences: *\"this token is X, so next token is more/less likely to be Y\"*. These are uninteresting because they don't require attention heads to move information around, they're just the feature responding to something already in the residual stream & writing directly to the output.\n",
    "\n",
    "However, this feature might not only be modelling bigrams. We saw that it activates most when the pronoun is followed by tokens like `and` or `but`. Possibly this is better described as a **trigram feature**, which is slightly more interesting because it must involve attention heads in some way. Can you find any **[skip-trigram](https://transformer-circuits.pub/2021/framework/index.html#interpretation-as-skip-trigrams) features**?\n",
    "\n",
    "The bottom 10 tokens don't seem very interpretable - this is pretty common (most of the time model components are better thought of as boosting rather than suppressing components - although [not all the time](https://arxiv.org/abs/2310.04625)!)\n",
    "\n",
    "</details>"
   ]
  },
  {
   "cell_type": "code",
   "execution_count": null,
   "metadata": {
    "colab": {
     "base_uri": "https://localhost:8080/",
     "height": 401
    },
    "executionInfo": {
     "elapsed": 827,
     "status": "ok",
     "timestamp": 1723066085580,
     "user": {
      "displayName": "Jack Lindsey",
      "userId": "09885759716350612548"
     },
     "user_tz": 240
    },
    "id": "AuTj-kezvw-u",
    "outputId": "e43f0dd8-10fb-4c39-9998-880d15e063f3"
   },
   "outputs": [],
   "source": [
    "feature_idx = 7  # example\n",
    "instance_idx = 0\n",
    "\n",
    "# Get the decoder vector for the example feature\n",
    "W_dec_vector = autoencoder.W_dec[instance_idx, feature_idx]\n",
    "\n",
    "# Get downstream model weights\n",
    "W_out = model.W_out[0]  # shape [d_mlp, d_model] -- output projection from MLP activations\n",
    "W_U = (\n",
    "    model.W_U\n",
    ")  # shape [d_model, d_vocab] -- \"unembedding\" weights that map to model output logits\n",
    "\n",
    "# Do the matrix multiplication with the decoder vector and downstream model matrices\n",
    "W_dec_logits = W_dec_vector @ W_out @ W_U\n",
    "\n",
    "# Select the top and bottom 10 tokens\n",
    "top_tokens = W_dec_logits.topk(10)\n",
    "bottom_tokens = W_dec_logits.topk(10, largest=False)\n",
    "\n",
    "s = \"Top tokens:\\n\"\n",
    "for token, value in zip(top_tokens.indices, top_tokens.values):\n",
    "    s += f\"({value:.2f}) {model.to_single_str_token(token.item())}\\n\"\n",
    "s += \"\\nBottom tokens:\\n\"\n",
    "for token, value in zip(bottom_tokens.indices, bottom_tokens.values):\n",
    "    s += f\"({value:.2f}) {model.to_single_str_token(token.item())}\\n\"\n",
    "rprint(s)"
   ]
  },
  {
   "cell_type": "markdown",
   "metadata": {
    "id": "so4Sokt6zxEm"
   },
   "source": [
    "#### Solution"
   ]
  },
  {
   "cell_type": "code",
   "execution_count": null,
   "metadata": {
    "colab": {
     "base_uri": "https://localhost:8080/",
     "height": 413
    },
    "executionInfo": {
     "elapsed": 850,
     "status": "ok",
     "timestamp": 1722497240507,
     "user": {
      "displayName": "Jack Lindsey",
      "userId": "09885759716350612548"
     },
     "user_tz": 420
    },
    "id": "0_fs0NivzyP0",
    "outputId": "98f2f3e9-1d98-4b85-ff3e-1af09327d9e7"
   },
   "outputs": [],
   "source": [
    "feature_idx = 7  # example\n",
    "instance_idx = 0\n",
    "\n",
    "# Get the decoder vector for the example feature\n",
    "W_dec_vector = autoencoder.W_dec[instance_idx, feature_idx]\n",
    "\n",
    "# Get downstream model weights\n",
    "W_out = model.W_out[0]  # shape [d_mlp, d_model] -- output projection from MLP activations\n",
    "W_U = (\n",
    "    model.W_U\n",
    ")  # shape [d_model, d_vocab] -- \"unembedding\" weights that map to model output logits\n",
    "\n",
    "# Do the matrix multiplication with the decoder vector and downstream model matrices\n",
    "W_dec_logits = W_dec_vector @ W_out @ W_U\n",
    "\n",
    "# Select the top and bottom 10 tokens\n",
    "top_tokens = W_dec_logits.topk(10)\n",
    "bottom_tokens = W_dec_logits.topk(10, largest=False)\n",
    "\n",
    "s = \"Top tokens:\\n\"\n",
    "for token, value in zip(top_tokens.indices, top_tokens.values):\n",
    "    s += f\"({value:.2f}) {model.to_single_str_token(token.item())}\\n\"\n",
    "s += \"\\nBottom tokens:\\n\"\n",
    "for token, value in zip(bottom_tokens.indices, bottom_tokens.values):\n",
    "    s += f\"({value:.2f}) {model.to_single_str_token(token.item())}\\n\"\n",
    "rprint(s)"
   ]
  },
  {
   "cell_type": "markdown",
   "metadata": {
    "id": "HdXOOjT2vw-v"
   },
   "source": [
    "### Optional Exercise - explore some more features!\n",
    "\n",
    "\n",
    "There are many more fun features to find in this model. In the first 1000 features for instance A, you should find:\n",
    "\n",
    "- A feature which fires on Django syntax (the Python library), and predicts the string `django` following an open bracket (this is importantly different from just a bigram feature, because it requires the context before the left braacket to detect that the library is Django).\n",
    "- A feature which fires on dashes following the word `multi`, and predicts words which commonly follow (e.g. `multi-million` or `multi-purpose`).\n",
    "- A feature which fires on the digit `0` when it's part of a year (particularly when it's the hundreds digit) e.g. in `2012`, and boosts `0` and `1`.\n",
    "\n",
    "<br>\n",
    "\n",
    "You can look at different features by rerunning the code above with different `feature_idx` arguments. Alternatively, you could search for features by writing some code to pass in text and return the set of features that activate for that text!\n"
   ]
  },
  {
   "cell_type": "markdown",
   "metadata": {
    "id": "FXgdHs_I-uBD"
   },
   "source": [
    "# (3) Exploring SAE features extracted from larger models"
   ]
  },
  {
   "cell_type": "markdown",
   "metadata": {},
   "source": [
    "While SAEs are theoretically interesting, the present excitement around them owes primarily to their *empirical* success in aiding interpretability of large language models* at scale*. In this section, we'll take a look at some published tools and interfaces for interacting with large SAEs trained on large models.\n",
    "\n",
    "Neuronpedia is a great interface (not my creation! big kudos to their team for the amazing work) that allows you to explore SAEs trained on publicly released models. We'll focus to start on recently released SAEs trained on Gemma-2-2b, an open-weights model from Google DeepMind."
   ]
  },
  {
   "cell_type": "markdown",
   "metadata": {
    "id": "rGvuJzUeKMhT"
   },
   "source": [
    "## Browsing feature visualizations\n",
    "\n",
    "Go to this link: https://www.neuronpedia.org/gemma-2-2b.  Type in a prompt. Anything you like!\n",
    "\n",
    "Click Search.  You are now seeing the SAE features, across all the layers of the model (separate SAEs trained for each layer), that activate at different token positions in response to this prompt, ranked by their activation strength. Here's an explanation of what you're seeing\n",
    "\n",
    "\n",
    "\n",
    "*   The names of the features will be things like `25-gemmascope-res-16k/13749`.  These indicate the layer (the \"25\") and the index of the feature in the SAE (the \"13749\").\n",
    "*    The feature visualization will show you the activity (green highlights) of the feature across the different tokens of the prompt you input.\n",
    "*    If you click on the feature, a new tab will open, and you'll be able to see a larger set of examples that cause this feature to activate, and test how the feature responds to prompts you come up with.\n",
    "*    You'll notice each feature is given an English-language description of what it represents.  **These descriptions are themselves generated by an LLM, which was shown the same information you are seeing and asked to interpret the feature's function! ** Often these explanations are slightly off, or underspecific, or in some cases wildly wrong, especially for more complex/subtle features.  Nevertheless, they are often pretty helpful.\n",
    "*    The interface also shows you the logits most strongly directly influenced by that feature (via its direct residual connections to the model output). Note that logit effects are often misleading / difficult to interpret for features in all but the final layers of the network, since early and mid-layer features primarily influence network outputs through indirect pathways.\n",
    "*    You will also see the \"density\" of the feature, i.e. the percentage of examples for which it activates.  A small number of features activate on a high percentage (e.g. 50%) of inputs -- these tend to be less interpretable.  The sparse features are usually more interesting!\n",
    "*    You'll also be shown histogram of the feature's activation and of its logit effects.\n",
    "\n",
    "**Recommendations for understanding features: focus on: (1) the LLM-generated description of the feature (but don't trust it too much) (2) The examples that activate the feature (need to click on it to see all of these), and (3) check the logit effects, but don't expect them to make sense unless the feature lives in one of the later layers of the model (this model has 25 layers).**\n",
    "\n",
    "Note that the interface also allows you to sort by a feature's activations at particular token positions (click on the token of interest towards the top of the page), or in particular layers (choose from the drop-down menu).\n",
    "\n",
    "\n",
    "Some illustrative prompts to try:\n",
    "\n",
    "\n",
    "1.   `John didn't want to share his remaining candy with his sister Mary, so when she asked if he had any left, he said he didn'torch.` -- You should be able to find an active feature related to lying or pretending.\n",
    "2.   `The opposite of big is` -- on the \"is\" token, you should find some features in later layers of the model with strong positive influence on the logits for \"small\" and related words.\n",
    "3.   `Cassandra was upset with her brother Jaime after he stole her pudding. \"Well aren't you the best brother in the world?\" she said.` -- you should be able to find a feature that detects sarcasm, and which influences the logit for the token \"sarcas,\" which fires on the \"said\" token!\n",
    "\n",
    "\n",
    "Some questions to keep in mind:\n",
    "\n",
    "1.  How do features in early, middle, and late layers differ qualitatively?\n",
    "2.  How interpretable do you find the features?  That is, to what extent is there a consistent, easy-to-articulate rule that captures all the examples that activate the feature?\n",
    "3.  How consistent are the conditions under which a feature activates (i.e. its activating examples) with its logit effects, usually?\n",
    "4.  How good of a job are the LLM-generated interpretations doing?\n",
    "5.  How interpretable are sparser features vs. denser features?"
   ]
  },
  {
   "cell_type": "markdown",
   "metadata": {
    "id": "SKbvxOhOKPv4"
   },
   "source": [
    "## Feature Steering\n",
    "\n",
    "Go to this link: https://www.neuronpedia.org/steer/gemma-2-2b. This will allow you to experiment with \"feature steering\" -- perturbing model activity along feature directions and seeing how it influences the model outputs. Type in a prompt in the upper-left (or choose one of the presets), and choose a feature to \"steer\" with.  You can choose one of the presets, or pick one of the defaults, or enter a specefic feature layer+index from your earlier explorations. You can use sliders to control the feature steering values.\n",
    "\n",
    "The interface is pretty intuitive, so not much more explanation is needed.  Here are some things to explore:\n",
    "\n",
    "\n",
    "\n",
    "*   Often, features only have a noticeable effect when it's context-appropriate. For instance, try steering with the \"San Francisco\" feature at the default strength 20, for the prompts \"My favorite city is\" and \"My favorite vegetable is\"\n",
    "*   High enough feature steering values can cause the model to ignore the prompt/context, and/or to produce nonsensical outputs.  Try cranking up the \"dogs\" feature to 100 with the prompt \"My favorite vegetable is\"\n",
    "*   What happens when you steer with negative values? Try setting the New York feature to a large negative value and inputting \"The Empire State Building is located in the city of\"\n",
    "*   Try switching the model to Gemma-2-2B-IT, the instruction-tuned variant of the model.  This will allow you to phrase prompts to the model as questions you would ask a chatbot, rather than as partially completed sentences.\n",
    "\n",
    "In general, activation steering of models is an empirical science and an art. It takes some time to get an intuition for how steering works and how its effects relate to the feature in question. Spend some time playing around with it!"
   ]
  },
  {
   "cell_type": "markdown",
   "metadata": {
    "id": "07ecZEyd-trz"
   },
   "source": [
    "## Features from Claude 3 Sonnet\n",
    "\n",
    "The Gemma-2-2B model you've been playing with above is intelligent for its size, but pretty far from state-of-the-art.  Let's get a sense for what SAE features look like on a model that's closer to the capabilities frontier, Claude 3 Sonnet (it's not quite state-of-the-art, and was recently replaced by the much-smarter Claude 3.5 Sonnet, but we'll take what we can get.  Things move fast in LLM world!).\n",
    "\n",
    "Since this model is not openly released, the exploration interfaces available for it are less extensive / interactive. Nevertheless, it's still worth taking a look at the following:\n",
    "\n",
    "*   Take a quick scroll through [this compilation of feature visualizations.](https://transformer-circuits.pub/2024/scaling-monosemanticity/features/index.html?featureId=34M_31164353). Using the left sidebar, you can look in-depth at the features that were highlighted in [the associated paper](https://transformer-circuits.pub/2024/scaling-monosemanticity/), and also at a set of 1000 randomly sampled features.  It's worth looking at the randomly sampled features, to get a sense of what the \"average\" feature looks like.\n",
    "\n",
    "\n",
    "*   **Feature geometry.**  The paper also provides a [visualization of UMAP-based \"neighborhoods\"](https://transformer-circuits.pub/2024/scaling-monosemanticity/umap.html?targetId=34m_31164353) surrounding several features of interest, with proximity determined by cosine similarity of feature decoder vectors. Spend some time with these plots for a few different features, to get a sense of how functionally related features cluster together.\n",
    "\n",
    "\n"
   ]
  }
 ],
 "metadata": {
  "accelerator": "GPU",
  "colab": {
   "collapsed_sections": [
    "7kPUrbycbpDk",
    "LfmYw3Cp2cKS",
    "HHbFVn00ursd",
    "ZWQWTsopxbkp",
    "so4Sokt6zxEm"
   ],
   "gpuType": "T4",
   "machine_shape": "hm",
   "provenance": [
    {
     "file_id": "1DeagoR31QM9qFsMkVMgEuJPst9OwsGv4",
     "timestamp": 1724380452074
    },
    {
     "file_id": "1YDD1WRjZzV9aF6wWyc50VXJxvs8s_u-z",
     "timestamp": 1722993751738
    },
    {
     "file_id": "1joVrJZnVhTtLyJwKPwfoffNJ7pT9CHjM",
     "timestamp": 1722478091811
    },
    {
     "file_id": "1MKcHnjsz2zp03TmeBayAY9DLltlH_bLM",
     "timestamp": 1721681464021
    },
    {
     "file_id": "19Qo9wj5rGLjb6KsB9NkKNJkMiHcQhLqo",
     "timestamp": 1721004615474
    },
    {
     "file_id": "1PdHpB_a6HC_TTF3lf0knYdsIxL5dwd0x",
     "timestamp": 1703019187935
    },
    {
     "file_id": "1CrZ6xcDj2azv_W0I6YYyK1ML4jSAOqG9",
     "timestamp": 1701255820301
    }
   ]
  },
  "kernelspec": {
   "display_name": "arena_3.0_gpu_jax",
   "language": "python",
   "name": "python3"
  },
  "language_info": {
   "codemirror_mode": {
    "name": "ipython",
    "version": 3
   },
   "file_extension": ".py",
   "mimetype": "text/x-python",
   "name": "python",
   "nbconvert_exporter": "python",
   "pygments_lexer": "ipython3",
   "version": "3.12.7"
  },
  "widgets": {
   "application/vnd.jupyter.widget-state+json": {
    "022878078f404a21942340422d025a22": {
     "model_module": "@jupyter-widgets/controls",
     "model_module_version": "1.5.0",
     "model_name": "FloatProgressModel",
     "state": {
      "_dom_classes": [],
      "_model_module": "@jupyter-widgets/controls",
      "_model_module_version": "1.5.0",
      "_model_name": "FloatProgressModel",
      "_view_count": null,
      "_view_module": "@jupyter-widgets/controls",
      "_view_module_version": "1.5.0",
      "_view_name": "ProgressView",
      "bar_style": "success",
      "description": "",
      "description_tooltip": null,
      "layout": "IPY_MODEL_ca75e30c255b44ec9d29f6a6e0ea28db",
      "max": 268510529,
      "min": 0,
      "orientation": "horizontal",
      "style": "IPY_MODEL_165446bd398e4c7688eb2dddbeeb9d52",
      "value": 268510529
     }
    },
    "04788755bb054acba3375d5486e0e590": {
     "model_module": "@jupyter-widgets/controls",
     "model_module_version": "1.5.0",
     "model_name": "HTMLModel",
     "state": {
      "_dom_classes": [],
      "_model_module": "@jupyter-widgets/controls",
      "_model_module_version": "1.5.0",
      "_model_name": "HTMLModel",
      "_view_count": null,
      "_view_module": "@jupyter-widgets/controls",
      "_view_module_version": "1.5.0",
      "_view_name": "HTMLView",
      "description": "",
      "description_tooltip": null,
      "layout": "IPY_MODEL_64848adcbf3e4bf6a2695b6659e82c44",
      "placeholder": "​",
      "style": "IPY_MODEL_c02fa5a6eb9646328b8450bed6492d0b",
      "value": "100%"
     }
    },
    "04c7e1de9715427cbf68ae75f9360d0d": {
     "model_module": "@jupyter-widgets/controls",
     "model_module_version": "1.5.0",
     "model_name": "HTMLModel",
     "state": {
      "_dom_classes": [],
      "_model_module": "@jupyter-widgets/controls",
      "_model_module_version": "1.5.0",
      "_model_name": "HTMLModel",
      "_view_count": null,
      "_view_module": "@jupyter-widgets/controls",
      "_view_module_version": "1.5.0",
      "_view_name": "HTMLView",
      "description": "",
      "description_tooltip": null,
      "layout": "IPY_MODEL_9ec124baec8043a7890d2684229f76e4",
      "placeholder": "​",
      "style": "IPY_MODEL_8c8e316caa1340c7bb147b7807262a02",
      "value": "  0%"
     }
    },
    "0521116e947a48388e0dbc51d6081a47": {
     "model_module": "@jupyter-widgets/controls",
     "model_module_version": "1.5.0",
     "model_name": "ProgressStyleModel",
     "state": {
      "_model_module": "@jupyter-widgets/controls",
      "_model_module_version": "1.5.0",
      "_model_name": "ProgressStyleModel",
      "_view_count": null,
      "_view_module": "@jupyter-widgets/base",
      "_view_module_version": "1.2.0",
      "_view_name": "StyleView",
      "bar_color": null,
      "description_width": ""
     }
    },
    "06f24f38c1f547ad85ad7b1c9dee49b9": {
     "model_module": "@jupyter-widgets/base",
     "model_module_version": "1.2.0",
     "model_name": "LayoutModel",
     "state": {
      "_model_module": "@jupyter-widgets/base",
      "_model_module_version": "1.2.0",
      "_model_name": "LayoutModel",
      "_view_count": null,
      "_view_module": "@jupyter-widgets/base",
      "_view_module_version": "1.2.0",
      "_view_name": "LayoutView",
      "align_content": null,
      "align_items": null,
      "align_self": null,
      "border": null,
      "bottom": null,
      "display": null,
      "flex": null,
      "flex_flow": null,
      "grid_area": null,
      "grid_auto_columns": null,
      "grid_auto_flow": null,
      "grid_auto_rows": null,
      "grid_column": null,
      "grid_gap": null,
      "grid_row": null,
      "grid_template_areas": null,
      "grid_template_columns": null,
      "grid_template_rows": null,
      "height": null,
      "justify_content": null,
      "justify_items": null,
      "left": null,
      "margin": null,
      "max_height": null,
      "max_width": null,
      "min_height": null,
      "min_width": null,
      "object_fit": null,
      "object_position": null,
      "order": null,
      "overflow": null,
      "overflow_x": null,
      "overflow_y": null,
      "padding": null,
      "right": null,
      "top": null,
      "visibility": null,
      "width": null
     }
    },
    "0732626e4a394e309ae72f1c0463b06b": {
     "model_module": "@jupyter-widgets/controls",
     "model_module_version": "1.5.0",
     "model_name": "HBoxModel",
     "state": {
      "_dom_classes": [],
      "_model_module": "@jupyter-widgets/controls",
      "_model_module_version": "1.5.0",
      "_model_name": "HBoxModel",
      "_view_count": null,
      "_view_module": "@jupyter-widgets/controls",
      "_view_module_version": "1.5.0",
      "_view_name": "HBoxView",
      "box_style": "",
      "children": [
       "IPY_MODEL_d3d59b79bfe8446c842b1ff853365bdf",
       "IPY_MODEL_0ac41f03c8914552aaadc5302d2e97ba",
       "IPY_MODEL_3ad7492a61e541e08939ae309940bb88"
      ],
      "layout": "IPY_MODEL_33dda862a29a4a42abbb8bc4c2649ff8"
     }
    },
    "07bcea7b61994cdc995be645e137172a": {
     "model_module": "@jupyter-widgets/base",
     "model_module_version": "1.2.0",
     "model_name": "LayoutModel",
     "state": {
      "_model_module": "@jupyter-widgets/base",
      "_model_module_version": "1.2.0",
      "_model_name": "LayoutModel",
      "_view_count": null,
      "_view_module": "@jupyter-widgets/base",
      "_view_module_version": "1.2.0",
      "_view_name": "LayoutView",
      "align_content": null,
      "align_items": null,
      "align_self": null,
      "border": null,
      "bottom": null,
      "display": null,
      "flex": null,
      "flex_flow": null,
      "grid_area": null,
      "grid_auto_columns": null,
      "grid_auto_flow": null,
      "grid_auto_rows": null,
      "grid_column": null,
      "grid_gap": null,
      "grid_row": null,
      "grid_template_areas": null,
      "grid_template_columns": null,
      "grid_template_rows": null,
      "height": null,
      "justify_content": null,
      "justify_items": null,
      "left": null,
      "margin": null,
      "max_height": null,
      "max_width": null,
      "min_height": null,
      "min_width": null,
      "object_fit": null,
      "object_position": null,
      "order": null,
      "overflow": null,
      "overflow_x": null,
      "overflow_y": null,
      "padding": null,
      "right": null,
      "top": null,
      "visibility": null,
      "width": null
     }
    },
    "0ac41f03c8914552aaadc5302d2e97ba": {
     "model_module": "@jupyter-widgets/controls",
     "model_module_version": "1.5.0",
     "model_name": "FloatProgressModel",
     "state": {
      "_dom_classes": [],
      "_model_module": "@jupyter-widgets/controls",
      "_model_module_version": "1.5.0",
      "_model_name": "FloatProgressModel",
      "_view_count": null,
      "_view_module": "@jupyter-widgets/controls",
      "_view_module_version": "1.5.0",
      "_view_name": "ProgressView",
      "bar_style": "success",
      "description": "",
      "description_tooltip": null,
      "layout": "IPY_MODEL_7ae0c6304be84b24accf3b070c03bf00",
      "max": 309,
      "min": 0,
      "orientation": "horizontal",
      "style": "IPY_MODEL_2bd13f64244f4b78b34c0a4eb3a85c65",
      "value": 309
     }
    },
    "0d6680adfed9410292daed8512d055e2": {
     "model_module": "@jupyter-widgets/base",
     "model_module_version": "1.2.0",
     "model_name": "LayoutModel",
     "state": {
      "_model_module": "@jupyter-widgets/base",
      "_model_module_version": "1.2.0",
      "_model_name": "LayoutModel",
      "_view_count": null,
      "_view_module": "@jupyter-widgets/base",
      "_view_module_version": "1.2.0",
      "_view_name": "LayoutView",
      "align_content": null,
      "align_items": null,
      "align_self": null,
      "border": null,
      "bottom": null,
      "display": null,
      "flex": null,
      "flex_flow": null,
      "grid_area": null,
      "grid_auto_columns": null,
      "grid_auto_flow": null,
      "grid_auto_rows": null,
      "grid_column": null,
      "grid_gap": null,
      "grid_row": null,
      "grid_template_areas": null,
      "grid_template_columns": null,
      "grid_template_rows": null,
      "height": null,
      "justify_content": null,
      "justify_items": null,
      "left": null,
      "margin": null,
      "max_height": null,
      "max_width": null,
      "min_height": null,
      "min_width": null,
      "object_fit": null,
      "object_position": null,
      "order": null,
      "overflow": null,
      "overflow_x": null,
      "overflow_y": null,
      "padding": null,
      "right": null,
      "top": null,
      "visibility": null,
      "width": null
     }
    },
    "0e9d5cc58caa4319a9119bd9131da307": {
     "model_module": "@jupyter-widgets/controls",
     "model_module_version": "1.5.0",
     "model_name": "HTMLModel",
     "state": {
      "_dom_classes": [],
      "_model_module": "@jupyter-widgets/controls",
      "_model_module_version": "1.5.0",
      "_model_name": "HTMLModel",
      "_view_count": null,
      "_view_module": "@jupyter-widgets/controls",
      "_view_module_version": "1.5.0",
      "_view_name": "HTMLView",
      "description": "",
      "description_tooltip": null,
      "layout": "IPY_MODEL_d42445f2b3a141edb134352b679d1d02",
      "placeholder": "​",
      "style": "IPY_MODEL_edd73a7d5acd40a6943778f5f61e5115",
      "value": " 20000/20000 [00:47&lt;00:00, 430.14it/s, l1_loss=0.0348, l2_loss=0.0149, lr=0.001]"
     }
    },
    "0f486a7b0ce34eb884f52f9353a02461": {
     "model_module": "@jupyter-widgets/controls",
     "model_module_version": "1.5.0",
     "model_name": "HBoxModel",
     "state": {
      "_dom_classes": [],
      "_model_module": "@jupyter-widgets/controls",
      "_model_module_version": "1.5.0",
      "_model_name": "HBoxModel",
      "_view_count": null,
      "_view_module": "@jupyter-widgets/controls",
      "_view_module_version": "1.5.0",
      "_view_name": "HBoxView",
      "box_style": "",
      "children": [
       "IPY_MODEL_3c39998444d94445b7a2ae32f059f462",
       "IPY_MODEL_f2837001ebc84d99be5675215ee2217f",
       "IPY_MODEL_4700f4ecdad14e1ead940ded7c97654d"
      ],
      "layout": "IPY_MODEL_3dda3f1dc4214fc79d304b211a421b79"
     }
    },
    "11e1e3c7af514c1388ccc5c61f2f99a8": {
     "model_module": "@jupyter-widgets/base",
     "model_module_version": "1.2.0",
     "model_name": "LayoutModel",
     "state": {
      "_model_module": "@jupyter-widgets/base",
      "_model_module_version": "1.2.0",
      "_model_name": "LayoutModel",
      "_view_count": null,
      "_view_module": "@jupyter-widgets/base",
      "_view_module_version": "1.2.0",
      "_view_name": "LayoutView",
      "align_content": null,
      "align_items": null,
      "align_self": null,
      "border": null,
      "bottom": null,
      "display": null,
      "flex": null,
      "flex_flow": null,
      "grid_area": null,
      "grid_auto_columns": null,
      "grid_auto_flow": null,
      "grid_auto_rows": null,
      "grid_column": null,
      "grid_gap": null,
      "grid_row": null,
      "grid_template_areas": null,
      "grid_template_columns": null,
      "grid_template_rows": null,
      "height": null,
      "justify_content": null,
      "justify_items": null,
      "left": null,
      "margin": null,
      "max_height": null,
      "max_width": null,
      "min_height": null,
      "min_width": null,
      "object_fit": null,
      "object_position": null,
      "order": null,
      "overflow": null,
      "overflow_x": null,
      "overflow_y": null,
      "padding": null,
      "right": null,
      "top": null,
      "visibility": null,
      "width": null
     }
    },
    "1299cb18530d43cfb081077943fc8c2c": {
     "model_module": "@jupyter-widgets/base",
     "model_module_version": "1.2.0",
     "model_name": "LayoutModel",
     "state": {
      "_model_module": "@jupyter-widgets/base",
      "_model_module_version": "1.2.0",
      "_model_name": "LayoutModel",
      "_view_count": null,
      "_view_module": "@jupyter-widgets/base",
      "_view_module_version": "1.2.0",
      "_view_name": "LayoutView",
      "align_content": null,
      "align_items": null,
      "align_self": null,
      "border": null,
      "bottom": null,
      "display": null,
      "flex": null,
      "flex_flow": null,
      "grid_area": null,
      "grid_auto_columns": null,
      "grid_auto_flow": null,
      "grid_auto_rows": null,
      "grid_column": null,
      "grid_gap": null,
      "grid_row": null,
      "grid_template_areas": null,
      "grid_template_columns": null,
      "grid_template_rows": null,
      "height": null,
      "justify_content": null,
      "justify_items": null,
      "left": null,
      "margin": null,
      "max_height": null,
      "max_width": null,
      "min_height": null,
      "min_width": null,
      "object_fit": null,
      "object_position": null,
      "order": null,
      "overflow": null,
      "overflow_x": null,
      "overflow_y": null,
      "padding": null,
      "right": null,
      "top": null,
      "visibility": null,
      "width": null
     }
    },
    "12ecc541d92c4e40a442202c1a60f793": {
     "model_module": "@jupyter-widgets/base",
     "model_module_version": "1.2.0",
     "model_name": "LayoutModel",
     "state": {
      "_model_module": "@jupyter-widgets/base",
      "_model_module_version": "1.2.0",
      "_model_name": "LayoutModel",
      "_view_count": null,
      "_view_module": "@jupyter-widgets/base",
      "_view_module_version": "1.2.0",
      "_view_name": "LayoutView",
      "align_content": null,
      "align_items": null,
      "align_self": null,
      "border": null,
      "bottom": null,
      "display": null,
      "flex": null,
      "flex_flow": null,
      "grid_area": null,
      "grid_auto_columns": null,
      "grid_auto_flow": null,
      "grid_auto_rows": null,
      "grid_column": null,
      "grid_gap": null,
      "grid_row": null,
      "grid_template_areas": null,
      "grid_template_columns": null,
      "grid_template_rows": null,
      "height": null,
      "justify_content": null,
      "justify_items": null,
      "left": null,
      "margin": null,
      "max_height": null,
      "max_width": null,
      "min_height": null,
      "min_width": null,
      "object_fit": null,
      "object_position": null,
      "order": null,
      "overflow": null,
      "overflow_x": null,
      "overflow_y": null,
      "padding": null,
      "right": null,
      "top": null,
      "visibility": null,
      "width": null
     }
    },
    "132a545ea62547fb986c0fb191f98347": {
     "model_module": "@jupyter-widgets/controls",
     "model_module_version": "1.5.0",
     "model_name": "FloatProgressModel",
     "state": {
      "_dom_classes": [],
      "_model_module": "@jupyter-widgets/controls",
      "_model_module_version": "1.5.0",
      "_model_name": "FloatProgressModel",
      "_view_count": null,
      "_view_module": "@jupyter-widgets/controls",
      "_view_module_version": "1.5.0",
      "_view_name": "ProgressView",
      "bar_style": "success",
      "description": "",
      "description_tooltip": null,
      "layout": "IPY_MODEL_cf0466f59a944ca7b36e7894c9ada6ee",
      "max": 20000,
      "min": 0,
      "orientation": "horizontal",
      "style": "IPY_MODEL_312caee9a6094d4ba1f3205cfcc3c61c",
      "value": 20000
     }
    },
    "165446bd398e4c7688eb2dddbeeb9d52": {
     "model_module": "@jupyter-widgets/controls",
     "model_module_version": "1.5.0",
     "model_name": "ProgressStyleModel",
     "state": {
      "_model_module": "@jupyter-widgets/controls",
      "_model_module_version": "1.5.0",
      "_model_name": "ProgressStyleModel",
      "_view_count": null,
      "_view_module": "@jupyter-widgets/base",
      "_view_module_version": "1.2.0",
      "_view_name": "StyleView",
      "bar_color": null,
      "description_width": ""
     }
    },
    "16940867afcf49d9867e117e0f11661c": {
     "model_module": "@jupyter-widgets/controls",
     "model_module_version": "1.5.0",
     "model_name": "DescriptionStyleModel",
     "state": {
      "_model_module": "@jupyter-widgets/controls",
      "_model_module_version": "1.5.0",
      "_model_name": "DescriptionStyleModel",
      "_view_count": null,
      "_view_module": "@jupyter-widgets/base",
      "_view_module_version": "1.2.0",
      "_view_name": "StyleView",
      "description_width": ""
     }
    },
    "173d5ab5f92f4514bf6b6632f54d8ca0": {
     "model_module": "@jupyter-widgets/controls",
     "model_module_version": "1.5.0",
     "model_name": "DescriptionStyleModel",
     "state": {
      "_model_module": "@jupyter-widgets/controls",
      "_model_module_version": "1.5.0",
      "_model_name": "DescriptionStyleModel",
      "_view_count": null,
      "_view_module": "@jupyter-widgets/base",
      "_view_module_version": "1.2.0",
      "_view_name": "StyleView",
      "description_width": ""
     }
    },
    "181b13b41858487dad4ed21caf15e8d1": {
     "model_module": "@jupyter-widgets/base",
     "model_module_version": "1.2.0",
     "model_name": "LayoutModel",
     "state": {
      "_model_module": "@jupyter-widgets/base",
      "_model_module_version": "1.2.0",
      "_model_name": "LayoutModel",
      "_view_count": null,
      "_view_module": "@jupyter-widgets/base",
      "_view_module_version": "1.2.0",
      "_view_name": "LayoutView",
      "align_content": null,
      "align_items": null,
      "align_self": null,
      "border": null,
      "bottom": null,
      "display": null,
      "flex": null,
      "flex_flow": null,
      "grid_area": null,
      "grid_auto_columns": null,
      "grid_auto_flow": null,
      "grid_auto_rows": null,
      "grid_column": null,
      "grid_gap": null,
      "grid_row": null,
      "grid_template_areas": null,
      "grid_template_columns": null,
      "grid_template_rows": null,
      "height": null,
      "justify_content": null,
      "justify_items": null,
      "left": null,
      "margin": null,
      "max_height": null,
      "max_width": null,
      "min_height": null,
      "min_width": null,
      "object_fit": null,
      "object_position": null,
      "order": null,
      "overflow": null,
      "overflow_x": null,
      "overflow_y": null,
      "padding": null,
      "right": null,
      "top": null,
      "visibility": null,
      "width": null
     }
    },
    "1c9bda41dd484582aebcade150eccb72": {
     "model_module": "@jupyter-widgets/controls",
     "model_module_version": "1.5.0",
     "model_name": "HTMLModel",
     "state": {
      "_dom_classes": [],
      "_model_module": "@jupyter-widgets/controls",
      "_model_module_version": "1.5.0",
      "_model_name": "HTMLModel",
      "_view_count": null,
      "_view_module": "@jupyter-widgets/controls",
      "_view_module_version": "1.5.0",
      "_view_name": "HTMLView",
      "description": "",
      "description_tooltip": null,
      "layout": "IPY_MODEL_07bcea7b61994cdc995be645e137172a",
      "placeholder": "​",
      "style": "IPY_MODEL_c14bfa0514084d798d1000f6160cb56f",
      "value": " 20000/20000 [00:00&lt;00:00, 54973.34 examples/s]"
     }
    },
    "1de9334c990443f9b8d399b8065b6be0": {
     "model_module": "@jupyter-widgets/controls",
     "model_module_version": "1.5.0",
     "model_name": "HTMLModel",
     "state": {
      "_dom_classes": [],
      "_model_module": "@jupyter-widgets/controls",
      "_model_module_version": "1.5.0",
      "_model_name": "HTMLModel",
      "_view_count": null,
      "_view_module": "@jupyter-widgets/controls",
      "_view_module_version": "1.5.0",
      "_view_name": "HTMLView",
      "description": "",
      "description_tooltip": null,
      "layout": "IPY_MODEL_281a94659be844cdabdeb95cf338f6df",
      "placeholder": "​",
      "style": "IPY_MODEL_9136f2240fdf48459b9042ad7051a1d9",
      "value": " 1.28k/1.28k [00:00&lt;00:00, 114kB/s]"
     }
    },
    "1f5b0e87a0d7429786de7c953a86ba7e": {
     "model_module": "@jupyter-widgets/base",
     "model_module_version": "1.2.0",
     "model_name": "LayoutModel",
     "state": {
      "_model_module": "@jupyter-widgets/base",
      "_model_module_version": "1.2.0",
      "_model_name": "LayoutModel",
      "_view_count": null,
      "_view_module": "@jupyter-widgets/base",
      "_view_module_version": "1.2.0",
      "_view_name": "LayoutView",
      "align_content": null,
      "align_items": null,
      "align_self": null,
      "border": null,
      "bottom": null,
      "display": null,
      "flex": null,
      "flex_flow": null,
      "grid_area": null,
      "grid_auto_columns": null,
      "grid_auto_flow": null,
      "grid_auto_rows": null,
      "grid_column": null,
      "grid_gap": null,
      "grid_row": null,
      "grid_template_areas": null,
      "grid_template_columns": null,
      "grid_template_rows": null,
      "height": null,
      "justify_content": null,
      "justify_items": null,
      "left": null,
      "margin": null,
      "max_height": null,
      "max_width": null,
      "min_height": null,
      "min_width": null,
      "object_fit": null,
      "object_position": null,
      "order": null,
      "overflow": null,
      "overflow_x": null,
      "overflow_y": null,
      "padding": null,
      "right": null,
      "top": null,
      "visibility": null,
      "width": null
     }
    },
    "1f8eba6a8a82488ebbdbb519b2eb19c4": {
     "model_module": "@jupyter-widgets/base",
     "model_module_version": "1.2.0",
     "model_name": "LayoutModel",
     "state": {
      "_model_module": "@jupyter-widgets/base",
      "_model_module_version": "1.2.0",
      "_model_name": "LayoutModel",
      "_view_count": null,
      "_view_module": "@jupyter-widgets/base",
      "_view_module_version": "1.2.0",
      "_view_name": "LayoutView",
      "align_content": null,
      "align_items": null,
      "align_self": null,
      "border": null,
      "bottom": null,
      "display": null,
      "flex": null,
      "flex_flow": null,
      "grid_area": null,
      "grid_auto_columns": null,
      "grid_auto_flow": null,
      "grid_auto_rows": null,
      "grid_column": null,
      "grid_gap": null,
      "grid_row": null,
      "grid_template_areas": null,
      "grid_template_columns": null,
      "grid_template_rows": null,
      "height": null,
      "justify_content": null,
      "justify_items": null,
      "left": null,
      "margin": null,
      "max_height": null,
      "max_width": null,
      "min_height": null,
      "min_width": null,
      "object_fit": null,
      "object_position": null,
      "order": null,
      "overflow": null,
      "overflow_x": null,
      "overflow_y": null,
      "padding": null,
      "right": null,
      "top": null,
      "visibility": null,
      "width": null
     }
    },
    "21d33ffda5b54199bc27113d17b9391c": {
     "model_module": "@jupyter-widgets/base",
     "model_module_version": "1.2.0",
     "model_name": "LayoutModel",
     "state": {
      "_model_module": "@jupyter-widgets/base",
      "_model_module_version": "1.2.0",
      "_model_name": "LayoutModel",
      "_view_count": null,
      "_view_module": "@jupyter-widgets/base",
      "_view_module_version": "1.2.0",
      "_view_name": "LayoutView",
      "align_content": null,
      "align_items": null,
      "align_self": null,
      "border": null,
      "bottom": null,
      "display": null,
      "flex": null,
      "flex_flow": null,
      "grid_area": null,
      "grid_auto_columns": null,
      "grid_auto_flow": null,
      "grid_auto_rows": null,
      "grid_column": null,
      "grid_gap": null,
      "grid_row": null,
      "grid_template_areas": null,
      "grid_template_columns": null,
      "grid_template_rows": null,
      "height": null,
      "justify_content": null,
      "justify_items": null,
      "left": null,
      "margin": null,
      "max_height": null,
      "max_width": null,
      "min_height": null,
      "min_width": null,
      "object_fit": null,
      "object_position": null,
      "order": null,
      "overflow": null,
      "overflow_x": null,
      "overflow_y": null,
      "padding": null,
      "right": null,
      "top": null,
      "visibility": null,
      "width": null
     }
    },
    "2497856d520948aaadd089e16254f6a7": {
     "model_module": "@jupyter-widgets/controls",
     "model_module_version": "1.5.0",
     "model_name": "DescriptionStyleModel",
     "state": {
      "_model_module": "@jupyter-widgets/controls",
      "_model_module_version": "1.5.0",
      "_model_name": "DescriptionStyleModel",
      "_view_count": null,
      "_view_module": "@jupyter-widgets/base",
      "_view_module_version": "1.2.0",
      "_view_name": "StyleView",
      "description_width": ""
     }
    },
    "2504a0fe6f12481388814fc757bda77f": {
     "model_module": "@jupyter-widgets/controls",
     "model_module_version": "1.5.0",
     "model_name": "DescriptionStyleModel",
     "state": {
      "_model_module": "@jupyter-widgets/controls",
      "_model_module_version": "1.5.0",
      "_model_name": "DescriptionStyleModel",
      "_view_count": null,
      "_view_module": "@jupyter-widgets/base",
      "_view_module_version": "1.2.0",
      "_view_name": "StyleView",
      "description_width": ""
     }
    },
    "25650bb34b52470495e9f0ceb2039c43": {
     "model_module": "@jupyter-widgets/controls",
     "model_module_version": "1.5.0",
     "model_name": "HBoxModel",
     "state": {
      "_dom_classes": [],
      "_model_module": "@jupyter-widgets/controls",
      "_model_module_version": "1.5.0",
      "_model_name": "HBoxModel",
      "_view_count": null,
      "_view_module": "@jupyter-widgets/controls",
      "_view_module_version": "1.5.0",
      "_view_name": "HBoxView",
      "box_style": "",
      "children": [
       "IPY_MODEL_5f39074ab3ab4cb8a2640d3c55d70e12",
       "IPY_MODEL_8c3b697c05274aab82299096d75b491e",
       "IPY_MODEL_3a57e421c60442679c0e90c31a93a8b3"
      ],
      "layout": "IPY_MODEL_e6f9ed2642d54db2b4ff7c2d82562007"
     }
    },
    "268d1f32a8a645919ef2b03241ecdc38": {
     "model_module": "@jupyter-widgets/controls",
     "model_module_version": "1.5.0",
     "model_name": "DescriptionStyleModel",
     "state": {
      "_model_module": "@jupyter-widgets/controls",
      "_model_module_version": "1.5.0",
      "_model_name": "DescriptionStyleModel",
      "_view_count": null,
      "_view_module": "@jupyter-widgets/base",
      "_view_module_version": "1.2.0",
      "_view_name": "StyleView",
      "description_width": ""
     }
    },
    "26d48ee822da446faf7c0c621fb6c137": {
     "model_module": "@jupyter-widgets/base",
     "model_module_version": "1.2.0",
     "model_name": "LayoutModel",
     "state": {
      "_model_module": "@jupyter-widgets/base",
      "_model_module_version": "1.2.0",
      "_model_name": "LayoutModel",
      "_view_count": null,
      "_view_module": "@jupyter-widgets/base",
      "_view_module_version": "1.2.0",
      "_view_name": "LayoutView",
      "align_content": null,
      "align_items": null,
      "align_self": null,
      "border": null,
      "bottom": null,
      "display": null,
      "flex": null,
      "flex_flow": null,
      "grid_area": null,
      "grid_auto_columns": null,
      "grid_auto_flow": null,
      "grid_auto_rows": null,
      "grid_column": null,
      "grid_gap": null,
      "grid_row": null,
      "grid_template_areas": null,
      "grid_template_columns": null,
      "grid_template_rows": null,
      "height": null,
      "justify_content": null,
      "justify_items": null,
      "left": null,
      "margin": null,
      "max_height": null,
      "max_width": null,
      "min_height": null,
      "min_width": null,
      "object_fit": null,
      "object_position": null,
      "order": null,
      "overflow": null,
      "overflow_x": null,
      "overflow_y": null,
      "padding": null,
      "right": null,
      "top": null,
      "visibility": null,
      "width": null
     }
    },
    "27697357021f41cb806a4f2a916ce1cb": {
     "model_module": "@jupyter-widgets/base",
     "model_module_version": "1.2.0",
     "model_name": "LayoutModel",
     "state": {
      "_model_module": "@jupyter-widgets/base",
      "_model_module_version": "1.2.0",
      "_model_name": "LayoutModel",
      "_view_count": null,
      "_view_module": "@jupyter-widgets/base",
      "_view_module_version": "1.2.0",
      "_view_name": "LayoutView",
      "align_content": null,
      "align_items": null,
      "align_self": null,
      "border": null,
      "bottom": null,
      "display": null,
      "flex": null,
      "flex_flow": null,
      "grid_area": null,
      "grid_auto_columns": null,
      "grid_auto_flow": null,
      "grid_auto_rows": null,
      "grid_column": null,
      "grid_gap": null,
      "grid_row": null,
      "grid_template_areas": null,
      "grid_template_columns": null,
      "grid_template_rows": null,
      "height": null,
      "justify_content": null,
      "justify_items": null,
      "left": null,
      "margin": null,
      "max_height": null,
      "max_width": null,
      "min_height": null,
      "min_width": null,
      "object_fit": null,
      "object_position": null,
      "order": null,
      "overflow": null,
      "overflow_x": null,
      "overflow_y": null,
      "padding": null,
      "right": null,
      "top": null,
      "visibility": null,
      "width": null
     }
    },
    "27f38368b8ed4061bd93ad65978adf02": {
     "model_module": "@jupyter-widgets/controls",
     "model_module_version": "1.5.0",
     "model_name": "ProgressStyleModel",
     "state": {
      "_model_module": "@jupyter-widgets/controls",
      "_model_module_version": "1.5.0",
      "_model_name": "ProgressStyleModel",
      "_view_count": null,
      "_view_module": "@jupyter-widgets/base",
      "_view_module_version": "1.2.0",
      "_view_name": "StyleView",
      "bar_color": null,
      "description_width": ""
     }
    },
    "281a94659be844cdabdeb95cf338f6df": {
     "model_module": "@jupyter-widgets/base",
     "model_module_version": "1.2.0",
     "model_name": "LayoutModel",
     "state": {
      "_model_module": "@jupyter-widgets/base",
      "_model_module_version": "1.2.0",
      "_model_name": "LayoutModel",
      "_view_count": null,
      "_view_module": "@jupyter-widgets/base",
      "_view_module_version": "1.2.0",
      "_view_name": "LayoutView",
      "align_content": null,
      "align_items": null,
      "align_self": null,
      "border": null,
      "bottom": null,
      "display": null,
      "flex": null,
      "flex_flow": null,
      "grid_area": null,
      "grid_auto_columns": null,
      "grid_auto_flow": null,
      "grid_auto_rows": null,
      "grid_column": null,
      "grid_gap": null,
      "grid_row": null,
      "grid_template_areas": null,
      "grid_template_columns": null,
      "grid_template_rows": null,
      "height": null,
      "justify_content": null,
      "justify_items": null,
      "left": null,
      "margin": null,
      "max_height": null,
      "max_width": null,
      "min_height": null,
      "min_width": null,
      "object_fit": null,
      "object_position": null,
      "order": null,
      "overflow": null,
      "overflow_x": null,
      "overflow_y": null,
      "padding": null,
      "right": null,
      "top": null,
      "visibility": null,
      "width": null
     }
    },
    "28ebd777524046a6ab1113ae8da03330": {
     "model_module": "@jupyter-widgets/base",
     "model_module_version": "1.2.0",
     "model_name": "LayoutModel",
     "state": {
      "_model_module": "@jupyter-widgets/base",
      "_model_module_version": "1.2.0",
      "_model_name": "LayoutModel",
      "_view_count": null,
      "_view_module": "@jupyter-widgets/base",
      "_view_module_version": "1.2.0",
      "_view_name": "LayoutView",
      "align_content": null,
      "align_items": null,
      "align_self": null,
      "border": null,
      "bottom": null,
      "display": null,
      "flex": null,
      "flex_flow": null,
      "grid_area": null,
      "grid_auto_columns": null,
      "grid_auto_flow": null,
      "grid_auto_rows": null,
      "grid_column": null,
      "grid_gap": null,
      "grid_row": null,
      "grid_template_areas": null,
      "grid_template_columns": null,
      "grid_template_rows": null,
      "height": null,
      "justify_content": null,
      "justify_items": null,
      "left": null,
      "margin": null,
      "max_height": null,
      "max_width": null,
      "min_height": null,
      "min_width": null,
      "object_fit": null,
      "object_position": null,
      "order": null,
      "overflow": null,
      "overflow_x": null,
      "overflow_y": null,
      "padding": null,
      "right": null,
      "top": null,
      "visibility": null,
      "width": null
     }
    },
    "29a164a2285c473cbb9ac74e6815b19d": {
     "model_module": "@jupyter-widgets/base",
     "model_module_version": "1.2.0",
     "model_name": "LayoutModel",
     "state": {
      "_model_module": "@jupyter-widgets/base",
      "_model_module_version": "1.2.0",
      "_model_name": "LayoutModel",
      "_view_count": null,
      "_view_module": "@jupyter-widgets/base",
      "_view_module_version": "1.2.0",
      "_view_name": "LayoutView",
      "align_content": null,
      "align_items": null,
      "align_self": null,
      "border": null,
      "bottom": null,
      "display": null,
      "flex": null,
      "flex_flow": null,
      "grid_area": null,
      "grid_auto_columns": null,
      "grid_auto_flow": null,
      "grid_auto_rows": null,
      "grid_column": null,
      "grid_gap": null,
      "grid_row": null,
      "grid_template_areas": null,
      "grid_template_columns": null,
      "grid_template_rows": null,
      "height": null,
      "justify_content": null,
      "justify_items": null,
      "left": null,
      "margin": null,
      "max_height": null,
      "max_width": null,
      "min_height": null,
      "min_width": null,
      "object_fit": null,
      "object_position": null,
      "order": null,
      "overflow": null,
      "overflow_x": null,
      "overflow_y": null,
      "padding": null,
      "right": null,
      "top": null,
      "visibility": null,
      "width": null
     }
    },
    "2b08db436a9349518a56c916de347832": {
     "model_module": "@jupyter-widgets/controls",
     "model_module_version": "1.5.0",
     "model_name": "ProgressStyleModel",
     "state": {
      "_model_module": "@jupyter-widgets/controls",
      "_model_module_version": "1.5.0",
      "_model_name": "ProgressStyleModel",
      "_view_count": null,
      "_view_module": "@jupyter-widgets/base",
      "_view_module_version": "1.2.0",
      "_view_name": "StyleView",
      "bar_color": null,
      "description_width": ""
     }
    },
    "2bd13f64244f4b78b34c0a4eb3a85c65": {
     "model_module": "@jupyter-widgets/controls",
     "model_module_version": "1.5.0",
     "model_name": "ProgressStyleModel",
     "state": {
      "_model_module": "@jupyter-widgets/controls",
      "_model_module_version": "1.5.0",
      "_model_name": "ProgressStyleModel",
      "_view_count": null,
      "_view_module": "@jupyter-widgets/base",
      "_view_module_version": "1.2.0",
      "_view_name": "StyleView",
      "bar_color": null,
      "description_width": ""
     }
    },
    "2d1cbbfffef14c95bf27095432c09333": {
     "model_module": "@jupyter-widgets/base",
     "model_module_version": "1.2.0",
     "model_name": "LayoutModel",
     "state": {
      "_model_module": "@jupyter-widgets/base",
      "_model_module_version": "1.2.0",
      "_model_name": "LayoutModel",
      "_view_count": null,
      "_view_module": "@jupyter-widgets/base",
      "_view_module_version": "1.2.0",
      "_view_name": "LayoutView",
      "align_content": null,
      "align_items": null,
      "align_self": null,
      "border": null,
      "bottom": null,
      "display": null,
      "flex": null,
      "flex_flow": null,
      "grid_area": null,
      "grid_auto_columns": null,
      "grid_auto_flow": null,
      "grid_auto_rows": null,
      "grid_column": null,
      "grid_gap": null,
      "grid_row": null,
      "grid_template_areas": null,
      "grid_template_columns": null,
      "grid_template_rows": null,
      "height": null,
      "justify_content": null,
      "justify_items": null,
      "left": null,
      "margin": null,
      "max_height": null,
      "max_width": null,
      "min_height": null,
      "min_width": null,
      "object_fit": null,
      "object_position": null,
      "order": null,
      "overflow": null,
      "overflow_x": null,
      "overflow_y": null,
      "padding": null,
      "right": null,
      "top": null,
      "visibility": null,
      "width": null
     }
    },
    "2d4ae01ac9f74d64817231f4fb692339": {
     "model_module": "@jupyter-widgets/controls",
     "model_module_version": "1.5.0",
     "model_name": "DescriptionStyleModel",
     "state": {
      "_model_module": "@jupyter-widgets/controls",
      "_model_module_version": "1.5.0",
      "_model_name": "DescriptionStyleModel",
      "_view_count": null,
      "_view_module": "@jupyter-widgets/base",
      "_view_module_version": "1.2.0",
      "_view_name": "StyleView",
      "description_width": ""
     }
    },
    "2f3307e44e8048f79aa7bee6ce5011c2": {
     "model_module": "@jupyter-widgets/base",
     "model_module_version": "1.2.0",
     "model_name": "LayoutModel",
     "state": {
      "_model_module": "@jupyter-widgets/base",
      "_model_module_version": "1.2.0",
      "_model_name": "LayoutModel",
      "_view_count": null,
      "_view_module": "@jupyter-widgets/base",
      "_view_module_version": "1.2.0",
      "_view_name": "LayoutView",
      "align_content": null,
      "align_items": null,
      "align_self": null,
      "border": null,
      "bottom": null,
      "display": null,
      "flex": null,
      "flex_flow": null,
      "grid_area": null,
      "grid_auto_columns": null,
      "grid_auto_flow": null,
      "grid_auto_rows": null,
      "grid_column": null,
      "grid_gap": null,
      "grid_row": null,
      "grid_template_areas": null,
      "grid_template_columns": null,
      "grid_template_rows": null,
      "height": null,
      "justify_content": null,
      "justify_items": null,
      "left": null,
      "margin": null,
      "max_height": null,
      "max_width": null,
      "min_height": null,
      "min_width": null,
      "object_fit": null,
      "object_position": null,
      "order": null,
      "overflow": null,
      "overflow_x": null,
      "overflow_y": null,
      "padding": null,
      "right": null,
      "top": null,
      "visibility": null,
      "width": null
     }
    },
    "2f51ca12b8504ed0aa3f64e98e3a01b2": {
     "model_module": "@jupyter-widgets/base",
     "model_module_version": "1.2.0",
     "model_name": "LayoutModel",
     "state": {
      "_model_module": "@jupyter-widgets/base",
      "_model_module_version": "1.2.0",
      "_model_name": "LayoutModel",
      "_view_count": null,
      "_view_module": "@jupyter-widgets/base",
      "_view_module_version": "1.2.0",
      "_view_name": "LayoutView",
      "align_content": null,
      "align_items": null,
      "align_self": null,
      "border": null,
      "bottom": null,
      "display": null,
      "flex": null,
      "flex_flow": null,
      "grid_area": null,
      "grid_auto_columns": null,
      "grid_auto_flow": null,
      "grid_auto_rows": null,
      "grid_column": null,
      "grid_gap": null,
      "grid_row": null,
      "grid_template_areas": null,
      "grid_template_columns": null,
      "grid_template_rows": null,
      "height": null,
      "justify_content": null,
      "justify_items": null,
      "left": null,
      "margin": null,
      "max_height": null,
      "max_width": null,
      "min_height": null,
      "min_width": null,
      "object_fit": null,
      "object_position": null,
      "order": null,
      "overflow": null,
      "overflow_x": null,
      "overflow_y": null,
      "padding": null,
      "right": null,
      "top": null,
      "visibility": null,
      "width": null
     }
    },
    "312caee9a6094d4ba1f3205cfcc3c61c": {
     "model_module": "@jupyter-widgets/controls",
     "model_module_version": "1.5.0",
     "model_name": "ProgressStyleModel",
     "state": {
      "_model_module": "@jupyter-widgets/controls",
      "_model_module_version": "1.5.0",
      "_model_name": "ProgressStyleModel",
      "_view_count": null,
      "_view_module": "@jupyter-widgets/base",
      "_view_module_version": "1.2.0",
      "_view_name": "StyleView",
      "bar_color": null,
      "description_width": ""
     }
    },
    "322a952fd6b04d8f997d6b8912338341": {
     "model_module": "@jupyter-widgets/base",
     "model_module_version": "1.2.0",
     "model_name": "LayoutModel",
     "state": {
      "_model_module": "@jupyter-widgets/base",
      "_model_module_version": "1.2.0",
      "_model_name": "LayoutModel",
      "_view_count": null,
      "_view_module": "@jupyter-widgets/base",
      "_view_module_version": "1.2.0",
      "_view_name": "LayoutView",
      "align_content": null,
      "align_items": null,
      "align_self": null,
      "border": null,
      "bottom": null,
      "display": null,
      "flex": null,
      "flex_flow": null,
      "grid_area": null,
      "grid_auto_columns": null,
      "grid_auto_flow": null,
      "grid_auto_rows": null,
      "grid_column": null,
      "grid_gap": null,
      "grid_row": null,
      "grid_template_areas": null,
      "grid_template_columns": null,
      "grid_template_rows": null,
      "height": null,
      "justify_content": null,
      "justify_items": null,
      "left": null,
      "margin": null,
      "max_height": null,
      "max_width": null,
      "min_height": null,
      "min_width": null,
      "object_fit": null,
      "object_position": null,
      "order": null,
      "overflow": null,
      "overflow_x": null,
      "overflow_y": null,
      "padding": null,
      "right": null,
      "top": null,
      "visibility": null,
      "width": null
     }
    },
    "325bb1011cce4d3d98970d68c325bc64": {
     "model_module": "@jupyter-widgets/controls",
     "model_module_version": "1.5.0",
     "model_name": "HTMLModel",
     "state": {
      "_dom_classes": [],
      "_model_module": "@jupyter-widgets/controls",
      "_model_module_version": "1.5.0",
      "_model_name": "HTMLModel",
      "_view_count": null,
      "_view_module": "@jupyter-widgets/controls",
      "_view_module_version": "1.5.0",
      "_view_name": "HTMLView",
      "description": "",
      "description_tooltip": null,
      "layout": "IPY_MODEL_a2784ae3bf6747af97fe8008fcd0d54f",
      "placeholder": "​",
      "style": "IPY_MODEL_941650622be24b5f8846ace5a32b2743",
      "value": "tokenizer.json: 100%"
     }
    },
    "33542db6eaa94fbfbe83ef5284405fa5": {
     "model_module": "@jupyter-widgets/controls",
     "model_module_version": "1.5.0",
     "model_name": "DescriptionStyleModel",
     "state": {
      "_model_module": "@jupyter-widgets/controls",
      "_model_module_version": "1.5.0",
      "_model_name": "DescriptionStyleModel",
      "_view_count": null,
      "_view_module": "@jupyter-widgets/base",
      "_view_module_version": "1.2.0",
      "_view_name": "StyleView",
      "description_width": ""
     }
    },
    "33bd7baf18b64dbaa28941577389de9d": {
     "model_module": "@jupyter-widgets/controls",
     "model_module_version": "1.5.0",
     "model_name": "HBoxModel",
     "state": {
      "_dom_classes": [],
      "_model_module": "@jupyter-widgets/controls",
      "_model_module_version": "1.5.0",
      "_model_name": "HBoxModel",
      "_view_count": null,
      "_view_module": "@jupyter-widgets/controls",
      "_view_module_version": "1.5.0",
      "_view_name": "HBoxView",
      "box_style": "",
      "children": [
       "IPY_MODEL_4677bead0e364165baa8bdd67dac91b7",
       "IPY_MODEL_53d140c5f6a34f73a4f469e36877bc2d",
       "IPY_MODEL_a583f341aebb4687882d086b3ad6fa2a"
      ],
      "layout": "IPY_MODEL_2f3307e44e8048f79aa7bee6ce5011c2"
     }
    },
    "33dda862a29a4a42abbb8bc4c2649ff8": {
     "model_module": "@jupyter-widgets/base",
     "model_module_version": "1.2.0",
     "model_name": "LayoutModel",
     "state": {
      "_model_module": "@jupyter-widgets/base",
      "_model_module_version": "1.2.0",
      "_model_name": "LayoutModel",
      "_view_count": null,
      "_view_module": "@jupyter-widgets/base",
      "_view_module_version": "1.2.0",
      "_view_name": "LayoutView",
      "align_content": null,
      "align_items": null,
      "align_self": null,
      "border": null,
      "bottom": null,
      "display": null,
      "flex": null,
      "flex_flow": null,
      "grid_area": null,
      "grid_auto_columns": null,
      "grid_auto_flow": null,
      "grid_auto_rows": null,
      "grid_column": null,
      "grid_gap": null,
      "grid_row": null,
      "grid_template_areas": null,
      "grid_template_columns": null,
      "grid_template_rows": null,
      "height": null,
      "justify_content": null,
      "justify_items": null,
      "left": null,
      "margin": null,
      "max_height": null,
      "max_width": null,
      "min_height": null,
      "min_width": null,
      "object_fit": null,
      "object_position": null,
      "order": null,
      "overflow": null,
      "overflow_x": null,
      "overflow_y": null,
      "padding": null,
      "right": null,
      "top": null,
      "visibility": null,
      "width": null
     }
    },
    "33f82469b57c49f19cdde3124da7df39": {
     "model_module": "@jupyter-widgets/base",
     "model_module_version": "1.2.0",
     "model_name": "LayoutModel",
     "state": {
      "_model_module": "@jupyter-widgets/base",
      "_model_module_version": "1.2.0",
      "_model_name": "LayoutModel",
      "_view_count": null,
      "_view_module": "@jupyter-widgets/base",
      "_view_module_version": "1.2.0",
      "_view_name": "LayoutView",
      "align_content": null,
      "align_items": null,
      "align_self": null,
      "border": null,
      "bottom": null,
      "display": null,
      "flex": null,
      "flex_flow": null,
      "grid_area": null,
      "grid_auto_columns": null,
      "grid_auto_flow": null,
      "grid_auto_rows": null,
      "grid_column": null,
      "grid_gap": null,
      "grid_row": null,
      "grid_template_areas": null,
      "grid_template_columns": null,
      "grid_template_rows": null,
      "height": null,
      "justify_content": null,
      "justify_items": null,
      "left": null,
      "margin": null,
      "max_height": null,
      "max_width": null,
      "min_height": null,
      "min_width": null,
      "object_fit": null,
      "object_position": null,
      "order": null,
      "overflow": null,
      "overflow_x": null,
      "overflow_y": null,
      "padding": null,
      "right": null,
      "top": null,
      "visibility": null,
      "width": null
     }
    },
    "35df640071a54ccf96640125cbed5acc": {
     "model_module": "@jupyter-widgets/controls",
     "model_module_version": "1.5.0",
     "model_name": "DescriptionStyleModel",
     "state": {
      "_model_module": "@jupyter-widgets/controls",
      "_model_module_version": "1.5.0",
      "_model_name": "DescriptionStyleModel",
      "_view_count": null,
      "_view_module": "@jupyter-widgets/base",
      "_view_module_version": "1.2.0",
      "_view_name": "StyleView",
      "description_width": ""
     }
    },
    "37d94e17fcf84c6c8afda115ef2eae08": {
     "model_module": "@jupyter-widgets/base",
     "model_module_version": "1.2.0",
     "model_name": "LayoutModel",
     "state": {
      "_model_module": "@jupyter-widgets/base",
      "_model_module_version": "1.2.0",
      "_model_name": "LayoutModel",
      "_view_count": null,
      "_view_module": "@jupyter-widgets/base",
      "_view_module_version": "1.2.0",
      "_view_name": "LayoutView",
      "align_content": null,
      "align_items": null,
      "align_self": null,
      "border": null,
      "bottom": null,
      "display": null,
      "flex": null,
      "flex_flow": null,
      "grid_area": null,
      "grid_auto_columns": null,
      "grid_auto_flow": null,
      "grid_auto_rows": null,
      "grid_column": null,
      "grid_gap": null,
      "grid_row": null,
      "grid_template_areas": null,
      "grid_template_columns": null,
      "grid_template_rows": null,
      "height": null,
      "justify_content": null,
      "justify_items": null,
      "left": null,
      "margin": null,
      "max_height": null,
      "max_width": null,
      "min_height": null,
      "min_width": null,
      "object_fit": null,
      "object_position": null,
      "order": null,
      "overflow": null,
      "overflow_x": null,
      "overflow_y": null,
      "padding": null,
      "right": null,
      "top": null,
      "visibility": null,
      "width": null
     }
    },
    "38918279746b4591a02429e9aa7bd60d": {
     "model_module": "@jupyter-widgets/controls",
     "model_module_version": "1.5.0",
     "model_name": "DescriptionStyleModel",
     "state": {
      "_model_module": "@jupyter-widgets/controls",
      "_model_module_version": "1.5.0",
      "_model_name": "DescriptionStyleModel",
      "_view_count": null,
      "_view_module": "@jupyter-widgets/base",
      "_view_module_version": "1.2.0",
      "_view_name": "StyleView",
      "description_width": ""
     }
    },
    "39128b3180934f62904dd9dbbd2b7257": {
     "model_module": "@jupyter-widgets/controls",
     "model_module_version": "1.5.0",
     "model_name": "FloatProgressModel",
     "state": {
      "_dom_classes": [],
      "_model_module": "@jupyter-widgets/controls",
      "_model_module_version": "1.5.0",
      "_model_name": "FloatProgressModel",
      "_view_count": null,
      "_view_module": "@jupyter-widgets/controls",
      "_view_module_version": "1.5.0",
      "_view_name": "ProgressView",
      "bar_style": "success",
      "description": "",
      "description_tooltip": null,
      "layout": "IPY_MODEL_95a8977699ef46ffad44497447fbef14",
      "max": 20000,
      "min": 0,
      "orientation": "horizontal",
      "style": "IPY_MODEL_830031ebcaa24402979d418270680a86",
      "value": 20000
     }
    },
    "39eb3ba4290f4b28b35799cddef47146": {
     "model_module": "@jupyter-widgets/controls",
     "model_module_version": "1.5.0",
     "model_name": "DescriptionStyleModel",
     "state": {
      "_model_module": "@jupyter-widgets/controls",
      "_model_module_version": "1.5.0",
      "_model_name": "DescriptionStyleModel",
      "_view_count": null,
      "_view_module": "@jupyter-widgets/base",
      "_view_module_version": "1.2.0",
      "_view_name": "StyleView",
      "description_width": ""
     }
    },
    "3a1f1d678d324df3b1ffc2b3022e83a3": {
     "model_module": "@jupyter-widgets/controls",
     "model_module_version": "1.5.0",
     "model_name": "FloatProgressModel",
     "state": {
      "_dom_classes": [],
      "_model_module": "@jupyter-widgets/controls",
      "_model_module_version": "1.5.0",
      "_model_name": "FloatProgressModel",
      "_view_count": null,
      "_view_module": "@jupyter-widgets/controls",
      "_view_module_version": "1.5.0",
      "_view_name": "ProgressView",
      "bar_style": "success",
      "description": "",
      "description_tooltip": null,
      "layout": "IPY_MODEL_1f8eba6a8a82488ebbdbb519b2eb19c4",
      "max": 2037698,
      "min": 0,
      "orientation": "horizontal",
      "style": "IPY_MODEL_e8b18ef7a9174160a64af17470d1e4e3",
      "value": 2037698
     }
    },
    "3a57e421c60442679c0e90c31a93a8b3": {
     "model_module": "@jupyter-widgets/controls",
     "model_module_version": "1.5.0",
     "model_name": "HTMLModel",
     "state": {
      "_dom_classes": [],
      "_model_module": "@jupyter-widgets/controls",
      "_model_module_version": "1.5.0",
      "_model_name": "HTMLModel",
      "_view_count": null,
      "_view_module": "@jupyter-widgets/controls",
      "_view_module_version": "1.5.0",
      "_view_name": "HTMLView",
      "description": "",
      "description_tooltip": null,
      "layout": "IPY_MODEL_ea37df6ce4a7446b947a3a6fc57dce85",
      "placeholder": "​",
      "style": "IPY_MODEL_35df640071a54ccf96640125cbed5acc",
      "value": " 51.0/51.0 [00:00&lt;00:00, 4.31kB/s]"
     }
    },
    "3ad7492a61e541e08939ae309940bb88": {
     "model_module": "@jupyter-widgets/controls",
     "model_module_version": "1.5.0",
     "model_name": "HTMLModel",
     "state": {
      "_dom_classes": [],
      "_model_module": "@jupyter-widgets/controls",
      "_model_module_version": "1.5.0",
      "_model_name": "HTMLModel",
      "_view_count": null,
      "_view_module": "@jupyter-widgets/controls",
      "_view_module_version": "1.5.0",
      "_view_name": "HTMLView",
      "description": "",
      "description_tooltip": null,
      "layout": "IPY_MODEL_f482611349924bc6ad7524f5f112aeb7",
      "placeholder": "​",
      "style": "IPY_MODEL_4532be13d88c4bbab8dad0eb7dbca5ea",
      "value": " 309/309 [00:00&lt;00:00, 24.9kB/s]"
     }
    },
    "3b3cbce2adac477593ccdf97acba5829": {
     "model_module": "@jupyter-widgets/controls",
     "model_module_version": "1.5.0",
     "model_name": "HBoxModel",
     "state": {
      "_dom_classes": [],
      "_model_module": "@jupyter-widgets/controls",
      "_model_module_version": "1.5.0",
      "_model_name": "HBoxModel",
      "_view_count": null,
      "_view_module": "@jupyter-widgets/controls",
      "_view_module_version": "1.5.0",
      "_view_name": "HBoxView",
      "box_style": "",
      "children": [
       "IPY_MODEL_a6cbe840edd447e0b44187ddfc53fae2",
       "IPY_MODEL_022878078f404a21942340422d025a22",
       "IPY_MODEL_c8966ab35b424facbdeb703af970fc78"
      ],
      "layout": "IPY_MODEL_5d334ef4e33e445aaa27e4d2c5d123fa"
     }
    },
    "3c39998444d94445b7a2ae32f059f462": {
     "model_module": "@jupyter-widgets/controls",
     "model_module_version": "1.5.0",
     "model_name": "HTMLModel",
     "state": {
      "_dom_classes": [],
      "_model_module": "@jupyter-widgets/controls",
      "_model_module_version": "1.5.0",
      "_model_name": "HTMLModel",
      "_view_count": null,
      "_view_module": "@jupyter-widgets/controls",
      "_view_module_version": "1.5.0",
      "_view_name": "HTMLView",
      "description": "",
      "description_tooltip": null,
      "layout": "IPY_MODEL_61585b05a6ea474f99a2c813466e51de",
      "placeholder": "​",
      "style": "IPY_MODEL_9fec165f7e6e4c87aa63fa1d8ba56985",
      "value": "25_cfg.json: 100%"
     }
    },
    "3dda3f1dc4214fc79d304b211a421b79": {
     "model_module": "@jupyter-widgets/base",
     "model_module_version": "1.2.0",
     "model_name": "LayoutModel",
     "state": {
      "_model_module": "@jupyter-widgets/base",
      "_model_module_version": "1.2.0",
      "_model_name": "LayoutModel",
      "_view_count": null,
      "_view_module": "@jupyter-widgets/base",
      "_view_module_version": "1.2.0",
      "_view_name": "LayoutView",
      "align_content": null,
      "align_items": null,
      "align_self": null,
      "border": null,
      "bottom": null,
      "display": null,
      "flex": null,
      "flex_flow": null,
      "grid_area": null,
      "grid_auto_columns": null,
      "grid_auto_flow": null,
      "grid_auto_rows": null,
      "grid_column": null,
      "grid_gap": null,
      "grid_row": null,
      "grid_template_areas": null,
      "grid_template_columns": null,
      "grid_template_rows": null,
      "height": null,
      "justify_content": null,
      "justify_items": null,
      "left": null,
      "margin": null,
      "max_height": null,
      "max_width": null,
      "min_height": null,
      "min_width": null,
      "object_fit": null,
      "object_position": null,
      "order": null,
      "overflow": null,
      "overflow_x": null,
      "overflow_y": null,
      "padding": null,
      "right": null,
      "top": null,
      "visibility": null,
      "width": null
     }
    },
    "3e574c4a5d544e04820d9aeb8971a66b": {
     "model_module": "@jupyter-widgets/controls",
     "model_module_version": "1.5.0",
     "model_name": "HBoxModel",
     "state": {
      "_dom_classes": [],
      "_model_module": "@jupyter-widgets/controls",
      "_model_module_version": "1.5.0",
      "_model_name": "HBoxModel",
      "_view_count": null,
      "_view_module": "@jupyter-widgets/controls",
      "_view_module_version": "1.5.0",
      "_view_name": "HBoxView",
      "box_style": "",
      "children": [
       "IPY_MODEL_325bb1011cce4d3d98970d68c325bc64",
       "IPY_MODEL_3a1f1d678d324df3b1ffc2b3022e83a3",
       "IPY_MODEL_90cd824c990343fd95d256e8a5576e32"
      ],
      "layout": "IPY_MODEL_95e1b76dfee84cbcb593efb0ff4dcb1d"
     }
    },
    "44661cbb9b224294a9701af9a1eda1b6": {
     "model_module": "@jupyter-widgets/controls",
     "model_module_version": "1.5.0",
     "model_name": "HBoxModel",
     "state": {
      "_dom_classes": [],
      "_model_module": "@jupyter-widgets/controls",
      "_model_module_version": "1.5.0",
      "_model_name": "HBoxModel",
      "_view_count": null,
      "_view_module": "@jupyter-widgets/controls",
      "_view_module_version": "1.5.0",
      "_view_name": "HBoxView",
      "box_style": "",
      "children": [
       "IPY_MODEL_4b329f0a0d7c45c2838a2dcc1bb81f76",
       "IPY_MODEL_39128b3180934f62904dd9dbbd2b7257",
       "IPY_MODEL_1c9bda41dd484582aebcade150eccb72"
      ],
      "layout": "IPY_MODEL_8334cb121208403b8867da75950c6c5b"
     }
    },
    "4498b6d2c5fe48a2b759ab691f859401": {
     "model_module": "@jupyter-widgets/controls",
     "model_module_version": "1.5.0",
     "model_name": "DescriptionStyleModel",
     "state": {
      "_model_module": "@jupyter-widgets/controls",
      "_model_module_version": "1.5.0",
      "_model_name": "DescriptionStyleModel",
      "_view_count": null,
      "_view_module": "@jupyter-widgets/base",
      "_view_module_version": "1.2.0",
      "_view_name": "StyleView",
      "description_width": ""
     }
    },
    "4532be13d88c4bbab8dad0eb7dbca5ea": {
     "model_module": "@jupyter-widgets/controls",
     "model_module_version": "1.5.0",
     "model_name": "DescriptionStyleModel",
     "state": {
      "_model_module": "@jupyter-widgets/controls",
      "_model_module_version": "1.5.0",
      "_model_name": "DescriptionStyleModel",
      "_view_count": null,
      "_view_module": "@jupyter-widgets/base",
      "_view_module_version": "1.2.0",
      "_view_name": "StyleView",
      "description_width": ""
     }
    },
    "45fa0b331538476f9215c1b8af22877e": {
     "model_module": "@jupyter-widgets/base",
     "model_module_version": "1.2.0",
     "model_name": "LayoutModel",
     "state": {
      "_model_module": "@jupyter-widgets/base",
      "_model_module_version": "1.2.0",
      "_model_name": "LayoutModel",
      "_view_count": null,
      "_view_module": "@jupyter-widgets/base",
      "_view_module_version": "1.2.0",
      "_view_name": "LayoutView",
      "align_content": null,
      "align_items": null,
      "align_self": null,
      "border": null,
      "bottom": null,
      "display": null,
      "flex": null,
      "flex_flow": null,
      "grid_area": null,
      "grid_auto_columns": null,
      "grid_auto_flow": null,
      "grid_auto_rows": null,
      "grid_column": null,
      "grid_gap": null,
      "grid_row": null,
      "grid_template_areas": null,
      "grid_template_columns": null,
      "grid_template_rows": null,
      "height": null,
      "justify_content": null,
      "justify_items": null,
      "left": null,
      "margin": null,
      "max_height": null,
      "max_width": null,
      "min_height": null,
      "min_width": null,
      "object_fit": null,
      "object_position": null,
      "order": null,
      "overflow": null,
      "overflow_x": null,
      "overflow_y": null,
      "padding": null,
      "right": null,
      "top": null,
      "visibility": null,
      "width": null
     }
    },
    "4677bead0e364165baa8bdd67dac91b7": {
     "model_module": "@jupyter-widgets/controls",
     "model_module_version": "1.5.0",
     "model_name": "HTMLModel",
     "state": {
      "_dom_classes": [],
      "_model_module": "@jupyter-widgets/controls",
      "_model_module_version": "1.5.0",
      "_model_name": "HTMLModel",
      "_view_count": null,
      "_view_module": "@jupyter-widgets/controls",
      "_view_module_version": "1.5.0",
      "_view_name": "HTMLView",
      "description": "",
      "description_tooltip": null,
      "layout": "IPY_MODEL_ca3a47d91054411eb57c85c4c22f3239",
      "placeholder": "​",
      "style": "IPY_MODEL_4a894f56c40d4ad1b74c0655c84304d4",
      "value": "model_final.pth: 100%"
     }
    },
    "4700f4ecdad14e1ead940ded7c97654d": {
     "model_module": "@jupyter-widgets/controls",
     "model_module_version": "1.5.0",
     "model_name": "HTMLModel",
     "state": {
      "_dom_classes": [],
      "_model_module": "@jupyter-widgets/controls",
      "_model_module_version": "1.5.0",
      "_model_name": "HTMLModel",
      "_view_count": null,
      "_view_module": "@jupyter-widgets/controls",
      "_view_module_version": "1.5.0",
      "_view_name": "HTMLView",
      "description": "",
      "description_tooltip": null,
      "layout": "IPY_MODEL_181b13b41858487dad4ed21caf15e8d1",
      "placeholder": "​",
      "style": "IPY_MODEL_5b123f8690ed4ef2bcaff710ebf47653",
      "value": " 283/283 [00:00&lt;00:00, 25.8kB/s]"
     }
    },
    "493716aa9c7d4ff1abb71f55e5b2bd78": {
     "model_module": "@jupyter-widgets/controls",
     "model_module_version": "1.5.0",
     "model_name": "HTMLModel",
     "state": {
      "_dom_classes": [],
      "_model_module": "@jupyter-widgets/controls",
      "_model_module_version": "1.5.0",
      "_model_name": "HTMLModel",
      "_view_count": null,
      "_view_module": "@jupyter-widgets/controls",
      "_view_module_version": "1.5.0",
      "_view_name": "HTMLView",
      "description": "",
      "description_tooltip": null,
      "layout": "IPY_MODEL_37d94e17fcf84c6c8afda115ef2eae08",
      "placeholder": "​",
      "style": "IPY_MODEL_adbb86624ce34d2f8b1d4e2ab89635d9",
      "value": "100%"
     }
    },
    "4a894f56c40d4ad1b74c0655c84304d4": {
     "model_module": "@jupyter-widgets/controls",
     "model_module_version": "1.5.0",
     "model_name": "DescriptionStyleModel",
     "state": {
      "_model_module": "@jupyter-widgets/controls",
      "_model_module_version": "1.5.0",
      "_model_name": "DescriptionStyleModel",
      "_view_count": null,
      "_view_module": "@jupyter-widgets/base",
      "_view_module_version": "1.2.0",
      "_view_name": "StyleView",
      "description_width": ""
     }
    },
    "4b090c22d5d94460af604eaa95242428": {
     "model_module": "@jupyter-widgets/controls",
     "model_module_version": "1.5.0",
     "model_name": "FloatProgressModel",
     "state": {
      "_dom_classes": [],
      "_model_module": "@jupyter-widgets/controls",
      "_model_module_version": "1.5.0",
      "_model_name": "FloatProgressModel",
      "_view_count": null,
      "_view_module": "@jupyter-widgets/controls",
      "_view_module_version": "1.5.0",
      "_view_name": "ProgressView",
      "bar_style": "",
      "description": "",
      "description_tooltip": null,
      "layout": "IPY_MODEL_73f4a881dd034c528b202a5d3423c9fc",
      "max": 20,
      "min": 0,
      "orientation": "horizontal",
      "style": "IPY_MODEL_c6b22c5130204fa2ab4722d0059d794f",
      "value": 0
     }
    },
    "4b329f0a0d7c45c2838a2dcc1bb81f76": {
     "model_module": "@jupyter-widgets/controls",
     "model_module_version": "1.5.0",
     "model_name": "HTMLModel",
     "state": {
      "_dom_classes": [],
      "_model_module": "@jupyter-widgets/controls",
      "_model_module_version": "1.5.0",
      "_model_name": "HTMLModel",
      "_view_count": null,
      "_view_module": "@jupyter-widgets/controls",
      "_view_module_version": "1.5.0",
      "_view_name": "HTMLView",
      "description": "",
      "description_tooltip": null,
      "layout": "IPY_MODEL_668a33efebc64f0eb886104136bb6879",
      "placeholder": "​",
      "style": "IPY_MODEL_dca40d3f90e6454e80d57c4121598879",
      "value": "Generating train split: 100%"
     }
    },
    "4d2eb635834145edb4a72e0168561331": {
     "model_module": "@jupyter-widgets/base",
     "model_module_version": "1.2.0",
     "model_name": "LayoutModel",
     "state": {
      "_model_module": "@jupyter-widgets/base",
      "_model_module_version": "1.2.0",
      "_model_name": "LayoutModel",
      "_view_count": null,
      "_view_module": "@jupyter-widgets/base",
      "_view_module_version": "1.2.0",
      "_view_name": "LayoutView",
      "align_content": null,
      "align_items": null,
      "align_self": null,
      "border": null,
      "bottom": null,
      "display": null,
      "flex": null,
      "flex_flow": null,
      "grid_area": null,
      "grid_auto_columns": null,
      "grid_auto_flow": null,
      "grid_auto_rows": null,
      "grid_column": null,
      "grid_gap": null,
      "grid_row": null,
      "grid_template_areas": null,
      "grid_template_columns": null,
      "grid_template_rows": null,
      "height": null,
      "justify_content": null,
      "justify_items": null,
      "left": null,
      "margin": null,
      "max_height": null,
      "max_width": null,
      "min_height": null,
      "min_width": null,
      "object_fit": null,
      "object_position": null,
      "order": null,
      "overflow": null,
      "overflow_x": null,
      "overflow_y": null,
      "padding": null,
      "right": null,
      "top": null,
      "visibility": null,
      "width": null
     }
    },
    "4d9bce5ace4440c99cf47c345cf06c32": {
     "model_module": "@jupyter-widgets/controls",
     "model_module_version": "1.5.0",
     "model_name": "ProgressStyleModel",
     "state": {
      "_model_module": "@jupyter-widgets/controls",
      "_model_module_version": "1.5.0",
      "_model_name": "ProgressStyleModel",
      "_view_count": null,
      "_view_module": "@jupyter-widgets/base",
      "_view_module_version": "1.2.0",
      "_view_name": "StyleView",
      "bar_color": null,
      "description_width": ""
     }
    },
    "4faa760e1911476a9017f55d4ac3215f": {
     "model_module": "@jupyter-widgets/controls",
     "model_module_version": "1.5.0",
     "model_name": "ProgressStyleModel",
     "state": {
      "_model_module": "@jupyter-widgets/controls",
      "_model_module_version": "1.5.0",
      "_model_name": "ProgressStyleModel",
      "_view_count": null,
      "_view_module": "@jupyter-widgets/base",
      "_view_module_version": "1.2.0",
      "_view_name": "StyleView",
      "bar_color": null,
      "description_width": ""
     }
    },
    "503c926da5114c1ea5c9b7ee5f48a45e": {
     "model_module": "@jupyter-widgets/controls",
     "model_module_version": "1.5.0",
     "model_name": "FloatProgressModel",
     "state": {
      "_dom_classes": [],
      "_model_module": "@jupyter-widgets/controls",
      "_model_module_version": "1.5.0",
      "_model_name": "FloatProgressModel",
      "_view_count": null,
      "_view_module": "@jupyter-widgets/controls",
      "_view_module_version": "1.5.0",
      "_view_name": "ProgressView",
      "bar_style": "success",
      "description": "",
      "description_tooltip": null,
      "layout": "IPY_MODEL_27697357021f41cb806a4f2a916ce1cb",
      "max": 10000,
      "min": 0,
      "orientation": "horizontal",
      "style": "IPY_MODEL_0521116e947a48388e0dbc51d6081a47",
      "value": 10000
     }
    },
    "535216fafe1d4112a72b7d69b774b0b5": {
     "model_module": "@jupyter-widgets/controls",
     "model_module_version": "1.5.0",
     "model_name": "HTMLModel",
     "state": {
      "_dom_classes": [],
      "_model_module": "@jupyter-widgets/controls",
      "_model_module_version": "1.5.0",
      "_model_name": "HTMLModel",
      "_view_count": null,
      "_view_module": "@jupyter-widgets/controls",
      "_view_module_version": "1.5.0",
      "_view_name": "HTMLView",
      "description": "",
      "description_tooltip": null,
      "layout": "IPY_MODEL_b575bc8181ee4282a77054a1880d245a",
      "placeholder": "​",
      "style": "IPY_MODEL_b6f9f8dd2c1d4daf9060f1b86419b0ea",
      "value": "25.pt: 100%"
     }
    },
    "5358847390434d59875fd03bfbff53fa": {
     "model_module": "@jupyter-widgets/controls",
     "model_module_version": "1.5.0",
     "model_name": "DescriptionStyleModel",
     "state": {
      "_model_module": "@jupyter-widgets/controls",
      "_model_module_version": "1.5.0",
      "_model_name": "DescriptionStyleModel",
      "_view_count": null,
      "_view_module": "@jupyter-widgets/base",
      "_view_module_version": "1.2.0",
      "_view_name": "StyleView",
      "description_width": ""
     }
    },
    "53d140c5f6a34f73a4f469e36877bc2d": {
     "model_module": "@jupyter-widgets/controls",
     "model_module_version": "1.5.0",
     "model_name": "FloatProgressModel",
     "state": {
      "_dom_classes": [],
      "_model_module": "@jupyter-widgets/controls",
      "_model_module_version": "1.5.0",
      "_model_name": "FloatProgressModel",
      "_view_count": null,
      "_view_module": "@jupyter-widgets/controls",
      "_view_module_version": "1.5.0",
      "_view_name": "ProgressView",
      "bar_style": "success",
      "description": "",
      "description_tooltip": null,
      "layout": "IPY_MODEL_68514a55f8fb4ed493966b8a6e01156b",
      "max": 213447904,
      "min": 0,
      "orientation": "horizontal",
      "style": "IPY_MODEL_dca238dbb7894b0ab9329a0b04009fd6",
      "value": 213447904
     }
    },
    "5655dd45adc949cda15775ed54efa632": {
     "model_module": "@jupyter-widgets/base",
     "model_module_version": "1.2.0",
     "model_name": "LayoutModel",
     "state": {
      "_model_module": "@jupyter-widgets/base",
      "_model_module_version": "1.2.0",
      "_model_name": "LayoutModel",
      "_view_count": null,
      "_view_module": "@jupyter-widgets/base",
      "_view_module_version": "1.2.0",
      "_view_name": "LayoutView",
      "align_content": null,
      "align_items": null,
      "align_self": null,
      "border": null,
      "bottom": null,
      "display": null,
      "flex": null,
      "flex_flow": null,
      "grid_area": null,
      "grid_auto_columns": null,
      "grid_auto_flow": null,
      "grid_auto_rows": null,
      "grid_column": null,
      "grid_gap": null,
      "grid_row": null,
      "grid_template_areas": null,
      "grid_template_columns": null,
      "grid_template_rows": null,
      "height": null,
      "justify_content": null,
      "justify_items": null,
      "left": null,
      "margin": null,
      "max_height": null,
      "max_width": null,
      "min_height": null,
      "min_width": null,
      "object_fit": null,
      "object_position": null,
      "order": null,
      "overflow": null,
      "overflow_x": null,
      "overflow_y": null,
      "padding": null,
      "right": null,
      "top": null,
      "visibility": null,
      "width": null
     }
    },
    "592169dff1c44a58b51ad5e31307f264": {
     "model_module": "@jupyter-widgets/controls",
     "model_module_version": "1.5.0",
     "model_name": "HTMLModel",
     "state": {
      "_dom_classes": [],
      "_model_module": "@jupyter-widgets/controls",
      "_model_module_version": "1.5.0",
      "_model_name": "HTMLModel",
      "_view_count": null,
      "_view_module": "@jupyter-widgets/controls",
      "_view_module_version": "1.5.0",
      "_view_name": "HTMLView",
      "description": "",
      "description_tooltip": null,
      "layout": "IPY_MODEL_f15f9b9009674abaa8b8098a8f4c027b",
      "placeholder": "​",
      "style": "IPY_MODEL_2d4ae01ac9f74d64817231f4fb692339",
      "value": "100%"
     }
    },
    "5b123f8690ed4ef2bcaff710ebf47653": {
     "model_module": "@jupyter-widgets/controls",
     "model_module_version": "1.5.0",
     "model_name": "DescriptionStyleModel",
     "state": {
      "_model_module": "@jupyter-widgets/controls",
      "_model_module_version": "1.5.0",
      "_model_name": "DescriptionStyleModel",
      "_view_count": null,
      "_view_module": "@jupyter-widgets/base",
      "_view_module_version": "1.2.0",
      "_view_name": "StyleView",
      "description_width": ""
     }
    },
    "5d334ef4e33e445aaa27e4d2c5d123fa": {
     "model_module": "@jupyter-widgets/base",
     "model_module_version": "1.2.0",
     "model_name": "LayoutModel",
     "state": {
      "_model_module": "@jupyter-widgets/base",
      "_model_module_version": "1.2.0",
      "_model_name": "LayoutModel",
      "_view_count": null,
      "_view_module": "@jupyter-widgets/base",
      "_view_module_version": "1.2.0",
      "_view_name": "LayoutView",
      "align_content": null,
      "align_items": null,
      "align_self": null,
      "border": null,
      "bottom": null,
      "display": null,
      "flex": null,
      "flex_flow": null,
      "grid_area": null,
      "grid_auto_columns": null,
      "grid_auto_flow": null,
      "grid_auto_rows": null,
      "grid_column": null,
      "grid_gap": null,
      "grid_row": null,
      "grid_template_areas": null,
      "grid_template_columns": null,
      "grid_template_rows": null,
      "height": null,
      "justify_content": null,
      "justify_items": null,
      "left": null,
      "margin": null,
      "max_height": null,
      "max_width": null,
      "min_height": null,
      "min_width": null,
      "object_fit": null,
      "object_position": null,
      "order": null,
      "overflow": null,
      "overflow_x": null,
      "overflow_y": null,
      "padding": null,
      "right": null,
      "top": null,
      "visibility": null,
      "width": null
     }
    },
    "5f39074ab3ab4cb8a2640d3c55d70e12": {
     "model_module": "@jupyter-widgets/controls",
     "model_module_version": "1.5.0",
     "model_name": "HTMLModel",
     "state": {
      "_dom_classes": [],
      "_model_module": "@jupyter-widgets/controls",
      "_model_module_version": "1.5.0",
      "_model_name": "HTMLModel",
      "_view_count": null,
      "_view_module": "@jupyter-widgets/controls",
      "_view_module_version": "1.5.0",
      "_view_name": "HTMLView",
      "description": "",
      "description_tooltip": null,
      "layout": "IPY_MODEL_b78e8c0790f84e9d8c27ad14cd277c7d",
      "placeholder": "​",
      "style": "IPY_MODEL_a2838f06572d45b0b1f25b13a51097ed",
      "value": "tokenizer_config.json: 100%"
     }
    },
    "60ceb06596df4df09e96a2f974abff6a": {
     "model_module": "@jupyter-widgets/controls",
     "model_module_version": "1.5.0",
     "model_name": "HTMLModel",
     "state": {
      "_dom_classes": [],
      "_model_module": "@jupyter-widgets/controls",
      "_model_module_version": "1.5.0",
      "_model_name": "HTMLModel",
      "_view_count": null,
      "_view_module": "@jupyter-widgets/controls",
      "_view_module_version": "1.5.0",
      "_view_name": "HTMLView",
      "description": "",
      "description_tooltip": null,
      "layout": "IPY_MODEL_1299cb18530d43cfb081077943fc8c2c",
      "placeholder": "​",
      "style": "IPY_MODEL_2497856d520948aaadd089e16254f6a7",
      "value": "config.json: 100%"
     }
    },
    "61585b05a6ea474f99a2c813466e51de": {
     "model_module": "@jupyter-widgets/base",
     "model_module_version": "1.2.0",
     "model_name": "LayoutModel",
     "state": {
      "_model_module": "@jupyter-widgets/base",
      "_model_module_version": "1.2.0",
      "_model_name": "LayoutModel",
      "_view_count": null,
      "_view_module": "@jupyter-widgets/base",
      "_view_module_version": "1.2.0",
      "_view_name": "LayoutView",
      "align_content": null,
      "align_items": null,
      "align_self": null,
      "border": null,
      "bottom": null,
      "display": null,
      "flex": null,
      "flex_flow": null,
      "grid_area": null,
      "grid_auto_columns": null,
      "grid_auto_flow": null,
      "grid_auto_rows": null,
      "grid_column": null,
      "grid_gap": null,
      "grid_row": null,
      "grid_template_areas": null,
      "grid_template_columns": null,
      "grid_template_rows": null,
      "height": null,
      "justify_content": null,
      "justify_items": null,
      "left": null,
      "margin": null,
      "max_height": null,
      "max_width": null,
      "min_height": null,
      "min_width": null,
      "object_fit": null,
      "object_position": null,
      "order": null,
      "overflow": null,
      "overflow_x": null,
      "overflow_y": null,
      "padding": null,
      "right": null,
      "top": null,
      "visibility": null,
      "width": null
     }
    },
    "622f8bb687e846fe9ca71befce4c175a": {
     "model_module": "@jupyter-widgets/base",
     "model_module_version": "1.2.0",
     "model_name": "LayoutModel",
     "state": {
      "_model_module": "@jupyter-widgets/base",
      "_model_module_version": "1.2.0",
      "_model_name": "LayoutModel",
      "_view_count": null,
      "_view_module": "@jupyter-widgets/base",
      "_view_module_version": "1.2.0",
      "_view_name": "LayoutView",
      "align_content": null,
      "align_items": null,
      "align_self": null,
      "border": null,
      "bottom": null,
      "display": null,
      "flex": null,
      "flex_flow": null,
      "grid_area": null,
      "grid_auto_columns": null,
      "grid_auto_flow": null,
      "grid_auto_rows": null,
      "grid_column": null,
      "grid_gap": null,
      "grid_row": null,
      "grid_template_areas": null,
      "grid_template_columns": null,
      "grid_template_rows": null,
      "height": null,
      "justify_content": null,
      "justify_items": null,
      "left": null,
      "margin": null,
      "max_height": null,
      "max_width": null,
      "min_height": null,
      "min_width": null,
      "object_fit": null,
      "object_position": null,
      "order": null,
      "overflow": null,
      "overflow_x": null,
      "overflow_y": null,
      "padding": null,
      "right": null,
      "top": null,
      "visibility": null,
      "width": null
     }
    },
    "64848adcbf3e4bf6a2695b6659e82c44": {
     "model_module": "@jupyter-widgets/base",
     "model_module_version": "1.2.0",
     "model_name": "LayoutModel",
     "state": {
      "_model_module": "@jupyter-widgets/base",
      "_model_module_version": "1.2.0",
      "_model_name": "LayoutModel",
      "_view_count": null,
      "_view_module": "@jupyter-widgets/base",
      "_view_module_version": "1.2.0",
      "_view_name": "LayoutView",
      "align_content": null,
      "align_items": null,
      "align_self": null,
      "border": null,
      "bottom": null,
      "display": null,
      "flex": null,
      "flex_flow": null,
      "grid_area": null,
      "grid_auto_columns": null,
      "grid_auto_flow": null,
      "grid_auto_rows": null,
      "grid_column": null,
      "grid_gap": null,
      "grid_row": null,
      "grid_template_areas": null,
      "grid_template_columns": null,
      "grid_template_rows": null,
      "height": null,
      "justify_content": null,
      "justify_items": null,
      "left": null,
      "margin": null,
      "max_height": null,
      "max_width": null,
      "min_height": null,
      "min_width": null,
      "object_fit": null,
      "object_position": null,
      "order": null,
      "overflow": null,
      "overflow_x": null,
      "overflow_y": null,
      "padding": null,
      "right": null,
      "top": null,
      "visibility": null,
      "width": null
     }
    },
    "662f333746344682be091bea31cf9e83": {
     "model_module": "@jupyter-widgets/base",
     "model_module_version": "1.2.0",
     "model_name": "LayoutModel",
     "state": {
      "_model_module": "@jupyter-widgets/base",
      "_model_module_version": "1.2.0",
      "_model_name": "LayoutModel",
      "_view_count": null,
      "_view_module": "@jupyter-widgets/base",
      "_view_module_version": "1.2.0",
      "_view_name": "LayoutView",
      "align_content": null,
      "align_items": null,
      "align_self": null,
      "border": null,
      "bottom": null,
      "display": null,
      "flex": null,
      "flex_flow": null,
      "grid_area": null,
      "grid_auto_columns": null,
      "grid_auto_flow": null,
      "grid_auto_rows": null,
      "grid_column": null,
      "grid_gap": null,
      "grid_row": null,
      "grid_template_areas": null,
      "grid_template_columns": null,
      "grid_template_rows": null,
      "height": null,
      "justify_content": null,
      "justify_items": null,
      "left": null,
      "margin": null,
      "max_height": null,
      "max_width": null,
      "min_height": null,
      "min_width": null,
      "object_fit": null,
      "object_position": null,
      "order": null,
      "overflow": null,
      "overflow_x": null,
      "overflow_y": null,
      "padding": null,
      "right": null,
      "top": null,
      "visibility": null,
      "width": null
     }
    },
    "668a33efebc64f0eb886104136bb6879": {
     "model_module": "@jupyter-widgets/base",
     "model_module_version": "1.2.0",
     "model_name": "LayoutModel",
     "state": {
      "_model_module": "@jupyter-widgets/base",
      "_model_module_version": "1.2.0",
      "_model_name": "LayoutModel",
      "_view_count": null,
      "_view_module": "@jupyter-widgets/base",
      "_view_module_version": "1.2.0",
      "_view_name": "LayoutView",
      "align_content": null,
      "align_items": null,
      "align_self": null,
      "border": null,
      "bottom": null,
      "display": null,
      "flex": null,
      "flex_flow": null,
      "grid_area": null,
      "grid_auto_columns": null,
      "grid_auto_flow": null,
      "grid_auto_rows": null,
      "grid_column": null,
      "grid_gap": null,
      "grid_row": null,
      "grid_template_areas": null,
      "grid_template_columns": null,
      "grid_template_rows": null,
      "height": null,
      "justify_content": null,
      "justify_items": null,
      "left": null,
      "margin": null,
      "max_height": null,
      "max_width": null,
      "min_height": null,
      "min_width": null,
      "object_fit": null,
      "object_position": null,
      "order": null,
      "overflow": null,
      "overflow_x": null,
      "overflow_y": null,
      "padding": null,
      "right": null,
      "top": null,
      "visibility": null,
      "width": null
     }
    },
    "67a7c4364bf546199473c486292377e9": {
     "model_module": "@jupyter-widgets/controls",
     "model_module_version": "1.5.0",
     "model_name": "FloatProgressModel",
     "state": {
      "_dom_classes": [],
      "_model_module": "@jupyter-widgets/controls",
      "_model_module_version": "1.5.0",
      "_model_name": "FloatProgressModel",
      "_view_count": null,
      "_view_module": "@jupyter-widgets/controls",
      "_view_module_version": "1.5.0",
      "_view_name": "ProgressView",
      "bar_style": "success",
      "description": "",
      "description_tooltip": null,
      "layout": "IPY_MODEL_c6c80d2d65d74a41a87d89b745249cb8",
      "max": 268510529,
      "min": 0,
      "orientation": "horizontal",
      "style": "IPY_MODEL_ff7871c3a6e5447cb9275a3c5b4e5528",
      "value": 268510529
     }
    },
    "68514a55f8fb4ed493966b8a6e01156b": {
     "model_module": "@jupyter-widgets/base",
     "model_module_version": "1.2.0",
     "model_name": "LayoutModel",
     "state": {
      "_model_module": "@jupyter-widgets/base",
      "_model_module_version": "1.2.0",
      "_model_name": "LayoutModel",
      "_view_count": null,
      "_view_module": "@jupyter-widgets/base",
      "_view_module_version": "1.2.0",
      "_view_name": "LayoutView",
      "align_content": null,
      "align_items": null,
      "align_self": null,
      "border": null,
      "bottom": null,
      "display": null,
      "flex": null,
      "flex_flow": null,
      "grid_area": null,
      "grid_auto_columns": null,
      "grid_auto_flow": null,
      "grid_auto_rows": null,
      "grid_column": null,
      "grid_gap": null,
      "grid_row": null,
      "grid_template_areas": null,
      "grid_template_columns": null,
      "grid_template_rows": null,
      "height": null,
      "justify_content": null,
      "justify_items": null,
      "left": null,
      "margin": null,
      "max_height": null,
      "max_width": null,
      "min_height": null,
      "min_width": null,
      "object_fit": null,
      "object_position": null,
      "order": null,
      "overflow": null,
      "overflow_x": null,
      "overflow_y": null,
      "padding": null,
      "right": null,
      "top": null,
      "visibility": null,
      "width": null
     }
    },
    "69894973b1cc43f69fd29ead77340acf": {
     "model_module": "@jupyter-widgets/base",
     "model_module_version": "1.2.0",
     "model_name": "LayoutModel",
     "state": {
      "_model_module": "@jupyter-widgets/base",
      "_model_module_version": "1.2.0",
      "_model_name": "LayoutModel",
      "_view_count": null,
      "_view_module": "@jupyter-widgets/base",
      "_view_module_version": "1.2.0",
      "_view_name": "LayoutView",
      "align_content": null,
      "align_items": null,
      "align_self": null,
      "border": null,
      "bottom": null,
      "display": null,
      "flex": null,
      "flex_flow": null,
      "grid_area": null,
      "grid_auto_columns": null,
      "grid_auto_flow": null,
      "grid_auto_rows": null,
      "grid_column": null,
      "grid_gap": null,
      "grid_row": null,
      "grid_template_areas": null,
      "grid_template_columns": null,
      "grid_template_rows": null,
      "height": null,
      "justify_content": null,
      "justify_items": null,
      "left": null,
      "margin": null,
      "max_height": null,
      "max_width": null,
      "min_height": null,
      "min_width": null,
      "object_fit": null,
      "object_position": null,
      "order": null,
      "overflow": null,
      "overflow_x": null,
      "overflow_y": null,
      "padding": null,
      "right": null,
      "top": null,
      "visibility": null,
      "width": null
     }
    },
    "6a648ab770184c3284ac6e2821f851cc": {
     "model_module": "@jupyter-widgets/controls",
     "model_module_version": "1.5.0",
     "model_name": "FloatProgressModel",
     "state": {
      "_dom_classes": [],
      "_model_module": "@jupyter-widgets/controls",
      "_model_module_version": "1.5.0",
      "_model_name": "FloatProgressModel",
      "_view_count": null,
      "_view_module": "@jupyter-widgets/controls",
      "_view_module_version": "1.5.0",
      "_view_name": "ProgressView",
      "bar_style": "success",
      "description": "",
      "description_tooltip": null,
      "layout": "IPY_MODEL_dc7c5e9a8b8d4a80a5d689905832bd4e",
      "max": 10000,
      "min": 0,
      "orientation": "horizontal",
      "style": "IPY_MODEL_c61254c79d0d4e8aba1c6ef7f0e1a405",
      "value": 10000
     }
    },
    "6b393d8439b64796aca2cf315ecb00c5": {
     "model_module": "@jupyter-widgets/controls",
     "model_module_version": "1.5.0",
     "model_name": "DescriptionStyleModel",
     "state": {
      "_model_module": "@jupyter-widgets/controls",
      "_model_module_version": "1.5.0",
      "_model_name": "DescriptionStyleModel",
      "_view_count": null,
      "_view_module": "@jupyter-widgets/base",
      "_view_module_version": "1.2.0",
      "_view_name": "StyleView",
      "description_width": ""
     }
    },
    "6b60c31264e84e6aae9c2645aa2bec7f": {
     "model_module": "@jupyter-widgets/controls",
     "model_module_version": "1.5.0",
     "model_name": "HTMLModel",
     "state": {
      "_dom_classes": [],
      "_model_module": "@jupyter-widgets/controls",
      "_model_module_version": "1.5.0",
      "_model_name": "HTMLModel",
      "_view_count": null,
      "_view_module": "@jupyter-widgets/controls",
      "_view_module_version": "1.5.0",
      "_view_name": "HTMLView",
      "description": "",
      "description_tooltip": null,
      "layout": "IPY_MODEL_21d33ffda5b54199bc27113d17b9391c",
      "placeholder": "​",
      "style": "IPY_MODEL_38918279746b4591a02429e9aa7bd60d",
      "value": " 10000/10000 [00:16&lt;00:00, 612.50it/s, loss=0.000251, lr=0.001]"
     }
    },
    "6b8a8ce96b0c45ba81f27d4ba34e0508": {
     "model_module": "@jupyter-widgets/controls",
     "model_module_version": "1.5.0",
     "model_name": "DescriptionStyleModel",
     "state": {
      "_model_module": "@jupyter-widgets/controls",
      "_model_module_version": "1.5.0",
      "_model_name": "DescriptionStyleModel",
      "_view_count": null,
      "_view_module": "@jupyter-widgets/base",
      "_view_module_version": "1.2.0",
      "_view_name": "StyleView",
      "description_width": ""
     }
    },
    "6c453354de214000b0c686544cbc59d4": {
     "model_module": "@jupyter-widgets/controls",
     "model_module_version": "1.5.0",
     "model_name": "HBoxModel",
     "state": {
      "_dom_classes": [],
      "_model_module": "@jupyter-widgets/controls",
      "_model_module_version": "1.5.0",
      "_model_name": "HBoxModel",
      "_view_count": null,
      "_view_module": "@jupyter-widgets/controls",
      "_view_module_version": "1.5.0",
      "_view_name": "HBoxView",
      "box_style": "",
      "children": [
       "IPY_MODEL_cea41bde8dc142429a364e7cfaceb678",
       "IPY_MODEL_132a545ea62547fb986c0fb191f98347",
       "IPY_MODEL_9254e555150d4b84b9749559b460462c"
      ],
      "layout": "IPY_MODEL_b62493081ae1494f8ecaba2ea7cefc6b"
     }
    },
    "6d53f44682d24906b12891e6ed13a1e4": {
     "model_module": "@jupyter-widgets/controls",
     "model_module_version": "1.5.0",
     "model_name": "HTMLModel",
     "state": {
      "_dom_classes": [],
      "_model_module": "@jupyter-widgets/controls",
      "_model_module_version": "1.5.0",
      "_model_name": "HTMLModel",
      "_view_count": null,
      "_view_module": "@jupyter-widgets/controls",
      "_view_module_version": "1.5.0",
      "_view_name": "HTMLView",
      "description": "",
      "description_tooltip": null,
      "layout": "IPY_MODEL_26d48ee822da446faf7c0c621fb6c137",
      "placeholder": "​",
      "style": "IPY_MODEL_4498b6d2c5fe48a2b759ab691f859401",
      "value": "special_tokens_map.json: 100%"
     }
    },
    "733f8f5ddf3a42439714fb0f36b4ee0c": {
     "model_module": "@jupyter-widgets/base",
     "model_module_version": "1.2.0",
     "model_name": "LayoutModel",
     "state": {
      "_model_module": "@jupyter-widgets/base",
      "_model_module_version": "1.2.0",
      "_model_name": "LayoutModel",
      "_view_count": null,
      "_view_module": "@jupyter-widgets/base",
      "_view_module_version": "1.2.0",
      "_view_name": "LayoutView",
      "align_content": null,
      "align_items": null,
      "align_self": null,
      "border": null,
      "bottom": null,
      "display": null,
      "flex": null,
      "flex_flow": null,
      "grid_area": null,
      "grid_auto_columns": null,
      "grid_auto_flow": null,
      "grid_auto_rows": null,
      "grid_column": null,
      "grid_gap": null,
      "grid_row": null,
      "grid_template_areas": null,
      "grid_template_columns": null,
      "grid_template_rows": null,
      "height": null,
      "justify_content": null,
      "justify_items": null,
      "left": null,
      "margin": null,
      "max_height": null,
      "max_width": null,
      "min_height": null,
      "min_width": null,
      "object_fit": null,
      "object_position": null,
      "order": null,
      "overflow": null,
      "overflow_x": null,
      "overflow_y": null,
      "padding": null,
      "right": null,
      "top": null,
      "visibility": null,
      "width": null
     }
    },
    "73f4a881dd034c528b202a5d3423c9fc": {
     "model_module": "@jupyter-widgets/base",
     "model_module_version": "1.2.0",
     "model_name": "LayoutModel",
     "state": {
      "_model_module": "@jupyter-widgets/base",
      "_model_module_version": "1.2.0",
      "_model_name": "LayoutModel",
      "_view_count": null,
      "_view_module": "@jupyter-widgets/base",
      "_view_module_version": "1.2.0",
      "_view_name": "LayoutView",
      "align_content": null,
      "align_items": null,
      "align_self": null,
      "border": null,
      "bottom": null,
      "display": null,
      "flex": null,
      "flex_flow": null,
      "grid_area": null,
      "grid_auto_columns": null,
      "grid_auto_flow": null,
      "grid_auto_rows": null,
      "grid_column": null,
      "grid_gap": null,
      "grid_row": null,
      "grid_template_areas": null,
      "grid_template_columns": null,
      "grid_template_rows": null,
      "height": null,
      "justify_content": null,
      "justify_items": null,
      "left": null,
      "margin": null,
      "max_height": null,
      "max_width": null,
      "min_height": null,
      "min_width": null,
      "object_fit": null,
      "object_position": null,
      "order": null,
      "overflow": null,
      "overflow_x": null,
      "overflow_y": null,
      "padding": null,
      "right": null,
      "top": null,
      "visibility": null,
      "width": null
     }
    },
    "7722701967f3443788a9f4e6181f3d76": {
     "model_module": "@jupyter-widgets/base",
     "model_module_version": "1.2.0",
     "model_name": "LayoutModel",
     "state": {
      "_model_module": "@jupyter-widgets/base",
      "_model_module_version": "1.2.0",
      "_model_name": "LayoutModel",
      "_view_count": null,
      "_view_module": "@jupyter-widgets/base",
      "_view_module_version": "1.2.0",
      "_view_name": "LayoutView",
      "align_content": null,
      "align_items": null,
      "align_self": null,
      "border": null,
      "bottom": null,
      "display": null,
      "flex": null,
      "flex_flow": null,
      "grid_area": null,
      "grid_auto_columns": null,
      "grid_auto_flow": null,
      "grid_auto_rows": null,
      "grid_column": null,
      "grid_gap": null,
      "grid_row": null,
      "grid_template_areas": null,
      "grid_template_columns": null,
      "grid_template_rows": null,
      "height": null,
      "justify_content": null,
      "justify_items": null,
      "left": null,
      "margin": null,
      "max_height": null,
      "max_width": null,
      "min_height": null,
      "min_width": null,
      "object_fit": null,
      "object_position": null,
      "order": null,
      "overflow": null,
      "overflow_x": null,
      "overflow_y": null,
      "padding": null,
      "right": null,
      "top": null,
      "visibility": null,
      "width": null
     }
    },
    "77aa9f890a0a48d3a2f94eb30bd6b6ff": {
     "model_module": "@jupyter-widgets/base",
     "model_module_version": "1.2.0",
     "model_name": "LayoutModel",
     "state": {
      "_model_module": "@jupyter-widgets/base",
      "_model_module_version": "1.2.0",
      "_model_name": "LayoutModel",
      "_view_count": null,
      "_view_module": "@jupyter-widgets/base",
      "_view_module_version": "1.2.0",
      "_view_name": "LayoutView",
      "align_content": null,
      "align_items": null,
      "align_self": null,
      "border": null,
      "bottom": null,
      "display": null,
      "flex": null,
      "flex_flow": null,
      "grid_area": null,
      "grid_auto_columns": null,
      "grid_auto_flow": null,
      "grid_auto_rows": null,
      "grid_column": null,
      "grid_gap": null,
      "grid_row": null,
      "grid_template_areas": null,
      "grid_template_columns": null,
      "grid_template_rows": null,
      "height": null,
      "justify_content": null,
      "justify_items": null,
      "left": null,
      "margin": null,
      "max_height": null,
      "max_width": null,
      "min_height": null,
      "min_width": null,
      "object_fit": null,
      "object_position": null,
      "order": null,
      "overflow": null,
      "overflow_x": null,
      "overflow_y": null,
      "padding": null,
      "right": null,
      "top": null,
      "visibility": null,
      "width": null
     }
    },
    "7ae0c6304be84b24accf3b070c03bf00": {
     "model_module": "@jupyter-widgets/base",
     "model_module_version": "1.2.0",
     "model_name": "LayoutModel",
     "state": {
      "_model_module": "@jupyter-widgets/base",
      "_model_module_version": "1.2.0",
      "_model_name": "LayoutModel",
      "_view_count": null,
      "_view_module": "@jupyter-widgets/base",
      "_view_module_version": "1.2.0",
      "_view_name": "LayoutView",
      "align_content": null,
      "align_items": null,
      "align_self": null,
      "border": null,
      "bottom": null,
      "display": null,
      "flex": null,
      "flex_flow": null,
      "grid_area": null,
      "grid_auto_columns": null,
      "grid_auto_flow": null,
      "grid_auto_rows": null,
      "grid_column": null,
      "grid_gap": null,
      "grid_row": null,
      "grid_template_areas": null,
      "grid_template_columns": null,
      "grid_template_rows": null,
      "height": null,
      "justify_content": null,
      "justify_items": null,
      "left": null,
      "margin": null,
      "max_height": null,
      "max_width": null,
      "min_height": null,
      "min_width": null,
      "object_fit": null,
      "object_position": null,
      "order": null,
      "overflow": null,
      "overflow_x": null,
      "overflow_y": null,
      "padding": null,
      "right": null,
      "top": null,
      "visibility": null,
      "width": null
     }
    },
    "7d62117aeeda42f9b979fa5667270907": {
     "model_module": "@jupyter-widgets/base",
     "model_module_version": "1.2.0",
     "model_name": "LayoutModel",
     "state": {
      "_model_module": "@jupyter-widgets/base",
      "_model_module_version": "1.2.0",
      "_model_name": "LayoutModel",
      "_view_count": null,
      "_view_module": "@jupyter-widgets/base",
      "_view_module_version": "1.2.0",
      "_view_name": "LayoutView",
      "align_content": null,
      "align_items": null,
      "align_self": null,
      "border": null,
      "bottom": null,
      "display": null,
      "flex": null,
      "flex_flow": null,
      "grid_area": null,
      "grid_auto_columns": null,
      "grid_auto_flow": null,
      "grid_auto_rows": null,
      "grid_column": null,
      "grid_gap": null,
      "grid_row": null,
      "grid_template_areas": null,
      "grid_template_columns": null,
      "grid_template_rows": null,
      "height": null,
      "justify_content": null,
      "justify_items": null,
      "left": null,
      "margin": null,
      "max_height": null,
      "max_width": null,
      "min_height": null,
      "min_width": null,
      "object_fit": null,
      "object_position": null,
      "order": null,
      "overflow": null,
      "overflow_x": null,
      "overflow_y": null,
      "padding": null,
      "right": null,
      "top": null,
      "visibility": null,
      "width": null
     }
    },
    "7d930b5a608b4d5ca9db84211a664003": {
     "model_module": "@jupyter-widgets/base",
     "model_module_version": "1.2.0",
     "model_name": "LayoutModel",
     "state": {
      "_model_module": "@jupyter-widgets/base",
      "_model_module_version": "1.2.0",
      "_model_name": "LayoutModel",
      "_view_count": null,
      "_view_module": "@jupyter-widgets/base",
      "_view_module_version": "1.2.0",
      "_view_name": "LayoutView",
      "align_content": null,
      "align_items": null,
      "align_self": null,
      "border": null,
      "bottom": null,
      "display": null,
      "flex": null,
      "flex_flow": null,
      "grid_area": null,
      "grid_auto_columns": null,
      "grid_auto_flow": null,
      "grid_auto_rows": null,
      "grid_column": null,
      "grid_gap": null,
      "grid_row": null,
      "grid_template_areas": null,
      "grid_template_columns": null,
      "grid_template_rows": null,
      "height": null,
      "justify_content": null,
      "justify_items": null,
      "left": null,
      "margin": null,
      "max_height": null,
      "max_width": null,
      "min_height": null,
      "min_width": null,
      "object_fit": null,
      "object_position": null,
      "order": null,
      "overflow": null,
      "overflow_x": null,
      "overflow_y": null,
      "padding": null,
      "right": null,
      "top": null,
      "visibility": null,
      "width": null
     }
    },
    "830031ebcaa24402979d418270680a86": {
     "model_module": "@jupyter-widgets/controls",
     "model_module_version": "1.5.0",
     "model_name": "ProgressStyleModel",
     "state": {
      "_model_module": "@jupyter-widgets/controls",
      "_model_module_version": "1.5.0",
      "_model_name": "ProgressStyleModel",
      "_view_count": null,
      "_view_module": "@jupyter-widgets/base",
      "_view_module_version": "1.2.0",
      "_view_name": "StyleView",
      "bar_color": null,
      "description_width": ""
     }
    },
    "83229cb65ae64831955aa316c6af0da1": {
     "model_module": "@jupyter-widgets/controls",
     "model_module_version": "1.5.0",
     "model_name": "ProgressStyleModel",
     "state": {
      "_model_module": "@jupyter-widgets/controls",
      "_model_module_version": "1.5.0",
      "_model_name": "ProgressStyleModel",
      "_view_count": null,
      "_view_module": "@jupyter-widgets/base",
      "_view_module_version": "1.2.0",
      "_view_name": "StyleView",
      "bar_color": null,
      "description_width": ""
     }
    },
    "8334cb121208403b8867da75950c6c5b": {
     "model_module": "@jupyter-widgets/base",
     "model_module_version": "1.2.0",
     "model_name": "LayoutModel",
     "state": {
      "_model_module": "@jupyter-widgets/base",
      "_model_module_version": "1.2.0",
      "_model_name": "LayoutModel",
      "_view_count": null,
      "_view_module": "@jupyter-widgets/base",
      "_view_module_version": "1.2.0",
      "_view_name": "LayoutView",
      "align_content": null,
      "align_items": null,
      "align_self": null,
      "border": null,
      "bottom": null,
      "display": null,
      "flex": null,
      "flex_flow": null,
      "grid_area": null,
      "grid_auto_columns": null,
      "grid_auto_flow": null,
      "grid_auto_rows": null,
      "grid_column": null,
      "grid_gap": null,
      "grid_row": null,
      "grid_template_areas": null,
      "grid_template_columns": null,
      "grid_template_rows": null,
      "height": null,
      "justify_content": null,
      "justify_items": null,
      "left": null,
      "margin": null,
      "max_height": null,
      "max_width": null,
      "min_height": null,
      "min_width": null,
      "object_fit": null,
      "object_position": null,
      "order": null,
      "overflow": null,
      "overflow_x": null,
      "overflow_y": null,
      "padding": null,
      "right": null,
      "top": null,
      "visibility": null,
      "width": null
     }
    },
    "835691af86864579a330a23910db6e48": {
     "model_module": "@jupyter-widgets/controls",
     "model_module_version": "1.5.0",
     "model_name": "DescriptionStyleModel",
     "state": {
      "_model_module": "@jupyter-widgets/controls",
      "_model_module_version": "1.5.0",
      "_model_name": "DescriptionStyleModel",
      "_view_count": null,
      "_view_module": "@jupyter-widgets/base",
      "_view_module_version": "1.2.0",
      "_view_name": "StyleView",
      "description_width": ""
     }
    },
    "8c3b697c05274aab82299096d75b491e": {
     "model_module": "@jupyter-widgets/controls",
     "model_module_version": "1.5.0",
     "model_name": "FloatProgressModel",
     "state": {
      "_dom_classes": [],
      "_model_module": "@jupyter-widgets/controls",
      "_model_module_version": "1.5.0",
      "_model_name": "FloatProgressModel",
      "_view_count": null,
      "_view_module": "@jupyter-widgets/controls",
      "_view_module_version": "1.5.0",
      "_view_name": "ProgressView",
      "bar_style": "success",
      "description": "",
      "description_tooltip": null,
      "layout": "IPY_MODEL_662f333746344682be091bea31cf9e83",
      "max": 51,
      "min": 0,
      "orientation": "horizontal",
      "style": "IPY_MODEL_83229cb65ae64831955aa316c6af0da1",
      "value": 51
     }
    },
    "8c8e316caa1340c7bb147b7807262a02": {
     "model_module": "@jupyter-widgets/controls",
     "model_module_version": "1.5.0",
     "model_name": "DescriptionStyleModel",
     "state": {
      "_model_module": "@jupyter-widgets/controls",
      "_model_module_version": "1.5.0",
      "_model_name": "DescriptionStyleModel",
      "_view_count": null,
      "_view_module": "@jupyter-widgets/base",
      "_view_module_version": "1.2.0",
      "_view_name": "StyleView",
      "description_width": ""
     }
    },
    "8d75bccfafac4c7b9c3358b7df005f0e": {
     "model_module": "@jupyter-widgets/controls",
     "model_module_version": "1.5.0",
     "model_name": "HTMLModel",
     "state": {
      "_dom_classes": [],
      "_model_module": "@jupyter-widgets/controls",
      "_model_module_version": "1.5.0",
      "_model_name": "HTMLModel",
      "_view_count": null,
      "_view_module": "@jupyter-widgets/controls",
      "_view_module_version": "1.5.0",
      "_view_name": "HTMLView",
      "description": "",
      "description_tooltip": null,
      "layout": "IPY_MODEL_33f82469b57c49f19cdde3124da7df39",
      "placeholder": "​",
      "style": "IPY_MODEL_b8152b5c6f354e2db8c24645471021db",
      "value": " 269M/269M [00:00&lt;00:00, 430MB/s]"
     }
    },
    "8efd4ac115de4591ae84cb8dfceb3409": {
     "model_module": "@jupyter-widgets/controls",
     "model_module_version": "1.5.0",
     "model_name": "HTMLModel",
     "state": {
      "_dom_classes": [],
      "_model_module": "@jupyter-widgets/controls",
      "_model_module_version": "1.5.0",
      "_model_name": "HTMLModel",
      "_view_count": null,
      "_view_module": "@jupyter-widgets/controls",
      "_view_module_version": "1.5.0",
      "_view_name": "HTMLView",
      "description": "",
      "description_tooltip": null,
      "layout": "IPY_MODEL_b76c9b425963476cb1427e94dcc5dc3d",
      "placeholder": "​",
      "style": "IPY_MODEL_2504a0fe6f12481388814fc757bda77f",
      "value": "100%"
     }
    },
    "90cd824c990343fd95d256e8a5576e32": {
     "model_module": "@jupyter-widgets/controls",
     "model_module_version": "1.5.0",
     "model_name": "HTMLModel",
     "state": {
      "_dom_classes": [],
      "_model_module": "@jupyter-widgets/controls",
      "_model_module_version": "1.5.0",
      "_model_name": "HTMLModel",
      "_view_count": null,
      "_view_module": "@jupyter-widgets/controls",
      "_view_module_version": "1.5.0",
      "_view_name": "HTMLView",
      "description": "",
      "description_tooltip": null,
      "layout": "IPY_MODEL_69894973b1cc43f69fd29ead77340acf",
      "placeholder": "​",
      "style": "IPY_MODEL_173d5ab5f92f4514bf6b6632f54d8ca0",
      "value": " 2.04M/2.04M [00:00&lt;00:00, 2.36MB/s]"
     }
    },
    "9136f2240fdf48459b9042ad7051a1d9": {
     "model_module": "@jupyter-widgets/controls",
     "model_module_version": "1.5.0",
     "model_name": "DescriptionStyleModel",
     "state": {
      "_model_module": "@jupyter-widgets/controls",
      "_model_module_version": "1.5.0",
      "_model_name": "DescriptionStyleModel",
      "_view_count": null,
      "_view_module": "@jupyter-widgets/base",
      "_view_module_version": "1.2.0",
      "_view_name": "StyleView",
      "description_width": ""
     }
    },
    "924b4d5f2d834f6183d2d5014f16f9d7": {
     "model_module": "@jupyter-widgets/base",
     "model_module_version": "1.2.0",
     "model_name": "LayoutModel",
     "state": {
      "_model_module": "@jupyter-widgets/base",
      "_model_module_version": "1.2.0",
      "_model_name": "LayoutModel",
      "_view_count": null,
      "_view_module": "@jupyter-widgets/base",
      "_view_module_version": "1.2.0",
      "_view_name": "LayoutView",
      "align_content": null,
      "align_items": null,
      "align_self": null,
      "border": null,
      "bottom": null,
      "display": null,
      "flex": null,
      "flex_flow": null,
      "grid_area": null,
      "grid_auto_columns": null,
      "grid_auto_flow": null,
      "grid_auto_rows": null,
      "grid_column": null,
      "grid_gap": null,
      "grid_row": null,
      "grid_template_areas": null,
      "grid_template_columns": null,
      "grid_template_rows": null,
      "height": null,
      "justify_content": null,
      "justify_items": null,
      "left": null,
      "margin": null,
      "max_height": null,
      "max_width": null,
      "min_height": null,
      "min_width": null,
      "object_fit": null,
      "object_position": null,
      "order": null,
      "overflow": null,
      "overflow_x": null,
      "overflow_y": null,
      "padding": null,
      "right": null,
      "top": null,
      "visibility": null,
      "width": null
     }
    },
    "9254e555150d4b84b9749559b460462c": {
     "model_module": "@jupyter-widgets/controls",
     "model_module_version": "1.5.0",
     "model_name": "HTMLModel",
     "state": {
      "_dom_classes": [],
      "_model_module": "@jupyter-widgets/controls",
      "_model_module_version": "1.5.0",
      "_model_name": "HTMLModel",
      "_view_count": null,
      "_view_module": "@jupyter-widgets/controls",
      "_view_module_version": "1.5.0",
      "_view_name": "HTMLView",
      "description": "",
      "description_tooltip": null,
      "layout": "IPY_MODEL_2d1cbbfffef14c95bf27095432c09333",
      "placeholder": "​",
      "style": "IPY_MODEL_fa99fc7e67e241448a6ddfb2733d9de7",
      "value": " 20000/20000 [00:22&lt;00:00, 2507.67 examples/s]"
     }
    },
    "94074bbc208d451bab87bd9f38b5455f": {
     "model_module": "@jupyter-widgets/controls",
     "model_module_version": "1.5.0",
     "model_name": "HBoxModel",
     "state": {
      "_dom_classes": [],
      "_model_module": "@jupyter-widgets/controls",
      "_model_module_version": "1.5.0",
      "_model_name": "HBoxModel",
      "_view_count": null,
      "_view_module": "@jupyter-widgets/controls",
      "_view_module_version": "1.5.0",
      "_view_name": "HBoxView",
      "box_style": "",
      "children": [
       "IPY_MODEL_60ceb06596df4df09e96a2f974abff6a",
       "IPY_MODEL_defc10751f3b4e83bfd893d3ed5a3d7e",
       "IPY_MODEL_1de9334c990443f9b8d399b8065b6be0"
      ],
      "layout": "IPY_MODEL_322a952fd6b04d8f997d6b8912338341"
     }
    },
    "941650622be24b5f8846ace5a32b2743": {
     "model_module": "@jupyter-widgets/controls",
     "model_module_version": "1.5.0",
     "model_name": "DescriptionStyleModel",
     "state": {
      "_model_module": "@jupyter-widgets/controls",
      "_model_module_version": "1.5.0",
      "_model_name": "DescriptionStyleModel",
      "_view_count": null,
      "_view_module": "@jupyter-widgets/base",
      "_view_module_version": "1.2.0",
      "_view_name": "StyleView",
      "description_width": ""
     }
    },
    "95a8977699ef46ffad44497447fbef14": {
     "model_module": "@jupyter-widgets/base",
     "model_module_version": "1.2.0",
     "model_name": "LayoutModel",
     "state": {
      "_model_module": "@jupyter-widgets/base",
      "_model_module_version": "1.2.0",
      "_model_name": "LayoutModel",
      "_view_count": null,
      "_view_module": "@jupyter-widgets/base",
      "_view_module_version": "1.2.0",
      "_view_name": "LayoutView",
      "align_content": null,
      "align_items": null,
      "align_self": null,
      "border": null,
      "bottom": null,
      "display": null,
      "flex": null,
      "flex_flow": null,
      "grid_area": null,
      "grid_auto_columns": null,
      "grid_auto_flow": null,
      "grid_auto_rows": null,
      "grid_column": null,
      "grid_gap": null,
      "grid_row": null,
      "grid_template_areas": null,
      "grid_template_columns": null,
      "grid_template_rows": null,
      "height": null,
      "justify_content": null,
      "justify_items": null,
      "left": null,
      "margin": null,
      "max_height": null,
      "max_width": null,
      "min_height": null,
      "min_width": null,
      "object_fit": null,
      "object_position": null,
      "order": null,
      "overflow": null,
      "overflow_x": null,
      "overflow_y": null,
      "padding": null,
      "right": null,
      "top": null,
      "visibility": null,
      "width": null
     }
    },
    "95e1b76dfee84cbcb593efb0ff4dcb1d": {
     "model_module": "@jupyter-widgets/base",
     "model_module_version": "1.2.0",
     "model_name": "LayoutModel",
     "state": {
      "_model_module": "@jupyter-widgets/base",
      "_model_module_version": "1.2.0",
      "_model_name": "LayoutModel",
      "_view_count": null,
      "_view_module": "@jupyter-widgets/base",
      "_view_module_version": "1.2.0",
      "_view_name": "LayoutView",
      "align_content": null,
      "align_items": null,
      "align_self": null,
      "border": null,
      "bottom": null,
      "display": null,
      "flex": null,
      "flex_flow": null,
      "grid_area": null,
      "grid_auto_columns": null,
      "grid_auto_flow": null,
      "grid_auto_rows": null,
      "grid_column": null,
      "grid_gap": null,
      "grid_row": null,
      "grid_template_areas": null,
      "grid_template_columns": null,
      "grid_template_rows": null,
      "height": null,
      "justify_content": null,
      "justify_items": null,
      "left": null,
      "margin": null,
      "max_height": null,
      "max_width": null,
      "min_height": null,
      "min_width": null,
      "object_fit": null,
      "object_position": null,
      "order": null,
      "overflow": null,
      "overflow_x": null,
      "overflow_y": null,
      "padding": null,
      "right": null,
      "top": null,
      "visibility": null,
      "width": null
     }
    },
    "9a6fd9caf7b44930afdef15e08e62878": {
     "model_module": "@jupyter-widgets/controls",
     "model_module_version": "1.5.0",
     "model_name": "HTMLModel",
     "state": {
      "_dom_classes": [],
      "_model_module": "@jupyter-widgets/controls",
      "_model_module_version": "1.5.0",
      "_model_name": "HTMLModel",
      "_view_count": null,
      "_view_module": "@jupyter-widgets/controls",
      "_view_module_version": "1.5.0",
      "_view_name": "HTMLView",
      "description": "",
      "description_tooltip": null,
      "layout": "IPY_MODEL_7d930b5a608b4d5ca9db84211a664003",
      "placeholder": "​",
      "style": "IPY_MODEL_c90ab849cd2f48358eee2098522f55c1",
      "value": " 0/20 [00:00&lt;?, ?it/s]"
     }
    },
    "9bf912b0ee83403788b7a9b6d8e6afe4": {
     "model_module": "@jupyter-widgets/controls",
     "model_module_version": "1.5.0",
     "model_name": "HTMLModel",
     "state": {
      "_dom_classes": [],
      "_model_module": "@jupyter-widgets/controls",
      "_model_module_version": "1.5.0",
      "_model_name": "HTMLModel",
      "_view_count": null,
      "_view_module": "@jupyter-widgets/controls",
      "_view_module_version": "1.5.0",
      "_view_name": "HTMLView",
      "description": "",
      "description_tooltip": null,
      "layout": "IPY_MODEL_5655dd45adc949cda15775ed54efa632",
      "placeholder": "​",
      "style": "IPY_MODEL_5358847390434d59875fd03bfbff53fa",
      "value": "Downloading readme: 100%"
     }
    },
    "9ec124baec8043a7890d2684229f76e4": {
     "model_module": "@jupyter-widgets/base",
     "model_module_version": "1.2.0",
     "model_name": "LayoutModel",
     "state": {
      "_model_module": "@jupyter-widgets/base",
      "_model_module_version": "1.2.0",
      "_model_name": "LayoutModel",
      "_view_count": null,
      "_view_module": "@jupyter-widgets/base",
      "_view_module_version": "1.2.0",
      "_view_name": "LayoutView",
      "align_content": null,
      "align_items": null,
      "align_self": null,
      "border": null,
      "bottom": null,
      "display": null,
      "flex": null,
      "flex_flow": null,
      "grid_area": null,
      "grid_auto_columns": null,
      "grid_auto_flow": null,
      "grid_auto_rows": null,
      "grid_column": null,
      "grid_gap": null,
      "grid_row": null,
      "grid_template_areas": null,
      "grid_template_columns": null,
      "grid_template_rows": null,
      "height": null,
      "justify_content": null,
      "justify_items": null,
      "left": null,
      "margin": null,
      "max_height": null,
      "max_width": null,
      "min_height": null,
      "min_width": null,
      "object_fit": null,
      "object_position": null,
      "order": null,
      "overflow": null,
      "overflow_x": null,
      "overflow_y": null,
      "padding": null,
      "right": null,
      "top": null,
      "visibility": null,
      "width": null
     }
    },
    "9fec165f7e6e4c87aa63fa1d8ba56985": {
     "model_module": "@jupyter-widgets/controls",
     "model_module_version": "1.5.0",
     "model_name": "DescriptionStyleModel",
     "state": {
      "_model_module": "@jupyter-widgets/controls",
      "_model_module_version": "1.5.0",
      "_model_name": "DescriptionStyleModel",
      "_view_count": null,
      "_view_module": "@jupyter-widgets/base",
      "_view_module_version": "1.2.0",
      "_view_name": "StyleView",
      "description_width": ""
     }
    },
    "a1d906bd3b494f56b56e4089b7235231": {
     "model_module": "@jupyter-widgets/controls",
     "model_module_version": "1.5.0",
     "model_name": "HBoxModel",
     "state": {
      "_dom_classes": [],
      "_model_module": "@jupyter-widgets/controls",
      "_model_module_version": "1.5.0",
      "_model_name": "HBoxModel",
      "_view_count": null,
      "_view_module": "@jupyter-widgets/controls",
      "_view_module_version": "1.5.0",
      "_view_name": "HBoxView",
      "box_style": "",
      "children": [
       "IPY_MODEL_8efd4ac115de4591ae84cb8dfceb3409",
       "IPY_MODEL_b5a927fb003c4c24a7e7e12522910159",
       "IPY_MODEL_d35b311080444ba5b5fb5a9c2725778a"
      ],
      "layout": "IPY_MODEL_e690654818574988b8152616283ab8be"
     }
    },
    "a2784ae3bf6747af97fe8008fcd0d54f": {
     "model_module": "@jupyter-widgets/base",
     "model_module_version": "1.2.0",
     "model_name": "LayoutModel",
     "state": {
      "_model_module": "@jupyter-widgets/base",
      "_model_module_version": "1.2.0",
      "_model_name": "LayoutModel",
      "_view_count": null,
      "_view_module": "@jupyter-widgets/base",
      "_view_module_version": "1.2.0",
      "_view_name": "LayoutView",
      "align_content": null,
      "align_items": null,
      "align_self": null,
      "border": null,
      "bottom": null,
      "display": null,
      "flex": null,
      "flex_flow": null,
      "grid_area": null,
      "grid_auto_columns": null,
      "grid_auto_flow": null,
      "grid_auto_rows": null,
      "grid_column": null,
      "grid_gap": null,
      "grid_row": null,
      "grid_template_areas": null,
      "grid_template_columns": null,
      "grid_template_rows": null,
      "height": null,
      "justify_content": null,
      "justify_items": null,
      "left": null,
      "margin": null,
      "max_height": null,
      "max_width": null,
      "min_height": null,
      "min_width": null,
      "object_fit": null,
      "object_position": null,
      "order": null,
      "overflow": null,
      "overflow_x": null,
      "overflow_y": null,
      "padding": null,
      "right": null,
      "top": null,
      "visibility": null,
      "width": null
     }
    },
    "a2838f06572d45b0b1f25b13a51097ed": {
     "model_module": "@jupyter-widgets/controls",
     "model_module_version": "1.5.0",
     "model_name": "DescriptionStyleModel",
     "state": {
      "_model_module": "@jupyter-widgets/controls",
      "_model_module_version": "1.5.0",
      "_model_name": "DescriptionStyleModel",
      "_view_count": null,
      "_view_module": "@jupyter-widgets/base",
      "_view_module_version": "1.2.0",
      "_view_name": "StyleView",
      "description_width": ""
     }
    },
    "a4f694f5f1d445ed89aa78016392f447": {
     "model_module": "@jupyter-widgets/controls",
     "model_module_version": "1.5.0",
     "model_name": "HTMLModel",
     "state": {
      "_dom_classes": [],
      "_model_module": "@jupyter-widgets/controls",
      "_model_module_version": "1.5.0",
      "_model_name": "HTMLModel",
      "_view_count": null,
      "_view_module": "@jupyter-widgets/controls",
      "_view_module_version": "1.5.0",
      "_view_name": "HTMLView",
      "description": "",
      "description_tooltip": null,
      "layout": "IPY_MODEL_1f5b0e87a0d7429786de7c953a86ba7e",
      "placeholder": "​",
      "style": "IPY_MODEL_d797852de07044f393934aac02a193ae",
      "value": " 81.0/81.0 [00:00&lt;00:00, 7.33kB/s]"
     }
    },
    "a57a452486634ae1be768520876279af": {
     "model_module": "@jupyter-widgets/controls",
     "model_module_version": "1.5.0",
     "model_name": "HBoxModel",
     "state": {
      "_dom_classes": [],
      "_model_module": "@jupyter-widgets/controls",
      "_model_module_version": "1.5.0",
      "_model_name": "HBoxModel",
      "_view_count": null,
      "_view_module": "@jupyter-widgets/controls",
      "_view_module_version": "1.5.0",
      "_view_name": "HBoxView",
      "box_style": "",
      "children": [
       "IPY_MODEL_493716aa9c7d4ff1abb71f55e5b2bd78",
       "IPY_MODEL_503c926da5114c1ea5c9b7ee5f48a45e",
       "IPY_MODEL_6b60c31264e84e6aae9c2645aa2bec7f"
      ],
      "layout": "IPY_MODEL_f45225444d8a426b8dd01c6e2e175b7d"
     }
    },
    "a583f341aebb4687882d086b3ad6fa2a": {
     "model_module": "@jupyter-widgets/controls",
     "model_module_version": "1.5.0",
     "model_name": "HTMLModel",
     "state": {
      "_dom_classes": [],
      "_model_module": "@jupyter-widgets/controls",
      "_model_module_version": "1.5.0",
      "_model_name": "HTMLModel",
      "_view_count": null,
      "_view_module": "@jupyter-widgets/controls",
      "_view_module_version": "1.5.0",
      "_view_name": "HTMLView",
      "description": "",
      "description_tooltip": null,
      "layout": "IPY_MODEL_77aa9f890a0a48d3a2f94eb30bd6b6ff",
      "placeholder": "​",
      "style": "IPY_MODEL_268d1f32a8a645919ef2b03241ecdc38",
      "value": " 213M/213M [00:00&lt;00:00, 379MB/s]"
     }
    },
    "a6cbe840edd447e0b44187ddfc53fae2": {
     "model_module": "@jupyter-widgets/controls",
     "model_module_version": "1.5.0",
     "model_name": "HTMLModel",
     "state": {
      "_dom_classes": [],
      "_model_module": "@jupyter-widgets/controls",
      "_model_module_version": "1.5.0",
      "_model_name": "HTMLModel",
      "_view_count": null,
      "_view_module": "@jupyter-widgets/controls",
      "_view_module_version": "1.5.0",
      "_view_name": "HTMLView",
      "description": "",
      "description_tooltip": null,
      "layout": "IPY_MODEL_bc87a60a56284946a0236e6f883ab7a3",
      "placeholder": "​",
      "style": "IPY_MODEL_835691af86864579a330a23910db6e48",
      "value": "47.pt: 100%"
     }
    },
    "a6f0fe9a26ce41dd9539e5f195ac42b3": {
     "model_module": "@jupyter-widgets/controls",
     "model_module_version": "1.5.0",
     "model_name": "HBoxModel",
     "state": {
      "_dom_classes": [],
      "_model_module": "@jupyter-widgets/controls",
      "_model_module_version": "1.5.0",
      "_model_name": "HBoxModel",
      "_view_count": null,
      "_view_module": "@jupyter-widgets/controls",
      "_view_module_version": "1.5.0",
      "_view_name": "HBoxView",
      "box_style": "",
      "children": [
       "IPY_MODEL_9bf912b0ee83403788b7a9b6d8e6afe4",
       "IPY_MODEL_d13b44f0a5664ae78db5133d98c90cff",
       "IPY_MODEL_f54e3b4c955348f987e221ba8d2c424c"
      ],
      "layout": "IPY_MODEL_12ecc541d92c4e40a442202c1a60f793"
     }
    },
    "a99a336c6f044144887bdc6632aa8690": {
     "model_module": "@jupyter-widgets/controls",
     "model_module_version": "1.5.0",
     "model_name": "DescriptionStyleModel",
     "state": {
      "_model_module": "@jupyter-widgets/controls",
      "_model_module_version": "1.5.0",
      "_model_name": "DescriptionStyleModel",
      "_view_count": null,
      "_view_module": "@jupyter-widgets/base",
      "_view_module_version": "1.2.0",
      "_view_name": "StyleView",
      "description_width": ""
     }
    },
    "adbb86624ce34d2f8b1d4e2ab89635d9": {
     "model_module": "@jupyter-widgets/controls",
     "model_module_version": "1.5.0",
     "model_name": "DescriptionStyleModel",
     "state": {
      "_model_module": "@jupyter-widgets/controls",
      "_model_module_version": "1.5.0",
      "_model_name": "DescriptionStyleModel",
      "_view_count": null,
      "_view_module": "@jupyter-widgets/base",
      "_view_module_version": "1.2.0",
      "_view_name": "StyleView",
      "description_width": ""
     }
    },
    "b144a2c61a57472d934369d289aa8296": {
     "model_module": "@jupyter-widgets/base",
     "model_module_version": "1.2.0",
     "model_name": "LayoutModel",
     "state": {
      "_model_module": "@jupyter-widgets/base",
      "_model_module_version": "1.2.0",
      "_model_name": "LayoutModel",
      "_view_count": null,
      "_view_module": "@jupyter-widgets/base",
      "_view_module_version": "1.2.0",
      "_view_name": "LayoutView",
      "align_content": null,
      "align_items": null,
      "align_self": null,
      "border": null,
      "bottom": null,
      "display": null,
      "flex": null,
      "flex_flow": null,
      "grid_area": null,
      "grid_auto_columns": null,
      "grid_auto_flow": null,
      "grid_auto_rows": null,
      "grid_column": null,
      "grid_gap": null,
      "grid_row": null,
      "grid_template_areas": null,
      "grid_template_columns": null,
      "grid_template_rows": null,
      "height": null,
      "justify_content": null,
      "justify_items": null,
      "left": null,
      "margin": null,
      "max_height": null,
      "max_width": null,
      "min_height": null,
      "min_width": null,
      "object_fit": null,
      "object_position": null,
      "order": null,
      "overflow": null,
      "overflow_x": null,
      "overflow_y": null,
      "padding": null,
      "right": null,
      "top": null,
      "visibility": null,
      "width": null
     }
    },
    "b25c4a7c4a9b4847836e15a55b1cf1a6": {
     "model_module": "@jupyter-widgets/controls",
     "model_module_version": "1.5.0",
     "model_name": "HTMLModel",
     "state": {
      "_dom_classes": [],
      "_model_module": "@jupyter-widgets/controls",
      "_model_module_version": "1.5.0",
      "_model_name": "HTMLModel",
      "_view_count": null,
      "_view_module": "@jupyter-widgets/controls",
      "_view_module_version": "1.5.0",
      "_view_name": "HTMLView",
      "description": "",
      "description_tooltip": null,
      "layout": "IPY_MODEL_bd2e4f3cdcb4491a86797822845fa639",
      "placeholder": "​",
      "style": "IPY_MODEL_c582a20d221146278d761172b6361934",
      "value": " 10000/10000 [00:22&lt;00:00, 445.71it/s, l1_loss=0.0179, l2_loss=0.0604, lr=0.001]"
     }
    },
    "b575bc8181ee4282a77054a1880d245a": {
     "model_module": "@jupyter-widgets/base",
     "model_module_version": "1.2.0",
     "model_name": "LayoutModel",
     "state": {
      "_model_module": "@jupyter-widgets/base",
      "_model_module_version": "1.2.0",
      "_model_name": "LayoutModel",
      "_view_count": null,
      "_view_module": "@jupyter-widgets/base",
      "_view_module_version": "1.2.0",
      "_view_name": "LayoutView",
      "align_content": null,
      "align_items": null,
      "align_self": null,
      "border": null,
      "bottom": null,
      "display": null,
      "flex": null,
      "flex_flow": null,
      "grid_area": null,
      "grid_auto_columns": null,
      "grid_auto_flow": null,
      "grid_auto_rows": null,
      "grid_column": null,
      "grid_gap": null,
      "grid_row": null,
      "grid_template_areas": null,
      "grid_template_columns": null,
      "grid_template_rows": null,
      "height": null,
      "justify_content": null,
      "justify_items": null,
      "left": null,
      "margin": null,
      "max_height": null,
      "max_width": null,
      "min_height": null,
      "min_width": null,
      "object_fit": null,
      "object_position": null,
      "order": null,
      "overflow": null,
      "overflow_x": null,
      "overflow_y": null,
      "padding": null,
      "right": null,
      "top": null,
      "visibility": null,
      "width": null
     }
    },
    "b5a927fb003c4c24a7e7e12522910159": {
     "model_module": "@jupyter-widgets/controls",
     "model_module_version": "1.5.0",
     "model_name": "FloatProgressModel",
     "state": {
      "_dom_classes": [],
      "_model_module": "@jupyter-widgets/controls",
      "_model_module_version": "1.5.0",
      "_model_name": "FloatProgressModel",
      "_view_count": null,
      "_view_module": "@jupyter-widgets/controls",
      "_view_module_version": "1.5.0",
      "_view_name": "ProgressView",
      "bar_style": "success",
      "description": "",
      "description_tooltip": null,
      "layout": "IPY_MODEL_cb8744f39e734dc788dddd88354edc69",
      "max": 20,
      "min": 0,
      "orientation": "horizontal",
      "style": "IPY_MODEL_27f38368b8ed4061bd93ad65978adf02",
      "value": 20
     }
    },
    "b62493081ae1494f8ecaba2ea7cefc6b": {
     "model_module": "@jupyter-widgets/base",
     "model_module_version": "1.2.0",
     "model_name": "LayoutModel",
     "state": {
      "_model_module": "@jupyter-widgets/base",
      "_model_module_version": "1.2.0",
      "_model_name": "LayoutModel",
      "_view_count": null,
      "_view_module": "@jupyter-widgets/base",
      "_view_module_version": "1.2.0",
      "_view_name": "LayoutView",
      "align_content": null,
      "align_items": null,
      "align_self": null,
      "border": null,
      "bottom": null,
      "display": null,
      "flex": null,
      "flex_flow": null,
      "grid_area": null,
      "grid_auto_columns": null,
      "grid_auto_flow": null,
      "grid_auto_rows": null,
      "grid_column": null,
      "grid_gap": null,
      "grid_row": null,
      "grid_template_areas": null,
      "grid_template_columns": null,
      "grid_template_rows": null,
      "height": null,
      "justify_content": null,
      "justify_items": null,
      "left": null,
      "margin": null,
      "max_height": null,
      "max_width": null,
      "min_height": null,
      "min_width": null,
      "object_fit": null,
      "object_position": null,
      "order": null,
      "overflow": null,
      "overflow_x": null,
      "overflow_y": null,
      "padding": null,
      "right": null,
      "top": null,
      "visibility": null,
      "width": null
     }
    },
    "b6f9f8dd2c1d4daf9060f1b86419b0ea": {
     "model_module": "@jupyter-widgets/controls",
     "model_module_version": "1.5.0",
     "model_name": "DescriptionStyleModel",
     "state": {
      "_model_module": "@jupyter-widgets/controls",
      "_model_module_version": "1.5.0",
      "_model_name": "DescriptionStyleModel",
      "_view_count": null,
      "_view_module": "@jupyter-widgets/base",
      "_view_module_version": "1.2.0",
      "_view_name": "StyleView",
      "description_width": ""
     }
    },
    "b76c9b425963476cb1427e94dcc5dc3d": {
     "model_module": "@jupyter-widgets/base",
     "model_module_version": "1.2.0",
     "model_name": "LayoutModel",
     "state": {
      "_model_module": "@jupyter-widgets/base",
      "_model_module_version": "1.2.0",
      "_model_name": "LayoutModel",
      "_view_count": null,
      "_view_module": "@jupyter-widgets/base",
      "_view_module_version": "1.2.0",
      "_view_name": "LayoutView",
      "align_content": null,
      "align_items": null,
      "align_self": null,
      "border": null,
      "bottom": null,
      "display": null,
      "flex": null,
      "flex_flow": null,
      "grid_area": null,
      "grid_auto_columns": null,
      "grid_auto_flow": null,
      "grid_auto_rows": null,
      "grid_column": null,
      "grid_gap": null,
      "grid_row": null,
      "grid_template_areas": null,
      "grid_template_columns": null,
      "grid_template_rows": null,
      "height": null,
      "justify_content": null,
      "justify_items": null,
      "left": null,
      "margin": null,
      "max_height": null,
      "max_width": null,
      "min_height": null,
      "min_width": null,
      "object_fit": null,
      "object_position": null,
      "order": null,
      "overflow": null,
      "overflow_x": null,
      "overflow_y": null,
      "padding": null,
      "right": null,
      "top": null,
      "visibility": null,
      "width": null
     }
    },
    "b78e8c0790f84e9d8c27ad14cd277c7d": {
     "model_module": "@jupyter-widgets/base",
     "model_module_version": "1.2.0",
     "model_name": "LayoutModel",
     "state": {
      "_model_module": "@jupyter-widgets/base",
      "_model_module_version": "1.2.0",
      "_model_name": "LayoutModel",
      "_view_count": null,
      "_view_module": "@jupyter-widgets/base",
      "_view_module_version": "1.2.0",
      "_view_name": "LayoutView",
      "align_content": null,
      "align_items": null,
      "align_self": null,
      "border": null,
      "bottom": null,
      "display": null,
      "flex": null,
      "flex_flow": null,
      "grid_area": null,
      "grid_auto_columns": null,
      "grid_auto_flow": null,
      "grid_auto_rows": null,
      "grid_column": null,
      "grid_gap": null,
      "grid_row": null,
      "grid_template_areas": null,
      "grid_template_columns": null,
      "grid_template_rows": null,
      "height": null,
      "justify_content": null,
      "justify_items": null,
      "left": null,
      "margin": null,
      "max_height": null,
      "max_width": null,
      "min_height": null,
      "min_width": null,
      "object_fit": null,
      "object_position": null,
      "order": null,
      "overflow": null,
      "overflow_x": null,
      "overflow_y": null,
      "padding": null,
      "right": null,
      "top": null,
      "visibility": null,
      "width": null
     }
    },
    "b8152b5c6f354e2db8c24645471021db": {
     "model_module": "@jupyter-widgets/controls",
     "model_module_version": "1.5.0",
     "model_name": "DescriptionStyleModel",
     "state": {
      "_model_module": "@jupyter-widgets/controls",
      "_model_module_version": "1.5.0",
      "_model_name": "DescriptionStyleModel",
      "_view_count": null,
      "_view_module": "@jupyter-widgets/base",
      "_view_module_version": "1.2.0",
      "_view_name": "StyleView",
      "description_width": ""
     }
    },
    "bc1d4ed7ee754c19ba7cfb44f65b42f8": {
     "model_module": "@jupyter-widgets/controls",
     "model_module_version": "1.5.0",
     "model_name": "HTMLModel",
     "state": {
      "_dom_classes": [],
      "_model_module": "@jupyter-widgets/controls",
      "_model_module_version": "1.5.0",
      "_model_name": "HTMLModel",
      "_view_count": null,
      "_view_module": "@jupyter-widgets/controls",
      "_view_module_version": "1.5.0",
      "_view_name": "HTMLView",
      "description": "",
      "description_tooltip": null,
      "layout": "IPY_MODEL_ccc7147e7f034406b2607f5928141a2f",
      "placeholder": "​",
      "style": "IPY_MODEL_6b393d8439b64796aca2cf315ecb00c5",
      "value": "Downloading data: 100%"
     }
    },
    "bc87a60a56284946a0236e6f883ab7a3": {
     "model_module": "@jupyter-widgets/base",
     "model_module_version": "1.2.0",
     "model_name": "LayoutModel",
     "state": {
      "_model_module": "@jupyter-widgets/base",
      "_model_module_version": "1.2.0",
      "_model_name": "LayoutModel",
      "_view_count": null,
      "_view_module": "@jupyter-widgets/base",
      "_view_module_version": "1.2.0",
      "_view_name": "LayoutView",
      "align_content": null,
      "align_items": null,
      "align_self": null,
      "border": null,
      "bottom": null,
      "display": null,
      "flex": null,
      "flex_flow": null,
      "grid_area": null,
      "grid_auto_columns": null,
      "grid_auto_flow": null,
      "grid_auto_rows": null,
      "grid_column": null,
      "grid_gap": null,
      "grid_row": null,
      "grid_template_areas": null,
      "grid_template_columns": null,
      "grid_template_rows": null,
      "height": null,
      "justify_content": null,
      "justify_items": null,
      "left": null,
      "margin": null,
      "max_height": null,
      "max_width": null,
      "min_height": null,
      "min_width": null,
      "object_fit": null,
      "object_position": null,
      "order": null,
      "overflow": null,
      "overflow_x": null,
      "overflow_y": null,
      "padding": null,
      "right": null,
      "top": null,
      "visibility": null,
      "width": null
     }
    },
    "bd2e4f3cdcb4491a86797822845fa639": {
     "model_module": "@jupyter-widgets/base",
     "model_module_version": "1.2.0",
     "model_name": "LayoutModel",
     "state": {
      "_model_module": "@jupyter-widgets/base",
      "_model_module_version": "1.2.0",
      "_model_name": "LayoutModel",
      "_view_count": null,
      "_view_module": "@jupyter-widgets/base",
      "_view_module_version": "1.2.0",
      "_view_name": "LayoutView",
      "align_content": null,
      "align_items": null,
      "align_self": null,
      "border": null,
      "bottom": null,
      "display": null,
      "flex": null,
      "flex_flow": null,
      "grid_area": null,
      "grid_auto_columns": null,
      "grid_auto_flow": null,
      "grid_auto_rows": null,
      "grid_column": null,
      "grid_gap": null,
      "grid_row": null,
      "grid_template_areas": null,
      "grid_template_columns": null,
      "grid_template_rows": null,
      "height": null,
      "justify_content": null,
      "justify_items": null,
      "left": null,
      "margin": null,
      "max_height": null,
      "max_width": null,
      "min_height": null,
      "min_width": null,
      "object_fit": null,
      "object_position": null,
      "order": null,
      "overflow": null,
      "overflow_x": null,
      "overflow_y": null,
      "padding": null,
      "right": null,
      "top": null,
      "visibility": null,
      "width": null
     }
    },
    "c02fa5a6eb9646328b8450bed6492d0b": {
     "model_module": "@jupyter-widgets/controls",
     "model_module_version": "1.5.0",
     "model_name": "DescriptionStyleModel",
     "state": {
      "_model_module": "@jupyter-widgets/controls",
      "_model_module_version": "1.5.0",
      "_model_name": "DescriptionStyleModel",
      "_view_count": null,
      "_view_module": "@jupyter-widgets/base",
      "_view_module_version": "1.2.0",
      "_view_name": "StyleView",
      "description_width": ""
     }
    },
    "c14bfa0514084d798d1000f6160cb56f": {
     "model_module": "@jupyter-widgets/controls",
     "model_module_version": "1.5.0",
     "model_name": "DescriptionStyleModel",
     "state": {
      "_model_module": "@jupyter-widgets/controls",
      "_model_module_version": "1.5.0",
      "_model_name": "DescriptionStyleModel",
      "_view_count": null,
      "_view_module": "@jupyter-widgets/base",
      "_view_module_version": "1.2.0",
      "_view_name": "StyleView",
      "description_width": ""
     }
    },
    "c39a513944e2415d9f8c1f0a8632cac2": {
     "model_module": "@jupyter-widgets/controls",
     "model_module_version": "1.5.0",
     "model_name": "ProgressStyleModel",
     "state": {
      "_model_module": "@jupyter-widgets/controls",
      "_model_module_version": "1.5.0",
      "_model_name": "ProgressStyleModel",
      "_view_count": null,
      "_view_module": "@jupyter-widgets/base",
      "_view_module_version": "1.2.0",
      "_view_name": "StyleView",
      "bar_color": null,
      "description_width": ""
     }
    },
    "c582a20d221146278d761172b6361934": {
     "model_module": "@jupyter-widgets/controls",
     "model_module_version": "1.5.0",
     "model_name": "DescriptionStyleModel",
     "state": {
      "_model_module": "@jupyter-widgets/controls",
      "_model_module_version": "1.5.0",
      "_model_name": "DescriptionStyleModel",
      "_view_count": null,
      "_view_module": "@jupyter-widgets/base",
      "_view_module_version": "1.2.0",
      "_view_name": "StyleView",
      "description_width": ""
     }
    },
    "c5c485292505460cb0b2fea360b4792f": {
     "model_module": "@jupyter-widgets/controls",
     "model_module_version": "1.5.0",
     "model_name": "HBoxModel",
     "state": {
      "_dom_classes": [],
      "_model_module": "@jupyter-widgets/controls",
      "_model_module_version": "1.5.0",
      "_model_name": "HBoxModel",
      "_view_count": null,
      "_view_module": "@jupyter-widgets/controls",
      "_view_module_version": "1.5.0",
      "_view_name": "HBoxView",
      "box_style": "",
      "children": [
       "IPY_MODEL_04788755bb054acba3375d5486e0e590",
       "IPY_MODEL_d414d3ceee9c4b34919ea910c9346db4",
       "IPY_MODEL_0e9d5cc58caa4319a9119bd9131da307"
      ],
      "layout": "IPY_MODEL_f5535c57b00041d581c4b5c1f9a53207"
     }
    },
    "c61254c79d0d4e8aba1c6ef7f0e1a405": {
     "model_module": "@jupyter-widgets/controls",
     "model_module_version": "1.5.0",
     "model_name": "ProgressStyleModel",
     "state": {
      "_model_module": "@jupyter-widgets/controls",
      "_model_module_version": "1.5.0",
      "_model_name": "ProgressStyleModel",
      "_view_count": null,
      "_view_module": "@jupyter-widgets/base",
      "_view_module_version": "1.2.0",
      "_view_name": "StyleView",
      "bar_color": null,
      "description_width": ""
     }
    },
    "c6b22c5130204fa2ab4722d0059d794f": {
     "model_module": "@jupyter-widgets/controls",
     "model_module_version": "1.5.0",
     "model_name": "ProgressStyleModel",
     "state": {
      "_model_module": "@jupyter-widgets/controls",
      "_model_module_version": "1.5.0",
      "_model_name": "ProgressStyleModel",
      "_view_count": null,
      "_view_module": "@jupyter-widgets/base",
      "_view_module_version": "1.2.0",
      "_view_name": "StyleView",
      "bar_color": null,
      "description_width": ""
     }
    },
    "c6c80d2d65d74a41a87d89b745249cb8": {
     "model_module": "@jupyter-widgets/base",
     "model_module_version": "1.2.0",
     "model_name": "LayoutModel",
     "state": {
      "_model_module": "@jupyter-widgets/base",
      "_model_module_version": "1.2.0",
      "_model_name": "LayoutModel",
      "_view_count": null,
      "_view_module": "@jupyter-widgets/base",
      "_view_module_version": "1.2.0",
      "_view_name": "LayoutView",
      "align_content": null,
      "align_items": null,
      "align_self": null,
      "border": null,
      "bottom": null,
      "display": null,
      "flex": null,
      "flex_flow": null,
      "grid_area": null,
      "grid_auto_columns": null,
      "grid_auto_flow": null,
      "grid_auto_rows": null,
      "grid_column": null,
      "grid_gap": null,
      "grid_row": null,
      "grid_template_areas": null,
      "grid_template_columns": null,
      "grid_template_rows": null,
      "height": null,
      "justify_content": null,
      "justify_items": null,
      "left": null,
      "margin": null,
      "max_height": null,
      "max_width": null,
      "min_height": null,
      "min_width": null,
      "object_fit": null,
      "object_position": null,
      "order": null,
      "overflow": null,
      "overflow_x": null,
      "overflow_y": null,
      "padding": null,
      "right": null,
      "top": null,
      "visibility": null,
      "width": null
     }
    },
    "c8363f314272490f8697795049a8fcff": {
     "model_module": "@jupyter-widgets/controls",
     "model_module_version": "1.5.0",
     "model_name": "HBoxModel",
     "state": {
      "_dom_classes": [],
      "_model_module": "@jupyter-widgets/controls",
      "_model_module_version": "1.5.0",
      "_model_name": "HBoxModel",
      "_view_count": null,
      "_view_module": "@jupyter-widgets/controls",
      "_view_module_version": "1.5.0",
      "_view_name": "HBoxView",
      "box_style": "",
      "children": [
       "IPY_MODEL_04c7e1de9715427cbf68ae75f9360d0d",
       "IPY_MODEL_4b090c22d5d94460af604eaa95242428",
       "IPY_MODEL_9a6fd9caf7b44930afdef15e08e62878"
      ],
      "layout": "IPY_MODEL_28ebd777524046a6ab1113ae8da03330"
     }
    },
    "c848f39b702f4f759f339144df4836dd": {
     "model_module": "@jupyter-widgets/controls",
     "model_module_version": "1.5.0",
     "model_name": "HBoxModel",
     "state": {
      "_dom_classes": [],
      "_model_module": "@jupyter-widgets/controls",
      "_model_module_version": "1.5.0",
      "_model_name": "HBoxModel",
      "_view_count": null,
      "_view_module": "@jupyter-widgets/controls",
      "_view_module_version": "1.5.0",
      "_view_name": "HBoxView",
      "box_style": "",
      "children": [
       "IPY_MODEL_592169dff1c44a58b51ad5e31307f264",
       "IPY_MODEL_6a648ab770184c3284ac6e2821f851cc",
       "IPY_MODEL_b25c4a7c4a9b4847836e15a55b1cf1a6"
      ],
      "layout": "IPY_MODEL_45fa0b331538476f9215c1b8af22877e"
     }
    },
    "c8966ab35b424facbdeb703af970fc78": {
     "model_module": "@jupyter-widgets/controls",
     "model_module_version": "1.5.0",
     "model_name": "HTMLModel",
     "state": {
      "_dom_classes": [],
      "_model_module": "@jupyter-widgets/controls",
      "_model_module_version": "1.5.0",
      "_model_name": "HTMLModel",
      "_view_count": null,
      "_view_module": "@jupyter-widgets/controls",
      "_view_module_version": "1.5.0",
      "_view_name": "HTMLView",
      "description": "",
      "description_tooltip": null,
      "layout": "IPY_MODEL_06f24f38c1f547ad85ad7b1c9dee49b9",
      "placeholder": "​",
      "style": "IPY_MODEL_16940867afcf49d9867e117e0f11661c",
      "value": " 269M/269M [00:00&lt;00:00, 435MB/s]"
     }
    },
    "c90ab849cd2f48358eee2098522f55c1": {
     "model_module": "@jupyter-widgets/controls",
     "model_module_version": "1.5.0",
     "model_name": "DescriptionStyleModel",
     "state": {
      "_model_module": "@jupyter-widgets/controls",
      "_model_module_version": "1.5.0",
      "_model_name": "DescriptionStyleModel",
      "_view_count": null,
      "_view_module": "@jupyter-widgets/base",
      "_view_module_version": "1.2.0",
      "_view_name": "StyleView",
      "description_width": ""
     }
    },
    "ca3a47d91054411eb57c85c4c22f3239": {
     "model_module": "@jupyter-widgets/base",
     "model_module_version": "1.2.0",
     "model_name": "LayoutModel",
     "state": {
      "_model_module": "@jupyter-widgets/base",
      "_model_module_version": "1.2.0",
      "_model_name": "LayoutModel",
      "_view_count": null,
      "_view_module": "@jupyter-widgets/base",
      "_view_module_version": "1.2.0",
      "_view_name": "LayoutView",
      "align_content": null,
      "align_items": null,
      "align_self": null,
      "border": null,
      "bottom": null,
      "display": null,
      "flex": null,
      "flex_flow": null,
      "grid_area": null,
      "grid_auto_columns": null,
      "grid_auto_flow": null,
      "grid_auto_rows": null,
      "grid_column": null,
      "grid_gap": null,
      "grid_row": null,
      "grid_template_areas": null,
      "grid_template_columns": null,
      "grid_template_rows": null,
      "height": null,
      "justify_content": null,
      "justify_items": null,
      "left": null,
      "margin": null,
      "max_height": null,
      "max_width": null,
      "min_height": null,
      "min_width": null,
      "object_fit": null,
      "object_position": null,
      "order": null,
      "overflow": null,
      "overflow_x": null,
      "overflow_y": null,
      "padding": null,
      "right": null,
      "top": null,
      "visibility": null,
      "width": null
     }
    },
    "ca75e30c255b44ec9d29f6a6e0ea28db": {
     "model_module": "@jupyter-widgets/base",
     "model_module_version": "1.2.0",
     "model_name": "LayoutModel",
     "state": {
      "_model_module": "@jupyter-widgets/base",
      "_model_module_version": "1.2.0",
      "_model_name": "LayoutModel",
      "_view_count": null,
      "_view_module": "@jupyter-widgets/base",
      "_view_module_version": "1.2.0",
      "_view_name": "LayoutView",
      "align_content": null,
      "align_items": null,
      "align_self": null,
      "border": null,
      "bottom": null,
      "display": null,
      "flex": null,
      "flex_flow": null,
      "grid_area": null,
      "grid_auto_columns": null,
      "grid_auto_flow": null,
      "grid_auto_rows": null,
      "grid_column": null,
      "grid_gap": null,
      "grid_row": null,
      "grid_template_areas": null,
      "grid_template_columns": null,
      "grid_template_rows": null,
      "height": null,
      "justify_content": null,
      "justify_items": null,
      "left": null,
      "margin": null,
      "max_height": null,
      "max_width": null,
      "min_height": null,
      "min_width": null,
      "object_fit": null,
      "object_position": null,
      "order": null,
      "overflow": null,
      "overflow_x": null,
      "overflow_y": null,
      "padding": null,
      "right": null,
      "top": null,
      "visibility": null,
      "width": null
     }
    },
    "cb8744f39e734dc788dddd88354edc69": {
     "model_module": "@jupyter-widgets/base",
     "model_module_version": "1.2.0",
     "model_name": "LayoutModel",
     "state": {
      "_model_module": "@jupyter-widgets/base",
      "_model_module_version": "1.2.0",
      "_model_name": "LayoutModel",
      "_view_count": null,
      "_view_module": "@jupyter-widgets/base",
      "_view_module_version": "1.2.0",
      "_view_name": "LayoutView",
      "align_content": null,
      "align_items": null,
      "align_self": null,
      "border": null,
      "bottom": null,
      "display": null,
      "flex": null,
      "flex_flow": null,
      "grid_area": null,
      "grid_auto_columns": null,
      "grid_auto_flow": null,
      "grid_auto_rows": null,
      "grid_column": null,
      "grid_gap": null,
      "grid_row": null,
      "grid_template_areas": null,
      "grid_template_columns": null,
      "grid_template_rows": null,
      "height": null,
      "justify_content": null,
      "justify_items": null,
      "left": null,
      "margin": null,
      "max_height": null,
      "max_width": null,
      "min_height": null,
      "min_width": null,
      "object_fit": null,
      "object_position": null,
      "order": null,
      "overflow": null,
      "overflow_x": null,
      "overflow_y": null,
      "padding": null,
      "right": null,
      "top": null,
      "visibility": null,
      "width": null
     }
    },
    "ccc7147e7f034406b2607f5928141a2f": {
     "model_module": "@jupyter-widgets/base",
     "model_module_version": "1.2.0",
     "model_name": "LayoutModel",
     "state": {
      "_model_module": "@jupyter-widgets/base",
      "_model_module_version": "1.2.0",
      "_model_name": "LayoutModel",
      "_view_count": null,
      "_view_module": "@jupyter-widgets/base",
      "_view_module_version": "1.2.0",
      "_view_name": "LayoutView",
      "align_content": null,
      "align_items": null,
      "align_self": null,
      "border": null,
      "bottom": null,
      "display": null,
      "flex": null,
      "flex_flow": null,
      "grid_area": null,
      "grid_auto_columns": null,
      "grid_auto_flow": null,
      "grid_auto_rows": null,
      "grid_column": null,
      "grid_gap": null,
      "grid_row": null,
      "grid_template_areas": null,
      "grid_template_columns": null,
      "grid_template_rows": null,
      "height": null,
      "justify_content": null,
      "justify_items": null,
      "left": null,
      "margin": null,
      "max_height": null,
      "max_width": null,
      "min_height": null,
      "min_width": null,
      "object_fit": null,
      "object_position": null,
      "order": null,
      "overflow": null,
      "overflow_x": null,
      "overflow_y": null,
      "padding": null,
      "right": null,
      "top": null,
      "visibility": null,
      "width": null
     }
    },
    "cd38ee8696ee4c4a8aa1fffac9667853": {
     "model_module": "@jupyter-widgets/base",
     "model_module_version": "1.2.0",
     "model_name": "LayoutModel",
     "state": {
      "_model_module": "@jupyter-widgets/base",
      "_model_module_version": "1.2.0",
      "_model_name": "LayoutModel",
      "_view_count": null,
      "_view_module": "@jupyter-widgets/base",
      "_view_module_version": "1.2.0",
      "_view_name": "LayoutView",
      "align_content": null,
      "align_items": null,
      "align_self": null,
      "border": null,
      "bottom": null,
      "display": null,
      "flex": null,
      "flex_flow": null,
      "grid_area": null,
      "grid_auto_columns": null,
      "grid_auto_flow": null,
      "grid_auto_rows": null,
      "grid_column": null,
      "grid_gap": null,
      "grid_row": null,
      "grid_template_areas": null,
      "grid_template_columns": null,
      "grid_template_rows": null,
      "height": null,
      "justify_content": null,
      "justify_items": null,
      "left": null,
      "margin": null,
      "max_height": null,
      "max_width": null,
      "min_height": null,
      "min_width": null,
      "object_fit": null,
      "object_position": null,
      "order": null,
      "overflow": null,
      "overflow_x": null,
      "overflow_y": null,
      "padding": null,
      "right": null,
      "top": null,
      "visibility": null,
      "width": null
     }
    },
    "cea41bde8dc142429a364e7cfaceb678": {
     "model_module": "@jupyter-widgets/controls",
     "model_module_version": "1.5.0",
     "model_name": "HTMLModel",
     "state": {
      "_dom_classes": [],
      "_model_module": "@jupyter-widgets/controls",
      "_model_module_version": "1.5.0",
      "_model_name": "HTMLModel",
      "_view_count": null,
      "_view_module": "@jupyter-widgets/controls",
      "_view_module_version": "1.5.0",
      "_view_name": "HTMLView",
      "description": "",
      "description_tooltip": null,
      "layout": "IPY_MODEL_29a164a2285c473cbb9ac74e6815b19d",
      "placeholder": "​",
      "style": "IPY_MODEL_a99a336c6f044144887bdc6632aa8690",
      "value": "Map (num_proc=10): 100%"
     }
    },
    "cec1b28da239477594c343e406ed881a": {
     "model_module": "@jupyter-widgets/controls",
     "model_module_version": "1.5.0",
     "model_name": "HBoxModel",
     "state": {
      "_dom_classes": [],
      "_model_module": "@jupyter-widgets/controls",
      "_model_module_version": "1.5.0",
      "_model_name": "HBoxModel",
      "_view_count": null,
      "_view_module": "@jupyter-widgets/controls",
      "_view_module_version": "1.5.0",
      "_view_name": "HBoxView",
      "box_style": "",
      "children": [
       "IPY_MODEL_bc1d4ed7ee754c19ba7cfb44f65b42f8",
       "IPY_MODEL_e2d9ef16fd18489aaba051382a7e401d",
       "IPY_MODEL_e67f46df38b1487695ac09112432c3ec"
      ],
      "layout": "IPY_MODEL_0d6680adfed9410292daed8512d055e2"
     }
    },
    "cf0466f59a944ca7b36e7894c9ada6ee": {
     "model_module": "@jupyter-widgets/base",
     "model_module_version": "1.2.0",
     "model_name": "LayoutModel",
     "state": {
      "_model_module": "@jupyter-widgets/base",
      "_model_module_version": "1.2.0",
      "_model_name": "LayoutModel",
      "_view_count": null,
      "_view_module": "@jupyter-widgets/base",
      "_view_module_version": "1.2.0",
      "_view_name": "LayoutView",
      "align_content": null,
      "align_items": null,
      "align_self": null,
      "border": null,
      "bottom": null,
      "display": null,
      "flex": null,
      "flex_flow": null,
      "grid_area": null,
      "grid_auto_columns": null,
      "grid_auto_flow": null,
      "grid_auto_rows": null,
      "grid_column": null,
      "grid_gap": null,
      "grid_row": null,
      "grid_template_areas": null,
      "grid_template_columns": null,
      "grid_template_rows": null,
      "height": null,
      "justify_content": null,
      "justify_items": null,
      "left": null,
      "margin": null,
      "max_height": null,
      "max_width": null,
      "min_height": null,
      "min_width": null,
      "object_fit": null,
      "object_position": null,
      "order": null,
      "overflow": null,
      "overflow_x": null,
      "overflow_y": null,
      "padding": null,
      "right": null,
      "top": null,
      "visibility": null,
      "width": null
     }
    },
    "d13b44f0a5664ae78db5133d98c90cff": {
     "model_module": "@jupyter-widgets/controls",
     "model_module_version": "1.5.0",
     "model_name": "FloatProgressModel",
     "state": {
      "_dom_classes": [],
      "_model_module": "@jupyter-widgets/controls",
      "_model_module_version": "1.5.0",
      "_model_name": "FloatProgressModel",
      "_view_count": null,
      "_view_module": "@jupyter-widgets/controls",
      "_view_module_version": "1.5.0",
      "_view_name": "ProgressView",
      "bar_style": "success",
      "description": "",
      "description_tooltip": null,
      "layout": "IPY_MODEL_cd38ee8696ee4c4a8aa1fffac9667853",
      "max": 754,
      "min": 0,
      "orientation": "horizontal",
      "style": "IPY_MODEL_c39a513944e2415d9f8c1f0a8632cac2",
      "value": 754
     }
    },
    "d35b311080444ba5b5fb5a9c2725778a": {
     "model_module": "@jupyter-widgets/controls",
     "model_module_version": "1.5.0",
     "model_name": "HTMLModel",
     "state": {
      "_dom_classes": [],
      "_model_module": "@jupyter-widgets/controls",
      "_model_module_version": "1.5.0",
      "_model_name": "HTMLModel",
      "_view_count": null,
      "_view_module": "@jupyter-widgets/controls",
      "_view_module_version": "1.5.0",
      "_view_name": "HTMLView",
      "description": "",
      "description_tooltip": null,
      "layout": "IPY_MODEL_622f8bb687e846fe9ca71befce4c175a",
      "placeholder": "​",
      "style": "IPY_MODEL_39eb3ba4290f4b28b35799cddef47146",
      "value": " 20/20 [00:12&lt;00:00,  1.51it/s]"
     }
    },
    "d3d59b79bfe8446c842b1ff853365bdf": {
     "model_module": "@jupyter-widgets/controls",
     "model_module_version": "1.5.0",
     "model_name": "HTMLModel",
     "state": {
      "_dom_classes": [],
      "_model_module": "@jupyter-widgets/controls",
      "_model_module_version": "1.5.0",
      "_model_name": "HTMLModel",
      "_view_count": null,
      "_view_module": "@jupyter-widgets/controls",
      "_view_module_version": "1.5.0",
      "_view_name": "HTMLView",
      "description": "",
      "description_tooltip": null,
      "layout": "IPY_MODEL_924b4d5f2d834f6183d2d5014f16f9d7",
      "placeholder": "​",
      "style": "IPY_MODEL_6b8a8ce96b0c45ba81f27d4ba34e0508",
      "value": "47_cfg.json: 100%"
     }
    },
    "d414d3ceee9c4b34919ea910c9346db4": {
     "model_module": "@jupyter-widgets/controls",
     "model_module_version": "1.5.0",
     "model_name": "FloatProgressModel",
     "state": {
      "_dom_classes": [],
      "_model_module": "@jupyter-widgets/controls",
      "_model_module_version": "1.5.0",
      "_model_name": "FloatProgressModel",
      "_view_count": null,
      "_view_module": "@jupyter-widgets/controls",
      "_view_module_version": "1.5.0",
      "_view_name": "ProgressView",
      "bar_style": "success",
      "description": "",
      "description_tooltip": null,
      "layout": "IPY_MODEL_11e1e3c7af514c1388ccc5c61f2f99a8",
      "max": 20000,
      "min": 0,
      "orientation": "horizontal",
      "style": "IPY_MODEL_d4e4d0a695b54a0f8fae837760e12233",
      "value": 20000
     }
    },
    "d42445f2b3a141edb134352b679d1d02": {
     "model_module": "@jupyter-widgets/base",
     "model_module_version": "1.2.0",
     "model_name": "LayoutModel",
     "state": {
      "_model_module": "@jupyter-widgets/base",
      "_model_module_version": "1.2.0",
      "_model_name": "LayoutModel",
      "_view_count": null,
      "_view_module": "@jupyter-widgets/base",
      "_view_module_version": "1.2.0",
      "_view_name": "LayoutView",
      "align_content": null,
      "align_items": null,
      "align_self": null,
      "border": null,
      "bottom": null,
      "display": null,
      "flex": null,
      "flex_flow": null,
      "grid_area": null,
      "grid_auto_columns": null,
      "grid_auto_flow": null,
      "grid_auto_rows": null,
      "grid_column": null,
      "grid_gap": null,
      "grid_row": null,
      "grid_template_areas": null,
      "grid_template_columns": null,
      "grid_template_rows": null,
      "height": null,
      "justify_content": null,
      "justify_items": null,
      "left": null,
      "margin": null,
      "max_height": null,
      "max_width": null,
      "min_height": null,
      "min_width": null,
      "object_fit": null,
      "object_position": null,
      "order": null,
      "overflow": null,
      "overflow_x": null,
      "overflow_y": null,
      "padding": null,
      "right": null,
      "top": null,
      "visibility": null,
      "width": null
     }
    },
    "d4e4d0a695b54a0f8fae837760e12233": {
     "model_module": "@jupyter-widgets/controls",
     "model_module_version": "1.5.0",
     "model_name": "ProgressStyleModel",
     "state": {
      "_model_module": "@jupyter-widgets/controls",
      "_model_module_version": "1.5.0",
      "_model_name": "ProgressStyleModel",
      "_view_count": null,
      "_view_module": "@jupyter-widgets/base",
      "_view_module_version": "1.2.0",
      "_view_name": "StyleView",
      "bar_color": null,
      "description_width": ""
     }
    },
    "d797852de07044f393934aac02a193ae": {
     "model_module": "@jupyter-widgets/controls",
     "model_module_version": "1.5.0",
     "model_name": "DescriptionStyleModel",
     "state": {
      "_model_module": "@jupyter-widgets/controls",
      "_model_module_version": "1.5.0",
      "_model_name": "DescriptionStyleModel",
      "_view_count": null,
      "_view_module": "@jupyter-widgets/base",
      "_view_module_version": "1.2.0",
      "_view_name": "StyleView",
      "description_width": ""
     }
    },
    "db7a99e45e054a6781e3214214c8acbf": {
     "model_module": "@jupyter-widgets/controls",
     "model_module_version": "1.5.0",
     "model_name": "FloatProgressModel",
     "state": {
      "_dom_classes": [],
      "_model_module": "@jupyter-widgets/controls",
      "_model_module_version": "1.5.0",
      "_model_name": "FloatProgressModel",
      "_view_count": null,
      "_view_module": "@jupyter-widgets/controls",
      "_view_module_version": "1.5.0",
      "_view_name": "ProgressView",
      "bar_style": "success",
      "description": "",
      "description_tooltip": null,
      "layout": "IPY_MODEL_b144a2c61a57472d934369d289aa8296",
      "max": 81,
      "min": 0,
      "orientation": "horizontal",
      "style": "IPY_MODEL_4d9bce5ace4440c99cf47c345cf06c32",
      "value": 81
     }
    },
    "dc7c5e9a8b8d4a80a5d689905832bd4e": {
     "model_module": "@jupyter-widgets/base",
     "model_module_version": "1.2.0",
     "model_name": "LayoutModel",
     "state": {
      "_model_module": "@jupyter-widgets/base",
      "_model_module_version": "1.2.0",
      "_model_name": "LayoutModel",
      "_view_count": null,
      "_view_module": "@jupyter-widgets/base",
      "_view_module_version": "1.2.0",
      "_view_name": "LayoutView",
      "align_content": null,
      "align_items": null,
      "align_self": null,
      "border": null,
      "bottom": null,
      "display": null,
      "flex": null,
      "flex_flow": null,
      "grid_area": null,
      "grid_auto_columns": null,
      "grid_auto_flow": null,
      "grid_auto_rows": null,
      "grid_column": null,
      "grid_gap": null,
      "grid_row": null,
      "grid_template_areas": null,
      "grid_template_columns": null,
      "grid_template_rows": null,
      "height": null,
      "justify_content": null,
      "justify_items": null,
      "left": null,
      "margin": null,
      "max_height": null,
      "max_width": null,
      "min_height": null,
      "min_width": null,
      "object_fit": null,
      "object_position": null,
      "order": null,
      "overflow": null,
      "overflow_x": null,
      "overflow_y": null,
      "padding": null,
      "right": null,
      "top": null,
      "visibility": null,
      "width": null
     }
    },
    "dca238dbb7894b0ab9329a0b04009fd6": {
     "model_module": "@jupyter-widgets/controls",
     "model_module_version": "1.5.0",
     "model_name": "ProgressStyleModel",
     "state": {
      "_model_module": "@jupyter-widgets/controls",
      "_model_module_version": "1.5.0",
      "_model_name": "ProgressStyleModel",
      "_view_count": null,
      "_view_module": "@jupyter-widgets/base",
      "_view_module_version": "1.2.0",
      "_view_name": "StyleView",
      "bar_color": null,
      "description_width": ""
     }
    },
    "dca40d3f90e6454e80d57c4121598879": {
     "model_module": "@jupyter-widgets/controls",
     "model_module_version": "1.5.0",
     "model_name": "DescriptionStyleModel",
     "state": {
      "_model_module": "@jupyter-widgets/controls",
      "_model_module_version": "1.5.0",
      "_model_name": "DescriptionStyleModel",
      "_view_count": null,
      "_view_module": "@jupyter-widgets/base",
      "_view_module_version": "1.2.0",
      "_view_name": "StyleView",
      "description_width": ""
     }
    },
    "dd4ebd8a213e4fbb8cb3c790d2cb589e": {
     "model_module": "@jupyter-widgets/controls",
     "model_module_version": "1.5.0",
     "model_name": "HBoxModel",
     "state": {
      "_dom_classes": [],
      "_model_module": "@jupyter-widgets/controls",
      "_model_module_version": "1.5.0",
      "_model_name": "HBoxModel",
      "_view_count": null,
      "_view_module": "@jupyter-widgets/controls",
      "_view_module_version": "1.5.0",
      "_view_name": "HBoxView",
      "box_style": "",
      "children": [
       "IPY_MODEL_535216fafe1d4112a72b7d69b774b0b5",
       "IPY_MODEL_67a7c4364bf546199473c486292377e9",
       "IPY_MODEL_8d75bccfafac4c7b9c3358b7df005f0e"
      ],
      "layout": "IPY_MODEL_733f8f5ddf3a42439714fb0f36b4ee0c"
     }
    },
    "de28f68742fd4e7a9334ef549d115f18": {
     "model_module": "@jupyter-widgets/base",
     "model_module_version": "1.2.0",
     "model_name": "LayoutModel",
     "state": {
      "_model_module": "@jupyter-widgets/base",
      "_model_module_version": "1.2.0",
      "_model_name": "LayoutModel",
      "_view_count": null,
      "_view_module": "@jupyter-widgets/base",
      "_view_module_version": "1.2.0",
      "_view_name": "LayoutView",
      "align_content": null,
      "align_items": null,
      "align_self": null,
      "border": null,
      "bottom": null,
      "display": null,
      "flex": null,
      "flex_flow": null,
      "grid_area": null,
      "grid_auto_columns": null,
      "grid_auto_flow": null,
      "grid_auto_rows": null,
      "grid_column": null,
      "grid_gap": null,
      "grid_row": null,
      "grid_template_areas": null,
      "grid_template_columns": null,
      "grid_template_rows": null,
      "height": null,
      "justify_content": null,
      "justify_items": null,
      "left": null,
      "margin": null,
      "max_height": null,
      "max_width": null,
      "min_height": null,
      "min_width": null,
      "object_fit": null,
      "object_position": null,
      "order": null,
      "overflow": null,
      "overflow_x": null,
      "overflow_y": null,
      "padding": null,
      "right": null,
      "top": null,
      "visibility": null,
      "width": null
     }
    },
    "defc10751f3b4e83bfd893d3ed5a3d7e": {
     "model_module": "@jupyter-widgets/controls",
     "model_module_version": "1.5.0",
     "model_name": "FloatProgressModel",
     "state": {
      "_dom_classes": [],
      "_model_module": "@jupyter-widgets/controls",
      "_model_module_version": "1.5.0",
      "_model_name": "FloatProgressModel",
      "_view_count": null,
      "_view_module": "@jupyter-widgets/controls",
      "_view_module_version": "1.5.0",
      "_view_name": "ProgressView",
      "bar_style": "success",
      "description": "",
      "description_tooltip": null,
      "layout": "IPY_MODEL_7d62117aeeda42f9b979fa5667270907",
      "max": 1278,
      "min": 0,
      "orientation": "horizontal",
      "style": "IPY_MODEL_4faa760e1911476a9017f55d4ac3215f",
      "value": 1278
     }
    },
    "df6030b2581848d7a16891d3c6143d25": {
     "model_module": "@jupyter-widgets/base",
     "model_module_version": "1.2.0",
     "model_name": "LayoutModel",
     "state": {
      "_model_module": "@jupyter-widgets/base",
      "_model_module_version": "1.2.0",
      "_model_name": "LayoutModel",
      "_view_count": null,
      "_view_module": "@jupyter-widgets/base",
      "_view_module_version": "1.2.0",
      "_view_name": "LayoutView",
      "align_content": null,
      "align_items": null,
      "align_self": null,
      "border": null,
      "bottom": null,
      "display": null,
      "flex": null,
      "flex_flow": null,
      "grid_area": null,
      "grid_auto_columns": null,
      "grid_auto_flow": null,
      "grid_auto_rows": null,
      "grid_column": null,
      "grid_gap": null,
      "grid_row": null,
      "grid_template_areas": null,
      "grid_template_columns": null,
      "grid_template_rows": null,
      "height": null,
      "justify_content": null,
      "justify_items": null,
      "left": null,
      "margin": null,
      "max_height": null,
      "max_width": null,
      "min_height": null,
      "min_width": null,
      "object_fit": null,
      "object_position": null,
      "order": null,
      "overflow": null,
      "overflow_x": null,
      "overflow_y": null,
      "padding": null,
      "right": null,
      "top": null,
      "visibility": null,
      "width": null
     }
    },
    "e2d9ef16fd18489aaba051382a7e401d": {
     "model_module": "@jupyter-widgets/controls",
     "model_module_version": "1.5.0",
     "model_name": "FloatProgressModel",
     "state": {
      "_dom_classes": [],
      "_model_module": "@jupyter-widgets/controls",
      "_model_module_version": "1.5.0",
      "_model_name": "FloatProgressModel",
      "_view_count": null,
      "_view_module": "@jupyter-widgets/controls",
      "_view_module_version": "1.5.0",
      "_view_name": "ProgressView",
      "bar_style": "success",
      "description": "",
      "description_tooltip": null,
      "layout": "IPY_MODEL_de28f68742fd4e7a9334ef549d115f18",
      "max": 42778874,
      "min": 0,
      "orientation": "horizontal",
      "style": "IPY_MODEL_e48801f5be6a4b03b6dabc2e3bd5a1e5",
      "value": 42778874
     }
    },
    "e48801f5be6a4b03b6dabc2e3bd5a1e5": {
     "model_module": "@jupyter-widgets/controls",
     "model_module_version": "1.5.0",
     "model_name": "ProgressStyleModel",
     "state": {
      "_model_module": "@jupyter-widgets/controls",
      "_model_module_version": "1.5.0",
      "_model_name": "ProgressStyleModel",
      "_view_count": null,
      "_view_module": "@jupyter-widgets/base",
      "_view_module_version": "1.2.0",
      "_view_name": "StyleView",
      "bar_color": null,
      "description_width": ""
     }
    },
    "e67f46df38b1487695ac09112432c3ec": {
     "model_module": "@jupyter-widgets/controls",
     "model_module_version": "1.5.0",
     "model_name": "HTMLModel",
     "state": {
      "_dom_classes": [],
      "_model_module": "@jupyter-widgets/controls",
      "_model_module_version": "1.5.0",
      "_model_name": "HTMLModel",
      "_view_count": null,
      "_view_module": "@jupyter-widgets/controls",
      "_view_module_version": "1.5.0",
      "_view_name": "HTMLView",
      "description": "",
      "description_tooltip": null,
      "layout": "IPY_MODEL_df6030b2581848d7a16891d3c6143d25",
      "placeholder": "​",
      "style": "IPY_MODEL_33542db6eaa94fbfbe83ef5284405fa5",
      "value": " 42.8M/42.8M [00:00&lt;00:00, 42.8MB/s]"
     }
    },
    "e690654818574988b8152616283ab8be": {
     "model_module": "@jupyter-widgets/base",
     "model_module_version": "1.2.0",
     "model_name": "LayoutModel",
     "state": {
      "_model_module": "@jupyter-widgets/base",
      "_model_module_version": "1.2.0",
      "_model_name": "LayoutModel",
      "_view_count": null,
      "_view_module": "@jupyter-widgets/base",
      "_view_module_version": "1.2.0",
      "_view_name": "LayoutView",
      "align_content": null,
      "align_items": null,
      "align_self": null,
      "border": null,
      "bottom": null,
      "display": null,
      "flex": null,
      "flex_flow": null,
      "grid_area": null,
      "grid_auto_columns": null,
      "grid_auto_flow": null,
      "grid_auto_rows": null,
      "grid_column": null,
      "grid_gap": null,
      "grid_row": null,
      "grid_template_areas": null,
      "grid_template_columns": null,
      "grid_template_rows": null,
      "height": null,
      "justify_content": null,
      "justify_items": null,
      "left": null,
      "margin": null,
      "max_height": null,
      "max_width": null,
      "min_height": null,
      "min_width": null,
      "object_fit": null,
      "object_position": null,
      "order": null,
      "overflow": null,
      "overflow_x": null,
      "overflow_y": null,
      "padding": null,
      "right": null,
      "top": null,
      "visibility": null,
      "width": null
     }
    },
    "e6f9ed2642d54db2b4ff7c2d82562007": {
     "model_module": "@jupyter-widgets/base",
     "model_module_version": "1.2.0",
     "model_name": "LayoutModel",
     "state": {
      "_model_module": "@jupyter-widgets/base",
      "_model_module_version": "1.2.0",
      "_model_name": "LayoutModel",
      "_view_count": null,
      "_view_module": "@jupyter-widgets/base",
      "_view_module_version": "1.2.0",
      "_view_name": "LayoutView",
      "align_content": null,
      "align_items": null,
      "align_self": null,
      "border": null,
      "bottom": null,
      "display": null,
      "flex": null,
      "flex_flow": null,
      "grid_area": null,
      "grid_auto_columns": null,
      "grid_auto_flow": null,
      "grid_auto_rows": null,
      "grid_column": null,
      "grid_gap": null,
      "grid_row": null,
      "grid_template_areas": null,
      "grid_template_columns": null,
      "grid_template_rows": null,
      "height": null,
      "justify_content": null,
      "justify_items": null,
      "left": null,
      "margin": null,
      "max_height": null,
      "max_width": null,
      "min_height": null,
      "min_width": null,
      "object_fit": null,
      "object_position": null,
      "order": null,
      "overflow": null,
      "overflow_x": null,
      "overflow_y": null,
      "padding": null,
      "right": null,
      "top": null,
      "visibility": null,
      "width": null
     }
    },
    "e8b18ef7a9174160a64af17470d1e4e3": {
     "model_module": "@jupyter-widgets/controls",
     "model_module_version": "1.5.0",
     "model_name": "ProgressStyleModel",
     "state": {
      "_model_module": "@jupyter-widgets/controls",
      "_model_module_version": "1.5.0",
      "_model_name": "ProgressStyleModel",
      "_view_count": null,
      "_view_module": "@jupyter-widgets/base",
      "_view_module_version": "1.2.0",
      "_view_name": "StyleView",
      "bar_color": null,
      "description_width": ""
     }
    },
    "ea37df6ce4a7446b947a3a6fc57dce85": {
     "model_module": "@jupyter-widgets/base",
     "model_module_version": "1.2.0",
     "model_name": "LayoutModel",
     "state": {
      "_model_module": "@jupyter-widgets/base",
      "_model_module_version": "1.2.0",
      "_model_name": "LayoutModel",
      "_view_count": null,
      "_view_module": "@jupyter-widgets/base",
      "_view_module_version": "1.2.0",
      "_view_name": "LayoutView",
      "align_content": null,
      "align_items": null,
      "align_self": null,
      "border": null,
      "bottom": null,
      "display": null,
      "flex": null,
      "flex_flow": null,
      "grid_area": null,
      "grid_auto_columns": null,
      "grid_auto_flow": null,
      "grid_auto_rows": null,
      "grid_column": null,
      "grid_gap": null,
      "grid_row": null,
      "grid_template_areas": null,
      "grid_template_columns": null,
      "grid_template_rows": null,
      "height": null,
      "justify_content": null,
      "justify_items": null,
      "left": null,
      "margin": null,
      "max_height": null,
      "max_width": null,
      "min_height": null,
      "min_width": null,
      "object_fit": null,
      "object_position": null,
      "order": null,
      "overflow": null,
      "overflow_x": null,
      "overflow_y": null,
      "padding": null,
      "right": null,
      "top": null,
      "visibility": null,
      "width": null
     }
    },
    "ed12077191a6459284fc48e7640f575c": {
     "model_module": "@jupyter-widgets/controls",
     "model_module_version": "1.5.0",
     "model_name": "DescriptionStyleModel",
     "state": {
      "_model_module": "@jupyter-widgets/controls",
      "_model_module_version": "1.5.0",
      "_model_name": "DescriptionStyleModel",
      "_view_count": null,
      "_view_module": "@jupyter-widgets/base",
      "_view_module_version": "1.2.0",
      "_view_name": "StyleView",
      "description_width": ""
     }
    },
    "edd73a7d5acd40a6943778f5f61e5115": {
     "model_module": "@jupyter-widgets/controls",
     "model_module_version": "1.5.0",
     "model_name": "DescriptionStyleModel",
     "state": {
      "_model_module": "@jupyter-widgets/controls",
      "_model_module_version": "1.5.0",
      "_model_name": "DescriptionStyleModel",
      "_view_count": null,
      "_view_module": "@jupyter-widgets/base",
      "_view_module_version": "1.2.0",
      "_view_name": "StyleView",
      "description_width": ""
     }
    },
    "f15f9b9009674abaa8b8098a8f4c027b": {
     "model_module": "@jupyter-widgets/base",
     "model_module_version": "1.2.0",
     "model_name": "LayoutModel",
     "state": {
      "_model_module": "@jupyter-widgets/base",
      "_model_module_version": "1.2.0",
      "_model_name": "LayoutModel",
      "_view_count": null,
      "_view_module": "@jupyter-widgets/base",
      "_view_module_version": "1.2.0",
      "_view_name": "LayoutView",
      "align_content": null,
      "align_items": null,
      "align_self": null,
      "border": null,
      "bottom": null,
      "display": null,
      "flex": null,
      "flex_flow": null,
      "grid_area": null,
      "grid_auto_columns": null,
      "grid_auto_flow": null,
      "grid_auto_rows": null,
      "grid_column": null,
      "grid_gap": null,
      "grid_row": null,
      "grid_template_areas": null,
      "grid_template_columns": null,
      "grid_template_rows": null,
      "height": null,
      "justify_content": null,
      "justify_items": null,
      "left": null,
      "margin": null,
      "max_height": null,
      "max_width": null,
      "min_height": null,
      "min_width": null,
      "object_fit": null,
      "object_position": null,
      "order": null,
      "overflow": null,
      "overflow_x": null,
      "overflow_y": null,
      "padding": null,
      "right": null,
      "top": null,
      "visibility": null,
      "width": null
     }
    },
    "f2837001ebc84d99be5675215ee2217f": {
     "model_module": "@jupyter-widgets/controls",
     "model_module_version": "1.5.0",
     "model_name": "FloatProgressModel",
     "state": {
      "_dom_classes": [],
      "_model_module": "@jupyter-widgets/controls",
      "_model_module_version": "1.5.0",
      "_model_name": "FloatProgressModel",
      "_view_count": null,
      "_view_module": "@jupyter-widgets/controls",
      "_view_module_version": "1.5.0",
      "_view_name": "ProgressView",
      "bar_style": "success",
      "description": "",
      "description_tooltip": null,
      "layout": "IPY_MODEL_4d2eb635834145edb4a72e0168561331",
      "max": 283,
      "min": 0,
      "orientation": "horizontal",
      "style": "IPY_MODEL_2b08db436a9349518a56c916de347832",
      "value": 283
     }
    },
    "f45225444d8a426b8dd01c6e2e175b7d": {
     "model_module": "@jupyter-widgets/base",
     "model_module_version": "1.2.0",
     "model_name": "LayoutModel",
     "state": {
      "_model_module": "@jupyter-widgets/base",
      "_model_module_version": "1.2.0",
      "_model_name": "LayoutModel",
      "_view_count": null,
      "_view_module": "@jupyter-widgets/base",
      "_view_module_version": "1.2.0",
      "_view_name": "LayoutView",
      "align_content": null,
      "align_items": null,
      "align_self": null,
      "border": null,
      "bottom": null,
      "display": null,
      "flex": null,
      "flex_flow": null,
      "grid_area": null,
      "grid_auto_columns": null,
      "grid_auto_flow": null,
      "grid_auto_rows": null,
      "grid_column": null,
      "grid_gap": null,
      "grid_row": null,
      "grid_template_areas": null,
      "grid_template_columns": null,
      "grid_template_rows": null,
      "height": null,
      "justify_content": null,
      "justify_items": null,
      "left": null,
      "margin": null,
      "max_height": null,
      "max_width": null,
      "min_height": null,
      "min_width": null,
      "object_fit": null,
      "object_position": null,
      "order": null,
      "overflow": null,
      "overflow_x": null,
      "overflow_y": null,
      "padding": null,
      "right": null,
      "top": null,
      "visibility": null,
      "width": null
     }
    },
    "f482611349924bc6ad7524f5f112aeb7": {
     "model_module": "@jupyter-widgets/base",
     "model_module_version": "1.2.0",
     "model_name": "LayoutModel",
     "state": {
      "_model_module": "@jupyter-widgets/base",
      "_model_module_version": "1.2.0",
      "_model_name": "LayoutModel",
      "_view_count": null,
      "_view_module": "@jupyter-widgets/base",
      "_view_module_version": "1.2.0",
      "_view_name": "LayoutView",
      "align_content": null,
      "align_items": null,
      "align_self": null,
      "border": null,
      "bottom": null,
      "display": null,
      "flex": null,
      "flex_flow": null,
      "grid_area": null,
      "grid_auto_columns": null,
      "grid_auto_flow": null,
      "grid_auto_rows": null,
      "grid_column": null,
      "grid_gap": null,
      "grid_row": null,
      "grid_template_areas": null,
      "grid_template_columns": null,
      "grid_template_rows": null,
      "height": null,
      "justify_content": null,
      "justify_items": null,
      "left": null,
      "margin": null,
      "max_height": null,
      "max_width": null,
      "min_height": null,
      "min_width": null,
      "object_fit": null,
      "object_position": null,
      "order": null,
      "overflow": null,
      "overflow_x": null,
      "overflow_y": null,
      "padding": null,
      "right": null,
      "top": null,
      "visibility": null,
      "width": null
     }
    },
    "f54e3b4c955348f987e221ba8d2c424c": {
     "model_module": "@jupyter-widgets/controls",
     "model_module_version": "1.5.0",
     "model_name": "HTMLModel",
     "state": {
      "_dom_classes": [],
      "_model_module": "@jupyter-widgets/controls",
      "_model_module_version": "1.5.0",
      "_model_name": "HTMLModel",
      "_view_count": null,
      "_view_module": "@jupyter-widgets/controls",
      "_view_module_version": "1.5.0",
      "_view_name": "HTMLView",
      "description": "",
      "description_tooltip": null,
      "layout": "IPY_MODEL_7722701967f3443788a9f4e6181f3d76",
      "placeholder": "​",
      "style": "IPY_MODEL_ed12077191a6459284fc48e7640f575c",
      "value": " 754/754 [00:00&lt;00:00, 64.4kB/s]"
     }
    },
    "f5535c57b00041d581c4b5c1f9a53207": {
     "model_module": "@jupyter-widgets/base",
     "model_module_version": "1.2.0",
     "model_name": "LayoutModel",
     "state": {
      "_model_module": "@jupyter-widgets/base",
      "_model_module_version": "1.2.0",
      "_model_name": "LayoutModel",
      "_view_count": null,
      "_view_module": "@jupyter-widgets/base",
      "_view_module_version": "1.2.0",
      "_view_name": "LayoutView",
      "align_content": null,
      "align_items": null,
      "align_self": null,
      "border": null,
      "bottom": null,
      "display": null,
      "flex": null,
      "flex_flow": null,
      "grid_area": null,
      "grid_auto_columns": null,
      "grid_auto_flow": null,
      "grid_auto_rows": null,
      "grid_column": null,
      "grid_gap": null,
      "grid_row": null,
      "grid_template_areas": null,
      "grid_template_columns": null,
      "grid_template_rows": null,
      "height": null,
      "justify_content": null,
      "justify_items": null,
      "left": null,
      "margin": null,
      "max_height": null,
      "max_width": null,
      "min_height": null,
      "min_width": null,
      "object_fit": null,
      "object_position": null,
      "order": null,
      "overflow": null,
      "overflow_x": null,
      "overflow_y": null,
      "padding": null,
      "right": null,
      "top": null,
      "visibility": null,
      "width": null
     }
    },
    "f6c161de2cde4916b7621730cf9e6549": {
     "model_module": "@jupyter-widgets/controls",
     "model_module_version": "1.5.0",
     "model_name": "HBoxModel",
     "state": {
      "_dom_classes": [],
      "_model_module": "@jupyter-widgets/controls",
      "_model_module_version": "1.5.0",
      "_model_name": "HBoxModel",
      "_view_count": null,
      "_view_module": "@jupyter-widgets/controls",
      "_view_module_version": "1.5.0",
      "_view_name": "HBoxView",
      "box_style": "",
      "children": [
       "IPY_MODEL_6d53f44682d24906b12891e6ed13a1e4",
       "IPY_MODEL_db7a99e45e054a6781e3214214c8acbf",
       "IPY_MODEL_a4f694f5f1d445ed89aa78016392f447"
      ],
      "layout": "IPY_MODEL_2f51ca12b8504ed0aa3f64e98e3a01b2"
     }
    },
    "fa99fc7e67e241448a6ddfb2733d9de7": {
     "model_module": "@jupyter-widgets/controls",
     "model_module_version": "1.5.0",
     "model_name": "DescriptionStyleModel",
     "state": {
      "_model_module": "@jupyter-widgets/controls",
      "_model_module_version": "1.5.0",
      "_model_name": "DescriptionStyleModel",
      "_view_count": null,
      "_view_module": "@jupyter-widgets/base",
      "_view_module_version": "1.2.0",
      "_view_name": "StyleView",
      "description_width": ""
     }
    },
    "ff7871c3a6e5447cb9275a3c5b4e5528": {
     "model_module": "@jupyter-widgets/controls",
     "model_module_version": "1.5.0",
     "model_name": "ProgressStyleModel",
     "state": {
      "_model_module": "@jupyter-widgets/controls",
      "_model_module_version": "1.5.0",
      "_model_name": "ProgressStyleModel",
      "_view_count": null,
      "_view_module": "@jupyter-widgets/base",
      "_view_module_version": "1.2.0",
      "_view_name": "StyleView",
      "bar_color": null,
      "description_width": ""
     }
    }
   }
  }
 },
 "nbformat": 4,
 "nbformat_minor": 0
}
