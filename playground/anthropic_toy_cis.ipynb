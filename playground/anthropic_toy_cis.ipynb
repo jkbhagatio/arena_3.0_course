{
 "cells": [
  {
   "cell_type": "markdown",
   "metadata": {},
   "source": [
    "Model is single hidden layer: x -> n_h -> y  (size of x and y is equal)\n",
    "\n",
    "W1 = (n_h, x), W2 = (y, n_h)\n",
    "x = 3 features (should be able to vary this)\n",
    "y = abs(x) \n",
    "n_h = 2 neurons (should be able to vary this)\n",
    "loss = MSE\n",
    "\n",
    "- Vary the activation function used in each layer (e.g. ReLU or identity, by default, ReLU)\n",
    "\n",
    "- Vary the bias value used in each layer (all equal or specific values)\n",
    "\n",
    "- Vary the feature sparsity (all equal or specific values (e.g. function of index))\n",
    "\n",
    "- Vary the feature importance (all equal or specific values (e.g. function of index))\n",
    "\n",
    "- Vary the loss fn\n",
    "\n",
    "- Optional: Vary optimizer and lr schedule"
   ]
  },
  {
   "cell_type": "code",
   "execution_count": 2,
   "metadata": {},
   "outputs": [
    {
     "name": "stdout",
     "output_type": "stream",
     "text": [
      "The autoreload extension is already loaded. To reload it, use:\n",
      "  %reload_ext autoreload\n"
     ]
    }
   ],
   "source": [
    "\"\"\"Notebook settings and imports.\"\"\"\n",
    "\n",
    "%load_ext autoreload\n",
    "%autoreload 2\n",
    "# %flow mode reactive\n",
    "\n",
    "import os\n",
    "\n",
    "from dataclasses import dataclass, field\n",
    "from typing import Callable, List, Optional, Tuple, Union\n",
    "\n",
    "import numpy as np\n",
    "import torch as t\n",
    "\n",
    "from einops import asnumpy, einsum, rearrange, reduce, repeat, pack, parse_shape, unpack\n",
    "from einops.layers.torch import Rearrange, Reduce\n",
    "from jaxtyping import Float, Int\n",
    "from matplotlib import pyplot as plt\n",
    "from plotly import express as px\n",
    "from plotly import graph_objects as go\n",
    "from plotly import io as pio\n",
    "from rich import print as rprint\n",
    "from torch import nn, optim\n",
    "from torch.nn import functional as F\n",
    "from tqdm.notebook import tqdm"
   ]
  },
  {
   "cell_type": "code",
   "execution_count": 61,
   "metadata": {},
   "outputs": [],
   "source": [
    "@dataclass\n",
    "class CisConfig:\n",
    "    n_instances: int = 2\n",
    "    n_feat: int = 2\n",
    "    n_hidden: int = 4\n",
    "    act_fn: List[Callable] = field(default_factory=lambda: [F.relu, F.relu])\n",
    "    b1: str | Float[t.Tensor, \"inst hid\"] = field(default_factory=lambda: \"0\")\n",
    "    b2: str | Float[t.Tensor, \"inst hid\"] = field(default_factory=lambda: \"0\")\n",
    "    feat_sparsity: float| t.Tensor = 0\n",
    "    feat_importance: float | t.Tensor = 1.0\n",
    "    optimizer: Callable = t.optim.Adam\n",
    "\n",
    "    def __post_init__(self):\n",
    "        \"\"\"Ensure attribute values are valid.\"\"\"\n",
    "        pass"
   ]
  },
  {
   "cell_type": "code",
   "execution_count": 70,
   "metadata": {},
   "outputs": [],
   "source": [
    "class Cis(nn.Module):\n",
    "    \"\"\"Computation in Superposition toy model.\"\"\"\n",
    "\n",
    "    # Some attribute type hints\n",
    "    W1: Float[t.Tensor, \"inst feat hid\"]\n",
    "    W2: Float[t.Tensor, \"inst hid feat\"]\n",
    "    b1: Float[t.Tensor, \"inst hid\"]\n",
    "    b2: Float[t.Tensor, \"inst feat\"]\n",
    "    s: Float[t.Tensor, \"inst feat\"]  # feature sparsity\n",
    "    i: Float[t.Tensor, \"inst feat\"]  # feature importance\n",
    "\n",
    "\n",
    "    def __init__(self, cfg: CisConfig):\n",
    "        \"\"\"Initializes model params.\"\"\"\n",
    "        super().__init__()\n",
    "        self.cfg = cfg\n",
    "\n",
    "        # Model Weights\n",
    "        self.W1 = nn.Parameter(nn.init.xavier_normal_(t.empty(cfg.n_instances, cfg.n_feat, cfg.n_hidden)))\n",
    "        self.W2 = nn.Parameter(nn.init.xavier_normal_(t.empty(cfg.n_instances, cfg.n_hidden, cfg.n_feat)))\n",
    "\n",
    "        # Model Biases\n",
    "        # self.b1 = nn.Parameter(t.zeros(cfg.n_instances, cfg.n_hidden)) if cfg.b1 == \"0\" else cfg.b1\n",
    "        self.b1 = t.zeros(cfg.n_instances, cfg.n_hidden) if cfg.b1 == \"0\" else cfg.b1\n",
    "        self.b2 = nn.Parameter(t.zeros(cfg.n_instances, cfg.n_feat)) if cfg.b2 == \"0\" else cfg.b2\n",
    "\n",
    "        # Sparsities\n",
    "        if isinstance(cfg.feat_sparsity, float):\n",
    "            self.s = t.full((cfg.n_instances, cfg.n_feat), cfg.feat_sparsity)\n",
    "        else:\n",
    "            self.s = cfg.feat_sparsity\n",
    "\n",
    "        # Importances\n",
    "        if isinstance(self.cfg.feat_importance, float):\n",
    "            self.i = t.full((self.cfg.n_feat,), self.cfg.feat_importance)\n",
    "        elif callable(self.cfg.feat_importance):\n",
    "            self.i = cfg.feat_importance\n",
    "\n",
    "\n",
    "    def gen_batch(self, batch_sz: int) -> Float[t.Tensor, \"batch inst feat\"]:\n",
    "        \"\"\"Generates a batch of data (sparse feature vals on [-1, 1]).\"\"\"\n",
    "\n",
    "        # Randomly generate features vals, and for each, randomly determine which samples are non-zero\n",
    "        x = t.rand(batch_sz, self.cfg.n_instances, self.cfg.n_feat) * 2 - 1  # [-1, 1]\n",
    "        is_active = t.rand(batch_sz, self.cfg.n_instances, self.cfg.n_feat) < (1 - self.s)\n",
    "        \n",
    "        return x * is_active\n",
    "\n",
    "\n",
    "    def forward(\n",
    "        self, x: Float[t.Tensor, \"batch inst feat\"], fx: Callable = t.abs\n",
    "    ) -> Float[t.Tensor, \"\"]:\n",
    "        \"\"\"Runs a forward pass through model returning the loss.\"\"\"\n",
    "\n",
    "        # Hidden layer\n",
    "        h = einsum(x, self.W1, \"batch inst feat, inst feat hid -> batch inst hid\")\n",
    "        h = self.cfg.act_fn[0](h + self.b1)\n",
    "\n",
    "        # Output layer\n",
    "        y = einsum(h, self.W2, \"batch inst hid, inst hid feat -> batch inst feat\")\n",
    "        y = self.cfg.act_fn[1](y + self.b2)\n",
    "\n",
    "        # Compute weighted MSE loss\n",
    "        y_true = fx(x)\n",
    "        loss = reduce(((y - y_true) ** 2 * self.i), \"batch inst feat -> \", \"mean\")\n",
    "\n",
    "        return loss\n",
    "\n",
    "\n",
    "    def optimize(\n",
    "        self, optimizer: t.optim.Optimizer, batch_sz: int, steps: int, logging_freq: int\n",
    "    ):\n",
    "        \"\"\"Optimizes the model.\"\"\"\n",
    "\n",
    "        losses = []\n",
    "        pbar = tqdm(range(steps), desc=\"Training\")\n",
    "\n",
    "        for step in pbar:\n",
    "            x = self.gen_batch(batch_sz)\n",
    "            loss = self.forward(x)\n",
    "            optimizer.zero_grad()\n",
    "            loss.backward()\n",
    "            optimizer.step()\n",
    "            # Log progress\n",
    "            if step % logging_freq == 0 or (step + 1 == steps):\n",
    "                losses.append(loss.item())\n",
    "                pbar.set_postfix({\"loss\": f\"{loss.item():.4f}\"})\n",
    "\n",
    "        return losses"
   ]
  },
  {
   "cell_type": "code",
   "execution_count": null,
   "metadata": {},
   "outputs": [],
   "source": []
  },
  {
   "cell_type": "code",
   "execution_count": 99,
   "metadata": {},
   "outputs": [],
   "source": [
    "config = CisConfig(n_instances=1, n_feat=3, n_hidden=6, feat_sparsity=0, feat_importance=1.0)"
   ]
  },
  {
   "cell_type": "code",
   "execution_count": 100,
   "metadata": {},
   "outputs": [],
   "source": [
    "model = Cis(config)"
   ]
  },
  {
   "cell_type": "code",
   "execution_count": 101,
   "metadata": {},
   "outputs": [
    {
     "data": {
      "application/vnd.jupyter.widget-view+json": {
       "model_id": "4ae69344346b4c0b9eb3b2d37ca7778b",
       "version_major": 2,
       "version_minor": 0
      },
      "text/plain": [
       "Training:   0%|          | 0/5000 [00:00<?, ?it/s]"
      ]
     },
     "metadata": {},
     "output_type": "display_data"
    },
    {
     "data": {
      "text/plain": [
       "[0.33576270937919617,\n",
       " 0.06316550821065903,\n",
       " 0.028050122782588005,\n",
       " 0.0024157902225852013,\n",
       " 0.0004883696092292666,\n",
       " 6.413614755729213e-05,\n",
       " 6.53607412459678e-06,\n",
       " 3.1265510642697336e-06,\n",
       " 2.5135636860795785e-07,\n",
       " 9.928488680088776e-07,\n",
       " 2.62755275315385e-08]"
      ]
     },
     "execution_count": 101,
     "metadata": {},
     "output_type": "execute_result"
    }
   ],
   "source": [
    "batch_sz = 128\n",
    "steps = 5000\n",
    "logging_freq = steps // 10\n",
    "\n",
    "model.optimize(t.optim.Adam(model.parameters()), batch_sz, steps, logging_freq)"
   ]
  },
  {
   "cell_type": "code",
   "execution_count": 102,
   "metadata": {},
   "outputs": [
    {
     "data": {
      "text/plain": [
       "Parameter containing:\n",
       "tensor([[[ 1.0469, -0.0106, -0.8279, -0.0021, -0.0026, -0.0107],\n",
       "         [-0.0100, -0.0017, -0.0079, -1.1026,  1.3598, -0.0017],\n",
       "         [ 0.0028,  1.1591,  0.0022,  0.0217,  0.0267, -1.1735]]],\n",
       "       requires_grad=True)"
      ]
     },
     "execution_count": 102,
     "metadata": {},
     "output_type": "execute_result"
    }
   ],
   "source": [
    "model.W1"
   ]
  },
  {
   "cell_type": "code",
   "execution_count": 103,
   "metadata": {},
   "outputs": [
    {
     "data": {
      "text/plain": [
       "Parameter containing:\n",
       "tensor([[[ 9.5527e-01,  1.7602e-03,  8.7130e-03],\n",
       "         [-2.2676e-03, -1.7184e-02,  8.6281e-01],\n",
       "         [ 1.2080e+00, -2.2295e-03, -1.1111e-02],\n",
       "         [-8.7021e-03,  9.0732e-01, -1.3165e-03],\n",
       "         [ 7.0212e-03,  7.3574e-01,  1.0730e-03],\n",
       "         [ 2.2604e-03,  1.6757e-02,  8.5224e-01]]], requires_grad=True)"
      ]
     },
     "execution_count": 103,
     "metadata": {},
     "output_type": "execute_result"
    }
   ],
   "source": [
    "model.W2"
   ]
  },
  {
   "cell_type": "code",
   "execution_count": 68,
   "metadata": {},
   "outputs": [
    {
     "data": {
      "text/plain": [
       "Parameter containing:\n",
       "tensor([[-1.1866e-04,  5.7883e-01, -1.6888e-02, -1.4789e-02]],\n",
       "       requires_grad=True)"
      ]
     },
     "execution_count": 68,
     "metadata": {},
     "output_type": "execute_result"
    }
   ],
   "source": [
    "model.b1"
   ]
  },
  {
   "cell_type": "code",
   "execution_count": 69,
   "metadata": {},
   "outputs": [
    {
     "data": {
      "text/plain": [
       "Parameter containing:\n",
       "tensor([[0.9745, 0.0626]], requires_grad=True)"
      ]
     },
     "execution_count": 69,
     "metadata": {},
     "output_type": "execute_result"
    }
   ],
   "source": [
    "model.b2"
   ]
  },
  {
   "cell_type": "code",
   "execution_count": 73,
   "metadata": {},
   "outputs": [
    {
     "name": "stdout",
     "output_type": "stream",
     "text": [
      "Model parameters: ['W1', 'W2', 'b2']\n"
     ]
    }
   ],
   "source": [
    "print(\"Model parameters:\", [name for name, _ in model.named_parameters()])"
   ]
  },
  {
   "cell_type": "code",
   "execution_count": null,
   "metadata": {},
   "outputs": [],
   "source": []
  }
 ],
 "metadata": {
  "kernelspec": {
   "display_name": "arena_3.0_gpu_jax",
   "language": "python",
   "name": "python3"
  },
  "language_info": {
   "codemirror_mode": {
    "name": "ipython",
    "version": 3
   },
   "file_extension": ".py",
   "mimetype": "text/x-python",
   "name": "python",
   "nbconvert_exporter": "python",
   "pygments_lexer": "ipython3",
   "version": "3.12.7"
  }
 },
 "nbformat": 4,
 "nbformat_minor": 2
}
