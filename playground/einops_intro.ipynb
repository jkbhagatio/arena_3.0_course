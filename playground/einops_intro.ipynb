{
 "cells": [
  {
   "cell_type": "markdown",
   "metadata": {},
   "source": [
    "## References\n",
    "\n",
    "- https://einops.rocks\n",
    "- [einsum is all you need: aladdin persson video](https://www.youtube.com/watch?v=pkVwUVEHmfI)\n",
    "- [einsum is all you need: tim rocktaschel blog](https://rockt.ai/2018/04/30/einsum)"
   ]
  },
  {
   "cell_type": "markdown",
   "metadata": {},
   "source": [
    "## Einsum notation"
   ]
  },
  {
   "cell_type": "markdown",
   "metadata": {},
   "source": [
    "Einsum notation for each element in the output matrix, $C$ of shape [i, k], found from matrix multiplication of two matrices, $A$ of shape [i, j] and $B$ of shape [j, k], is defined as:\n",
    "\n",
    "$$\n",
    "C_{ik} = \\sum_{j} A_{i,j} B_{j,k}\n",
    "$$\n",
    "\n",
    "In code (einops), this can be written as:\n",
    "\n",
    "```python\n",
    "c = einops.einsum(a, b, \"i j, j k -> i k\")\n",
    "```\n",
    "\n",
    "where the matrices to be operated on are the first arguments (`a, b`), \n",
    "\n",
    "and the einsum string (`\"i j, j k -> i k\"`) is the last argument. \n",
    "\n",
    "The einsum string contains space-separated values (`\"i j\"` for `a`),\n",
    "\n",
    "where each value corresponds to a dimension (`\"i\"` for `a`'s rows and `\"j\"` for `a`'s columns) in the input matrices. \n",
    "\n",
    "The matrix arguments are comma-separated, and an arrow, `->` yields the space-separated dimensions of the output matrix (`\"i k\"`). Any dimension not specified in the output matrix (`\"j\"`) is summed over.\n",
    "\n",
    "Of course, this dimension (`\"j\"`) must be repeated and of equal size in the input matrices: we can't perform the summation required in matrix multiplication on unequal dimensions."
   ]
  },
  {
   "cell_type": "code",
   "execution_count": 1,
   "metadata": {},
   "outputs": [],
   "source": [
    "\"\"\"Imports.\"\"\"\n",
    "\n",
    "import einops\n",
    "import numpy as np\n",
    "import torch"
   ]
  },
  {
   "cell_type": "code",
   "execution_count": 9,
   "metadata": {},
   "outputs": [
    {
     "name": "stdout",
     "output_type": "stream",
     "text": [
      "tensor([[22, 28],\n",
      "        [49, 64]])\n"
     ]
    }
   ],
   "source": [
    "# Following the example above, let i=2, j=3, k=2\n",
    "\n",
    "a = torch.tensor([[1, 2, 3], [4, 5, 6]])\n",
    "b = torch.tensor([[1, 2], [3, 4], [5, 6]])\n",
    "c = einops.einsum(a, b, \"i j, j k -> i k\")\n",
    "print(c)"
   ]
  },
  {
   "cell_type": "code",
   "execution_count": null,
   "metadata": {},
   "outputs": [],
   "source": []
  }
 ],
 "metadata": {
  "kernelspec": {
   "display_name": "arena_3.0_gpu_jax",
   "language": "python",
   "name": "python3"
  },
  "language_info": {
   "codemirror_mode": {
    "name": "ipython",
    "version": 3
   },
   "file_extension": ".py",
   "mimetype": "text/x-python",
   "name": "python",
   "nbconvert_exporter": "python",
   "pygments_lexer": "ipython3",
   "version": "3.12.7"
  }
 },
 "nbformat": 4,
 "nbformat_minor": 2
}
