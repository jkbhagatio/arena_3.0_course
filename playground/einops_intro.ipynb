{
 "cells": [
  {
   "cell_type": "markdown",
   "metadata": {},
   "source": [
    "## References\n",
    "\n",
    "- https://einops.rocks\n",
    "- [einsum is all you need: aladdin persson video](https://www.youtube.com/watch?v=pkVwUVEHmfI)\n",
    "- [einsum is all you need: tim rocktaschel blog](https://rockt.ai/2018/04/30/einsum)"
   ]
  },
  {
   "cell_type": "markdown",
   "metadata": {},
   "source": [
    "## Einsum notation"
   ]
  },
  {
   "cell_type": "markdown",
   "metadata": {},
   "source": [
    "Einsum notation for each element in the output matrix, $C$ of shape [i, k], found from matrix multiplication of two matrices, $A$ of shape [i, j] and $B$ of shape [j, k], is defined as:\n",
    "\n",
    "$$\n",
    "C_{ik} = \\sum_{j} A_{i,j} B_{j,k}\n",
    "$$\n",
    "\n",
    "In code (einops), the entire matrix multiplication yielding the full matrix $C$ can be written as:\n",
    "\n",
    "```python\n",
    "c = einops.einsum(a, b, \"i j, j k -> i k\")\n",
    "```\n",
    "\n",
    "where the matrices to be operated on are the first arguments (`a, b`), \n",
    "\n",
    "and the einsum string (`\"i j, j k -> i k\"`) is the last argument. \n",
    "\n",
    "The einsum string contains space-separated values (`\"i j\"` for `a`),\n",
    "\n",
    "where each value corresponds to a dimension (`\"i\"` for `a`'s rows and `\"j\"` for `a`'s columns) in the input matrices. \n",
    "\n",
    "The matrix arguments are comma-separated, and an arrow, `->` yields the space-separated dimensions of the output matrix (`\"i k\"`). \n",
    "\n",
    "Key points to remember about the einsum string:\n",
    "\n",
    "- Shared dimensions in the input matrices (in the example above, `\"j\"`) means we match up and multiply the corresponding elements along these dimensions in the input matrices (obviously, each pair of these dimensions must be the same size).\n",
    "\n",
    "- Any dimensions not specified in the output matrix (in the example above, `\"j\"`) are summed over.\n",
    "\n",
    "- The output axes can be returned in any order (e.g. in the example above, we could have done `\"k i\"` instead of `\"i k\"`)."
   ]
  },
  {
   "cell_type": "code",
   "execution_count": 1,
   "metadata": {},
   "outputs": [],
   "source": [
    "\"\"\"Imports.\"\"\"\n",
    "\n",
    "import math\n",
    "import os\n",
    "from pathlib import Path\n",
    "\n",
    "import matplotlib.pyplot as plt\n",
    "import numpy as np\n",
    "import torch\n",
    "import torch.nn as nn\n",
    "import torch.nn.functional as F\n",
    "from einops import asnumpy, einsum, rearrange, reduce, repeat, pack, parse_shape, unpack\n",
    "from einops.layers.torch import Rearrange, Reduce\n",
    "from jaxtyping import Float, Int\n",
    "from torch import Tensor"
   ]
  },
  {
   "cell_type": "code",
   "execution_count": 2,
   "metadata": {},
   "outputs": [
    {
     "name": "stdout",
     "output_type": "stream",
     "text": [
      "cuda\n",
      "NVIDIA GeForce RTX 3090\n"
     ]
    }
   ],
   "source": [
    "device = torch.device(\"cuda\" if torch.cuda.is_available() else \"cpu\")\n",
    "print(device)\n",
    "\n",
    "if device.type == \"cuda\":\n",
    "    gpu_name = torch.cuda.get_device_name(0)\n",
    "    print(gpu_name)"
   ]
  },
  {
   "cell_type": "code",
   "execution_count": 3,
   "metadata": {},
   "outputs": [
    {
     "name": "stdout",
     "output_type": "stream",
     "text": [
      "tensor([[22, 28],\n",
      "        [49, 64]])\n"
     ]
    }
   ],
   "source": [
    "\"\"\"Recreate above example in code.\"\"\"\n",
    "\n",
    "# Following the example above, let i=2, j=3, k=2\n",
    "a = torch.tensor([[1, 2, 3], [4, 5, 6]])\n",
    "b = torch.tensor([[1, 2], [3, 4], [5, 6]])\n",
    "c = einsum(a, b, \"i j, j k -> i k\")\n",
    "print(c)"
   ]
  },
  {
   "cell_type": "markdown",
   "metadata": {},
   "source": [
    "## Matrix operations using `einsum`, `rearrange`, `reduce`, and `repeat`"
   ]
  },
  {
   "cell_type": "markdown",
   "metadata": {},
   "source": [
    "### Permutations and rearrangements"
   ]
  },
  {
   "cell_type": "code",
   "execution_count": 4,
   "metadata": {},
   "outputs": [
    {
     "name": "stdout",
     "output_type": "stream",
     "text": [
      "torch.Size([32, 3, 224, 224])\n"
     ]
    }
   ],
   "source": [
    "\"\"\"Create a dataset representing images.\"\"\"\n",
    "\n",
    "x = torch.randn(32, 3, 224, 224)  # assume this is a batch of 32 RGB images of size 224x224\n",
    "x -= x.min()  # ensure all pixels are positive\n",
    "print(x.shape)"
   ]
  },
  {
   "cell_type": "code",
   "execution_count": 5,
   "metadata": {},
   "outputs": [
    {
     "name": "stdout",
     "output_type": "stream",
     "text": [
      "torch.Size([32, 224, 224, 3])\n",
      "torch.Size([32, 224, 224, 3])\n"
     ]
    }
   ],
   "source": [
    "\"\"\"Simple permutations.\"\"\"\n",
    "\n",
    "# Move the channel axis to the end\n",
    "print(rearrange(x, \"b c x y -> b x y c\").shape)\n",
    "\n",
    "# We can also do this with einsum\n",
    "print(einsum(x, \"b c x y -> b x y c\").shape)\n"
   ]
  },
  {
   "cell_type": "code",
   "execution_count": 6,
   "metadata": {},
   "outputs": [
    {
     "name": "stdout",
     "output_type": "stream",
     "text": [
      "torch.Size([32, 150528])\n",
      "torch.Size([128, 3, 112, 112])\n"
     ]
    }
   ],
   "source": [
    "\"\"\"Do more complex rearrangements (e.g. flattens or splits).\"\"\"\n",
    "\n",
    "# Flatten the image dimensions\n",
    "print(rearrange(x, \"b c x y -> b (c x y)\").shape)  \n",
    "\n",
    "# Split each image into 4 quadrants and reconstruct the batch (should be 4x larger)\n",
    "print(rearrange(x, \"b c (x2 x) (y2 y) -> (b x2 y2) c x y\", x2=2, y2=2).shape)\n"
   ]
  },
  {
   "cell_type": "markdown",
   "metadata": {},
   "source": [
    "### Matrix multiplications"
   ]
  },
  {
   "cell_type": "markdown",
   "metadata": {},
   "source": [
    "Einsum takes care of dimension matching, so long as we specify the dimensions correctly"
   ]
  },
  {
   "cell_type": "code",
   "execution_count": 7,
   "metadata": {},
   "outputs": [
    {
     "name": "stdout",
     "output_type": "stream",
     "text": [
      "tensor([[0, 1, 2],\n",
      "        [3, 4, 5]])\n",
      "tensor([[1, 2],\n",
      "        [3, 4],\n",
      "        [5, 6]])\n",
      "\n",
      "tensor([[13, 16],\n",
      "        [40, 52]]) \n",
      "\n",
      "tensor([[ 6, 12, 18],\n",
      "        [ 9, 19, 29],\n",
      "        [12, 26, 40]]) \n",
      "\n"
     ]
    }
   ],
   "source": [
    "\"\"\"Standard matrix multiplications.\"\"\"\n",
    "\n",
    "a = torch.tensor([[0, 1, 2], [3, 4, 5]])\n",
    "b = torch.tensor([[1, 2], [3, 4], [5, 6]])\n",
    "print(a)\n",
    "print(b)\n",
    "print()\n",
    "\n",
    "# Rows of `a` by columns of `b` (same as initial example)\n",
    "# (since 'j' is shared, and represents dim2 of `a` and dim1 of `b`, we take the values along\n",
    "# dim2 of `a` (i.e. its rows) and the values along dim1 of `b` (i.e. its cols) and multiply them\n",
    "# together, and since 'j' is omitted from the output, we sum over it)\n",
    "print(einsum(a, b, \"i j, j k -> i k\"), \"\\n\")\n",
    "\n",
    "# Similarly, we can multiply the columns of `a` by the rows of `b` (without explictly transposing)\n",
    "print(einsum(a, b, \"i j, k i -> j k\"), \"\\n\")"
   ]
  },
  {
   "cell_type": "code",
   "execution_count": 8,
   "metadata": {},
   "outputs": [
    {
     "name": "stdout",
     "output_type": "stream",
     "text": [
      "tensor([[ 0,  3, 10],\n",
      "        [ 6, 16, 30]]) \n",
      "\n",
      "tensor([[ 0,  6],\n",
      "        [ 3, 16],\n",
      "        [10, 30]]) \n",
      "\n",
      "tensor([ 0,  2,  6, 12, 20, 30]) \n",
      "\n"
     ]
    }
   ],
   "source": [
    "\"\"\"One-to-one element-wise multiplications.\"\"\"\n",
    "\n",
    "# We can do row-major * col-major hadamard and return the output in either the shape of `a` or `b`\n",
    "print(einsum(a, b, \"i j, j i -> i j\"), \"\\n\")  # shape of `a`\n",
    "print(einsum(a, b, \"i j, j i -> j i\"), \"\\n\")  # shape of `b`\n",
    "\n",
    "# We can do a flat hadamard\n",
    "print(einsum(a.flatten(), b.flatten(), \"n, n -> n\"), \"\\n\")"
   ]
  },
  {
   "cell_type": "code",
   "execution_count": 9,
   "metadata": {},
   "outputs": [
    {
     "name": "stdout",
     "output_type": "stream",
     "text": [
      "tensor(315) \n",
      "\n",
      "torch.Size([2, 3, 3, 2]) \n",
      "\n",
      "tensor([ 45, 105, 165]) \n",
      "\n",
      "tensor([[15, 30],\n",
      "        [45, 60],\n",
      "        [75, 90]]) \n",
      "\n",
      "tensor([[  0,  21,  42],\n",
      "        [ 63,  84, 105]]) \n",
      "\n"
     ]
    }
   ],
   "source": [
    "\"\"\"One-to-all element-wise multiplications.\"\"\"\n",
    "\n",
    "# We can decide to multiply each element in `a` by *all* elements in `b` (by writing all input\n",
    "# dimensions independently), and choose which dimensions to sum over.\n",
    "\n",
    "# Sum over all dimensions\n",
    "print(einsum(a, b, \"i j, k l -> \"), \"\\n\")  \n",
    "\n",
    "# Sum over no dimensions (each element-wise multiplication is a separate element in the output)\n",
    "print(einsum(a, b, \"i j, k l -> i j k l\").shape, \"\\n\")\n",
    "# print(einsum(a, b, \"i j, k l -> i j k l\"), \"\\n\")\n",
    "\n",
    "# Sum over all but the first dimension of the second matrix\n",
    "print(einsum(a, b, \"i j, k l -> k\"), \"\\n\")\n",
    "\n",
    "# Sum over the two dimensions of the first matrix\n",
    "print(einsum(a, b, \"i j, k l -> k l\"), \"\\n\")\n",
    "\n",
    "# Sum over the two dimensions of the second matrix\n",
    "print(einsum(a, b, \"i j, k l -> i j\"), \"\\n\")"
   ]
  },
  {
   "cell_type": "code",
   "execution_count": 10,
   "metadata": {},
   "outputs": [
    {
     "name": "stdout",
     "output_type": "stream",
     "text": [
      "model_weights: {'n_model_instances': 2, 'n_feat': 4, 'n_hidden': 3}\n",
      "feat_vals: {'batch_sz': 2, 'n_model_instances': 2, 'n_feat': 4}\n",
      "acts: {'batch_sz': 2, 'n_model_instances': 2, 'n_hidden': 3} \n",
      "\n",
      "tensor([[[14, 20, 26],\n",
      "         [10, 20, 30]],\n",
      "\n",
      "        [[20, 30, 40],\n",
      "         [ 4, 10, 16]]])\n"
     ]
    }
   ],
   "source": [
    "\"\"\"Multiplications of matrices with 3+ dimensions and 2+ shared dimensions.\"\"\"\n",
    "\n",
    "# Imagine we have a toy nn model object that holds 2 model instances and that we believe can\n",
    "# represent 4 features in just 3 neurons; we feed into it a batch of feature values.\n",
    "\n",
    "batch_sz, n_model_instances, n_feat, n_hidden = 2, 2, 4, 3\n",
    "\n",
    "model_weights = torch.tensor(\n",
    "    [\n",
    "        [\n",
    "            [0, 1, 2],\n",
    "            [1, 2, 3],\n",
    "            [2, 3, 4],\n",
    "            [3, 4, 5]\n",
    "        ],\n",
    "        [\n",
    "            [3, 4, 5],\n",
    "            [2, 3, 4],\n",
    "            [1, 2, 3],\n",
    "            [0, 1, 2]\n",
    "        ]\n",
    "    ]\n",
    ")\n",
    "\n",
    "feat_vals = torch.tensor(\n",
    "    [\n",
    "        [\n",
    "            [0, 1, 2, 3],\n",
    "            [1, 2, 3, 4]\n",
    "        ],\n",
    "        [\n",
    "            [1, 2, 3, 4],\n",
    "            [0, 1, 2, 3]\n",
    "        ]\n",
    "    ]\n",
    ")\n",
    "\n",
    "print(f\"model_weights: {parse_shape(model_weights, 'n_model_instances n_feat n_hidden')}\")\n",
    "print(f\"feat_vals: {parse_shape(feat_vals, 'batch_sz n_model_instances n_feat')}\")\n",
    "\n",
    "# We want to get the activations for each of the 3 neurons, for each of the 2 model instances,\n",
    "# for each of the 2 examples in the batch: we multiply the feature values by the model weights,\n",
    "# matching on 'n_model_instances' and 'n_feat', and summing over 'n_feat' (each neuron combines \n",
    "# info from all features).\n",
    "acts = einsum(\n",
    "    feat_vals, \n",
    "    model_weights, \n",
    "    \"batch model_i feat, model_i feat hidden -> batch model_i hidden\"\n",
    ")\n",
    "print(f\"acts: {parse_shape(acts, 'batch_sz n_model_instances n_hidden')} \\n\")\n",
    "print(acts)"
   ]
  },
  {
   "cell_type": "markdown",
   "metadata": {},
   "source": [
    "### Operations (reductions) over dimensions"
   ]
  },
  {
   "cell_type": "code",
   "execution_count": 11,
   "metadata": {},
   "outputs": [
    {
     "name": "stdout",
     "output_type": "stream",
     "text": [
      "torch.Size([32, 3, 224, 224])\n"
     ]
    }
   ],
   "source": [
    "\"\"\"Create a dataset representing images.\"\"\"\n",
    "\n",
    "x = torch.randn(32, 3, 224, 224)  # assume this is a batch of 32 RGB images of size 224x224\n",
    "x -= x.min()  # ensure all pixels are positive\n",
    "print(x.shape)"
   ]
  },
  {
   "cell_type": "code",
   "execution_count": 12,
   "metadata": {},
   "outputs": [
    {
     "name": "stdout",
     "output_type": "stream",
     "text": [
      "tensor(25231856.)\n",
      "tensor([8409742., 8411351., 8410762.]) \n",
      "\n",
      "tensor(25231856.)\n",
      "tensor([8409742., 8411351., 8410762.]) \n",
      "\n"
     ]
    }
   ],
   "source": [
    "\"\"\"Sum over dimensions.\"\"\"\n",
    "\n",
    "# Sum over all dimensions\n",
    "print(reduce(x, \"b c x y ->\", \"sum\"))\n",
    "# Sum for each channel\n",
    "print(reduce(x, \"b c x y -> c\", \"sum\"), \"\\n\")\n",
    "\n",
    "# We can also do these with einsum\n",
    "print(einsum(x, \"b c x y ->\"))\n",
    "print(einsum(x, \"b c x y -> c\"), \"\\n\")\n"
   ]
  },
  {
   "cell_type": "code",
   "execution_count": 13,
   "metadata": {},
   "outputs": [
    {
     "name": "stdout",
     "output_type": "stream",
     "text": [
      "tensor([5.2377, 5.2387, 5.2383])\n",
      "tensor([0.9991, 1.0008, 1.0019])\n",
      "torch.Size([224, 224])\n"
     ]
    }
   ],
   "source": [
    "\"\"\"Perform more complex operations (e.g. mean, var, min, max, prod) over dimensions.\"\"\"\n",
    "\n",
    "# Mean for each channel\n",
    "print(reduce(x, \"b c x y -> c\", \"mean\"))\n",
    "\n",
    "# Var for each channel\n",
    "print(reduce(x, \"b c x y -> c\", torch.var))\n",
    "\n",
    "# Max for each 224x224 pixel\n",
    "print(reduce(x, \"b c x y -> x y\", \"max\").shape)"
   ]
  },
  {
   "cell_type": "markdown",
   "metadata": {},
   "source": [
    "### Other common matrix operations"
   ]
  },
  {
   "cell_type": "code",
   "execution_count": 14,
   "metadata": {},
   "outputs": [
    {
     "name": "stdout",
     "output_type": "stream",
     "text": [
      "tensor([1, 5, 9])\n",
      "tensor(15)\n"
     ]
    }
   ],
   "source": [
    "\"\"\"Working with matrix diagonals.\"\"\"\n",
    "\n",
    "m = torch.tensor([[1, 2, 3], [4, 5, 6], [7, 8, 9]])\n",
    "\n",
    "# Get the diagonal.\n",
    "print(einsum(m, \"i i -> i\"))\n",
    "\n",
    "# Get the trace.\n",
    "print(einsum(m, \"i i -> \"))"
   ]
  },
  {
   "cell_type": "markdown",
   "metadata": {},
   "source": [
    "### Repeat a tensor along a new axis or existing axis"
   ]
  },
  {
   "cell_type": "code",
   "execution_count": 15,
   "metadata": {},
   "outputs": [
    {
     "name": "stdout",
     "output_type": "stream",
     "text": [
      "torch.Size([32, 3, 224, 224])\n"
     ]
    }
   ],
   "source": [
    "\"\"\"Along a new axis: add different amounts of noise to copies of an image.\"\"\"\n",
    "\n",
    "x = torch.randn(3, 224, 224)  # assume this is an RGB image of size 224x224\n",
    "x -= x.min()  # ensure all pixels are positive\n",
    "\n",
    "# Copy images and add noise\n",
    "b = 32  # example batch size\n",
    "x_b = repeat(x, \"c x y -> b c x y\", b=b)\n",
    "noise = torch.randn_like(x_b) * 0.1\n",
    "x_b = x_b + noise\n",
    "print(x_b.shape)"
   ]
  },
  {
   "cell_type": "code",
   "execution_count": 16,
   "metadata": {},
   "outputs": [
    {
     "name": "stdout",
     "output_type": "stream",
     "text": [
      "torch.Size([3, 448, 224])\n",
      "torch.Size([3, 224, 448])\n"
     ]
    }
   ],
   "source": [
    "\"\"\"Along an existing axis: elongate width or height.\"\"\"\n",
    "\n",
    "# Elongate width\n",
    "x_wide = repeat(x, \"c x y -> c (w x) y\", w=2)\n",
    "print(x_wide.shape)\n",
    "\n",
    "# Elongate height\n",
    "x_tall = repeat(x, \"c x y -> c x (2 y)\")  # we can also feed a numeric directly into einsum string\n",
    "print(x_tall.shape)"
   ]
  },
  {
   "cell_type": "markdown",
   "metadata": {},
   "source": [
    "## ARENA Exercises working with 'numbers.npy'"
   ]
  },
  {
   "cell_type": "markdown",
   "metadata": {},
   "source": [
    "See exercises here: https://arena3-chapter0-fundamentals.streamlit.app/[0.0]_Prerequisites#einops-exercises-operations"
   ]
  },
  {
   "cell_type": "code",
   "execution_count": 17,
   "metadata": {},
   "outputs": [],
   "source": [
    "\"\"\"Set KMP_DUPLICATE_LIB_OK=TRUE to avoid MKL errors when plotting with mpl\"\"\"\n",
    "\n",
    "os.environ[\"KMP_DUPLICATE_LIB_OK\"] = \"True\""
   ]
  },
  {
   "cell_type": "code",
   "execution_count": 18,
   "metadata": {},
   "outputs": [],
   "source": [
    "def display_array_as_img(img_array):\n",
    "    \"\"\"Displays a numpy array as an image\n",
    "\n",
    "    Two options:\n",
    "        img_array.shape = (height, width) -> interpreted as monochrome\n",
    "        img_array.shape = (3, height, width) -> interpreted as RGB\n",
    "    \"\"\"\n",
    "    shape = img_array.shape\n",
    "    assert len(shape) == 2 or (\n",
    "        shape[0] == 3 and len(shape) == 3\n",
    "    ), \"Incorrect format (see docstring)\"\n",
    "\n",
    "    if len(shape) == 3:\n",
    "        img_array = rearrange(img_array, \"c h w -> h w c\")\n",
    "    height, width = img_array.shape[:2]\n",
    "\n",
    "    # Create figure with specified dimensions\n",
    "    dpi = 100  # matplotlib default DPI\n",
    "    fig = plt.figure(figsize=(width / dpi, height / dpi))\n",
    "\n",
    "    # Remove margins\n",
    "    ax = plt.Axes(fig, [0.0, 0.0, 1.0, 1.0])\n",
    "    ax.set_axis_off()\n",
    "    fig.add_axes(ax)\n",
    "\n",
    "    # Display image\n",
    "    if len(shape) == 2:\n",
    "        plt.imshow(img_array, cmap=\"gray\", vmin=0, vmax=255)\n",
    "    else:\n",
    "        plt.imshow(img_array)\n",
    "\n",
    "    plt.show()\n",
    "    plt.close()"
   ]
  },
  {
   "cell_type": "code",
   "execution_count": 19,
   "metadata": {},
   "outputs": [
    {
     "name": "stdout",
     "output_type": "stream",
     "text": [
      "(6, 3, 150, 150)\n"
     ]
    },
    {
     "data": {
      "image/png": "[encoded data removed]",
      "text/plain": [
       "<Figure size 150x150 with 1 Axes>"
      ]
     },
     "metadata": {},
     "output_type": "display_data"
    },
    {
     "data": {
      "image/png": "[encoded data removed]",
      "text/plain": [
       "<Figure size 150x150 with 1 Axes>"
      ]
     },
     "metadata": {},
     "output_type": "display_data"
    },
    {
     "data": {
      "image/png": "[encoded data removed]",
      "text/plain": [
       "<Figure size 150x150 with 1 Axes>"
      ]
     },
     "metadata": {},
     "output_type": "display_data"
    },
    {
     "data": {
      "image/png": "[encoded data removed]",
      "text/plain": [
       "<Figure size 150x150 with 1 Axes>"
      ]
     },
     "metadata": {},
     "output_type": "display_data"
    }
   ],
   "source": [
    "\"\"\"Load `numbers.npy`...\"\"\"\n",
    "arr = np.load(Path.cwd() / \"data\" / \"numbers.npy\")\n",
    "print(arr.shape)\n",
    "\n",
    "# `numbers.npy` contains 6 RGB images of size 150x150, containing numbers 0-5. Some examples:\n",
    "display_array_as_img(arr[0])  # RGB\n",
    "display_array_as_img(arr[5])  # RGB\n",
    "display_array_as_img(arr[0, 0])  # monochronme\n",
    "display_array_as_img(arr[5, 0])  # monochronme"
   ]
  },
  {
   "cell_type": "code",
   "execution_count": 20,
   "metadata": {},
   "outputs": [
    {
     "data": {
      "image/png": "[encoded data removed]",
      "text/plain": [
       "<Figure size 900x150 with 1 Axes>"
      ]
     },
     "metadata": {},
     "output_type": "display_data"
    },
    {
     "data": {
      "image/png": "[encoded data removed]",
      "text/plain": [
       "<Figure size 900x150 with 1 Axes>"
      ]
     },
     "metadata": {},
     "output_type": "display_data"
    }
   ],
   "source": [
    "\"\"\"Exercise 1: display all 5 numbers together horizontally\"\"\"\n",
    "\n",
    "# shape: 3, 150, 900\n",
    "arr1 = rearrange(arr, \"i c h w -> c h (i w)\")\n",
    "display_array_as_img(arr1) \n",
    "\n",
    "# Note how above is different to this:\n",
    "# here we spread each image across the new width, while above we fit each image into the new width\n",
    "arr1b = rearrange(arr, \"i c h w -> c h (w i)\")\n",
    "display_array_as_img(arr1b)"
   ]
  },
  {
   "cell_type": "code",
   "execution_count": 21,
   "metadata": {},
   "outputs": [
    {
     "data": {
      "image/png": "[encoded data removed]",
      "text/plain": [
       "<Figure size 150x300 with 1 Axes>"
      ]
     },
     "metadata": {},
     "output_type": "display_data"
    }
   ],
   "source": [
    "\"\"\"Exercise 2: display '0' concatenated with itself vertically\"\"\"\n",
    "\n",
    "# shape: 3, 300, 150\n",
    "arr2 = repeat(arr[0], \"c h w -> c (2 h) w\")\n",
    "display_array_as_img(arr2)"
   ]
  },
  {
   "cell_type": "code",
   "execution_count": 22,
   "metadata": {},
   "outputs": [
    {
     "data": {
      "image/png": "[encoded data removed]",
      "text/plain": [
       "<Figure size 300x300 with 1 Axes>"
      ]
     },
     "metadata": {},
     "output_type": "display_data"
    }
   ],
   "source": [
    "\"\"\"Exercise 3: display a 2x2 image of two '0's (top) and two '1's (bottom)\"\"\"\n",
    "\n",
    "# shape: 3, 300, 300\n",
    "arr3 = repeat(arr[0:2], \"i c h w -> c (i h) (2 w)\")\n",
    "display_array_as_img(arr3)"
   ]
  },
  {
   "cell_type": "code",
   "execution_count": 23,
   "metadata": {},
   "outputs": [
    {
     "data": {
      "image/png": "[encoded data removed]",
      "text/plain": [
       "<Figure size 150x300 with 1 Axes>"
      ]
     },
     "metadata": {},
     "output_type": "display_data"
    },
    {
     "data": {
      "image/png": "[encoded data removed]",
      "text/plain": [
       "<Figure size 150x300 with 1 Axes>"
      ]
     },
     "metadata": {},
     "output_type": "display_data"
    }
   ],
   "source": [
    "\"\"\"Exercise 4: elongate '0' by a factor of two along its height\"\"\"\n",
    "\n",
    "# shape: 3, 300, 150\n",
    "arr4 = repeat(arr[0], \"c h w -> c (h 2) w\")\n",
    "display_array_as_img(arr4)\n",
    "\n",
    "# Note how above is different to this:\n",
    "# here we fit the image twice into the new height, above we spread the image across the new height\n",
    "arr4 = repeat(arr[0], \"c h w -> c (2 h) w\")\n",
    "display_array_as_img(arr4)"
   ]
  },
  {
   "cell_type": "code",
   "execution_count": 24,
   "metadata": {},
   "outputs": [
    {
     "data": {
      "image/png": "[encoded data removed]",
      "text/plain": [
       "<Figure size 450x150 with 1 Axes>"
      ]
     },
     "metadata": {},
     "output_type": "display_data"
    }
   ],
   "source": [
    "\"\"\"Exercise 5: view all three monochrome channels of '0' side-by-side\"\"\"\n",
    "\n",
    "# shape: 450, 150\n",
    "arr5 = rearrange(arr[0], \"c h w -> h (c w)\")\n",
    "display_array_as_img(arr5)"
   ]
  },
  {
   "cell_type": "code",
   "execution_count": 25,
   "metadata": {},
   "outputs": [
    {
     "data": {
      "image/png": "[encoded data removed]",
      "text/plain": [
       "<Figure size 450x300 with 1 Axes>"
      ]
     },
     "metadata": {},
     "output_type": "display_data"
    }
   ],
   "source": [
    "\"\"\"Exercise 6: view all six numbers in a 2x3 grid\"\"\"\n",
    "\n",
    "# shape: 3, 300, 450\n",
    "arr6 = rearrange(arr, \"(hx wx) c h w -> c (hx h) (wx w)\", hx=2, wx=3)\n",
    "display_array_as_img(arr6)"
   ]
  },
  {
   "cell_type": "code",
   "execution_count": 26,
   "metadata": {},
   "outputs": [
    {
     "data": {
      "image/png": "[encoded data removed]",
      "text/plain": [
       "<Figure size 900x150 with 1 Axes>"
      ]
     },
     "metadata": {},
     "output_type": "display_data"
    },
    {
     "data": {
      "image/png": "[encoded data removed]",
      "text/plain": [
       "<Figure size 900x150 with 1 Axes>"
      ]
     },
     "metadata": {},
     "output_type": "display_data"
    }
   ],
   "source": [
    "\"\"\"Exercise 7: view all six numbers in a 1x6 grid, in black-and-white\"\"\"\n",
    "\n",
    "# shape: 150, 900\n",
    "arr7 = rearrange(arr[:, 0, :, :], \"i h w -> h (i w)\")\n",
    "display_array_as_img(arr7)\n",
    "\n",
    "arr7b = reduce(arr, \"i c h w -> h (i w)\", \"max\")  # max over the c dim (white=255)\n",
    "display_array_as_img(arr7b)"
   ]
  },
  {
   "cell_type": "code",
   "execution_count": 27,
   "metadata": {},
   "outputs": [
    {
     "data": {
      "image/png": "[encoded data removed]",
      "text/plain": [
       "<Figure size 150x150 with 1 Axes>"
      ]
     },
     "metadata": {},
     "output_type": "display_data"
    },
    {
     "data": {
      "image/png": "[encoded data removed]",
      "text/plain": [
       "<Figure size 150x150 with 1 Axes>"
      ]
     },
     "metadata": {},
     "output_type": "display_data"
    },
    {
     "data": {
      "image/png": "[encoded data removed]",
      "text/plain": [
       "<Figure size 150x150 with 1 Axes>"
      ]
     },
     "metadata": {},
     "output_type": "display_data"
    }
   ],
   "source": [
    "\"\"\"Exercise 8: view all 6 numbers in monochrome overlaid on top of each other\"\"\"\n",
    "\n",
    "# shape: 150, 150\n",
    "arr8b = reduce(arr, \"i c h w -> h w\", \"sum\")\n",
    "display_array_as_img(arr8b)\n",
    "\n",
    "arr8c = reduce(arr, \"i c h w -> h w\", \"max\")\n",
    "display_array_as_img(arr8c)\n",
    "\n",
    "# This one actually does what we want it to: otherwise if we sum or max, we saturate\n",
    "arr8 = reduce(arr, \"i c h w -> h w\", \"min\")\n",
    "display_array_as_img(arr8)"
   ]
  },
  {
   "cell_type": "code",
   "execution_count": 28,
   "metadata": {},
   "outputs": [
    {
     "data": {
      "image/png": "[encoded data removed]",
      "text/plain": [
       "<Figure size 150x150 with 1 Axes>"
      ]
     },
     "metadata": {},
     "output_type": "display_data"
    }
   ],
   "source": [
    "\"\"\"Exercise 9: flip 1 on its horizontal axis, and rotate it 90 degrees ccw\"\"\"\n",
    "\n",
    "# shape: 3, 150, 150\n",
    "\n",
    "arr9 = rearrange(arr[1], \"c h w -> c w h\")\n",
    "display_array_as_img(arr9)"
   ]
  },
  {
   "cell_type": "markdown",
   "metadata": {},
   "source": [
    "## ARENA Exercises: Creating functions that use einops"
   ]
  },
  {
   "cell_type": "markdown",
   "metadata": {},
   "source": [
    "See exercises here: https://arena-chapter0-fundamentals.streamlit.app/[0.0]_Prerequisites#einops-exercises-operations"
   ]
  },
  {
   "cell_type": "code",
   "execution_count": 29,
   "metadata": {},
   "outputs": [
    {
     "name": "stdout",
     "output_type": "stream",
     "text": [
      "tensor([71.5714, 62.1429, 79.0000])\n"
     ]
    }
   ],
   "source": [
    "\"\"\"Exercise B.1 - temperature average\"\"\"\n",
    "\n",
    "def temperatures_average(temps: torch.Tensor) -> torch.Tensor:\n",
    "    \"\"\"Return the average temperature for each week.\n",
    "\n",
    "    temps: a 1D temperature containing temperatures for each day.\n",
    "    Length will be a multiple of 7 and the first 7 days are for the first week, second 7 days for the second week, etc.\n",
    "\n",
    "    You can do this with a single call to reduce.\n",
    "    \"\"\"\n",
    "    assert len(temps) % 7 == 0\n",
    "    # YOUR CODE HERE\n",
    "    # reformat `temps` into Nx7 tensor, where N is number of weeks, then reduce over N\n",
    "    temps = rearrange(temps, \"(w d) -> w d\", d=7)\n",
    "    return reduce(temps, \"w d -> w\", \"mean\")\n",
    "    # We could also have done:\n",
    "    # return reduce(temps, \"(w d) -> w\", \"mean\", d=7)\n",
    "\n",
    "temps = torch.Tensor(\n",
    "    [71, 72, 70, 75, 71, 72, 70, 68, 65, 60, 68, 60, 55, 59, 75, 80, 85, 80, 78, 72, 83]\n",
    ")\n",
    "expected = torch.tensor([71.5714, 62.1429, 79.0])\n",
    "print(temperatures_average(temps))"
   ]
  },
  {
   "cell_type": "code",
   "execution_count": 30,
   "metadata": {},
   "outputs": [
    {
     "name": "stdout",
     "output_type": "stream",
     "text": [
      "tensor([-0.5714,  0.4286, -1.5714,  3.4286, -0.5714,  0.4286, -1.5714,  5.8571,\n",
      "         2.8571, -2.1429,  5.8571, -2.1429, -7.1429, -3.1429, -4.0000,  1.0000,\n",
      "         6.0000,  1.0000, -1.0000, -7.0000,  4.0000])\n"
     ]
    }
   ],
   "source": [
    "\"\"\"Exercise B.2 - temperature difference\"\"\"\n",
    "\n",
    "def temperatures_differences(temps: torch.Tensor) -> torch.Tensor:\n",
    "    \"\"\"For each day, subtract the average for the week the day belongs to.\n",
    "\n",
    "    temps: a 1D temperature containing temperatures for each day.\n",
    "    \"\"\"\n",
    "    assert len(temps) % 7 == 0\n",
    "    # YOUR CODE HERE\n",
    "    week_avg_for_day = repeat(reduce(temps, \"(w d) -> w\", \"mean\", d=7), \"w -> (w d)\", d=7)\n",
    "    return temps - week_avg_for_day\n",
    "\n",
    "temps = torch.Tensor(\n",
    "    [71, 72, 70, 75, 71, 72, 70, 68, 65, 60, 68, 60, 55, 59, 75, 80, 85, 80, 78, 72, 83]\n",
    ")\n",
    "expected = torch.tensor(\n",
    "    [\n",
    "        -0.5714,\n",
    "        0.4286,\n",
    "        -1.5714,\n",
    "        3.4286,\n",
    "        -0.5714,\n",
    "        0.4286,\n",
    "        -1.5714,\n",
    "        5.8571,\n",
    "        2.8571,\n",
    "        -2.1429,\n",
    "        5.8571,\n",
    "        -2.1429,\n",
    "        -7.1429,\n",
    "        -3.1429,\n",
    "        -4.0,\n",
    "        1.0,\n",
    "        6.0,\n",
    "        1.0,\n",
    "        -1.0,\n",
    "        -7.0,\n",
    "        4.0,\n",
    "    ]\n",
    ")\n",
    "print(temperatures_differences(temps))\n"
   ]
  },
  {
   "cell_type": "code",
   "execution_count": 31,
   "metadata": {},
   "outputs": [
    {
     "name": "stdout",
     "output_type": "stream",
     "text": [
      "tensor([-0.3326,  0.2494, -0.9146,  1.9954, -0.3326,  0.2494, -0.9146,  1.1839,\n",
      "         0.5775, -0.4331,  1.1839, -0.4331, -1.4438, -0.6353, -0.8944,  0.2236,\n",
      "         1.3416,  0.2236, -0.2236, -1.5652,  0.8944])\n"
     ]
    }
   ],
   "source": [
    "\"\"\"Exercise B.3 - temperature normalized\"\"\"\n",
    "\n",
    "def temperatures_normalized(temps: torch.Tensor) -> torch.Tensor:\n",
    "    \"\"\"For each day, subtract the weekly average and divide by the weekly standard deviation.\n",
    "\n",
    "    temps: a 1D temperature containing temperatures for each day.\n",
    "\n",
    "    Pass torch.std to reduce.\n",
    "    \"\"\"\n",
    "    # YOUR CODE HERE\n",
    "    week_std_for_day = repeat(reduce(temps, \"(w d) -> w\", torch.std, d=7), \"w -> (w d)\", d=7)\n",
    "    return temperatures_differences(temps) / week_std_for_day\n",
    "\n",
    "\n",
    "expected = torch.tensor(\n",
    "    [\n",
    "        -0.3326,\n",
    "        0.2494,\n",
    "        -0.9146,\n",
    "        1.9954,\n",
    "        -0.3326,\n",
    "        0.2494,\n",
    "        -0.9146,\n",
    "        1.1839,\n",
    "        0.5775,\n",
    "        -0.4331,\n",
    "        1.1839,\n",
    "        -0.4331,\n",
    "        -1.4438,\n",
    "        -0.6353,\n",
    "        -0.8944,\n",
    "        0.2236,\n",
    "        1.3416,\n",
    "        0.2236,\n",
    "        -0.2236,\n",
    "        -1.5652,\n",
    "        0.8944,\n",
    "    ]\n",
    ")\n",
    "print(temperatures_normalized(temps))\n"
   ]
  },
  {
   "cell_type": "code",
   "execution_count": 32,
   "metadata": {},
   "outputs": [
    {
     "data": {
      "text/plain": [
       "tensor([[1, 0, 0],\n",
       "        [0, 1, 0],\n",
       "        [0, 0, 1]], dtype=torch.int32)"
      ]
     },
     "metadata": {},
     "output_type": "display_data"
    },
    {
     "data": {
      "text/plain": [
       "tensor([[1, 0, 0, 0],\n",
       "        [0, 1, 0, 0],\n",
       "        [0, 0, 1, 0],\n",
       "        [0, 0, 0, 1]], dtype=torch.int32)"
      ]
     },
     "metadata": {},
     "output_type": "display_data"
    }
   ],
   "source": [
    "\"\"\"Exercise C - identity matrix\"\"\"\n",
    "\n",
    "def identity_matrix(n: int) -> torch.Tensor:\n",
    "    \"\"\"\n",
    "    Return the identity matrix of size n x n using einops,\n",
    "    without using torch.arange or torch.eye.\n",
    "    \"\"\"\n",
    "    assert n >= 0\n",
    "    # YOUR CODE HERE\n",
    "    # Use cumsum to generate indices we want, create a row and a col vector from these indices,\n",
    "    # and compare them, allowing broadcasting to fill-in with 0s the missing cols in the \n",
    "    # col vector and the missing rows in the row vector\n",
    "    idx_1d = torch.cumsum(torch.ones(n), dim=0)  # shape: [n]\n",
    "    row_idx = rearrange(idx_1d, 'i -> i 1')      # shape: [n, 1]\n",
    "    col_idx = rearrange(idx_1d, 'j -> 1 j')      # shape: [1, n]\n",
    "    return (row_idx == col_idx).int()\n",
    "\n",
    "\n",
    "display(identity_matrix(3), identity_matrix(4))"
   ]
  },
  {
   "cell_type": "code",
   "execution_count": 33,
   "metadata": {},
   "outputs": [
    {
     "data": {
      "text/plain": [
       "tensor([-998.6137, 1001.3863])"
      ]
     },
     "metadata": {},
     "output_type": "display_data"
    },
    {
     "data": {
      "text/plain": [
       "tensor([-998.6137, 1001.3863])"
      ]
     },
     "metadata": {},
     "output_type": "display_data"
    },
    {
     "data": {
      "text/plain": [
       "tensor([3.7315, 3.3176, 3.2114, 3.2743, 3.5250, 3.2677, 3.5614, 3.4259, 3.2843,\n",
       "        3.6279])"
      ]
     },
     "metadata": {},
     "output_type": "display_data"
    },
    {
     "data": {
      "text/plain": [
       "tensor([3.7315, 3.3176, 3.2114, 3.2743, 3.5250, 3.2677, 3.5614, 3.4259, 3.2843,\n",
       "        3.6279])"
      ]
     },
     "metadata": {},
     "output_type": "display_data"
    }
   ],
   "source": [
    "\"\"\"Exercise H.1 - batched logsumexp\"\"\"\n",
    "\n",
    "def batched_logsumexp(matrix: torch.Tensor) -> torch.Tensor:\n",
    "    \"\"\"For each row of the matrix, compute log(sum(exp(row))) in a numerically stable way.\n",
    "\n",
    "    matrix: shape (batch, n)\n",
    "\n",
    "    Return: (batch, ). For each i, out[i] = log(sum(exp(matrix[i]))).\n",
    "\n",
    "    Do this without using PyTorch's logsumexp function.\n",
    "\n",
    "    A couple useful blogs about this function:\n",
    "    - https://leimao.github.io/blog/LogSumExp/\n",
    "    - https://gregorygundersen.com/blog/2020/02/09/log-sum-exp/\n",
    "    \"\"\"\n",
    "    # Formula: x_max + log(sum(exp(x - x_max)))\n",
    "    rows_max = reduce(matrix, \"b n -> b\", \"max\")\n",
    "    exps = torch.exp(matrix - rearrange(rows_max, \"b -> b 1\"))\n",
    "    logsumexp = rows_max + torch.log(reduce(exps, \"b n -> b\", \"sum\"))\n",
    "    return logsumexp\n",
    "\n",
    "matrix = torch.tensor([[-1000, -1000, -1000, -1000], [1000, 1000, 1000, 1000]])\n",
    "expected = torch.tensor([-1000 + math.log(4), 1000 + math.log(4)])\n",
    "actual = batched_logsumexp(matrix)\n",
    "display(expected, actual)\n",
    "\n",
    "matrix2 = torch.randn((10, 20))\n",
    "expected2 = torch.logsumexp(matrix2, dim=-1)\n",
    "actual2 = batched_logsumexp(matrix2)\n",
    "display(expected2, actual2)"
   ]
  },
  {
   "cell_type": "code",
   "execution_count": 34,
   "metadata": {},
   "outputs": [
    {
     "data": {
      "text/plain": [
       "tensor([[0.0667, 0.1333, 0.2000, 0.2667, 0.3333]])"
      ]
     },
     "metadata": {},
     "output_type": "display_data"
    },
    {
     "data": {
      "text/plain": [
       "tensor([[0.0667, 0.1333, 0.2000, 0.2667, 0.3333]])"
      ]
     },
     "metadata": {},
     "output_type": "display_data"
    }
   ],
   "source": [
    "\"\"\"Exercise H.2 - batched softmax\"\"\"\n",
    "\n",
    "def batched_softmax(matrix: torch.Tensor) -> torch.Tensor:\n",
    "    \"\"\"For each row of the matrix, compute softmax(row).\n",
    "\n",
    "    Do this without using PyTorch's softmax function.\n",
    "    Instead, use the definition of softmax: https://en.wikipedia.org/wiki/Softmax_function\n",
    "\n",
    "    matrix: shape (batch, n)\n",
    "\n",
    "    Return: (batch, n). For each i, out[i] should sum to 1.\n",
    "    \"\"\"\n",
    "    # Formula: e^x_i / sum(e^x)\n",
    "    return matrix.exp() / rearrange(reduce(matrix.exp(), \"b n -> b\", \"sum\"), \"b -> b 1\")\n",
    "\n",
    "\n",
    "matrix = torch.arange(1, 6).view((1, 5)).float().log()\n",
    "expected = torch.arange(1, 6).view((1, 5)) / 15.0\n",
    "actual = batched_softmax(matrix)\n",
    "display(expected, actual)\n",
    "\n",
    "matrix2 = torch.rand((10, 20))\n",
    "actual2 = batched_softmax(matrix2)\n",
    "assert actual2.min() >= 0.0\n",
    "assert actual2.max() <= 1.0"
   ]
  },
  {
   "cell_type": "code",
   "execution_count": 35,
   "metadata": {},
   "outputs": [
    {
     "data": {
      "text/plain": [
       "tensor([[-4.4519, -3.4519, -2.4519, -1.4519, -0.4519]])"
      ]
     },
     "metadata": {},
     "output_type": "display_data"
    },
    {
     "data": {
      "text/plain": [
       "tensor([[-4.4519, -3.4519, -2.4519, -1.4519, -0.4519]])"
      ]
     },
     "metadata": {},
     "output_type": "display_data"
    }
   ],
   "source": [
    "\"\"\"Exercise H.3 - batched logsoftmax\"\"\"\n",
    "\n",
    "def batched_logsoftmax(matrix: torch.Tensor) -> torch.Tensor:\n",
    "    \"\"\"Compute log(softmax(row)) for each row of the matrix.\n",
    "\n",
    "    matrix: shape (batch, n)\n",
    "\n",
    "    Return: (batch, n). For each i, exp(out[i]) should sum to 1.\n",
    "\n",
    "    Do this without using PyTorch's logsoftmax function.\n",
    "    For each row, subtract the maximum first to avoid overflow if the row contains large values.\n",
    "    \"\"\"\n",
    "    # Formula: (x_i - (x_max + log(sum(e^(x - x_max)))\n",
    "    rows_max = reduce(matrix, \"b n -> b\", \"max\")\n",
    "    diff_rows_max = matrix - rearrange(rows_max, \"b -> b 1\")\n",
    "    logsumdiff = torch.log(reduce(diff_rows_max.exp(), \"b n -> b\", \"sum\"))\n",
    "    return diff_rows_max - rearrange(logsumdiff, \"b -> b 1\")\n",
    "\n",
    "start = 1000\n",
    "matrix = torch.arange(start + 1, start + 6).view((1, 5)).float()\n",
    "actual = batched_logsoftmax(matrix)\n",
    "expected = torch.tensor([[-4.4519, -3.4519, -2.4519, -1.4519, -0.4519]])\n",
    "display(expected, actual)"
   ]
  },
  {
   "cell_type": "code",
   "execution_count": 36,
   "metadata": {},
   "outputs": [
    {
     "data": {
      "text/plain": [
       "tensor([0.0000, 1.0986,    inf])"
      ]
     },
     "metadata": {},
     "output_type": "display_data"
    },
    {
     "data": {
      "text/plain": [
       "tensor([-0.0000, 1.0986,    inf])"
      ]
     },
     "metadata": {},
     "output_type": "display_data"
    }
   ],
   "source": [
    "\"\"\"Exercise H.4 - batched cross-entropy loss\"\"\"\n",
    "\n",
    "\n",
    "def batched_cross_entropy_loss(logits: torch.Tensor, true_labels: torch.Tensor) -> torch.Tensor:\n",
    "    \"\"\"Compute the cross entropy loss for each example in the batch.\n",
    "\n",
    "    logits: shape (batch, classes). logits[i][j] the raw prediction for example i and class j.\n",
    "    true_labels: shape (batch, ). true_labels[i] an integer index of the true class for example i.\n",
    "\n",
    "    Return: shape (batch, ). out[i] is the loss for example i.\n",
    "\n",
    "    Hint: convert the logits to log-probabilities using your batched_logsoftmax from above.\n",
    "    Then the loss for an example is just the negative of the log-probability that the model \n",
    "    assigned to the true class. Use torch.gather to perform the indexing.\n",
    "    \"\"\"\n",
    "    # Formula (for a single example, where we sum over classes):\n",
    "    # -sum(log(softmax(logits) * true_labels))\n",
    "    assert logits.shape[0] == true_labels.shape[0]\n",
    "    assert true_labels.max() < logits.shape[1]\n",
    "\n",
    "    logprobs = batched_logsoftmax(logits)\n",
    "    # Gather the logprobs only for the true label for each example\n",
    "    # (other logprobs sum to 0 for each example).\n",
    "    pred_for_true = -logprobs.gather(1, rearrange(true_labels, \"n -> n 1\"))\n",
    "    return rearrange(pred_for_true, \"n 1 -> n\")\n",
    "\n",
    "\n",
    "logits = torch.tensor(\n",
    "    [[float(\"-inf\"), float(\"-inf\"), 0], [1 / 3, 1 / 3, 1 / 3], [float(\"-inf\"), 0, 0]]\n",
    ")\n",
    "true_labels = torch.tensor([2, 0, 0])\n",
    "expected = torch.tensor([0.0, math.log(3), float(\"inf\")])\n",
    "actual = batched_cross_entropy_loss(logits, true_labels)\n",
    "display(expected, actual)"
   ]
  },
  {
   "cell_type": "markdown",
   "metadata": {},
   "source": [
    "## Additional einops patterns & ops (`including asnumpy`, `parse_shape`, `pack`, and `unpack`)"
   ]
  },
  {
   "cell_type": "code",
   "execution_count": 37,
   "metadata": {},
   "outputs": [
    {
     "data": {
      "text/plain": [
       "[<matplotlib.lines.Line2D at 0x26560ecfb60>]"
      ]
     },
     "execution_count": 37,
     "metadata": {},
     "output_type": "execute_result"
    },
    {
     "data": {
      "image/png": "[encoded data removed]",
      "text/plain": [
       "<Figure size 640x480 with 1 Axes>"
      ]
     },
     "metadata": {},
     "output_type": "display_data"
    },
    {
     "data": {
      "image/png": "[encoded data removed]",
      "text/plain": [
       "<Figure size 640x480 with 1 Axes>"
      ]
     },
     "metadata": {},
     "output_type": "display_data"
    }
   ],
   "source": [
    "\"\"\"`asnumpy` allows conversion to np array with implicit detach and move to cpu\"\"\"\n",
    "\n",
    "xy = torch.arange(1, 11, requires_grad=True, dtype=float).view(2, 5).to(device)\n",
    "\n",
    "# Plot row 2 over row 1 (explicitly detach grad, move to cpu, convert to numpy)\n",
    "fig, ax = plt.subplots()\n",
    "ax.plot(xy[0].detach().cpu().numpy(), xy[1].detach().cpu().numpy())\n",
    "\n",
    "# Plot row 2 over row 1 (let `asnumpy` handle everything)\n",
    "fig, ax = plt.subplots()\n",
    "ax.plot(*asnumpy(xy))"
   ]
  },
  {
   "cell_type": "code",
   "execution_count": 38,
   "metadata": {},
   "outputs": [
    {
     "name": "stdout",
     "output_type": "stream",
     "text": [
      "{'b': 32, 'c': 3, 'x': 224, 'y': 224, 'z': 224}\n",
      "{'b': 32, 'c': 3, 'x': 224}\n"
     ]
    }
   ],
   "source": [
    "\"\"\"`parse_shape` allows for easy shape interpretation\"\"\"\n",
    "\n",
    "# Imagine we are working with 3d image date (x, y, z) + channel + batch dimensions,\n",
    "# and we want to perform \"same\"-size window-avg 2d convolution over the x and y dimensions.\n",
    "\n",
    "x_5d = torch.randn(32, 3, 224, 224, 224).to(device)\n",
    "print(parse_shape(x_5d, \"b c x y z\"))\n",
    "\n",
    "# Perform 2d convolution\n",
    "kernel_sz = 9\n",
    "out_ch, in_ch = x_5d.shape[1], x_5d.shape[1]\n",
    "kernel = torch.ones(out_ch, in_ch, kernel_sz, kernel_sz).to(device) / kernel_sz\n",
    "padding = kernel_sz // 2  # \"same\"-size conv by default\n",
    "x_for_conv2d = rearrange(x_5d, \"b c x y z -> (b z) c x y\")\n",
    "y = F.conv2d(x_for_conv2d, kernel, padding=padding, stride=1, dilation=1, groups=1)\n",
    "\n",
    "# Reform the 5d tensor, verifying shape with `**parse_shape`\n",
    "y = rearrange(y, \"(b z) c x y -> b c x y z\", **parse_shape(x_5d, \"b c x y z\"))\n",
    "\n",
    "# We can also only output size of dims we care about (use `_` for dims we don't care about)\n",
    "print(parse_shape(y, \"b c x _ _\"))"
   ]
  },
  {
   "cell_type": "code",
   "execution_count": 39,
   "metadata": {},
   "outputs": [
    {
     "name": "stdout",
     "output_type": "stream",
     "text": [
      "Pack:\n",
      "image_rgbd.shape=(193, 100, 200)\n",
      "ps=[(2, 32, 3), ()]\n",
      "\n",
      "Unpack:\n",
      "image_rgb2.shape=(2, 32, 3, 100, 200)\n",
      "image_depth2.shape=(100, 200)\n"
     ]
    }
   ],
   "source": [
    "\"\"\"`pack` and `unpack`\"\"\"\n",
    "\n",
    "# Imagine we have a set of rgb images, and we want to stack on top of a grayscale image\n",
    "# 'n' is for concurrent number of model instances to feed to (we can think of this as a\n",
    "# meta-batch dimension), and we want to pack together all channels (treat each's value as a \n",
    "# grayscale value) of all batches of all model instances together into a single batch dim.\n",
    "\n",
    "n, b, c, h, w = 2, 32, 3, 100, 200\n",
    "images = np.random.random([n, b, c, h, w])\n",
    "new_image = np.random.random([h, w])\n",
    "\n",
    "# Pack along the channel dimension\n",
    "image_rgbd, ps = pack([images, new_image], \"* h w\")\n",
    "print(\"Pack:\")\n",
    "print(f\"{image_rgbd.shape=}\\n{ps=}\")\n",
    "\n",
    "# Unpack along the channel dimension\n",
    "print(\"\\nUnpack:\")\n",
    "image_rgb2, image_depth2 = unpack(image_rgbd, ps, \"* h w\")\n",
    "print(f\"{image_rgb2.shape=}\\n{image_depth2.shape=}\")"
   ]
  },
  {
   "cell_type": "code",
   "execution_count": 46,
   "metadata": {},
   "outputs": [
    {
     "name": "stdout",
     "output_type": "stream",
     "text": [
      "(3,)\n",
      "(5, 3)\n",
      "(5, 7, 3)\n"
     ]
    }
   ],
   "source": [
    "\"\"\"`pack` and `unpack` continued\"\"\"\n",
    "\n",
    "# Auto-batching: ML models by default accept batches: batches of images, batches of text,\n",
    "# batches of audio, etc.\n",
    "#\n",
    "# During debugging or inference, however, it is common to pass a single example instead of a full\n",
    "# batch (and thus output should be a single prediction)\n",
    "#\n",
    "# We can write a `universal_predict` function with `pack` and `unpack` that can handle both cases.\n",
    "\n",
    "c, h, w = 3, 224, 224\n",
    "\n",
    "def image_classifier(images_bhwc):\n",
    "    # mock for image classifier: let's just average the pixels for each channel\n",
    "    predictions = reduce(images_bhwc, \"b h w c -> b c\", \"mean\", h=h, w=w, c=c)\n",
    "    return predictions\n",
    "\n",
    "\n",
    "def universal_predict(x):\n",
    "    x_packed, ps = pack([x], \"* h w c\")\n",
    "    predictions_packed = image_classifier(x_packed)\n",
    "    [predictions] = unpack(predictions_packed, ps, \"* cls\")\n",
    "    return predictions\n",
    "\n",
    "# works with a single image\n",
    "print(universal_predict(np.zeros([h, w, c])).shape)\n",
    "# works with a batch of images\n",
    "batch = 5\n",
    "print(universal_predict(np.zeros([batch, h, w, c])).shape)\n",
    "# or even a batch of videos\n",
    "n_frames = 7\n",
    "print(universal_predict(np.zeros([batch, n_frames, h, w, c])).shape)"
   ]
  },
  {
   "cell_type": "code",
   "execution_count": 40,
   "metadata": {},
   "outputs": [],
   "source": [
    "\"\"\"einops layers to use with pytorch module models\"\"\"\n",
    "\n",
    "# Example of a simple CNN model using einops layers\n",
    "b, c, w, h = 32, 3, 224, 224\n",
    "conv_kernel_sz = 9\n",
    "pool_kernel_sz = 2\n",
    "first_conv_out_ch = 8\n",
    "second_conv_out_ch = 16\n",
    "final_linear_sz = 100\n",
    "n_classes = 10\n",
    "final_w = (((w - conv_kernel_sz + 1) // pool_kernel_sz) - conv_kernel_sz + 1) // pool_kernel_sz\n",
    "final_h = (((h - conv_kernel_sz + 1) // pool_kernel_sz) - conv_kernel_sz + 1) // pool_kernel_sz\n",
    "model = nn.Sequential(\n",
    "    Rearrange(\"b c w h -> b c h w\"),\n",
    "    nn.Conv2d(c, first_conv_out_ch, kernel_size=conv_kernel_sz),\n",
    "    nn.MaxPool2d(kernel_size=2),\n",
    "    nn.Conv2d(first_conv_out_ch, second_conv_out_ch, kernel_size=conv_kernel_sz),\n",
    "    # combine pool and flatten in a single step\n",
    "    Reduce(\"b c (h h_pool_sz) (w w_pool_sz) -> b (c h w)\", \"max\", h_pool_sz=2, w_pool_sz=2),\n",
    "    nn.Linear(second_conv_out_ch * final_w * final_h, final_linear_sz),\n",
    "    nn.ReLU(),\n",
    "    nn.Linear(final_linear_sz, n_classes)\n",
    ")"
   ]
  },
  {
   "cell_type": "markdown",
   "metadata": {},
   "source": [
    "## Indexing via advanced indexing and `gather`"
   ]
  },
  {
   "cell_type": "code",
   "execution_count": 41,
   "metadata": {},
   "outputs": [
    {
     "data": {
      "text/plain": [
       "tensor([ 0,  5, 10, 15, 20])"
      ]
     },
     "metadata": {},
     "output_type": "display_data"
    },
    {
     "data": {
      "text/plain": [
       "tensor([[ 0,  1,  2,  3],\n",
       "        [ 4,  5,  6,  7],\n",
       "        [ 8,  9, 10, 11],\n",
       "        [12, 13, 14, 15],\n",
       "        [20, 21, 22, 23]])"
      ]
     },
     "metadata": {},
     "output_type": "display_data"
    }
   ],
   "source": [
    "\"\"\"Advanced indexing of a 3d tensor.\"\"\"\n",
    "\n",
    "t_3d = torch.arange(2 * 3 * 4).view((2, 3, 4))\n",
    "coords_3d = torch.tensor([[0, 0, 0], [0, 1, 1], [0, 2, 2], [1, 0, 3], [1, 2, 0]])\n",
    "\n",
    "# Return each element specified by the three coordinates in the first dim of `coords_3d`\n",
    "display(t_3d[tuple(coords_3d.T)])\n",
    "\n",
    "# Return all elements in the 3rd dim of `t_3d` specified by the first two dims of `coords_3d`\n",
    "display(t_3d[tuple(coords_3d.T)[0:2]])"
   ]
  },
  {
   "cell_type": "code",
   "execution_count": 42,
   "metadata": {},
   "outputs": [
    {
     "data": {
      "text/plain": [
       "tensor([[ 0,  1,  2,  3,  4],\n",
       "        [ 5,  6,  7,  8,  9],\n",
       "        [10, 11, 12, 13, 14]])"
      ]
     },
     "metadata": {},
     "output_type": "display_data"
    },
    {
     "data": {
      "text/plain": [
       "tensor([[ 4],\n",
       "        [ 8],\n",
       "        [12]])"
      ]
     },
     "metadata": {},
     "output_type": "display_data"
    },
    {
     "data": {
      "text/plain": [
       "tensor([[ 2,  4],\n",
       "        [ 6,  8],\n",
       "        [10, 12]])"
      ]
     },
     "metadata": {},
     "output_type": "display_data"
    },
    {
     "data": {
      "text/plain": [
       "tensor([[[ 0,  1,  2,  3],\n",
       "         [ 4,  5,  6,  7],\n",
       "         [ 8,  9, 10, 11]],\n",
       "\n",
       "        [[12, 13, 14, 15],\n",
       "         [16, 17, 18, 19],\n",
       "         [20, 21, 22, 23]]])"
      ]
     },
     "metadata": {},
     "output_type": "display_data"
    },
    {
     "data": {
      "text/plain": [
       "tensor([[[ 0],\n",
       "         [ 4],\n",
       "         [ 8]],\n",
       "\n",
       "        [[13],\n",
       "         [17],\n",
       "         [21]]])"
      ]
     },
     "metadata": {},
     "output_type": "display_data"
    }
   ],
   "source": [
    "\"\"\"`gather` various values along the different dimensions of a 2-d and 3-d tensor\"\"\"\n",
    "\n",
    "# Index-tensor's first dim must match input-tensor's first dim\n",
    "\n",
    "t_2d = torch.arange(15).view(3, 5)\n",
    "display(t_2d)\n",
    "\n",
    "# View d0-0,d1-4; d0-1,d1-3; d0-2,d1-2\n",
    "indexes = torch.tensor([[4], [3], [2]])\n",
    "display(t_2d.gather(1, indexes))\n",
    "\n",
    "# View [row0-ele2, row0-ele4], [row1-ele1, row1-ele3], and [row2-ele0, row2-ele2]\n",
    "# View [d0-0,d1-2; d0-0,d1-4]; [d0-1,d1-1; d0-1,d1-3]; [d0-2,d1-0; d0-2,d1-2]\n",
    "# Specify indices along dim1 for each dim0\n",
    "indexes2 = torch.tensor([[2, 4], [1, 3], [0, 2]])\n",
    "display(t_2d.gather(1, indexes2))\n",
    "\n",
    "t_3d = torch.arange(2 * 3 * 4).view((2, 3, 4))\n",
    "display(t_3d)\n",
    "\n",
    "# View [d0-0,d1-0,d2-0; d0-0,d1-1,d2-0; d0-0,d1-0,d2-2];\n",
    "#      [d0-1,d1-1,d2-0; d0-1,d1-1,d2-1; d0-1,d1-1,d2-2]\n",
    "# Specify indices along dim2 for each dim0,dim1\n",
    "indexes3d = torch.tensor(\n",
    "    [\n",
    "        [[0], [0], [0]],  # For d0=0, each row picks index=0 along dim=2\n",
    "        [[1], [1], [1]],  # For d0=1, each row picks index=1 along dim=2\n",
    "    ]\n",
    ")\n",
    "display(t_3d.gather(2, indexes3d))"
   ]
  },
  {
   "cell_type": "code",
   "execution_count": null,
   "metadata": {},
   "outputs": [],
   "source": []
  }
 ],
 "metadata": {
  "kernelspec": {
   "display_name": "arena_3.0_gpu_jax",
   "language": "python",
   "name": "python3"
  },
  "language_info": {
   "codemirror_mode": {
    "name": "ipython",
    "version": 3
   },
   "file_extension": ".py",
   "mimetype": "text/x-python",
   "name": "python",
   "nbconvert_exporter": "python",
   "pygments_lexer": "ipython3",
   "version": "3.12.7"
  }
 },
 "nbformat": 4,
 "nbformat_minor": 2
}
