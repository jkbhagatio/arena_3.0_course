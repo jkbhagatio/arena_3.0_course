{
 "cells": [
  {
   "cell_type": "code",
   "execution_count": 1,
   "metadata": {},
   "outputs": [],
   "source": [
    "\"\"\"Imports.\"\"\"\n",
    "\n",
    "import jax.numpy as jnp\n",
    "import numpy as np\n",
    "import torch\n"
   ]
  },
  {
   "cell_type": "code",
   "execution_count": 2,
   "metadata": {},
   "outputs": [
    {
     "name": "stdout",
     "output_type": "stream",
     "text": [
      "Numpy time: 239 ms ± 0 ns per loop (mean ± std. dev. of 1 run, 3 loops each)\n",
      "JAX time: 76.2 ms ± 0 ns per loop (mean ± std. dev. of 1 run, 3 loops each)\n",
      "Torch time: 130 ms ± 0 ns per loop (mean ± std. dev. of 1 run, 3 loops each)\n"
     ]
    }
   ],
   "source": [
    "\"\"\"Some quick numpy vs. jax vs. torch benchmarking.\"\"\"\n",
    "\n",
    "# Numpy\n",
    "x = np.random.rand(10000, 1)\n",
    "y = np.random.rand(10000, 1).T\n",
    "\n",
    "t = %timeit -n 3 -r 1 -o -q np.matmul(x, y)  # type: ignore\n",
    "print(f\"Numpy time: {t}\")\n",
    "\n",
    "# Jax\n",
    "x_jax = jnp.array(x)\n",
    "y_jax = jnp.array(y)\n",
    "\n",
    "t = %timeit -n 3 -r 1 -o -q jnp.matmul(x_jax, y_jax).block_until_ready()  # type: ignore\n",
    "print(f\"JAX time: {t}\")\n",
    "\n",
    "# Pytorch\n",
    "x_torch = torch.tensor(x)\n",
    "y_torch = torch.tensor(y)\n",
    "\n",
    "t = %timeit -n 3 -r 1 -o -q torch.matmul(x_torch, y_torch)  # type: ignore\n",
    "print(f\"Torch time: {t}\")"
   ]
  },
  {
   "cell_type": "code",
   "execution_count": null,
   "metadata": {},
   "outputs": [],
   "source": []
  }
 ],
 "metadata": {
  "kernelspec": {
   "display_name": "arena_3.0_gpu_jax",
   "language": "python",
   "name": "python3"
  },
  "language_info": {
   "codemirror_mode": {
    "name": "ipython",
    "version": 3
   },
   "file_extension": ".py",
   "mimetype": "text/x-python",
   "name": "python",
   "nbconvert_exporter": "python",
   "pygments_lexer": "ipython3",
   "version": "3.12.7"
  }
 },
 "nbformat": 4,
 "nbformat_minor": 2
}
